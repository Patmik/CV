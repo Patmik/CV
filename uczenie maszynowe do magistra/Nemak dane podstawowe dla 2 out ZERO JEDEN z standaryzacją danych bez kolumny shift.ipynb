{
 "cells": [
  {
   "cell_type": "markdown",
   "metadata": {},
   "source": [
    "# Ładowanie danych"
   ]
  },
  {
   "cell_type": "code",
   "execution_count": 1,
   "metadata": {},
   "outputs": [],
   "source": [
    "import pandas as pd\n",
    "import numpy as np\n",
    "import matplotlib.pyplot as plt"
   ]
  },
  {
   "cell_type": "code",
   "execution_count": 2,
   "metadata": {},
   "outputs": [],
   "source": [
    "nemak_raw = pd.read_excel('NEMAK_wybrane.xlsx')\n"
   ]
  },
  {
   "cell_type": "code",
   "execution_count": 3,
   "metadata": {},
   "outputs": [
    {
     "data": {
      "text/html": [
       "<div>\n",
       "<style scoped>\n",
       "    .dataframe tbody tr th:only-of-type {\n",
       "        vertical-align: middle;\n",
       "    }\n",
       "\n",
       "    .dataframe tbody tr th {\n",
       "        vertical-align: top;\n",
       "    }\n",
       "\n",
       "    .dataframe thead th {\n",
       "        text-align: right;\n",
       "    }\n",
       "</style>\n",
       "<table border=\"1\" class=\"dataframe\">\n",
       "  <thead>\n",
       "    <tr style=\"text-align: right;\">\n",
       "      <th></th>\n",
       "      <th>Shift</th>\n",
       "      <th>Czas 1. fazy wtrysku [ms]</th>\n",
       "      <th>Czas 2. fazy wtrysku [ms]</th>\n",
       "      <th>Czas cyklu [s]</th>\n",
       "      <th>Filtr prózni 2 [mBar]</th>\n",
       "      <th>Grubosc pietki ukladu wlewowego [mm]</th>\n",
       "      <th>Kod formy</th>\n",
       "      <th>Koncentrat [%]</th>\n",
       "      <th>Max. cisnienie [Bar]</th>\n",
       "      <th>Max. predkosc wtrysku [m/s]</th>\n",
       "      <th>...</th>\n",
       "      <th>Temperatura w obwodzie chlodzenia 6 [°C]</th>\n",
       "      <th>Temperatura w obwodzie chlodzenia 7 [°C]</th>\n",
       "      <th>Temperatura wody na wejsciu JetCool [°C]</th>\n",
       "      <th>Wartosc prózni 2 [mBar]</th>\n",
       "      <th>Leakage_High</th>\n",
       "      <th>LeakageHighStatus</th>\n",
       "      <th>Wartosc próżni 1&amp;3 corr</th>\n",
       "      <th>Filtr próżni 1&amp;3 corr</th>\n",
       "      <th>Profil próżni 1&amp;3 corr</th>\n",
       "      <th>Termoregulator 3.1&amp;3.2 corr</th>\n",
       "    </tr>\n",
       "  </thead>\n",
       "  <tbody>\n",
       "    <tr>\n",
       "      <th>0</th>\n",
       "      <td>1.0</td>\n",
       "      <td>0.158952</td>\n",
       "      <td>0.740157</td>\n",
       "      <td>0.000000</td>\n",
       "      <td>0.016471</td>\n",
       "      <td>0.000534</td>\n",
       "      <td>0.00</td>\n",
       "      <td>0.462963</td>\n",
       "      <td>0.082418</td>\n",
       "      <td>0.044467</td>\n",
       "      <td>...</td>\n",
       "      <td>0.342105</td>\n",
       "      <td>0.179487</td>\n",
       "      <td>0.474293</td>\n",
       "      <td>0.659243</td>\n",
       "      <td>NaN</td>\n",
       "      <td>NaN</td>\n",
       "      <td>0.757412</td>\n",
       "      <td>0.474747</td>\n",
       "      <td>0.570245</td>\n",
       "      <td>0.061597</td>\n",
       "    </tr>\n",
       "    <tr>\n",
       "      <th>1</th>\n",
       "      <td>1.0</td>\n",
       "      <td>0.156441</td>\n",
       "      <td>0.755905</td>\n",
       "      <td>0.246458</td>\n",
       "      <td>0.015882</td>\n",
       "      <td>0.000549</td>\n",
       "      <td>0.00</td>\n",
       "      <td>0.462963</td>\n",
       "      <td>0.080586</td>\n",
       "      <td>0.044467</td>\n",
       "      <td>...</td>\n",
       "      <td>0.315789</td>\n",
       "      <td>0.282051</td>\n",
       "      <td>0.407455</td>\n",
       "      <td>0.595212</td>\n",
       "      <td>0.000000</td>\n",
       "      <td>NaN</td>\n",
       "      <td>0.698787</td>\n",
       "      <td>0.476010</td>\n",
       "      <td>0.546567</td>\n",
       "      <td>0.062022</td>\n",
       "    </tr>\n",
       "    <tr>\n",
       "      <th>2</th>\n",
       "      <td>1.0</td>\n",
       "      <td>0.151776</td>\n",
       "      <td>0.779528</td>\n",
       "      <td>0.249323</td>\n",
       "      <td>0.013529</td>\n",
       "      <td>0.000366</td>\n",
       "      <td>0.00</td>\n",
       "      <td>0.462963</td>\n",
       "      <td>0.080586</td>\n",
       "      <td>0.039297</td>\n",
       "      <td>...</td>\n",
       "      <td>0.368421</td>\n",
       "      <td>0.230769</td>\n",
       "      <td>0.474293</td>\n",
       "      <td>0.610245</td>\n",
       "      <td>0.000000</td>\n",
       "      <td>NaN</td>\n",
       "      <td>0.712938</td>\n",
       "      <td>0.477904</td>\n",
       "      <td>0.584451</td>\n",
       "      <td>0.062022</td>\n",
       "    </tr>\n",
       "    <tr>\n",
       "      <th>3</th>\n",
       "      <td>1.0</td>\n",
       "      <td>0.151058</td>\n",
       "      <td>0.874016</td>\n",
       "      <td>0.316192</td>\n",
       "      <td>0.015294</td>\n",
       "      <td>1.000000</td>\n",
       "      <td>0.00</td>\n",
       "      <td>0.462963</td>\n",
       "      <td>0.084249</td>\n",
       "      <td>0.046536</td>\n",
       "      <td>...</td>\n",
       "      <td>0.342105</td>\n",
       "      <td>0.256410</td>\n",
       "      <td>0.446015</td>\n",
       "      <td>0.630290</td>\n",
       "      <td>0.000000</td>\n",
       "      <td>NaN</td>\n",
       "      <td>0.727763</td>\n",
       "      <td>0.481376</td>\n",
       "      <td>0.571429</td>\n",
       "      <td>0.062022</td>\n",
       "    </tr>\n",
       "    <tr>\n",
       "      <th>4</th>\n",
       "      <td>1.0</td>\n",
       "      <td>0.151417</td>\n",
       "      <td>0.748031</td>\n",
       "      <td>0.210317</td>\n",
       "      <td>0.015882</td>\n",
       "      <td>0.000519</td>\n",
       "      <td>0.00</td>\n",
       "      <td>0.462963</td>\n",
       "      <td>0.080586</td>\n",
       "      <td>0.041365</td>\n",
       "      <td>...</td>\n",
       "      <td>0.342105</td>\n",
       "      <td>0.256410</td>\n",
       "      <td>0.437018</td>\n",
       "      <td>0.598552</td>\n",
       "      <td>0.000000</td>\n",
       "      <td>NaN</td>\n",
       "      <td>0.702156</td>\n",
       "      <td>0.475694</td>\n",
       "      <td>0.547751</td>\n",
       "      <td>0.062022</td>\n",
       "    </tr>\n",
       "    <tr>\n",
       "      <th>...</th>\n",
       "      <td>...</td>\n",
       "      <td>...</td>\n",
       "      <td>...</td>\n",
       "      <td>...</td>\n",
       "      <td>...</td>\n",
       "      <td>...</td>\n",
       "      <td>...</td>\n",
       "      <td>...</td>\n",
       "      <td>...</td>\n",
       "      <td>...</td>\n",
       "      <td>...</td>\n",
       "      <td>...</td>\n",
       "      <td>...</td>\n",
       "      <td>...</td>\n",
       "      <td>...</td>\n",
       "      <td>...</td>\n",
       "      <td>...</td>\n",
       "      <td>...</td>\n",
       "      <td>...</td>\n",
       "      <td>...</td>\n",
       "      <td>...</td>\n",
       "    </tr>\n",
       "    <tr>\n",
       "      <th>158944</th>\n",
       "      <td>0.0</td>\n",
       "      <td>0.098672</td>\n",
       "      <td>0.165354</td>\n",
       "      <td>0.154752</td>\n",
       "      <td>0.135294</td>\n",
       "      <td>0.000565</td>\n",
       "      <td>0.25</td>\n",
       "      <td>0.481481</td>\n",
       "      <td>0.360806</td>\n",
       "      <td>0.368149</td>\n",
       "      <td>...</td>\n",
       "      <td>0.263158</td>\n",
       "      <td>0.230769</td>\n",
       "      <td>0.618252</td>\n",
       "      <td>0.197105</td>\n",
       "      <td>0.002300</td>\n",
       "      <td>GOOD</td>\n",
       "      <td>0.247978</td>\n",
       "      <td>0.378472</td>\n",
       "      <td>0.405683</td>\n",
       "      <td>0.062872</td>\n",
       "    </tr>\n",
       "    <tr>\n",
       "      <th>158945</th>\n",
       "      <td>0.0</td>\n",
       "      <td>0.098314</td>\n",
       "      <td>0.157480</td>\n",
       "      <td>0.154752</td>\n",
       "      <td>0.128824</td>\n",
       "      <td>0.000565</td>\n",
       "      <td>0.25</td>\n",
       "      <td>0.481481</td>\n",
       "      <td>0.358974</td>\n",
       "      <td>0.368149</td>\n",
       "      <td>...</td>\n",
       "      <td>0.263158</td>\n",
       "      <td>0.230769</td>\n",
       "      <td>0.591260</td>\n",
       "      <td>0.182628</td>\n",
       "      <td>0.002967</td>\n",
       "      <td>GOOD</td>\n",
       "      <td>0.240566</td>\n",
       "      <td>0.372475</td>\n",
       "      <td>0.419495</td>\n",
       "      <td>0.064146</td>\n",
       "    </tr>\n",
       "    <tr>\n",
       "      <th>158946</th>\n",
       "      <td>0.0</td>\n",
       "      <td>0.103337</td>\n",
       "      <td>0.165354</td>\n",
       "      <td>0.154593</td>\n",
       "      <td>0.133529</td>\n",
       "      <td>0.000549</td>\n",
       "      <td>0.25</td>\n",
       "      <td>0.481481</td>\n",
       "      <td>0.360806</td>\n",
       "      <td>0.368149</td>\n",
       "      <td>...</td>\n",
       "      <td>0.263158</td>\n",
       "      <td>0.230769</td>\n",
       "      <td>0.605398</td>\n",
       "      <td>0.182071</td>\n",
       "      <td>0.003267</td>\n",
       "      <td>GOOD</td>\n",
       "      <td>0.237871</td>\n",
       "      <td>0.372790</td>\n",
       "      <td>0.405683</td>\n",
       "      <td>0.065421</td>\n",
       "    </tr>\n",
       "    <tr>\n",
       "      <th>158947</th>\n",
       "      <td>0.0</td>\n",
       "      <td>0.097237</td>\n",
       "      <td>0.165354</td>\n",
       "      <td>0.154752</td>\n",
       "      <td>0.135294</td>\n",
       "      <td>0.000565</td>\n",
       "      <td>0.25</td>\n",
       "      <td>0.481481</td>\n",
       "      <td>0.358974</td>\n",
       "      <td>0.368149</td>\n",
       "      <td>...</td>\n",
       "      <td>0.236842</td>\n",
       "      <td>0.230769</td>\n",
       "      <td>0.611825</td>\n",
       "      <td>0.190980</td>\n",
       "      <td>0.002650</td>\n",
       "      <td>GOOD</td>\n",
       "      <td>0.239218</td>\n",
       "      <td>0.374369</td>\n",
       "      <td>0.406077</td>\n",
       "      <td>0.062872</td>\n",
       "    </tr>\n",
       "    <tr>\n",
       "      <th>158948</th>\n",
       "      <td>0.0</td>\n",
       "      <td>0.096161</td>\n",
       "      <td>0.173228</td>\n",
       "      <td>0.154752</td>\n",
       "      <td>0.123529</td>\n",
       "      <td>0.000549</td>\n",
       "      <td>0.25</td>\n",
       "      <td>0.462963</td>\n",
       "      <td>0.360806</td>\n",
       "      <td>0.368149</td>\n",
       "      <td>...</td>\n",
       "      <td>0.236842</td>\n",
       "      <td>0.230769</td>\n",
       "      <td>0.629820</td>\n",
       "      <td>0.190980</td>\n",
       "      <td>0.004017</td>\n",
       "      <td>GOOD</td>\n",
       "      <td>0.236523</td>\n",
       "      <td>0.368371</td>\n",
       "      <td>0.417522</td>\n",
       "      <td>0.062872</td>\n",
       "    </tr>\n",
       "  </tbody>\n",
       "</table>\n",
       "<p>158949 rows × 50 columns</p>\n",
       "</div>"
      ],
      "text/plain": [
       "        Shift  Czas 1. fazy wtrysku [ms]  Czas 2. fazy wtrysku [ms]  \\\n",
       "0         1.0                   0.158952                   0.740157   \n",
       "1         1.0                   0.156441                   0.755905   \n",
       "2         1.0                   0.151776                   0.779528   \n",
       "3         1.0                   0.151058                   0.874016   \n",
       "4         1.0                   0.151417                   0.748031   \n",
       "...       ...                        ...                        ...   \n",
       "158944    0.0                   0.098672                   0.165354   \n",
       "158945    0.0                   0.098314                   0.157480   \n",
       "158946    0.0                   0.103337                   0.165354   \n",
       "158947    0.0                   0.097237                   0.165354   \n",
       "158948    0.0                   0.096161                   0.173228   \n",
       "\n",
       "        Czas cyklu [s]  Filtr prózni 2 [mBar]  \\\n",
       "0             0.000000               0.016471   \n",
       "1             0.246458               0.015882   \n",
       "2             0.249323               0.013529   \n",
       "3             0.316192               0.015294   \n",
       "4             0.210317               0.015882   \n",
       "...                ...                    ...   \n",
       "158944        0.154752               0.135294   \n",
       "158945        0.154752               0.128824   \n",
       "158946        0.154593               0.133529   \n",
       "158947        0.154752               0.135294   \n",
       "158948        0.154752               0.123529   \n",
       "\n",
       "        Grubosc pietki ukladu wlewowego [mm]  Kod formy   Koncentrat [%]  \\\n",
       "0                                   0.000534        0.00        0.462963   \n",
       "1                                   0.000549        0.00        0.462963   \n",
       "2                                   0.000366        0.00        0.462963   \n",
       "3                                   1.000000        0.00        0.462963   \n",
       "4                                   0.000519        0.00        0.462963   \n",
       "...                                      ...         ...             ...   \n",
       "158944                              0.000565        0.25        0.481481   \n",
       "158945                              0.000565        0.25        0.481481   \n",
       "158946                              0.000549        0.25        0.481481   \n",
       "158947                              0.000565        0.25        0.481481   \n",
       "158948                              0.000549        0.25        0.462963   \n",
       "\n",
       "        Max. cisnienie [Bar]  Max. predkosc wtrysku [m/s]  ...  \\\n",
       "0                   0.082418                     0.044467  ...   \n",
       "1                   0.080586                     0.044467  ...   \n",
       "2                   0.080586                     0.039297  ...   \n",
       "3                   0.084249                     0.046536  ...   \n",
       "4                   0.080586                     0.041365  ...   \n",
       "...                      ...                          ...  ...   \n",
       "158944              0.360806                     0.368149  ...   \n",
       "158945              0.358974                     0.368149  ...   \n",
       "158946              0.360806                     0.368149  ...   \n",
       "158947              0.358974                     0.368149  ...   \n",
       "158948              0.360806                     0.368149  ...   \n",
       "\n",
       "        Temperatura w obwodzie chlodzenia 6 [°C]  \\\n",
       "0                                       0.342105   \n",
       "1                                       0.315789   \n",
       "2                                       0.368421   \n",
       "3                                       0.342105   \n",
       "4                                       0.342105   \n",
       "...                                          ...   \n",
       "158944                                  0.263158   \n",
       "158945                                  0.263158   \n",
       "158946                                  0.263158   \n",
       "158947                                  0.236842   \n",
       "158948                                  0.236842   \n",
       "\n",
       "        Temperatura w obwodzie chlodzenia 7 [°C]  \\\n",
       "0                                       0.179487   \n",
       "1                                       0.282051   \n",
       "2                                       0.230769   \n",
       "3                                       0.256410   \n",
       "4                                       0.256410   \n",
       "...                                          ...   \n",
       "158944                                  0.230769   \n",
       "158945                                  0.230769   \n",
       "158946                                  0.230769   \n",
       "158947                                  0.230769   \n",
       "158948                                  0.230769   \n",
       "\n",
       "        Temperatura wody na wejsciu JetCool [°C]  Wartosc prózni 2 [mBar]  \\\n",
       "0                                       0.474293                 0.659243   \n",
       "1                                       0.407455                 0.595212   \n",
       "2                                       0.474293                 0.610245   \n",
       "3                                       0.446015                 0.630290   \n",
       "4                                       0.437018                 0.598552   \n",
       "...                                          ...                      ...   \n",
       "158944                                  0.618252                 0.197105   \n",
       "158945                                  0.591260                 0.182628   \n",
       "158946                                  0.605398                 0.182071   \n",
       "158947                                  0.611825                 0.190980   \n",
       "158948                                  0.629820                 0.190980   \n",
       "\n",
       "        Leakage_High  LeakageHighStatus  Wartosc próżni 1&3 corr  \\\n",
       "0                NaN                NaN                 0.757412   \n",
       "1           0.000000                NaN                 0.698787   \n",
       "2           0.000000                NaN                 0.712938   \n",
       "3           0.000000                NaN                 0.727763   \n",
       "4           0.000000                NaN                 0.702156   \n",
       "...              ...                ...                      ...   \n",
       "158944      0.002300               GOOD                 0.247978   \n",
       "158945      0.002967               GOOD                 0.240566   \n",
       "158946      0.003267               GOOD                 0.237871   \n",
       "158947      0.002650               GOOD                 0.239218   \n",
       "158948      0.004017               GOOD                 0.236523   \n",
       "\n",
       "        Filtr próżni 1&3 corr  Profil próżni 1&3 corr  \\\n",
       "0                    0.474747                0.570245   \n",
       "1                    0.476010                0.546567   \n",
       "2                    0.477904                0.584451   \n",
       "3                    0.481376                0.571429   \n",
       "4                    0.475694                0.547751   \n",
       "...                       ...                     ...   \n",
       "158944               0.378472                0.405683   \n",
       "158945               0.372475                0.419495   \n",
       "158946               0.372790                0.405683   \n",
       "158947               0.374369                0.406077   \n",
       "158948               0.368371                0.417522   \n",
       "\n",
       "        Termoregulator 3.1&3.2 corr  \n",
       "0                          0.061597  \n",
       "1                          0.062022  \n",
       "2                          0.062022  \n",
       "3                          0.062022  \n",
       "4                          0.062022  \n",
       "...                             ...  \n",
       "158944                     0.062872  \n",
       "158945                     0.064146  \n",
       "158946                     0.065421  \n",
       "158947                     0.062872  \n",
       "158948                     0.062872  \n",
       "\n",
       "[158949 rows x 50 columns]"
      ]
     },
     "execution_count": 3,
     "metadata": {},
     "output_type": "execute_result"
    }
   ],
   "source": [
    "nemak_raw"
   ]
  },
  {
   "cell_type": "code",
   "execution_count": 4,
   "metadata": {},
   "outputs": [
    {
     "name": "stdout",
     "output_type": "stream",
     "text": [
      "<class 'pandas.core.frame.DataFrame'>\n",
      "RangeIndex: 158949 entries, 0 to 158948\n",
      "Data columns (total 50 columns):\n",
      " #   Column                                     Non-Null Count   Dtype  \n",
      "---  ------                                     --------------   -----  \n",
      " 0   Shift                                      158949 non-null  float64\n",
      " 1   Czas 1. fazy wtrysku [ms]                  158949 non-null  float64\n",
      " 2   Czas 2. fazy wtrysku [ms]                  158949 non-null  float64\n",
      " 3   Czas cyklu [s]                             158949 non-null  float64\n",
      " 4   Filtr prózni 2 [mBar]                      158949 non-null  float64\n",
      " 5   Grubosc pietki ukladu wlewowego [mm]       158949 non-null  float64\n",
      " 6   Kod formy                                  158949 non-null  float64\n",
      " 7   Koncentrat [%]                             158949 non-null  float64\n",
      " 8   Max. cisnienie [Bar]                       158949 non-null  float64\n",
      " 9   Max. predkosc wtrysku [m/s]                158949 non-null  float64\n",
      " 10  Opóznienie multiplikacji [ms]              158949 non-null  float64\n",
      " 11  Poziom wody w JetCool [mm]                 158949 non-null  float64\n",
      " 12  Predkosc 1. fazy wtrysku [m/s]             158949 non-null  float64\n",
      " 13  Predkosc 2. fazy wtrysku [m/s]             158949 non-null  float64\n",
      " 14  Profil prózni 2 [mBar]                     158949 non-null  float64\n",
      " 15  Przeplyw w obwodzie chlodzenia  1 [l]      158949 non-null  float64\n",
      " 16  Przeplyw w obwodzie chlodzenia  11 [l]     158949 non-null  float64\n",
      " 17  Przeplyw w obwodzie chlodzenia  12 [l]     158949 non-null  float64\n",
      " 18  Przeplyw w obwodzie chlodzenia  13 [l]     158949 non-null  float64\n",
      " 19  Przeplyw w obwodzie chlodzenia  14 [l]     158949 non-null  float64\n",
      " 20  Przeplyw w obwodzie chlodzenia  15 [l]     158949 non-null  float64\n",
      " 21  Przeplyw w obwodzie chlodzenia  17 [l]     158949 non-null  float64\n",
      " 22  Przeplyw w obwodzie chlodzenia  18 [l]     158949 non-null  float64\n",
      " 23  Przeplyw w obwodzie chlodzenia  20 [l]     158949 non-null  float64\n",
      " 24  Przeplyw w obwodzie chlodzenia  6 [l]      158949 non-null  float64\n",
      " 25  Przeplyw w obwodzie chlodzenia  7 [l]      158949 non-null  float64\n",
      " 26  Suw 1. fazy wtrysku [mm]                   158949 non-null  float64\n",
      " 27  Suw 2. fazy wtrysku [mm]                   158949 non-null  float64\n",
      " 28  Temperatura stopu [°C]                     158949 non-null  float64\n",
      " 29  Temperatura termoregulator 2.1 [°C]        158949 non-null  float64\n",
      " 30  Temperatura termoregulator 2.2 [°C]        158949 non-null  float64\n",
      " 31  Temperatura w obwodzie chlodzenia 1 [°C]   158949 non-null  float64\n",
      " 32  Temperatura w obwodzie chlodzenia 11 [°C]  158949 non-null  float64\n",
      " 33  Temperatura w obwodzie chlodzenia 12 [°C]  158949 non-null  float64\n",
      " 34  Temperatura w obwodzie chlodzenia 13 [°C]  158949 non-null  float64\n",
      " 35  Temperatura w obwodzie chlodzenia 14 [°C]  158949 non-null  float64\n",
      " 36  Temperatura w obwodzie chlodzenia 15 [°C]  158949 non-null  float64\n",
      " 37  Temperatura w obwodzie chlodzenia 17 [°C]  158949 non-null  float64\n",
      " 38  Temperatura w obwodzie chlodzenia 18 [°C]  158949 non-null  float64\n",
      " 39  Temperatura w obwodzie chlodzenia 20 [°C]  158949 non-null  float64\n",
      " 40  Temperatura w obwodzie chlodzenia 6 [°C]   158949 non-null  float64\n",
      " 41  Temperatura w obwodzie chlodzenia 7 [°C]   158949 non-null  float64\n",
      " 42  Temperatura wody na wejsciu JetCool [°C]   158949 non-null  float64\n",
      " 43  Wartosc prózni 2 [mBar]                    158949 non-null  float64\n",
      " 44  Leakage_High                               158948 non-null  float64\n",
      " 45  LeakageHighStatus                          127547 non-null  object \n",
      " 46  Wartosc próżni 1&3 corr                    158949 non-null  float64\n",
      " 47  Filtr próżni 1&3 corr                      158949 non-null  float64\n",
      " 48  Profil próżni 1&3 corr                     158949 non-null  float64\n",
      " 49  Termoregulator 3.1&3.2 corr                158949 non-null  float64\n",
      "dtypes: float64(49), object(1)\n",
      "memory usage: 60.6+ MB\n"
     ]
    }
   ],
   "source": [
    "nemak_raw.info()"
   ]
  },
  {
   "cell_type": "code",
   "execution_count": 5,
   "metadata": {},
   "outputs": [
    {
     "data": {
      "image/png": "[encoded data removed]",
      "text/plain": [
       "<Figure size 432x288 with 1 Axes>"
      ]
     },
     "metadata": {},
     "output_type": "display_data"
    }
   ],
   "source": [
    "good = nemak_raw.loc[nemak_raw['LeakageHighStatus']=='GOOD'].count()[0]\n",
    "no_good = nemak_raw.loc[nemak_raw['LeakageHighStatus']=='NO GOOD'].count()[0]\n",
    "reparaible = nemak_raw.loc[nemak_raw['LeakageHighStatus']=='REPARAIBLE'].count()[0]\n",
    "\n",
    "labels = ['good','no_good','reparaible']\n",
    "plt.pie([good,no_good,reparaible], labels = labels, autopct='%.2f%%')\n",
    "plt.show()"
   ]
  },
  {
   "cell_type": "code",
   "execution_count": 6,
   "metadata": {},
   "outputs": [
    {
     "data": {
      "text/html": [
       "<div>\n",
       "<style scoped>\n",
       "    .dataframe tbody tr th:only-of-type {\n",
       "        vertical-align: middle;\n",
       "    }\n",
       "\n",
       "    .dataframe tbody tr th {\n",
       "        vertical-align: top;\n",
       "    }\n",
       "\n",
       "    .dataframe thead th {\n",
       "        text-align: right;\n",
       "    }\n",
       "</style>\n",
       "<table border=\"1\" class=\"dataframe\">\n",
       "  <thead>\n",
       "    <tr style=\"text-align: right;\">\n",
       "      <th></th>\n",
       "      <th>Shift</th>\n",
       "      <th>Czas 1. fazy wtrysku [ms]</th>\n",
       "      <th>Czas 2. fazy wtrysku [ms]</th>\n",
       "      <th>Czas cyklu [s]</th>\n",
       "      <th>Filtr prózni 2 [mBar]</th>\n",
       "      <th>Grubosc pietki ukladu wlewowego [mm]</th>\n",
       "      <th>Kod formy</th>\n",
       "      <th>Koncentrat [%]</th>\n",
       "      <th>Max. cisnienie [Bar]</th>\n",
       "      <th>Max. predkosc wtrysku [m/s]</th>\n",
       "      <th>...</th>\n",
       "      <th>Temperatura w obwodzie chlodzenia 20 [°C]</th>\n",
       "      <th>Temperatura w obwodzie chlodzenia 6 [°C]</th>\n",
       "      <th>Temperatura w obwodzie chlodzenia 7 [°C]</th>\n",
       "      <th>Temperatura wody na wejsciu JetCool [°C]</th>\n",
       "      <th>Wartosc prózni 2 [mBar]</th>\n",
       "      <th>Leakage_High</th>\n",
       "      <th>Wartosc próżni 1&amp;3 corr</th>\n",
       "      <th>Filtr próżni 1&amp;3 corr</th>\n",
       "      <th>Profil próżni 1&amp;3 corr</th>\n",
       "      <th>Termoregulator 3.1&amp;3.2 corr</th>\n",
       "    </tr>\n",
       "    <tr>\n",
       "      <th>LeakageHighStatus</th>\n",
       "      <th></th>\n",
       "      <th></th>\n",
       "      <th></th>\n",
       "      <th></th>\n",
       "      <th></th>\n",
       "      <th></th>\n",
       "      <th></th>\n",
       "      <th></th>\n",
       "      <th></th>\n",
       "      <th></th>\n",
       "      <th></th>\n",
       "      <th></th>\n",
       "      <th></th>\n",
       "      <th></th>\n",
       "      <th></th>\n",
       "      <th></th>\n",
       "      <th></th>\n",
       "      <th></th>\n",
       "      <th></th>\n",
       "      <th></th>\n",
       "      <th></th>\n",
       "    </tr>\n",
       "  </thead>\n",
       "  <tbody>\n",
       "    <tr>\n",
       "      <th>GOOD</th>\n",
       "      <td>114076</td>\n",
       "      <td>114076</td>\n",
       "      <td>114076</td>\n",
       "      <td>114076</td>\n",
       "      <td>114076</td>\n",
       "      <td>114076</td>\n",
       "      <td>114076</td>\n",
       "      <td>114076</td>\n",
       "      <td>114076</td>\n",
       "      <td>114076</td>\n",
       "      <td>...</td>\n",
       "      <td>114076</td>\n",
       "      <td>114076</td>\n",
       "      <td>114076</td>\n",
       "      <td>114076</td>\n",
       "      <td>114076</td>\n",
       "      <td>114076</td>\n",
       "      <td>114076</td>\n",
       "      <td>114076</td>\n",
       "      <td>114076</td>\n",
       "      <td>114076</td>\n",
       "    </tr>\n",
       "    <tr>\n",
       "      <th>NO GOOD</th>\n",
       "      <td>784</td>\n",
       "      <td>784</td>\n",
       "      <td>784</td>\n",
       "      <td>784</td>\n",
       "      <td>784</td>\n",
       "      <td>784</td>\n",
       "      <td>784</td>\n",
       "      <td>784</td>\n",
       "      <td>784</td>\n",
       "      <td>784</td>\n",
       "      <td>...</td>\n",
       "      <td>784</td>\n",
       "      <td>784</td>\n",
       "      <td>784</td>\n",
       "      <td>784</td>\n",
       "      <td>784</td>\n",
       "      <td>784</td>\n",
       "      <td>784</td>\n",
       "      <td>784</td>\n",
       "      <td>784</td>\n",
       "      <td>784</td>\n",
       "    </tr>\n",
       "    <tr>\n",
       "      <th>REPARAIBLE</th>\n",
       "      <td>12687</td>\n",
       "      <td>12687</td>\n",
       "      <td>12687</td>\n",
       "      <td>12687</td>\n",
       "      <td>12687</td>\n",
       "      <td>12687</td>\n",
       "      <td>12687</td>\n",
       "      <td>12687</td>\n",
       "      <td>12687</td>\n",
       "      <td>12687</td>\n",
       "      <td>...</td>\n",
       "      <td>12687</td>\n",
       "      <td>12687</td>\n",
       "      <td>12687</td>\n",
       "      <td>12687</td>\n",
       "      <td>12687</td>\n",
       "      <td>12687</td>\n",
       "      <td>12687</td>\n",
       "      <td>12687</td>\n",
       "      <td>12687</td>\n",
       "      <td>12687</td>\n",
       "    </tr>\n",
       "  </tbody>\n",
       "</table>\n",
       "<p>3 rows × 49 columns</p>\n",
       "</div>"
      ],
      "text/plain": [
       "                    Shift  Czas 1. fazy wtrysku [ms]  \\\n",
       "LeakageHighStatus                                      \n",
       "GOOD               114076                     114076   \n",
       "NO GOOD               784                        784   \n",
       "REPARAIBLE          12687                      12687   \n",
       "\n",
       "                   Czas 2. fazy wtrysku [ms]  Czas cyklu [s]  \\\n",
       "LeakageHighStatus                                              \n",
       "GOOD                                  114076          114076   \n",
       "NO GOOD                                  784             784   \n",
       "REPARAIBLE                             12687           12687   \n",
       "\n",
       "                   Filtr prózni 2 [mBar]  \\\n",
       "LeakageHighStatus                          \n",
       "GOOD                              114076   \n",
       "NO GOOD                              784   \n",
       "REPARAIBLE                         12687   \n",
       "\n",
       "                   Grubosc pietki ukladu wlewowego [mm]  Kod formy   \\\n",
       "LeakageHighStatus                                                     \n",
       "GOOD                                             114076      114076   \n",
       "NO GOOD                                             784         784   \n",
       "REPARAIBLE                                        12687       12687   \n",
       "\n",
       "                   Koncentrat [%]  Max. cisnienie [Bar]  \\\n",
       "LeakageHighStatus                                         \n",
       "GOOD                       114076                114076   \n",
       "NO GOOD                       784                   784   \n",
       "REPARAIBLE                  12687                 12687   \n",
       "\n",
       "                   Max. predkosc wtrysku [m/s]  ...  \\\n",
       "LeakageHighStatus                               ...   \n",
       "GOOD                                    114076  ...   \n",
       "NO GOOD                                    784  ...   \n",
       "REPARAIBLE                               12687  ...   \n",
       "\n",
       "                   Temperatura w obwodzie chlodzenia 20 [°C]  \\\n",
       "LeakageHighStatus                                              \n",
       "GOOD                                                  114076   \n",
       "NO GOOD                                                  784   \n",
       "REPARAIBLE                                             12687   \n",
       "\n",
       "                   Temperatura w obwodzie chlodzenia 6 [°C]  \\\n",
       "LeakageHighStatus                                             \n",
       "GOOD                                                 114076   \n",
       "NO GOOD                                                 784   \n",
       "REPARAIBLE                                            12687   \n",
       "\n",
       "                   Temperatura w obwodzie chlodzenia 7 [°C]  \\\n",
       "LeakageHighStatus                                             \n",
       "GOOD                                                 114076   \n",
       "NO GOOD                                                 784   \n",
       "REPARAIBLE                                            12687   \n",
       "\n",
       "                   Temperatura wody na wejsciu JetCool [°C]  \\\n",
       "LeakageHighStatus                                             \n",
       "GOOD                                                 114076   \n",
       "NO GOOD                                                 784   \n",
       "REPARAIBLE                                            12687   \n",
       "\n",
       "                   Wartosc prózni 2 [mBar]  Leakage_High  \\\n",
       "LeakageHighStatus                                          \n",
       "GOOD                                114076        114076   \n",
       "NO GOOD                                784           784   \n",
       "REPARAIBLE                           12687         12687   \n",
       "\n",
       "                   Wartosc próżni 1&3 corr  Filtr próżni 1&3 corr  \\\n",
       "LeakageHighStatus                                                   \n",
       "GOOD                                114076                 114076   \n",
       "NO GOOD                                784                    784   \n",
       "REPARAIBLE                           12687                  12687   \n",
       "\n",
       "                   Profil próżni 1&3 corr  Termoregulator 3.1&3.2 corr  \n",
       "LeakageHighStatus                                                       \n",
       "GOOD                               114076                       114076  \n",
       "NO GOOD                               784                          784  \n",
       "REPARAIBLE                          12687                        12687  \n",
       "\n",
       "[3 rows x 49 columns]"
      ]
     },
     "execution_count": 6,
     "metadata": {},
     "output_type": "execute_result"
    }
   ],
   "source": [
    "nemak_raw.groupby(['LeakageHighStatus']).count()"
   ]
  },
  {
   "cell_type": "code",
   "execution_count": 7,
   "metadata": {},
   "outputs": [
    {
     "data": {
      "text/plain": [
       "127547"
      ]
     },
     "execution_count": 7,
     "metadata": {},
     "output_type": "execute_result"
    }
   ],
   "source": [
    "114076+784+12687"
   ]
  },
  {
   "cell_type": "code",
   "execution_count": 8,
   "metadata": {},
   "outputs": [
    {
     "data": {
      "text/html": [
       "<div>\n",
       "<style scoped>\n",
       "    .dataframe tbody tr th:only-of-type {\n",
       "        vertical-align: middle;\n",
       "    }\n",
       "\n",
       "    .dataframe tbody tr th {\n",
       "        vertical-align: top;\n",
       "    }\n",
       "\n",
       "    .dataframe thead th {\n",
       "        text-align: right;\n",
       "    }\n",
       "</style>\n",
       "<table border=\"1\" class=\"dataframe\">\n",
       "  <thead>\n",
       "    <tr style=\"text-align: right;\">\n",
       "      <th></th>\n",
       "      <th>count</th>\n",
       "      <th>mean</th>\n",
       "      <th>std</th>\n",
       "      <th>min</th>\n",
       "      <th>25%</th>\n",
       "      <th>50%</th>\n",
       "      <th>75%</th>\n",
       "      <th>max</th>\n",
       "    </tr>\n",
       "    <tr>\n",
       "      <th>LeakageHighStatus</th>\n",
       "      <th></th>\n",
       "      <th></th>\n",
       "      <th></th>\n",
       "      <th></th>\n",
       "      <th></th>\n",
       "      <th></th>\n",
       "      <th></th>\n",
       "      <th></th>\n",
       "    </tr>\n",
       "  </thead>\n",
       "  <tbody>\n",
       "    <tr>\n",
       "      <th>GOOD</th>\n",
       "      <td>114076.0</td>\n",
       "      <td>0.003637</td>\n",
       "      <td>0.002600</td>\n",
       "      <td>0.0000</td>\n",
       "      <td>0.001817</td>\n",
       "      <td>0.002850</td>\n",
       "      <td>0.004750</td>\n",
       "      <td>0.012500</td>\n",
       "    </tr>\n",
       "    <tr>\n",
       "      <th>NO GOOD</th>\n",
       "      <td>784.0</td>\n",
       "      <td>0.248962</td>\n",
       "      <td>0.185525</td>\n",
       "      <td>0.0027</td>\n",
       "      <td>0.146244</td>\n",
       "      <td>0.177478</td>\n",
       "      <td>0.252321</td>\n",
       "      <td>1.000000</td>\n",
       "    </tr>\n",
       "    <tr>\n",
       "      <th>REPARAIBLE</th>\n",
       "      <td>12687.0</td>\n",
       "      <td>0.034596</td>\n",
       "      <td>0.024226</td>\n",
       "      <td>0.0125</td>\n",
       "      <td>0.017184</td>\n",
       "      <td>0.025150</td>\n",
       "      <td>0.043367</td>\n",
       "      <td>0.124985</td>\n",
       "    </tr>\n",
       "  </tbody>\n",
       "</table>\n",
       "</div>"
      ],
      "text/plain": [
       "                      count      mean       std     min       25%       50%  \\\n",
       "LeakageHighStatus                                                             \n",
       "GOOD               114076.0  0.003637  0.002600  0.0000  0.001817  0.002850   \n",
       "NO GOOD               784.0  0.248962  0.185525  0.0027  0.146244  0.177478   \n",
       "REPARAIBLE          12687.0  0.034596  0.024226  0.0125  0.017184  0.025150   \n",
       "\n",
       "                        75%       max  \n",
       "LeakageHighStatus                      \n",
       "GOOD               0.004750  0.012500  \n",
       "NO GOOD            0.252321  1.000000  \n",
       "REPARAIBLE         0.043367  0.124985  "
      ]
     },
     "execution_count": 8,
     "metadata": {},
     "output_type": "execute_result"
    }
   ],
   "source": [
    "nemak_raw.groupby(['LeakageHighStatus']).describe()['Leakage_High']"
   ]
  },
  {
   "cell_type": "code",
   "execution_count": 9,
   "metadata": {},
   "outputs": [
    {
     "data": {
      "image/png": "[encoded data removed]",
      "text/plain": [
       "<Figure size 1440x1080 with 49 Axes>"
      ]
     },
     "metadata": {
      "needs_background": "light"
     },
     "output_type": "display_data"
    }
   ],
   "source": [
    "nemak_raw.hist(bins=50,figsize=(20,15))\n",
    "plt.show()"
   ]
  },
  {
   "cell_type": "code",
   "execution_count": 10,
   "metadata": {},
   "outputs": [
    {
     "data": {
      "image/png": "[encoded data removed]",
      "text/plain": [
       "<Figure size 1440x1080 with 1 Axes>"
      ]
     },
     "metadata": {
      "needs_background": "light"
     },
     "output_type": "display_data"
    }
   ],
   "source": [
    "nemak_raw['Leakage_High'].hist(bins=50,figsize=(20,15))\n",
    "plt.show()"
   ]
  },
  {
   "cell_type": "markdown",
   "metadata": {},
   "source": [
    "# Czyszczenie danych"
   ]
  },
  {
   "cell_type": "code",
   "execution_count": 11,
   "metadata": {},
   "outputs": [],
   "source": [
    "clean_nemak_raw = nemak_raw.dropna(how='any')"
   ]
  },
  {
   "cell_type": "code",
   "execution_count": 12,
   "metadata": {},
   "outputs": [
    {
     "data": {
      "text/html": [
       "<div>\n",
       "<style scoped>\n",
       "    .dataframe tbody tr th:only-of-type {\n",
       "        vertical-align: middle;\n",
       "    }\n",
       "\n",
       "    .dataframe tbody tr th {\n",
       "        vertical-align: top;\n",
       "    }\n",
       "\n",
       "    .dataframe thead th {\n",
       "        text-align: right;\n",
       "    }\n",
       "</style>\n",
       "<table border=\"1\" class=\"dataframe\">\n",
       "  <thead>\n",
       "    <tr style=\"text-align: right;\">\n",
       "      <th></th>\n",
       "      <th>Shift</th>\n",
       "      <th>Czas 1. fazy wtrysku [ms]</th>\n",
       "      <th>Czas 2. fazy wtrysku [ms]</th>\n",
       "      <th>Czas cyklu [s]</th>\n",
       "      <th>Filtr prózni 2 [mBar]</th>\n",
       "      <th>Grubosc pietki ukladu wlewowego [mm]</th>\n",
       "      <th>Kod formy</th>\n",
       "      <th>Koncentrat [%]</th>\n",
       "      <th>Max. cisnienie [Bar]</th>\n",
       "      <th>Max. predkosc wtrysku [m/s]</th>\n",
       "      <th>...</th>\n",
       "      <th>Temperatura w obwodzie chlodzenia 6 [°C]</th>\n",
       "      <th>Temperatura w obwodzie chlodzenia 7 [°C]</th>\n",
       "      <th>Temperatura wody na wejsciu JetCool [°C]</th>\n",
       "      <th>Wartosc prózni 2 [mBar]</th>\n",
       "      <th>Leakage_High</th>\n",
       "      <th>LeakageHighStatus</th>\n",
       "      <th>Wartosc próżni 1&amp;3 corr</th>\n",
       "      <th>Filtr próżni 1&amp;3 corr</th>\n",
       "      <th>Profil próżni 1&amp;3 corr</th>\n",
       "      <th>Termoregulator 3.1&amp;3.2 corr</th>\n",
       "    </tr>\n",
       "  </thead>\n",
       "  <tbody>\n",
       "    <tr>\n",
       "      <th>12</th>\n",
       "      <td>1.0</td>\n",
       "      <td>0.175099</td>\n",
       "      <td>0.149606</td>\n",
       "      <td>0.212864</td>\n",
       "      <td>0.017059</td>\n",
       "      <td>0.000671</td>\n",
       "      <td>0.0</td>\n",
       "      <td>0.462963</td>\n",
       "      <td>0.366300</td>\n",
       "      <td>0.357808</td>\n",
       "      <td>...</td>\n",
       "      <td>0.315789</td>\n",
       "      <td>0.282051</td>\n",
       "      <td>0.419023</td>\n",
       "      <td>0.085746</td>\n",
       "      <td>0.047934</td>\n",
       "      <td>REPARAIBLE</td>\n",
       "      <td>0.225741</td>\n",
       "      <td>0.471907</td>\n",
       "      <td>0.515391</td>\n",
       "      <td>0.064146</td>\n",
       "    </tr>\n",
       "    <tr>\n",
       "      <th>16</th>\n",
       "      <td>1.0</td>\n",
       "      <td>0.153570</td>\n",
       "      <td>0.149606</td>\n",
       "      <td>0.153001</td>\n",
       "      <td>0.012353</td>\n",
       "      <td>0.000610</td>\n",
       "      <td>0.0</td>\n",
       "      <td>0.370370</td>\n",
       "      <td>0.366300</td>\n",
       "      <td>0.367115</td>\n",
       "      <td>...</td>\n",
       "      <td>0.157895</td>\n",
       "      <td>0.230769</td>\n",
       "      <td>0.428021</td>\n",
       "      <td>0.083519</td>\n",
       "      <td>0.002850</td>\n",
       "      <td>GOOD</td>\n",
       "      <td>0.224394</td>\n",
       "      <td>0.481061</td>\n",
       "      <td>0.503946</td>\n",
       "      <td>0.063721</td>\n",
       "    </tr>\n",
       "    <tr>\n",
       "      <th>17</th>\n",
       "      <td>1.0</td>\n",
       "      <td>0.160029</td>\n",
       "      <td>0.149606</td>\n",
       "      <td>0.153160</td>\n",
       "      <td>0.011765</td>\n",
       "      <td>0.000610</td>\n",
       "      <td>0.0</td>\n",
       "      <td>0.425926</td>\n",
       "      <td>0.364469</td>\n",
       "      <td>0.368149</td>\n",
       "      <td>...</td>\n",
       "      <td>0.157895</td>\n",
       "      <td>0.230769</td>\n",
       "      <td>0.425450</td>\n",
       "      <td>0.125835</td>\n",
       "      <td>0.003417</td>\n",
       "      <td>GOOD</td>\n",
       "      <td>0.258086</td>\n",
       "      <td>0.485480</td>\n",
       "      <td>0.502368</td>\n",
       "      <td>0.063297</td>\n",
       "    </tr>\n",
       "    <tr>\n",
       "      <th>18</th>\n",
       "      <td>1.0</td>\n",
       "      <td>0.157158</td>\n",
       "      <td>0.157480</td>\n",
       "      <td>0.152683</td>\n",
       "      <td>0.012941</td>\n",
       "      <td>0.000626</td>\n",
       "      <td>0.0</td>\n",
       "      <td>0.444444</td>\n",
       "      <td>0.364469</td>\n",
       "      <td>0.368149</td>\n",
       "      <td>...</td>\n",
       "      <td>0.157895</td>\n",
       "      <td>0.230769</td>\n",
       "      <td>0.426735</td>\n",
       "      <td>0.109131</td>\n",
       "      <td>0.001867</td>\n",
       "      <td>GOOD</td>\n",
       "      <td>0.242588</td>\n",
       "      <td>0.485164</td>\n",
       "      <td>0.501973</td>\n",
       "      <td>0.064996</td>\n",
       "    </tr>\n",
       "    <tr>\n",
       "      <th>20</th>\n",
       "      <td>1.0</td>\n",
       "      <td>0.157517</td>\n",
       "      <td>0.149606</td>\n",
       "      <td>0.153001</td>\n",
       "      <td>0.014118</td>\n",
       "      <td>0.000656</td>\n",
       "      <td>0.0</td>\n",
       "      <td>0.462963</td>\n",
       "      <td>0.362637</td>\n",
       "      <td>0.357808</td>\n",
       "      <td>...</td>\n",
       "      <td>0.131579</td>\n",
       "      <td>0.230769</td>\n",
       "      <td>0.422879</td>\n",
       "      <td>0.072940</td>\n",
       "      <td>0.000000</td>\n",
       "      <td>GOOD</td>\n",
       "      <td>0.217655</td>\n",
       "      <td>0.482323</td>\n",
       "      <td>0.500789</td>\n",
       "      <td>0.064996</td>\n",
       "    </tr>\n",
       "    <tr>\n",
       "      <th>22</th>\n",
       "      <td>1.0</td>\n",
       "      <td>0.157876</td>\n",
       "      <td>0.149606</td>\n",
       "      <td>0.152683</td>\n",
       "      <td>0.011176</td>\n",
       "      <td>0.000656</td>\n",
       "      <td>0.0</td>\n",
       "      <td>0.296296</td>\n",
       "      <td>0.360806</td>\n",
       "      <td>0.368149</td>\n",
       "      <td>...</td>\n",
       "      <td>0.131579</td>\n",
       "      <td>0.230769</td>\n",
       "      <td>0.424165</td>\n",
       "      <td>0.092984</td>\n",
       "      <td>0.003217</td>\n",
       "      <td>GOOD</td>\n",
       "      <td>0.224394</td>\n",
       "      <td>0.476957</td>\n",
       "      <td>0.500000</td>\n",
       "      <td>0.064996</td>\n",
       "    </tr>\n",
       "    <tr>\n",
       "      <th>23</th>\n",
       "      <td>1.0</td>\n",
       "      <td>0.158593</td>\n",
       "      <td>0.149606</td>\n",
       "      <td>0.152523</td>\n",
       "      <td>0.011765</td>\n",
       "      <td>0.000626</td>\n",
       "      <td>0.0</td>\n",
       "      <td>0.444444</td>\n",
       "      <td>0.364469</td>\n",
       "      <td>0.367115</td>\n",
       "      <td>...</td>\n",
       "      <td>0.131579</td>\n",
       "      <td>0.230769</td>\n",
       "      <td>0.424165</td>\n",
       "      <td>0.067372</td>\n",
       "      <td>0.001667</td>\n",
       "      <td>GOOD</td>\n",
       "      <td>0.202830</td>\n",
       "      <td>0.474116</td>\n",
       "      <td>0.499605</td>\n",
       "      <td>0.062872</td>\n",
       "    </tr>\n",
       "    <tr>\n",
       "      <th>24</th>\n",
       "      <td>1.0</td>\n",
       "      <td>0.162540</td>\n",
       "      <td>0.149606</td>\n",
       "      <td>0.152523</td>\n",
       "      <td>0.017059</td>\n",
       "      <td>0.000656</td>\n",
       "      <td>0.0</td>\n",
       "      <td>0.462963</td>\n",
       "      <td>0.362637</td>\n",
       "      <td>0.368149</td>\n",
       "      <td>...</td>\n",
       "      <td>0.131579</td>\n",
       "      <td>0.230769</td>\n",
       "      <td>0.422879</td>\n",
       "      <td>0.047327</td>\n",
       "      <td>0.002233</td>\n",
       "      <td>GOOD</td>\n",
       "      <td>0.183288</td>\n",
       "      <td>0.472854</td>\n",
       "      <td>0.498421</td>\n",
       "      <td>0.064996</td>\n",
       "    </tr>\n",
       "    <tr>\n",
       "      <th>25</th>\n",
       "      <td>1.0</td>\n",
       "      <td>0.152494</td>\n",
       "      <td>0.141732</td>\n",
       "      <td>0.152842</td>\n",
       "      <td>0.014706</td>\n",
       "      <td>0.000687</td>\n",
       "      <td>0.0</td>\n",
       "      <td>0.462963</td>\n",
       "      <td>0.360806</td>\n",
       "      <td>0.368149</td>\n",
       "      <td>...</td>\n",
       "      <td>0.131579</td>\n",
       "      <td>0.230769</td>\n",
       "      <td>0.421594</td>\n",
       "      <td>0.098552</td>\n",
       "      <td>0.001633</td>\n",
       "      <td>GOOD</td>\n",
       "      <td>0.228437</td>\n",
       "      <td>0.481376</td>\n",
       "      <td>0.496843</td>\n",
       "      <td>0.062872</td>\n",
       "    </tr>\n",
       "    <tr>\n",
       "      <th>26</th>\n",
       "      <td>1.0</td>\n",
       "      <td>0.153570</td>\n",
       "      <td>0.149606</td>\n",
       "      <td>0.152842</td>\n",
       "      <td>0.015294</td>\n",
       "      <td>0.000656</td>\n",
       "      <td>0.0</td>\n",
       "      <td>0.462963</td>\n",
       "      <td>0.360806</td>\n",
       "      <td>0.368149</td>\n",
       "      <td>...</td>\n",
       "      <td>0.131579</td>\n",
       "      <td>0.230769</td>\n",
       "      <td>0.420308</td>\n",
       "      <td>0.099666</td>\n",
       "      <td>0.002450</td>\n",
       "      <td>GOOD</td>\n",
       "      <td>0.229784</td>\n",
       "      <td>0.472538</td>\n",
       "      <td>0.496843</td>\n",
       "      <td>0.064571</td>\n",
       "    </tr>\n",
       "  </tbody>\n",
       "</table>\n",
       "<p>10 rows × 50 columns</p>\n",
       "</div>"
      ],
      "text/plain": [
       "    Shift  Czas 1. fazy wtrysku [ms]  Czas 2. fazy wtrysku [ms]  \\\n",
       "12    1.0                   0.175099                   0.149606   \n",
       "16    1.0                   0.153570                   0.149606   \n",
       "17    1.0                   0.160029                   0.149606   \n",
       "18    1.0                   0.157158                   0.157480   \n",
       "20    1.0                   0.157517                   0.149606   \n",
       "22    1.0                   0.157876                   0.149606   \n",
       "23    1.0                   0.158593                   0.149606   \n",
       "24    1.0                   0.162540                   0.149606   \n",
       "25    1.0                   0.152494                   0.141732   \n",
       "26    1.0                   0.153570                   0.149606   \n",
       "\n",
       "    Czas cyklu [s]  Filtr prózni 2 [mBar]  \\\n",
       "12        0.212864               0.017059   \n",
       "16        0.153001               0.012353   \n",
       "17        0.153160               0.011765   \n",
       "18        0.152683               0.012941   \n",
       "20        0.153001               0.014118   \n",
       "22        0.152683               0.011176   \n",
       "23        0.152523               0.011765   \n",
       "24        0.152523               0.017059   \n",
       "25        0.152842               0.014706   \n",
       "26        0.152842               0.015294   \n",
       "\n",
       "    Grubosc pietki ukladu wlewowego [mm]  Kod formy   Koncentrat [%]  \\\n",
       "12                              0.000671         0.0        0.462963   \n",
       "16                              0.000610         0.0        0.370370   \n",
       "17                              0.000610         0.0        0.425926   \n",
       "18                              0.000626         0.0        0.444444   \n",
       "20                              0.000656         0.0        0.462963   \n",
       "22                              0.000656         0.0        0.296296   \n",
       "23                              0.000626         0.0        0.444444   \n",
       "24                              0.000656         0.0        0.462963   \n",
       "25                              0.000687         0.0        0.462963   \n",
       "26                              0.000656         0.0        0.462963   \n",
       "\n",
       "    Max. cisnienie [Bar]  Max. predkosc wtrysku [m/s]  ...  \\\n",
       "12              0.366300                     0.357808  ...   \n",
       "16              0.366300                     0.367115  ...   \n",
       "17              0.364469                     0.368149  ...   \n",
       "18              0.364469                     0.368149  ...   \n",
       "20              0.362637                     0.357808  ...   \n",
       "22              0.360806                     0.368149  ...   \n",
       "23              0.364469                     0.367115  ...   \n",
       "24              0.362637                     0.368149  ...   \n",
       "25              0.360806                     0.368149  ...   \n",
       "26              0.360806                     0.368149  ...   \n",
       "\n",
       "    Temperatura w obwodzie chlodzenia 6 [°C]  \\\n",
       "12                                  0.315789   \n",
       "16                                  0.157895   \n",
       "17                                  0.157895   \n",
       "18                                  0.157895   \n",
       "20                                  0.131579   \n",
       "22                                  0.131579   \n",
       "23                                  0.131579   \n",
       "24                                  0.131579   \n",
       "25                                  0.131579   \n",
       "26                                  0.131579   \n",
       "\n",
       "    Temperatura w obwodzie chlodzenia 7 [°C]  \\\n",
       "12                                  0.282051   \n",
       "16                                  0.230769   \n",
       "17                                  0.230769   \n",
       "18                                  0.230769   \n",
       "20                                  0.230769   \n",
       "22                                  0.230769   \n",
       "23                                  0.230769   \n",
       "24                                  0.230769   \n",
       "25                                  0.230769   \n",
       "26                                  0.230769   \n",
       "\n",
       "    Temperatura wody na wejsciu JetCool [°C]  Wartosc prózni 2 [mBar]  \\\n",
       "12                                  0.419023                 0.085746   \n",
       "16                                  0.428021                 0.083519   \n",
       "17                                  0.425450                 0.125835   \n",
       "18                                  0.426735                 0.109131   \n",
       "20                                  0.422879                 0.072940   \n",
       "22                                  0.424165                 0.092984   \n",
       "23                                  0.424165                 0.067372   \n",
       "24                                  0.422879                 0.047327   \n",
       "25                                  0.421594                 0.098552   \n",
       "26                                  0.420308                 0.099666   \n",
       "\n",
       "    Leakage_High  LeakageHighStatus  Wartosc próżni 1&3 corr  \\\n",
       "12      0.047934         REPARAIBLE                 0.225741   \n",
       "16      0.002850               GOOD                 0.224394   \n",
       "17      0.003417               GOOD                 0.258086   \n",
       "18      0.001867               GOOD                 0.242588   \n",
       "20      0.000000               GOOD                 0.217655   \n",
       "22      0.003217               GOOD                 0.224394   \n",
       "23      0.001667               GOOD                 0.202830   \n",
       "24      0.002233               GOOD                 0.183288   \n",
       "25      0.001633               GOOD                 0.228437   \n",
       "26      0.002450               GOOD                 0.229784   \n",
       "\n",
       "    Filtr próżni 1&3 corr  Profil próżni 1&3 corr  Termoregulator 3.1&3.2 corr  \n",
       "12               0.471907                0.515391                     0.064146  \n",
       "16               0.481061                0.503946                     0.063721  \n",
       "17               0.485480                0.502368                     0.063297  \n",
       "18               0.485164                0.501973                     0.064996  \n",
       "20               0.482323                0.500789                     0.064996  \n",
       "22               0.476957                0.500000                     0.064996  \n",
       "23               0.474116                0.499605                     0.062872  \n",
       "24               0.472854                0.498421                     0.064996  \n",
       "25               0.481376                0.496843                     0.062872  \n",
       "26               0.472538                0.496843                     0.064571  \n",
       "\n",
       "[10 rows x 50 columns]"
      ]
     },
     "execution_count": 12,
     "metadata": {},
     "output_type": "execute_result"
    }
   ],
   "source": [
    "clean_nemak_raw.head(10)"
   ]
  },
  {
   "cell_type": "code",
   "execution_count": 13,
   "metadata": {},
   "outputs": [
    {
     "data": {
      "text/html": [
       "<div>\n",
       "<style scoped>\n",
       "    .dataframe tbody tr th:only-of-type {\n",
       "        vertical-align: middle;\n",
       "    }\n",
       "\n",
       "    .dataframe tbody tr th {\n",
       "        vertical-align: top;\n",
       "    }\n",
       "\n",
       "    .dataframe thead th {\n",
       "        text-align: right;\n",
       "    }\n",
       "</style>\n",
       "<table border=\"1\" class=\"dataframe\">\n",
       "  <thead>\n",
       "    <tr style=\"text-align: right;\">\n",
       "      <th></th>\n",
       "      <th>Shift</th>\n",
       "      <th>Czas 1. fazy wtrysku [ms]</th>\n",
       "      <th>Czas 2. fazy wtrysku [ms]</th>\n",
       "      <th>Czas cyklu [s]</th>\n",
       "      <th>Filtr prózni 2 [mBar]</th>\n",
       "      <th>Grubosc pietki ukladu wlewowego [mm]</th>\n",
       "      <th>Kod formy</th>\n",
       "      <th>Koncentrat [%]</th>\n",
       "      <th>Max. cisnienie [Bar]</th>\n",
       "      <th>Max. predkosc wtrysku [m/s]</th>\n",
       "      <th>...</th>\n",
       "      <th>Temperatura w obwodzie chlodzenia 20 [°C]</th>\n",
       "      <th>Temperatura w obwodzie chlodzenia 6 [°C]</th>\n",
       "      <th>Temperatura w obwodzie chlodzenia 7 [°C]</th>\n",
       "      <th>Temperatura wody na wejsciu JetCool [°C]</th>\n",
       "      <th>Wartosc prózni 2 [mBar]</th>\n",
       "      <th>Leakage_High</th>\n",
       "      <th>Wartosc próżni 1&amp;3 corr</th>\n",
       "      <th>Filtr próżni 1&amp;3 corr</th>\n",
       "      <th>Profil próżni 1&amp;3 corr</th>\n",
       "      <th>Termoregulator 3.1&amp;3.2 corr</th>\n",
       "    </tr>\n",
       "  </thead>\n",
       "  <tbody>\n",
       "    <tr>\n",
       "      <th>count</th>\n",
       "      <td>127547.000000</td>\n",
       "      <td>127547.000000</td>\n",
       "      <td>127547.000000</td>\n",
       "      <td>127547.000000</td>\n",
       "      <td>127547.000000</td>\n",
       "      <td>127547.000000</td>\n",
       "      <td>127547.000000</td>\n",
       "      <td>127547.000000</td>\n",
       "      <td>127547.000000</td>\n",
       "      <td>127547.000000</td>\n",
       "      <td>...</td>\n",
       "      <td>127547.000000</td>\n",
       "      <td>127547.000000</td>\n",
       "      <td>127547.000000</td>\n",
       "      <td>127547.000000</td>\n",
       "      <td>127547.000000</td>\n",
       "      <td>127547.000000</td>\n",
       "      <td>127547.000000</td>\n",
       "      <td>127547.000000</td>\n",
       "      <td>127547.000000</td>\n",
       "      <td>127547.000000</td>\n",
       "    </tr>\n",
       "    <tr>\n",
       "      <th>mean</th>\n",
       "      <td>0.547571</td>\n",
       "      <td>0.147266</td>\n",
       "      <td>0.160813</td>\n",
       "      <td>0.162250</td>\n",
       "      <td>0.157359</td>\n",
       "      <td>0.000582</td>\n",
       "      <td>0.327348</td>\n",
       "      <td>0.434721</td>\n",
       "      <td>0.361566</td>\n",
       "      <td>0.366276</td>\n",
       "      <td>...</td>\n",
       "      <td>0.238632</td>\n",
       "      <td>0.205392</td>\n",
       "      <td>0.240263</td>\n",
       "      <td>0.475740</td>\n",
       "      <td>0.176073</td>\n",
       "      <td>0.008225</td>\n",
       "      <td>0.197310</td>\n",
       "      <td>0.390521</td>\n",
       "      <td>0.428958</td>\n",
       "      <td>0.063142</td>\n",
       "    </tr>\n",
       "    <tr>\n",
       "      <th>std</th>\n",
       "      <td>0.406574</td>\n",
       "      <td>0.042959</td>\n",
       "      <td>0.011209</td>\n",
       "      <td>0.030283</td>\n",
       "      <td>0.045060</td>\n",
       "      <td>0.000041</td>\n",
       "      <td>0.252185</td>\n",
       "      <td>0.070168</td>\n",
       "      <td>0.007857</td>\n",
       "      <td>0.011194</td>\n",
       "      <td>...</td>\n",
       "      <td>0.047816</td>\n",
       "      <td>0.050867</td>\n",
       "      <td>0.024355</td>\n",
       "      <td>0.062934</td>\n",
       "      <td>0.067748</td>\n",
       "      <td>0.026832</td>\n",
       "      <td>0.070832</td>\n",
       "      <td>0.030902</td>\n",
       "      <td>0.051602</td>\n",
       "      <td>0.006649</td>\n",
       "    </tr>\n",
       "    <tr>\n",
       "      <th>min</th>\n",
       "      <td>0.000000</td>\n",
       "      <td>0.000000</td>\n",
       "      <td>0.118110</td>\n",
       "      <td>0.000318</td>\n",
       "      <td>0.000000</td>\n",
       "      <td>0.000427</td>\n",
       "      <td>0.000000</td>\n",
       "      <td>0.000000</td>\n",
       "      <td>0.336996</td>\n",
       "      <td>0.320579</td>\n",
       "      <td>...</td>\n",
       "      <td>0.081633</td>\n",
       "      <td>0.052632</td>\n",
       "      <td>0.076923</td>\n",
       "      <td>0.000000</td>\n",
       "      <td>0.000000</td>\n",
       "      <td>0.000000</td>\n",
       "      <td>0.000000</td>\n",
       "      <td>0.000000</td>\n",
       "      <td>0.000000</td>\n",
       "      <td>0.000000</td>\n",
       "    </tr>\n",
       "    <tr>\n",
       "      <th>25%</th>\n",
       "      <td>0.000000</td>\n",
       "      <td>0.112307</td>\n",
       "      <td>0.157480</td>\n",
       "      <td>0.153956</td>\n",
       "      <td>0.142941</td>\n",
       "      <td>0.000565</td>\n",
       "      <td>0.250000</td>\n",
       "      <td>0.407407</td>\n",
       "      <td>0.360806</td>\n",
       "      <td>0.357808</td>\n",
       "      <td>...</td>\n",
       "      <td>0.204082</td>\n",
       "      <td>0.184211</td>\n",
       "      <td>0.230769</td>\n",
       "      <td>0.438303</td>\n",
       "      <td>0.131403</td>\n",
       "      <td>0.001933</td>\n",
       "      <td>0.170485</td>\n",
       "      <td>0.377841</td>\n",
       "      <td>0.415943</td>\n",
       "      <td>0.062872</td>\n",
       "    </tr>\n",
       "    <tr>\n",
       "      <th>50%</th>\n",
       "      <td>0.500000</td>\n",
       "      <td>0.158952</td>\n",
       "      <td>0.157480</td>\n",
       "      <td>0.156981</td>\n",
       "      <td>0.158235</td>\n",
       "      <td>0.000580</td>\n",
       "      <td>0.250000</td>\n",
       "      <td>0.444444</td>\n",
       "      <td>0.360806</td>\n",
       "      <td>0.368149</td>\n",
       "      <td>...</td>\n",
       "      <td>0.224490</td>\n",
       "      <td>0.210526</td>\n",
       "      <td>0.230769</td>\n",
       "      <td>0.455013</td>\n",
       "      <td>0.159243</td>\n",
       "      <td>0.003200</td>\n",
       "      <td>0.192722</td>\n",
       "      <td>0.386048</td>\n",
       "      <td>0.432912</td>\n",
       "      <td>0.063721</td>\n",
       "    </tr>\n",
       "    <tr>\n",
       "      <th>75%</th>\n",
       "      <td>1.000000</td>\n",
       "      <td>0.176534</td>\n",
       "      <td>0.165354</td>\n",
       "      <td>0.160802</td>\n",
       "      <td>0.177059</td>\n",
       "      <td>0.000610</td>\n",
       "      <td>0.500000</td>\n",
       "      <td>0.481481</td>\n",
       "      <td>0.362637</td>\n",
       "      <td>0.368149</td>\n",
       "      <td>...</td>\n",
       "      <td>0.265306</td>\n",
       "      <td>0.236842</td>\n",
       "      <td>0.256410</td>\n",
       "      <td>0.483290</td>\n",
       "      <td>0.207684</td>\n",
       "      <td>0.006017</td>\n",
       "      <td>0.225741</td>\n",
       "      <td>0.400253</td>\n",
       "      <td>0.446330</td>\n",
       "      <td>0.064571</td>\n",
       "    </tr>\n",
       "    <tr>\n",
       "      <th>max</th>\n",
       "      <td>1.000000</td>\n",
       "      <td>0.996412</td>\n",
       "      <td>0.874016</td>\n",
       "      <td>0.630632</td>\n",
       "      <td>1.000000</td>\n",
       "      <td>0.001312</td>\n",
       "      <td>1.000000</td>\n",
       "      <td>0.962963</td>\n",
       "      <td>1.000000</td>\n",
       "      <td>1.000000</td>\n",
       "      <td>...</td>\n",
       "      <td>1.000000</td>\n",
       "      <td>1.000000</td>\n",
       "      <td>1.000000</td>\n",
       "      <td>1.000000</td>\n",
       "      <td>0.841314</td>\n",
       "      <td>1.000000</td>\n",
       "      <td>1.000000</td>\n",
       "      <td>1.000000</td>\n",
       "      <td>1.000000</td>\n",
       "      <td>0.130841</td>\n",
       "    </tr>\n",
       "  </tbody>\n",
       "</table>\n",
       "<p>8 rows × 49 columns</p>\n",
       "</div>"
      ],
      "text/plain": [
       "               Shift  Czas 1. fazy wtrysku [ms]  Czas 2. fazy wtrysku [ms]  \\\n",
       "count  127547.000000              127547.000000              127547.000000   \n",
       "mean        0.547571                   0.147266                   0.160813   \n",
       "std         0.406574                   0.042959                   0.011209   \n",
       "min         0.000000                   0.000000                   0.118110   \n",
       "25%         0.000000                   0.112307                   0.157480   \n",
       "50%         0.500000                   0.158952                   0.157480   \n",
       "75%         1.000000                   0.176534                   0.165354   \n",
       "max         1.000000                   0.996412                   0.874016   \n",
       "\n",
       "       Czas cyklu [s]  Filtr prózni 2 [mBar]  \\\n",
       "count   127547.000000          127547.000000   \n",
       "mean         0.162250               0.157359   \n",
       "std          0.030283               0.045060   \n",
       "min          0.000318               0.000000   \n",
       "25%          0.153956               0.142941   \n",
       "50%          0.156981               0.158235   \n",
       "75%          0.160802               0.177059   \n",
       "max          0.630632               1.000000   \n",
       "\n",
       "       Grubosc pietki ukladu wlewowego [mm]     Kod formy   Koncentrat [%]  \\\n",
       "count                         127547.000000  127547.000000   127547.000000   \n",
       "mean                               0.000582       0.327348        0.434721   \n",
       "std                                0.000041       0.252185        0.070168   \n",
       "min                                0.000427       0.000000        0.000000   \n",
       "25%                                0.000565       0.250000        0.407407   \n",
       "50%                                0.000580       0.250000        0.444444   \n",
       "75%                                0.000610       0.500000        0.481481   \n",
       "max                                0.001312       1.000000        0.962963   \n",
       "\n",
       "       Max. cisnienie [Bar]  Max. predkosc wtrysku [m/s]  ...  \\\n",
       "count         127547.000000                127547.000000  ...   \n",
       "mean               0.361566                     0.366276  ...   \n",
       "std                0.007857                     0.011194  ...   \n",
       "min                0.336996                     0.320579  ...   \n",
       "25%                0.360806                     0.357808  ...   \n",
       "50%                0.360806                     0.368149  ...   \n",
       "75%                0.362637                     0.368149  ...   \n",
       "max                1.000000                     1.000000  ...   \n",
       "\n",
       "       Temperatura w obwodzie chlodzenia 20 [°C]  \\\n",
       "count                              127547.000000   \n",
       "mean                                    0.238632   \n",
       "std                                     0.047816   \n",
       "min                                     0.081633   \n",
       "25%                                     0.204082   \n",
       "50%                                     0.224490   \n",
       "75%                                     0.265306   \n",
       "max                                     1.000000   \n",
       "\n",
       "       Temperatura w obwodzie chlodzenia 6 [°C]  \\\n",
       "count                             127547.000000   \n",
       "mean                                   0.205392   \n",
       "std                                    0.050867   \n",
       "min                                    0.052632   \n",
       "25%                                    0.184211   \n",
       "50%                                    0.210526   \n",
       "75%                                    0.236842   \n",
       "max                                    1.000000   \n",
       "\n",
       "       Temperatura w obwodzie chlodzenia 7 [°C]  \\\n",
       "count                             127547.000000   \n",
       "mean                                   0.240263   \n",
       "std                                    0.024355   \n",
       "min                                    0.076923   \n",
       "25%                                    0.230769   \n",
       "50%                                    0.230769   \n",
       "75%                                    0.256410   \n",
       "max                                    1.000000   \n",
       "\n",
       "       Temperatura wody na wejsciu JetCool [°C]  Wartosc prózni 2 [mBar]  \\\n",
       "count                             127547.000000            127547.000000   \n",
       "mean                                   0.475740                 0.176073   \n",
       "std                                    0.062934                 0.067748   \n",
       "min                                    0.000000                 0.000000   \n",
       "25%                                    0.438303                 0.131403   \n",
       "50%                                    0.455013                 0.159243   \n",
       "75%                                    0.483290                 0.207684   \n",
       "max                                    1.000000                 0.841314   \n",
       "\n",
       "        Leakage_High  Wartosc próżni 1&3 corr  Filtr próżni 1&3 corr  \\\n",
       "count  127547.000000            127547.000000          127547.000000   \n",
       "mean        0.008225                 0.197310               0.390521   \n",
       "std         0.026832                 0.070832               0.030902   \n",
       "min         0.000000                 0.000000               0.000000   \n",
       "25%         0.001933                 0.170485               0.377841   \n",
       "50%         0.003200                 0.192722               0.386048   \n",
       "75%         0.006017                 0.225741               0.400253   \n",
       "max         1.000000                 1.000000               1.000000   \n",
       "\n",
       "       Profil próżni 1&3 corr  Termoregulator 3.1&3.2 corr  \n",
       "count           127547.000000                127547.000000  \n",
       "mean                 0.428958                     0.063142  \n",
       "std                  0.051602                     0.006649  \n",
       "min                  0.000000                     0.000000  \n",
       "25%                  0.415943                     0.062872  \n",
       "50%                  0.432912                     0.063721  \n",
       "75%                  0.446330                     0.064571  \n",
       "max                  1.000000                     0.130841  \n",
       "\n",
       "[8 rows x 49 columns]"
      ]
     },
     "execution_count": 13,
     "metadata": {},
     "output_type": "execute_result"
    }
   ],
   "source": [
    "\n",
    "clean_nemak_raw.describe()"
   ]
  },
  {
   "cell_type": "code",
   "execution_count": 14,
   "metadata": {},
   "outputs": [
    {
     "data": {
      "text/html": [
       "<div>\n",
       "<style scoped>\n",
       "    .dataframe tbody tr th:only-of-type {\n",
       "        vertical-align: middle;\n",
       "    }\n",
       "\n",
       "    .dataframe tbody tr th {\n",
       "        vertical-align: top;\n",
       "    }\n",
       "\n",
       "    .dataframe thead th {\n",
       "        text-align: right;\n",
       "    }\n",
       "</style>\n",
       "<table border=\"1\" class=\"dataframe\">\n",
       "  <thead>\n",
       "    <tr style=\"text-align: right;\">\n",
       "      <th></th>\n",
       "      <th>Shift</th>\n",
       "      <th>Czas 1. fazy wtrysku [ms]</th>\n",
       "      <th>Czas 2. fazy wtrysku [ms]</th>\n",
       "      <th>Czas cyklu [s]</th>\n",
       "      <th>Filtr prózni 2 [mBar]</th>\n",
       "      <th>Grubosc pietki ukladu wlewowego [mm]</th>\n",
       "      <th>Kod formy</th>\n",
       "      <th>Koncentrat [%]</th>\n",
       "      <th>Max. cisnienie [Bar]</th>\n",
       "      <th>Max. predkosc wtrysku [m/s]</th>\n",
       "      <th>...</th>\n",
       "      <th>Temperatura w obwodzie chlodzenia 6 [°C]</th>\n",
       "      <th>Temperatura w obwodzie chlodzenia 7 [°C]</th>\n",
       "      <th>Temperatura wody na wejsciu JetCool [°C]</th>\n",
       "      <th>Wartosc prózni 2 [mBar]</th>\n",
       "      <th>Leakage_High</th>\n",
       "      <th>LeakageHighStatus</th>\n",
       "      <th>Wartosc próżni 1&amp;3 corr</th>\n",
       "      <th>Filtr próżni 1&amp;3 corr</th>\n",
       "      <th>Profil próżni 1&amp;3 corr</th>\n",
       "      <th>Termoregulator 3.1&amp;3.2 corr</th>\n",
       "    </tr>\n",
       "  </thead>\n",
       "  <tbody>\n",
       "    <tr>\n",
       "      <th>12</th>\n",
       "      <td>1.0</td>\n",
       "      <td>0.175099</td>\n",
       "      <td>0.149606</td>\n",
       "      <td>0.212864</td>\n",
       "      <td>0.017059</td>\n",
       "      <td>0.000671</td>\n",
       "      <td>0.00</td>\n",
       "      <td>0.462963</td>\n",
       "      <td>0.366300</td>\n",
       "      <td>0.357808</td>\n",
       "      <td>...</td>\n",
       "      <td>0.315789</td>\n",
       "      <td>0.282051</td>\n",
       "      <td>0.419023</td>\n",
       "      <td>0.085746</td>\n",
       "      <td>0.047934</td>\n",
       "      <td>REPARAIBLE</td>\n",
       "      <td>0.225741</td>\n",
       "      <td>0.471907</td>\n",
       "      <td>0.515391</td>\n",
       "      <td>0.064146</td>\n",
       "    </tr>\n",
       "    <tr>\n",
       "      <th>16</th>\n",
       "      <td>1.0</td>\n",
       "      <td>0.153570</td>\n",
       "      <td>0.149606</td>\n",
       "      <td>0.153001</td>\n",
       "      <td>0.012353</td>\n",
       "      <td>0.000610</td>\n",
       "      <td>0.00</td>\n",
       "      <td>0.370370</td>\n",
       "      <td>0.366300</td>\n",
       "      <td>0.367115</td>\n",
       "      <td>...</td>\n",
       "      <td>0.157895</td>\n",
       "      <td>0.230769</td>\n",
       "      <td>0.428021</td>\n",
       "      <td>0.083519</td>\n",
       "      <td>0.002850</td>\n",
       "      <td>GOOD</td>\n",
       "      <td>0.224394</td>\n",
       "      <td>0.481061</td>\n",
       "      <td>0.503946</td>\n",
       "      <td>0.063721</td>\n",
       "    </tr>\n",
       "    <tr>\n",
       "      <th>17</th>\n",
       "      <td>1.0</td>\n",
       "      <td>0.160029</td>\n",
       "      <td>0.149606</td>\n",
       "      <td>0.153160</td>\n",
       "      <td>0.011765</td>\n",
       "      <td>0.000610</td>\n",
       "      <td>0.00</td>\n",
       "      <td>0.425926</td>\n",
       "      <td>0.364469</td>\n",
       "      <td>0.368149</td>\n",
       "      <td>...</td>\n",
       "      <td>0.157895</td>\n",
       "      <td>0.230769</td>\n",
       "      <td>0.425450</td>\n",
       "      <td>0.125835</td>\n",
       "      <td>0.003417</td>\n",
       "      <td>GOOD</td>\n",
       "      <td>0.258086</td>\n",
       "      <td>0.485480</td>\n",
       "      <td>0.502368</td>\n",
       "      <td>0.063297</td>\n",
       "    </tr>\n",
       "    <tr>\n",
       "      <th>18</th>\n",
       "      <td>1.0</td>\n",
       "      <td>0.157158</td>\n",
       "      <td>0.157480</td>\n",
       "      <td>0.152683</td>\n",
       "      <td>0.012941</td>\n",
       "      <td>0.000626</td>\n",
       "      <td>0.00</td>\n",
       "      <td>0.444444</td>\n",
       "      <td>0.364469</td>\n",
       "      <td>0.368149</td>\n",
       "      <td>...</td>\n",
       "      <td>0.157895</td>\n",
       "      <td>0.230769</td>\n",
       "      <td>0.426735</td>\n",
       "      <td>0.109131</td>\n",
       "      <td>0.001867</td>\n",
       "      <td>GOOD</td>\n",
       "      <td>0.242588</td>\n",
       "      <td>0.485164</td>\n",
       "      <td>0.501973</td>\n",
       "      <td>0.064996</td>\n",
       "    </tr>\n",
       "    <tr>\n",
       "      <th>20</th>\n",
       "      <td>1.0</td>\n",
       "      <td>0.157517</td>\n",
       "      <td>0.149606</td>\n",
       "      <td>0.153001</td>\n",
       "      <td>0.014118</td>\n",
       "      <td>0.000656</td>\n",
       "      <td>0.00</td>\n",
       "      <td>0.462963</td>\n",
       "      <td>0.362637</td>\n",
       "      <td>0.357808</td>\n",
       "      <td>...</td>\n",
       "      <td>0.131579</td>\n",
       "      <td>0.230769</td>\n",
       "      <td>0.422879</td>\n",
       "      <td>0.072940</td>\n",
       "      <td>0.000000</td>\n",
       "      <td>GOOD</td>\n",
       "      <td>0.217655</td>\n",
       "      <td>0.482323</td>\n",
       "      <td>0.500789</td>\n",
       "      <td>0.064996</td>\n",
       "    </tr>\n",
       "    <tr>\n",
       "      <th>...</th>\n",
       "      <td>...</td>\n",
       "      <td>...</td>\n",
       "      <td>...</td>\n",
       "      <td>...</td>\n",
       "      <td>...</td>\n",
       "      <td>...</td>\n",
       "      <td>...</td>\n",
       "      <td>...</td>\n",
       "      <td>...</td>\n",
       "      <td>...</td>\n",
       "      <td>...</td>\n",
       "      <td>...</td>\n",
       "      <td>...</td>\n",
       "      <td>...</td>\n",
       "      <td>...</td>\n",
       "      <td>...</td>\n",
       "      <td>...</td>\n",
       "      <td>...</td>\n",
       "      <td>...</td>\n",
       "      <td>...</td>\n",
       "      <td>...</td>\n",
       "    </tr>\n",
       "    <tr>\n",
       "      <th>158944</th>\n",
       "      <td>0.0</td>\n",
       "      <td>0.098672</td>\n",
       "      <td>0.165354</td>\n",
       "      <td>0.154752</td>\n",
       "      <td>0.135294</td>\n",
       "      <td>0.000565</td>\n",
       "      <td>0.25</td>\n",
       "      <td>0.481481</td>\n",
       "      <td>0.360806</td>\n",
       "      <td>0.368149</td>\n",
       "      <td>...</td>\n",
       "      <td>0.263158</td>\n",
       "      <td>0.230769</td>\n",
       "      <td>0.618252</td>\n",
       "      <td>0.197105</td>\n",
       "      <td>0.002300</td>\n",
       "      <td>GOOD</td>\n",
       "      <td>0.247978</td>\n",
       "      <td>0.378472</td>\n",
       "      <td>0.405683</td>\n",
       "      <td>0.062872</td>\n",
       "    </tr>\n",
       "    <tr>\n",
       "      <th>158945</th>\n",
       "      <td>0.0</td>\n",
       "      <td>0.098314</td>\n",
       "      <td>0.157480</td>\n",
       "      <td>0.154752</td>\n",
       "      <td>0.128824</td>\n",
       "      <td>0.000565</td>\n",
       "      <td>0.25</td>\n",
       "      <td>0.481481</td>\n",
       "      <td>0.358974</td>\n",
       "      <td>0.368149</td>\n",
       "      <td>...</td>\n",
       "      <td>0.263158</td>\n",
       "      <td>0.230769</td>\n",
       "      <td>0.591260</td>\n",
       "      <td>0.182628</td>\n",
       "      <td>0.002967</td>\n",
       "      <td>GOOD</td>\n",
       "      <td>0.240566</td>\n",
       "      <td>0.372475</td>\n",
       "      <td>0.419495</td>\n",
       "      <td>0.064146</td>\n",
       "    </tr>\n",
       "    <tr>\n",
       "      <th>158946</th>\n",
       "      <td>0.0</td>\n",
       "      <td>0.103337</td>\n",
       "      <td>0.165354</td>\n",
       "      <td>0.154593</td>\n",
       "      <td>0.133529</td>\n",
       "      <td>0.000549</td>\n",
       "      <td>0.25</td>\n",
       "      <td>0.481481</td>\n",
       "      <td>0.360806</td>\n",
       "      <td>0.368149</td>\n",
       "      <td>...</td>\n",
       "      <td>0.263158</td>\n",
       "      <td>0.230769</td>\n",
       "      <td>0.605398</td>\n",
       "      <td>0.182071</td>\n",
       "      <td>0.003267</td>\n",
       "      <td>GOOD</td>\n",
       "      <td>0.237871</td>\n",
       "      <td>0.372790</td>\n",
       "      <td>0.405683</td>\n",
       "      <td>0.065421</td>\n",
       "    </tr>\n",
       "    <tr>\n",
       "      <th>158947</th>\n",
       "      <td>0.0</td>\n",
       "      <td>0.097237</td>\n",
       "      <td>0.165354</td>\n",
       "      <td>0.154752</td>\n",
       "      <td>0.135294</td>\n",
       "      <td>0.000565</td>\n",
       "      <td>0.25</td>\n",
       "      <td>0.481481</td>\n",
       "      <td>0.358974</td>\n",
       "      <td>0.368149</td>\n",
       "      <td>...</td>\n",
       "      <td>0.236842</td>\n",
       "      <td>0.230769</td>\n",
       "      <td>0.611825</td>\n",
       "      <td>0.190980</td>\n",
       "      <td>0.002650</td>\n",
       "      <td>GOOD</td>\n",
       "      <td>0.239218</td>\n",
       "      <td>0.374369</td>\n",
       "      <td>0.406077</td>\n",
       "      <td>0.062872</td>\n",
       "    </tr>\n",
       "    <tr>\n",
       "      <th>158948</th>\n",
       "      <td>0.0</td>\n",
       "      <td>0.096161</td>\n",
       "      <td>0.173228</td>\n",
       "      <td>0.154752</td>\n",
       "      <td>0.123529</td>\n",
       "      <td>0.000549</td>\n",
       "      <td>0.25</td>\n",
       "      <td>0.462963</td>\n",
       "      <td>0.360806</td>\n",
       "      <td>0.368149</td>\n",
       "      <td>...</td>\n",
       "      <td>0.236842</td>\n",
       "      <td>0.230769</td>\n",
       "      <td>0.629820</td>\n",
       "      <td>0.190980</td>\n",
       "      <td>0.004017</td>\n",
       "      <td>GOOD</td>\n",
       "      <td>0.236523</td>\n",
       "      <td>0.368371</td>\n",
       "      <td>0.417522</td>\n",
       "      <td>0.062872</td>\n",
       "    </tr>\n",
       "  </tbody>\n",
       "</table>\n",
       "<p>127547 rows × 50 columns</p>\n",
       "</div>"
      ],
      "text/plain": [
       "        Shift  Czas 1. fazy wtrysku [ms]  Czas 2. fazy wtrysku [ms]  \\\n",
       "12        1.0                   0.175099                   0.149606   \n",
       "16        1.0                   0.153570                   0.149606   \n",
       "17        1.0                   0.160029                   0.149606   \n",
       "18        1.0                   0.157158                   0.157480   \n",
       "20        1.0                   0.157517                   0.149606   \n",
       "...       ...                        ...                        ...   \n",
       "158944    0.0                   0.098672                   0.165354   \n",
       "158945    0.0                   0.098314                   0.157480   \n",
       "158946    0.0                   0.103337                   0.165354   \n",
       "158947    0.0                   0.097237                   0.165354   \n",
       "158948    0.0                   0.096161                   0.173228   \n",
       "\n",
       "        Czas cyklu [s]  Filtr prózni 2 [mBar]  \\\n",
       "12            0.212864               0.017059   \n",
       "16            0.153001               0.012353   \n",
       "17            0.153160               0.011765   \n",
       "18            0.152683               0.012941   \n",
       "20            0.153001               0.014118   \n",
       "...                ...                    ...   \n",
       "158944        0.154752               0.135294   \n",
       "158945        0.154752               0.128824   \n",
       "158946        0.154593               0.133529   \n",
       "158947        0.154752               0.135294   \n",
       "158948        0.154752               0.123529   \n",
       "\n",
       "        Grubosc pietki ukladu wlewowego [mm]  Kod formy   Koncentrat [%]  \\\n",
       "12                                  0.000671        0.00        0.462963   \n",
       "16                                  0.000610        0.00        0.370370   \n",
       "17                                  0.000610        0.00        0.425926   \n",
       "18                                  0.000626        0.00        0.444444   \n",
       "20                                  0.000656        0.00        0.462963   \n",
       "...                                      ...         ...             ...   \n",
       "158944                              0.000565        0.25        0.481481   \n",
       "158945                              0.000565        0.25        0.481481   \n",
       "158946                              0.000549        0.25        0.481481   \n",
       "158947                              0.000565        0.25        0.481481   \n",
       "158948                              0.000549        0.25        0.462963   \n",
       "\n",
       "        Max. cisnienie [Bar]  Max. predkosc wtrysku [m/s]  ...  \\\n",
       "12                  0.366300                     0.357808  ...   \n",
       "16                  0.366300                     0.367115  ...   \n",
       "17                  0.364469                     0.368149  ...   \n",
       "18                  0.364469                     0.368149  ...   \n",
       "20                  0.362637                     0.357808  ...   \n",
       "...                      ...                          ...  ...   \n",
       "158944              0.360806                     0.368149  ...   \n",
       "158945              0.358974                     0.368149  ...   \n",
       "158946              0.360806                     0.368149  ...   \n",
       "158947              0.358974                     0.368149  ...   \n",
       "158948              0.360806                     0.368149  ...   \n",
       "\n",
       "        Temperatura w obwodzie chlodzenia 6 [°C]  \\\n",
       "12                                      0.315789   \n",
       "16                                      0.157895   \n",
       "17                                      0.157895   \n",
       "18                                      0.157895   \n",
       "20                                      0.131579   \n",
       "...                                          ...   \n",
       "158944                                  0.263158   \n",
       "158945                                  0.263158   \n",
       "158946                                  0.263158   \n",
       "158947                                  0.236842   \n",
       "158948                                  0.236842   \n",
       "\n",
       "        Temperatura w obwodzie chlodzenia 7 [°C]  \\\n",
       "12                                      0.282051   \n",
       "16                                      0.230769   \n",
       "17                                      0.230769   \n",
       "18                                      0.230769   \n",
       "20                                      0.230769   \n",
       "...                                          ...   \n",
       "158944                                  0.230769   \n",
       "158945                                  0.230769   \n",
       "158946                                  0.230769   \n",
       "158947                                  0.230769   \n",
       "158948                                  0.230769   \n",
       "\n",
       "        Temperatura wody na wejsciu JetCool [°C]  Wartosc prózni 2 [mBar]  \\\n",
       "12                                      0.419023                 0.085746   \n",
       "16                                      0.428021                 0.083519   \n",
       "17                                      0.425450                 0.125835   \n",
       "18                                      0.426735                 0.109131   \n",
       "20                                      0.422879                 0.072940   \n",
       "...                                          ...                      ...   \n",
       "158944                                  0.618252                 0.197105   \n",
       "158945                                  0.591260                 0.182628   \n",
       "158946                                  0.605398                 0.182071   \n",
       "158947                                  0.611825                 0.190980   \n",
       "158948                                  0.629820                 0.190980   \n",
       "\n",
       "        Leakage_High  LeakageHighStatus  Wartosc próżni 1&3 corr  \\\n",
       "12          0.047934         REPARAIBLE                 0.225741   \n",
       "16          0.002850               GOOD                 0.224394   \n",
       "17          0.003417               GOOD                 0.258086   \n",
       "18          0.001867               GOOD                 0.242588   \n",
       "20          0.000000               GOOD                 0.217655   \n",
       "...              ...                ...                      ...   \n",
       "158944      0.002300               GOOD                 0.247978   \n",
       "158945      0.002967               GOOD                 0.240566   \n",
       "158946      0.003267               GOOD                 0.237871   \n",
       "158947      0.002650               GOOD                 0.239218   \n",
       "158948      0.004017               GOOD                 0.236523   \n",
       "\n",
       "        Filtr próżni 1&3 corr  Profil próżni 1&3 corr  \\\n",
       "12                   0.471907                0.515391   \n",
       "16                   0.481061                0.503946   \n",
       "17                   0.485480                0.502368   \n",
       "18                   0.485164                0.501973   \n",
       "20                   0.482323                0.500789   \n",
       "...                       ...                     ...   \n",
       "158944               0.378472                0.405683   \n",
       "158945               0.372475                0.419495   \n",
       "158946               0.372790                0.405683   \n",
       "158947               0.374369                0.406077   \n",
       "158948               0.368371                0.417522   \n",
       "\n",
       "        Termoregulator 3.1&3.2 corr  \n",
       "12                         0.064146  \n",
       "16                         0.063721  \n",
       "17                         0.063297  \n",
       "18                         0.064996  \n",
       "20                         0.064996  \n",
       "...                             ...  \n",
       "158944                     0.062872  \n",
       "158945                     0.064146  \n",
       "158946                     0.065421  \n",
       "158947                     0.062872  \n",
       "158948                     0.062872  \n",
       "\n",
       "[127547 rows x 50 columns]"
      ]
     },
     "execution_count": 14,
     "metadata": {},
     "output_type": "execute_result"
    }
   ],
   "source": [
    "clean_nemak_raw"
   ]
  },
  {
   "cell_type": "code",
   "execution_count": 15,
   "metadata": {},
   "outputs": [
    {
     "name": "stderr",
     "output_type": "stream",
     "text": [
      "C:\\Users\\patry\\anaconda3\\lib\\site-packages\\ipykernel_launcher.py:1: SettingWithCopyWarning: \n",
      "A value is trying to be set on a copy of a slice from a DataFrame.\n",
      "Try using .loc[row_indexer,col_indexer] = value instead\n",
      "\n",
      "See the caveats in the documentation: https://pandas.pydata.org/pandas-docs/stable/user_guide/indexing.html#returning-a-view-versus-a-copy\n",
      "  \"\"\"Entry point for launching an IPython kernel.\n"
     ]
    }
   ],
   "source": [
    "clean_nemak_raw['status_value'] = clean_nemak_raw['Leakage_High'].apply(lambda x: 1 if x <=0.125 else 0)\n",
    "\n",
    "\n",
    "                        "
   ]
  },
  {
   "cell_type": "markdown",
   "metadata": {},
   "source": [
    "# Dane wejścia i wyjścia"
   ]
  },
  {
   "cell_type": "code",
   "execution_count": 16,
   "metadata": {},
   "outputs": [],
   "source": [
    "import random\n",
    "\n",
    "class Status:\n",
    "    GOOD = \"GOOD\"\n",
    "    NO_GOOD = \"NO GOOD\"\n",
    "    \n",
    "    \n",
    "class Leakage:\n",
    "    def __init__(self,value ):\n",
    "        self.value = value\n",
    "        self.leakage_status = self.get_leakage_status()\n",
    "        \n",
    "    def get_leakage_status(self):\n",
    "        if self.value<=0.125:\n",
    "            return Status.GOOD\n",
    "        else:\n",
    "            return Status.NO_GOOD\n",
    "\n",
    "\n",
    "class LeakageContainer:\n",
    "    def __init__(self,inputs, outputs):\n",
    "        self.inputs = inputs\n",
    "        self.outputs = outputs\n",
    "        self.conected = self.connect()\n",
    "        \n",
    "        \n",
    "    def connect(self):\n",
    "        #return list(zip(self.inputs,self.outputs))\n",
    "        #return inputs+outputs\n",
    "        \n",
    "        con_list = []\n",
    "        for index in range (len(self.inputs)):\n",
    "            con_list.append(self.inputs[index] + [self.outputs[index]] )\n",
    "        return con_list\n",
    "        \n",
    "    def get_status(self):\n",
    "        return [x.leakage_status for x in self.outputs]\n",
    "    \n",
    "    #def temp(self,x):\n",
    "        #print(x)\n",
    "        #return x[-1].leakage_status== Status.NO_GOOD\n",
    "        \n",
    "    \n",
    "    def evenly_distribute(self):\n",
    "        \n",
    "        no_good = list(filter(lambda x: x[-1].leakage_status == Status.NO_GOOD ,self.conected))\n",
    "        good= list(filter(lambda x: x[-1].leakage_status == Status.GOOD,self.conected))\n",
    "        good_shrunk = good[:len(no_good)]\n",
    "        self.conected = no_good+good_shrunk\n",
    "        random.shuffle(self.conected)\n",
    "        \n",
    "        \n",
    "        \n",
    "        inputs=[]\n",
    "        \n",
    "        for x in self.conected:\n",
    "            inputs.append(x[0:-1])\n",
    "        \n",
    "        \n",
    "        outputs=[]\n",
    "        \n",
    "        for x in self.conected:\n",
    "            outputs.append(x[-1])\n",
    "        \n",
    "        \n",
    "        self.inputs = inputs\n",
    "        self.outputs = outputs\n",
    "        print(len(self.inputs))\n",
    "\n",
    "\n"
   ]
  },
  {
   "cell_type": "code",
   "execution_count": 17,
   "metadata": {},
   "outputs": [],
   "source": [
    "#p=LeakageContainer(inputs1,outputs1)\n",
    "#p.evenly_distribute()\n",
    "#print(len(p.conected))\n",
    "#print(len(p.inputs))\n",
    "#print(len(p.outputs))\n",
    "\n",
    "    \n"
   ]
  },
  {
   "cell_type": "code",
   "execution_count": 18,
   "metadata": {},
   "outputs": [],
   "source": [
    "nemak = clean_nemak_raw.drop(['Leakage_High','LeakageHighStatus','status_value'],axis=1).reset_index(drop=True)\n",
    "output = clean_nemak_raw['status_value'].reset_index(drop=True)"
   ]
  },
  {
   "cell_type": "code",
   "execution_count": 19,
   "metadata": {},
   "outputs": [
    {
     "data": {
      "text/html": [
       "<div>\n",
       "<style scoped>\n",
       "    .dataframe tbody tr th:only-of-type {\n",
       "        vertical-align: middle;\n",
       "    }\n",
       "\n",
       "    .dataframe tbody tr th {\n",
       "        vertical-align: top;\n",
       "    }\n",
       "\n",
       "    .dataframe thead th {\n",
       "        text-align: right;\n",
       "    }\n",
       "</style>\n",
       "<table border=\"1\" class=\"dataframe\">\n",
       "  <thead>\n",
       "    <tr style=\"text-align: right;\">\n",
       "      <th></th>\n",
       "      <th>Shift</th>\n",
       "      <th>Czas 1. fazy wtrysku [ms]</th>\n",
       "      <th>Czas 2. fazy wtrysku [ms]</th>\n",
       "      <th>Czas cyklu [s]</th>\n",
       "      <th>Filtr prózni 2 [mBar]</th>\n",
       "      <th>Grubosc pietki ukladu wlewowego [mm]</th>\n",
       "      <th>Kod formy</th>\n",
       "      <th>Koncentrat [%]</th>\n",
       "      <th>Max. cisnienie [Bar]</th>\n",
       "      <th>Max. predkosc wtrysku [m/s]</th>\n",
       "      <th>...</th>\n",
       "      <th>Temperatura w obwodzie chlodzenia 18 [°C]</th>\n",
       "      <th>Temperatura w obwodzie chlodzenia 20 [°C]</th>\n",
       "      <th>Temperatura w obwodzie chlodzenia 6 [°C]</th>\n",
       "      <th>Temperatura w obwodzie chlodzenia 7 [°C]</th>\n",
       "      <th>Temperatura wody na wejsciu JetCool [°C]</th>\n",
       "      <th>Wartosc prózni 2 [mBar]</th>\n",
       "      <th>Wartosc próżni 1&amp;3 corr</th>\n",
       "      <th>Filtr próżni 1&amp;3 corr</th>\n",
       "      <th>Profil próżni 1&amp;3 corr</th>\n",
       "      <th>Termoregulator 3.1&amp;3.2 corr</th>\n",
       "    </tr>\n",
       "  </thead>\n",
       "  <tbody>\n",
       "    <tr>\n",
       "      <th>0</th>\n",
       "      <td>1.0</td>\n",
       "      <td>0.175099</td>\n",
       "      <td>0.149606</td>\n",
       "      <td>0.212864</td>\n",
       "      <td>0.017059</td>\n",
       "      <td>0.000671</td>\n",
       "      <td>0.00</td>\n",
       "      <td>0.462963</td>\n",
       "      <td>0.366300</td>\n",
       "      <td>0.357808</td>\n",
       "      <td>...</td>\n",
       "      <td>0.280702</td>\n",
       "      <td>0.530612</td>\n",
       "      <td>0.315789</td>\n",
       "      <td>0.282051</td>\n",
       "      <td>0.419023</td>\n",
       "      <td>0.085746</td>\n",
       "      <td>0.225741</td>\n",
       "      <td>0.471907</td>\n",
       "      <td>0.515391</td>\n",
       "      <td>0.064146</td>\n",
       "    </tr>\n",
       "    <tr>\n",
       "      <th>1</th>\n",
       "      <td>1.0</td>\n",
       "      <td>0.153570</td>\n",
       "      <td>0.149606</td>\n",
       "      <td>0.153001</td>\n",
       "      <td>0.012353</td>\n",
       "      <td>0.000610</td>\n",
       "      <td>0.00</td>\n",
       "      <td>0.370370</td>\n",
       "      <td>0.366300</td>\n",
       "      <td>0.367115</td>\n",
       "      <td>...</td>\n",
       "      <td>0.263158</td>\n",
       "      <td>0.285714</td>\n",
       "      <td>0.157895</td>\n",
       "      <td>0.230769</td>\n",
       "      <td>0.428021</td>\n",
       "      <td>0.083519</td>\n",
       "      <td>0.224394</td>\n",
       "      <td>0.481061</td>\n",
       "      <td>0.503946</td>\n",
       "      <td>0.063721</td>\n",
       "    </tr>\n",
       "    <tr>\n",
       "      <th>2</th>\n",
       "      <td>1.0</td>\n",
       "      <td>0.160029</td>\n",
       "      <td>0.149606</td>\n",
       "      <td>0.153160</td>\n",
       "      <td>0.011765</td>\n",
       "      <td>0.000610</td>\n",
       "      <td>0.00</td>\n",
       "      <td>0.425926</td>\n",
       "      <td>0.364469</td>\n",
       "      <td>0.368149</td>\n",
       "      <td>...</td>\n",
       "      <td>0.263158</td>\n",
       "      <td>0.285714</td>\n",
       "      <td>0.157895</td>\n",
       "      <td>0.230769</td>\n",
       "      <td>0.425450</td>\n",
       "      <td>0.125835</td>\n",
       "      <td>0.258086</td>\n",
       "      <td>0.485480</td>\n",
       "      <td>0.502368</td>\n",
       "      <td>0.063297</td>\n",
       "    </tr>\n",
       "    <tr>\n",
       "      <th>3</th>\n",
       "      <td>1.0</td>\n",
       "      <td>0.157158</td>\n",
       "      <td>0.157480</td>\n",
       "      <td>0.152683</td>\n",
       "      <td>0.012941</td>\n",
       "      <td>0.000626</td>\n",
       "      <td>0.00</td>\n",
       "      <td>0.444444</td>\n",
       "      <td>0.364469</td>\n",
       "      <td>0.368149</td>\n",
       "      <td>...</td>\n",
       "      <td>0.263158</td>\n",
       "      <td>0.285714</td>\n",
       "      <td>0.157895</td>\n",
       "      <td>0.230769</td>\n",
       "      <td>0.426735</td>\n",
       "      <td>0.109131</td>\n",
       "      <td>0.242588</td>\n",
       "      <td>0.485164</td>\n",
       "      <td>0.501973</td>\n",
       "      <td>0.064996</td>\n",
       "    </tr>\n",
       "    <tr>\n",
       "      <th>4</th>\n",
       "      <td>1.0</td>\n",
       "      <td>0.157517</td>\n",
       "      <td>0.149606</td>\n",
       "      <td>0.153001</td>\n",
       "      <td>0.014118</td>\n",
       "      <td>0.000656</td>\n",
       "      <td>0.00</td>\n",
       "      <td>0.462963</td>\n",
       "      <td>0.362637</td>\n",
       "      <td>0.357808</td>\n",
       "      <td>...</td>\n",
       "      <td>0.263158</td>\n",
       "      <td>0.285714</td>\n",
       "      <td>0.131579</td>\n",
       "      <td>0.230769</td>\n",
       "      <td>0.422879</td>\n",
       "      <td>0.072940</td>\n",
       "      <td>0.217655</td>\n",
       "      <td>0.482323</td>\n",
       "      <td>0.500789</td>\n",
       "      <td>0.064996</td>\n",
       "    </tr>\n",
       "    <tr>\n",
       "      <th>...</th>\n",
       "      <td>...</td>\n",
       "      <td>...</td>\n",
       "      <td>...</td>\n",
       "      <td>...</td>\n",
       "      <td>...</td>\n",
       "      <td>...</td>\n",
       "      <td>...</td>\n",
       "      <td>...</td>\n",
       "      <td>...</td>\n",
       "      <td>...</td>\n",
       "      <td>...</td>\n",
       "      <td>...</td>\n",
       "      <td>...</td>\n",
       "      <td>...</td>\n",
       "      <td>...</td>\n",
       "      <td>...</td>\n",
       "      <td>...</td>\n",
       "      <td>...</td>\n",
       "      <td>...</td>\n",
       "      <td>...</td>\n",
       "      <td>...</td>\n",
       "    </tr>\n",
       "    <tr>\n",
       "      <th>127542</th>\n",
       "      <td>0.0</td>\n",
       "      <td>0.098672</td>\n",
       "      <td>0.165354</td>\n",
       "      <td>0.154752</td>\n",
       "      <td>0.135294</td>\n",
       "      <td>0.000565</td>\n",
       "      <td>0.25</td>\n",
       "      <td>0.481481</td>\n",
       "      <td>0.360806</td>\n",
       "      <td>0.368149</td>\n",
       "      <td>...</td>\n",
       "      <td>0.105263</td>\n",
       "      <td>0.204082</td>\n",
       "      <td>0.263158</td>\n",
       "      <td>0.230769</td>\n",
       "      <td>0.618252</td>\n",
       "      <td>0.197105</td>\n",
       "      <td>0.247978</td>\n",
       "      <td>0.378472</td>\n",
       "      <td>0.405683</td>\n",
       "      <td>0.062872</td>\n",
       "    </tr>\n",
       "    <tr>\n",
       "      <th>127543</th>\n",
       "      <td>0.0</td>\n",
       "      <td>0.098314</td>\n",
       "      <td>0.157480</td>\n",
       "      <td>0.154752</td>\n",
       "      <td>0.128824</td>\n",
       "      <td>0.000565</td>\n",
       "      <td>0.25</td>\n",
       "      <td>0.481481</td>\n",
       "      <td>0.358974</td>\n",
       "      <td>0.368149</td>\n",
       "      <td>...</td>\n",
       "      <td>0.105263</td>\n",
       "      <td>0.204082</td>\n",
       "      <td>0.263158</td>\n",
       "      <td>0.230769</td>\n",
       "      <td>0.591260</td>\n",
       "      <td>0.182628</td>\n",
       "      <td>0.240566</td>\n",
       "      <td>0.372475</td>\n",
       "      <td>0.419495</td>\n",
       "      <td>0.064146</td>\n",
       "    </tr>\n",
       "    <tr>\n",
       "      <th>127544</th>\n",
       "      <td>0.0</td>\n",
       "      <td>0.103337</td>\n",
       "      <td>0.165354</td>\n",
       "      <td>0.154593</td>\n",
       "      <td>0.133529</td>\n",
       "      <td>0.000549</td>\n",
       "      <td>0.25</td>\n",
       "      <td>0.481481</td>\n",
       "      <td>0.360806</td>\n",
       "      <td>0.368149</td>\n",
       "      <td>...</td>\n",
       "      <td>0.105263</td>\n",
       "      <td>0.204082</td>\n",
       "      <td>0.263158</td>\n",
       "      <td>0.230769</td>\n",
       "      <td>0.605398</td>\n",
       "      <td>0.182071</td>\n",
       "      <td>0.237871</td>\n",
       "      <td>0.372790</td>\n",
       "      <td>0.405683</td>\n",
       "      <td>0.065421</td>\n",
       "    </tr>\n",
       "    <tr>\n",
       "      <th>127545</th>\n",
       "      <td>0.0</td>\n",
       "      <td>0.097237</td>\n",
       "      <td>0.165354</td>\n",
       "      <td>0.154752</td>\n",
       "      <td>0.135294</td>\n",
       "      <td>0.000565</td>\n",
       "      <td>0.25</td>\n",
       "      <td>0.481481</td>\n",
       "      <td>0.358974</td>\n",
       "      <td>0.368149</td>\n",
       "      <td>...</td>\n",
       "      <td>0.105263</td>\n",
       "      <td>0.204082</td>\n",
       "      <td>0.236842</td>\n",
       "      <td>0.230769</td>\n",
       "      <td>0.611825</td>\n",
       "      <td>0.190980</td>\n",
       "      <td>0.239218</td>\n",
       "      <td>0.374369</td>\n",
       "      <td>0.406077</td>\n",
       "      <td>0.062872</td>\n",
       "    </tr>\n",
       "    <tr>\n",
       "      <th>127546</th>\n",
       "      <td>0.0</td>\n",
       "      <td>0.096161</td>\n",
       "      <td>0.173228</td>\n",
       "      <td>0.154752</td>\n",
       "      <td>0.123529</td>\n",
       "      <td>0.000549</td>\n",
       "      <td>0.25</td>\n",
       "      <td>0.462963</td>\n",
       "      <td>0.360806</td>\n",
       "      <td>0.368149</td>\n",
       "      <td>...</td>\n",
       "      <td>0.105263</td>\n",
       "      <td>0.204082</td>\n",
       "      <td>0.236842</td>\n",
       "      <td>0.230769</td>\n",
       "      <td>0.629820</td>\n",
       "      <td>0.190980</td>\n",
       "      <td>0.236523</td>\n",
       "      <td>0.368371</td>\n",
       "      <td>0.417522</td>\n",
       "      <td>0.062872</td>\n",
       "    </tr>\n",
       "  </tbody>\n",
       "</table>\n",
       "<p>127547 rows × 48 columns</p>\n",
       "</div>"
      ],
      "text/plain": [
       "        Shift  Czas 1. fazy wtrysku [ms]  Czas 2. fazy wtrysku [ms]  \\\n",
       "0         1.0                   0.175099                   0.149606   \n",
       "1         1.0                   0.153570                   0.149606   \n",
       "2         1.0                   0.160029                   0.149606   \n",
       "3         1.0                   0.157158                   0.157480   \n",
       "4         1.0                   0.157517                   0.149606   \n",
       "...       ...                        ...                        ...   \n",
       "127542    0.0                   0.098672                   0.165354   \n",
       "127543    0.0                   0.098314                   0.157480   \n",
       "127544    0.0                   0.103337                   0.165354   \n",
       "127545    0.0                   0.097237                   0.165354   \n",
       "127546    0.0                   0.096161                   0.173228   \n",
       "\n",
       "        Czas cyklu [s]  Filtr prózni 2 [mBar]  \\\n",
       "0             0.212864               0.017059   \n",
       "1             0.153001               0.012353   \n",
       "2             0.153160               0.011765   \n",
       "3             0.152683               0.012941   \n",
       "4             0.153001               0.014118   \n",
       "...                ...                    ...   \n",
       "127542        0.154752               0.135294   \n",
       "127543        0.154752               0.128824   \n",
       "127544        0.154593               0.133529   \n",
       "127545        0.154752               0.135294   \n",
       "127546        0.154752               0.123529   \n",
       "\n",
       "        Grubosc pietki ukladu wlewowego [mm]  Kod formy   Koncentrat [%]  \\\n",
       "0                                   0.000671        0.00        0.462963   \n",
       "1                                   0.000610        0.00        0.370370   \n",
       "2                                   0.000610        0.00        0.425926   \n",
       "3                                   0.000626        0.00        0.444444   \n",
       "4                                   0.000656        0.00        0.462963   \n",
       "...                                      ...         ...             ...   \n",
       "127542                              0.000565        0.25        0.481481   \n",
       "127543                              0.000565        0.25        0.481481   \n",
       "127544                              0.000549        0.25        0.481481   \n",
       "127545                              0.000565        0.25        0.481481   \n",
       "127546                              0.000549        0.25        0.462963   \n",
       "\n",
       "        Max. cisnienie [Bar]  Max. predkosc wtrysku [m/s]  ...  \\\n",
       "0                   0.366300                     0.357808  ...   \n",
       "1                   0.366300                     0.367115  ...   \n",
       "2                   0.364469                     0.368149  ...   \n",
       "3                   0.364469                     0.368149  ...   \n",
       "4                   0.362637                     0.357808  ...   \n",
       "...                      ...                          ...  ...   \n",
       "127542              0.360806                     0.368149  ...   \n",
       "127543              0.358974                     0.368149  ...   \n",
       "127544              0.360806                     0.368149  ...   \n",
       "127545              0.358974                     0.368149  ...   \n",
       "127546              0.360806                     0.368149  ...   \n",
       "\n",
       "        Temperatura w obwodzie chlodzenia 18 [°C]  \\\n",
       "0                                        0.280702   \n",
       "1                                        0.263158   \n",
       "2                                        0.263158   \n",
       "3                                        0.263158   \n",
       "4                                        0.263158   \n",
       "...                                           ...   \n",
       "127542                                   0.105263   \n",
       "127543                                   0.105263   \n",
       "127544                                   0.105263   \n",
       "127545                                   0.105263   \n",
       "127546                                   0.105263   \n",
       "\n",
       "        Temperatura w obwodzie chlodzenia 20 [°C]  \\\n",
       "0                                        0.530612   \n",
       "1                                        0.285714   \n",
       "2                                        0.285714   \n",
       "3                                        0.285714   \n",
       "4                                        0.285714   \n",
       "...                                           ...   \n",
       "127542                                   0.204082   \n",
       "127543                                   0.204082   \n",
       "127544                                   0.204082   \n",
       "127545                                   0.204082   \n",
       "127546                                   0.204082   \n",
       "\n",
       "        Temperatura w obwodzie chlodzenia 6 [°C]  \\\n",
       "0                                       0.315789   \n",
       "1                                       0.157895   \n",
       "2                                       0.157895   \n",
       "3                                       0.157895   \n",
       "4                                       0.131579   \n",
       "...                                          ...   \n",
       "127542                                  0.263158   \n",
       "127543                                  0.263158   \n",
       "127544                                  0.263158   \n",
       "127545                                  0.236842   \n",
       "127546                                  0.236842   \n",
       "\n",
       "        Temperatura w obwodzie chlodzenia 7 [°C]  \\\n",
       "0                                       0.282051   \n",
       "1                                       0.230769   \n",
       "2                                       0.230769   \n",
       "3                                       0.230769   \n",
       "4                                       0.230769   \n",
       "...                                          ...   \n",
       "127542                                  0.230769   \n",
       "127543                                  0.230769   \n",
       "127544                                  0.230769   \n",
       "127545                                  0.230769   \n",
       "127546                                  0.230769   \n",
       "\n",
       "        Temperatura wody na wejsciu JetCool [°C]  Wartosc prózni 2 [mBar]  \\\n",
       "0                                       0.419023                 0.085746   \n",
       "1                                       0.428021                 0.083519   \n",
       "2                                       0.425450                 0.125835   \n",
       "3                                       0.426735                 0.109131   \n",
       "4                                       0.422879                 0.072940   \n",
       "...                                          ...                      ...   \n",
       "127542                                  0.618252                 0.197105   \n",
       "127543                                  0.591260                 0.182628   \n",
       "127544                                  0.605398                 0.182071   \n",
       "127545                                  0.611825                 0.190980   \n",
       "127546                                  0.629820                 0.190980   \n",
       "\n",
       "        Wartosc próżni 1&3 corr  Filtr próżni 1&3 corr  \\\n",
       "0                      0.225741               0.471907   \n",
       "1                      0.224394               0.481061   \n",
       "2                      0.258086               0.485480   \n",
       "3                      0.242588               0.485164   \n",
       "4                      0.217655               0.482323   \n",
       "...                         ...                    ...   \n",
       "127542                 0.247978               0.378472   \n",
       "127543                 0.240566               0.372475   \n",
       "127544                 0.237871               0.372790   \n",
       "127545                 0.239218               0.374369   \n",
       "127546                 0.236523               0.368371   \n",
       "\n",
       "        Profil próżni 1&3 corr  Termoregulator 3.1&3.2 corr  \n",
       "0                     0.515391                     0.064146  \n",
       "1                     0.503946                     0.063721  \n",
       "2                     0.502368                     0.063297  \n",
       "3                     0.501973                     0.064996  \n",
       "4                     0.500789                     0.064996  \n",
       "...                        ...                          ...  \n",
       "127542                0.405683                     0.062872  \n",
       "127543                0.419495                     0.064146  \n",
       "127544                0.405683                     0.065421  \n",
       "127545                0.406077                     0.062872  \n",
       "127546                0.417522                     0.062872  \n",
       "\n",
       "[127547 rows x 48 columns]"
      ]
     },
     "execution_count": 19,
     "metadata": {},
     "output_type": "execute_result"
    }
   ],
   "source": [
    "nemak"
   ]
  },
  {
   "cell_type": "code",
   "execution_count": 20,
   "metadata": {},
   "outputs": [
    {
     "data": {
      "text/plain": [
       "0         1\n",
       "1         1\n",
       "2         1\n",
       "3         1\n",
       "4         1\n",
       "         ..\n",
       "127542    1\n",
       "127543    1\n",
       "127544    1\n",
       "127545    1\n",
       "127546    1\n",
       "Name: status_value, Length: 127547, dtype: int64"
      ]
     },
     "execution_count": 20,
     "metadata": {},
     "output_type": "execute_result"
    }
   ],
   "source": [
    "output"
   ]
  },
  {
   "cell_type": "code",
   "execution_count": null,
   "metadata": {},
   "outputs": [],
   "source": []
  },
  {
   "cell_type": "markdown",
   "metadata": {},
   "source": [
    "# Trenowanie modelu"
   ]
  },
  {
   "cell_type": "code",
   "execution_count": 27,
   "metadata": {},
   "outputs": [],
   "source": [
    "#dzielenie modelu\n",
    "from sklearn.model_selection import train_test_split\n",
    "\n",
    "\n",
    "X_train, X_test, y_train, y_test = train_test_split(nemak, output, test_size=0.33,random_state=42) #random_state=42\n",
    "\n",
    "\n"
   ]
  },
  {
   "cell_type": "markdown",
   "metadata": {},
   "source": [
    "# stadnaryzacja"
   ]
  },
  {
   "cell_type": "code",
   "execution_count": 28,
   "metadata": {},
   "outputs": [],
   "source": [
    "#trenowanie modeli\n",
    "from sklearn.preprocessing import StandardScaler\n",
    "\n",
    "scaler = StandardScaler()\n",
    "X_train = scaler.fit_transform(X_train)\n",
    "X_test = scaler.transform(X_test)"
   ]
  },
  {
   "cell_type": "code",
   "execution_count": 29,
   "metadata": {},
   "outputs": [
    {
     "name": "stdout",
     "output_type": "stream",
     "text": [
      "85456\n",
      "85456\n"
     ]
    }
   ],
   "source": [
    "print(len(X_train))\n",
    "print(len(y_train))"
   ]
  },
  {
   "cell_type": "code",
   "execution_count": 30,
   "metadata": {},
   "outputs": [
    {
     "name": "stdout",
     "output_type": "stream",
     "text": [
      "42091\n",
      "42091\n"
     ]
    }
   ],
   "source": [
    "print(len(X_test)) #input\n",
    "print(len(y_test))#output\n"
   ]
  },
  {
   "cell_type": "code",
   "execution_count": 31,
   "metadata": {},
   "outputs": [
    {
     "name": "stderr",
     "output_type": "stream",
     "text": [
      "C:\\Users\\patry\\anaconda3\\lib\\site-packages\\sklearn\\neural_network\\_multilayer_perceptron.py:617: ConvergenceWarning: Stochastic Optimizer: Maximum iterations (200) reached and the optimization hasn't converged yet.\n",
      "  % self.max_iter, ConvergenceWarning)\n"
     ]
    },
    {
     "data": {
      "text/plain": [
       "VotingClassifier(estimators=[('lr', LogisticRegression()),\n",
       "                             ('rf', RandomForestClassifier()),\n",
       "                             ('gnb', GaussianNB()),\n",
       "                             ('knn', KNeighborsClassifier()),\n",
       "                             ('nt', MLPClassifier())])"
      ]
     },
     "execution_count": 31,
     "metadata": {},
     "output_type": "execute_result"
    }
   ],
   "source": [
    "from sklearn.ensemble import RandomForestClassifier\n",
    "from sklearn.ensemble import VotingClassifier\n",
    "from sklearn.linear_model import LogisticRegression\n",
    "from sklearn.naive_bayes import GaussianNB\n",
    "from sklearn.neighbors import KNeighborsClassifier\n",
    "from sklearn.neural_network import MLPClassifier\n",
    "\n",
    "clf_log2= LogisticRegression()\n",
    "clf_rnd= RandomForestClassifier()\n",
    "clf_gnb2 = GaussianNB()\n",
    "clf_knn2 = KNeighborsClassifier()\n",
    "clf_nt2 = MLPClassifier()\n",
    "\n",
    "voting_clf=VotingClassifier(\n",
    "    estimators=[('lr',clf_log2),('rf',clf_rnd),('gnb',clf_gnb2),('knn',clf_knn2),('nt',clf_nt2)],\n",
    "    voting='hard')\n",
    "voting_clf.fit(X_train,y_train)"
   ]
  },
  {
   "cell_type": "code",
   "execution_count": 32,
   "metadata": {},
   "outputs": [
    {
     "name": "stdout",
     "output_type": "stream",
     "text": [
      "LogisticRegression 0.9937041172697251\n",
      "RandomForestClassifier 0.9935853270295313\n",
      "GaussianNB 0.9211945546553895\n",
      "KNeighborsClassifier 0.993395262645221\n"
     ]
    },
    {
     "name": "stderr",
     "output_type": "stream",
     "text": [
      "C:\\Users\\patry\\anaconda3\\lib\\site-packages\\sklearn\\neural_network\\_multilayer_perceptron.py:617: ConvergenceWarning: Stochastic Optimizer: Maximum iterations (200) reached and the optimization hasn't converged yet.\n",
      "  % self.max_iter, ConvergenceWarning)\n"
     ]
    },
    {
     "name": "stdout",
     "output_type": "stream",
     "text": [
      "MLPClassifier 0.9923499085315151\n",
      "VotingClassifier 0.9935853270295313\n"
     ]
    }
   ],
   "source": [
    "from sklearn.metrics import accuracy_score\n",
    "for clf in (clf_log2,clf_rnd,clf_gnb2,clf_knn2,clf_nt2,voting_clf):\n",
    "    clf.fit(X_train,y_train)\n",
    "    y_pred = clf.predict(X_test)\n",
    "    print(clf.__class__.__name__,accuracy_score(y_test,y_pred))"
   ]
  },
  {
   "cell_type": "code",
   "execution_count": 33,
   "metadata": {},
   "outputs": [
    {
     "data": {
      "text/plain": [
       "array([0.99678165, 0.0625    ])"
      ]
     },
     "execution_count": 33,
     "metadata": {},
     "output_type": "execute_result"
    }
   ],
   "source": [
    "from sklearn.metrics import f1_score\n",
    "f1_score(y_test,voting_clf.predict(X_test), average=None,labels=[1,0])"
   ]
  },
  {
   "cell_type": "markdown",
   "metadata": {},
   "source": [
    "# Zwiększanie dokładności"
   ]
  },
  {
   "cell_type": "markdown",
   "metadata": {},
   "source": [
    "# zapisywanie"
   ]
  },
  {
   "cell_type": "code",
   "execution_count": 34,
   "metadata": {},
   "outputs": [],
   "source": [
    "import pickle\n",
    "\n",
    "with open(\"voting1.pkl\",'wb') as f:\n",
    "    pickle.dump(voting_clf,f)"
   ]
  },
  {
   "cell_type": "code",
   "execution_count": 35,
   "metadata": {},
   "outputs": [],
   "source": [
    "#ładowanie modelu\n",
    "with open(\"voting1.pkl\",'rb') as f:\n",
    "    loaded_clf = pickle.load(f)"
   ]
  },
  {
   "cell_type": "code",
   "execution_count": null,
   "metadata": {},
   "outputs": [],
   "source": []
  },
  {
   "cell_type": "markdown",
   "metadata": {},
   "source": [
    "# CONFUSION MATRIX"
   ]
  },
  {
   "cell_type": "code",
   "execution_count": 36,
   "metadata": {},
   "outputs": [
    {
     "data": {
      "text/plain": [
       "<matplotlib.axes._subplots.AxesSubplot at 0x198fe67d688>"
      ]
     },
     "execution_count": 36,
     "metadata": {},
     "output_type": "execute_result"
    },
    {
     "data": {
      "image/png": "[encoded data removed]",
      "text/plain": [
       "<Figure size 432x288 with 2 Axes>"
      ]
     },
     "metadata": {
      "needs_background": "light"
     },
     "output_type": "display_data"
    }
   ],
   "source": [
    "from sklearn.metrics import confusion_matrix\n",
    "import seaborn as sn\n",
    "import pandas as pd\n",
    "import matplotlib as plt\n",
    "\n",
    "\n",
    "y_pred = loaded_clf.predict(X_test)\n",
    "\n",
    "labels =[0,1]\n",
    "labels2 =[0,1]\n",
    "cm=confusion_matrix (y_test,y_pred, labels=labels)\n",
    "df_cm = pd.DataFrame(cm,index=labels, columns=labels)\n",
    "\n",
    "sn.heatmap(df_cm,annot=True,fmt='d')"
   ]
  },
  {
   "cell_type": "markdown",
   "metadata": {},
   "source": [
    "# CROSS VALIDATION"
   ]
  },
  {
   "cell_type": "code",
   "execution_count": 37,
   "metadata": {
    "scrolled": true
   },
   "outputs": [
    {
     "name": "stderr",
     "output_type": "stream",
     "text": [
      "C:\\Users\\patry\\anaconda3\\lib\\site-packages\\sklearn\\neural_network\\_multilayer_perceptron.py:617: ConvergenceWarning: Stochastic Optimizer: Maximum iterations (200) reached and the optimization hasn't converged yet.\n",
      "  % self.max_iter, ConvergenceWarning)\n",
      "C:\\Users\\patry\\anaconda3\\lib\\site-packages\\sklearn\\neural_network\\_multilayer_perceptron.py:617: ConvergenceWarning: Stochastic Optimizer: Maximum iterations (200) reached and the optimization hasn't converged yet.\n",
      "  % self.max_iter, ConvergenceWarning)\n",
      "C:\\Users\\patry\\anaconda3\\lib\\site-packages\\sklearn\\linear_model\\_logistic.py:765: ConvergenceWarning: lbfgs failed to converge (status=1):\n",
      "STOP: TOTAL NO. of ITERATIONS REACHED LIMIT.\n",
      "\n",
      "Increase the number of iterations (max_iter) or scale the data as shown in:\n",
      "    https://scikit-learn.org/stable/modules/preprocessing.html\n",
      "Please also refer to the documentation for alternative solver options:\n",
      "    https://scikit-learn.org/stable/modules/linear_model.html#logistic-regression\n",
      "  extra_warning_msg=_LOGISTIC_SOLVER_CONVERGENCE_MSG)\n",
      "C:\\Users\\patry\\anaconda3\\lib\\site-packages\\sklearn\\neural_network\\_multilayer_perceptron.py:617: ConvergenceWarning: Stochastic Optimizer: Maximum iterations (200) reached and the optimization hasn't converged yet.\n",
      "  % self.max_iter, ConvergenceWarning)\n",
      "C:\\Users\\patry\\anaconda3\\lib\\site-packages\\sklearn\\neural_network\\_multilayer_perceptron.py:617: ConvergenceWarning: Stochastic Optimizer: Maximum iterations (200) reached and the optimization hasn't converged yet.\n",
      "  % self.max_iter, ConvergenceWarning)\n",
      "C:\\Users\\patry\\anaconda3\\lib\\site-packages\\sklearn\\linear_model\\_logistic.py:765: ConvergenceWarning: lbfgs failed to converge (status=1):\n",
      "STOP: TOTAL NO. of ITERATIONS REACHED LIMIT.\n",
      "\n",
      "Increase the number of iterations (max_iter) or scale the data as shown in:\n",
      "    https://scikit-learn.org/stable/modules/preprocessing.html\n",
      "Please also refer to the documentation for alternative solver options:\n",
      "    https://scikit-learn.org/stable/modules/linear_model.html#logistic-regression\n",
      "  extra_warning_msg=_LOGISTIC_SOLVER_CONVERGENCE_MSG)\n",
      "C:\\Users\\patry\\anaconda3\\lib\\site-packages\\sklearn\\neural_network\\_multilayer_perceptron.py:617: ConvergenceWarning: Stochastic Optimizer: Maximum iterations (200) reached and the optimization hasn't converged yet.\n",
      "  % self.max_iter, ConvergenceWarning)\n",
      "C:\\Users\\patry\\anaconda3\\lib\\site-packages\\sklearn\\neural_network\\_multilayer_perceptron.py:619: UserWarning: Training interrupted by user.\n",
      "  warnings.warn(\"Training interrupted by user.\")\n"
     ]
    },
    {
     "ename": "KeyboardInterrupt",
     "evalue": "",
     "output_type": "error",
     "traceback": [
      "\u001b[1;31m---------------------------------------------------------------------------\u001b[0m",
      "\u001b[1;31mKeyboardInterrupt\u001b[0m                         Traceback (most recent call last)",
      "\u001b[1;32m<ipython-input-37-15feae85edf5>\u001b[0m in \u001b[0;36m<module>\u001b[1;34m\u001b[0m\n\u001b[0;32m      1\u001b[0m \u001b[1;32mfrom\u001b[0m \u001b[0msklearn\u001b[0m\u001b[1;33m.\u001b[0m\u001b[0mmodel_selection\u001b[0m \u001b[1;32mimport\u001b[0m \u001b[0mcross_val_score\u001b[0m\u001b[1;33m\u001b[0m\u001b[1;33m\u001b[0m\u001b[0m\n\u001b[0;32m      2\u001b[0m \u001b[1;33m\u001b[0m\u001b[0m\n\u001b[1;32m----> 3\u001b[1;33m \u001b[0mcross_val_score\u001b[0m\u001b[1;33m(\u001b[0m\u001b[0mloaded_clf\u001b[0m\u001b[1;33m,\u001b[0m\u001b[0mX_train\u001b[0m\u001b[1;33m,\u001b[0m\u001b[0my_train\u001b[0m\u001b[1;33m,\u001b[0m\u001b[0mcv\u001b[0m\u001b[1;33m=\u001b[0m\u001b[1;36m7\u001b[0m\u001b[1;33m,\u001b[0m\u001b[0mscoring\u001b[0m\u001b[1;33m=\u001b[0m\u001b[1;34m'accuracy'\u001b[0m\u001b[1;33m)\u001b[0m\u001b[1;33m\u001b[0m\u001b[1;33m\u001b[0m\u001b[0m\n\u001b[0m",
      "\u001b[1;32m~\\anaconda3\\lib\\site-packages\\sklearn\\utils\\validation.py\u001b[0m in \u001b[0;36minner_f\u001b[1;34m(*args, **kwargs)\u001b[0m\n\u001b[0;32m     61\u001b[0m             \u001b[0mextra_args\u001b[0m \u001b[1;33m=\u001b[0m \u001b[0mlen\u001b[0m\u001b[1;33m(\u001b[0m\u001b[0margs\u001b[0m\u001b[1;33m)\u001b[0m \u001b[1;33m-\u001b[0m \u001b[0mlen\u001b[0m\u001b[1;33m(\u001b[0m\u001b[0mall_args\u001b[0m\u001b[1;33m)\u001b[0m\u001b[1;33m\u001b[0m\u001b[1;33m\u001b[0m\u001b[0m\n\u001b[0;32m     62\u001b[0m             \u001b[1;32mif\u001b[0m \u001b[0mextra_args\u001b[0m \u001b[1;33m<=\u001b[0m \u001b[1;36m0\u001b[0m\u001b[1;33m:\u001b[0m\u001b[1;33m\u001b[0m\u001b[1;33m\u001b[0m\u001b[0m\n\u001b[1;32m---> 63\u001b[1;33m                 \u001b[1;32mreturn\u001b[0m \u001b[0mf\u001b[0m\u001b[1;33m(\u001b[0m\u001b[1;33m*\u001b[0m\u001b[0margs\u001b[0m\u001b[1;33m,\u001b[0m \u001b[1;33m**\u001b[0m\u001b[0mkwargs\u001b[0m\u001b[1;33m)\u001b[0m\u001b[1;33m\u001b[0m\u001b[1;33m\u001b[0m\u001b[0m\n\u001b[0m\u001b[0;32m     64\u001b[0m \u001b[1;33m\u001b[0m\u001b[0m\n\u001b[0;32m     65\u001b[0m             \u001b[1;31m# extra_args > 0\u001b[0m\u001b[1;33m\u001b[0m\u001b[1;33m\u001b[0m\u001b[1;33m\u001b[0m\u001b[0m\n",
      "\u001b[1;32m~\\anaconda3\\lib\\site-packages\\sklearn\\model_selection\\_validation.py\u001b[0m in \u001b[0;36mcross_val_score\u001b[1;34m(estimator, X, y, groups, scoring, cv, n_jobs, verbose, fit_params, pre_dispatch, error_score)\u001b[0m\n\u001b[0;32m    448\u001b[0m                                 \u001b[0mfit_params\u001b[0m\u001b[1;33m=\u001b[0m\u001b[0mfit_params\u001b[0m\u001b[1;33m,\u001b[0m\u001b[1;33m\u001b[0m\u001b[1;33m\u001b[0m\u001b[0m\n\u001b[0;32m    449\u001b[0m                                 \u001b[0mpre_dispatch\u001b[0m\u001b[1;33m=\u001b[0m\u001b[0mpre_dispatch\u001b[0m\u001b[1;33m,\u001b[0m\u001b[1;33m\u001b[0m\u001b[1;33m\u001b[0m\u001b[0m\n\u001b[1;32m--> 450\u001b[1;33m                                 error_score=error_score)\n\u001b[0m\u001b[0;32m    451\u001b[0m     \u001b[1;32mreturn\u001b[0m \u001b[0mcv_results\u001b[0m\u001b[1;33m[\u001b[0m\u001b[1;34m'test_score'\u001b[0m\u001b[1;33m]\u001b[0m\u001b[1;33m\u001b[0m\u001b[1;33m\u001b[0m\u001b[0m\n\u001b[0;32m    452\u001b[0m \u001b[1;33m\u001b[0m\u001b[0m\n",
      "\u001b[1;32m~\\anaconda3\\lib\\site-packages\\sklearn\\utils\\validation.py\u001b[0m in \u001b[0;36minner_f\u001b[1;34m(*args, **kwargs)\u001b[0m\n\u001b[0;32m     61\u001b[0m             \u001b[0mextra_args\u001b[0m \u001b[1;33m=\u001b[0m \u001b[0mlen\u001b[0m\u001b[1;33m(\u001b[0m\u001b[0margs\u001b[0m\u001b[1;33m)\u001b[0m \u001b[1;33m-\u001b[0m \u001b[0mlen\u001b[0m\u001b[1;33m(\u001b[0m\u001b[0mall_args\u001b[0m\u001b[1;33m)\u001b[0m\u001b[1;33m\u001b[0m\u001b[1;33m\u001b[0m\u001b[0m\n\u001b[0;32m     62\u001b[0m             \u001b[1;32mif\u001b[0m \u001b[0mextra_args\u001b[0m \u001b[1;33m<=\u001b[0m \u001b[1;36m0\u001b[0m\u001b[1;33m:\u001b[0m\u001b[1;33m\u001b[0m\u001b[1;33m\u001b[0m\u001b[0m\n\u001b[1;32m---> 63\u001b[1;33m                 \u001b[1;32mreturn\u001b[0m \u001b[0mf\u001b[0m\u001b[1;33m(\u001b[0m\u001b[1;33m*\u001b[0m\u001b[0margs\u001b[0m\u001b[1;33m,\u001b[0m \u001b[1;33m**\u001b[0m\u001b[0mkwargs\u001b[0m\u001b[1;33m)\u001b[0m\u001b[1;33m\u001b[0m\u001b[1;33m\u001b[0m\u001b[0m\n\u001b[0m\u001b[0;32m     64\u001b[0m \u001b[1;33m\u001b[0m\u001b[0m\n\u001b[0;32m     65\u001b[0m             \u001b[1;31m# extra_args > 0\u001b[0m\u001b[1;33m\u001b[0m\u001b[1;33m\u001b[0m\u001b[1;33m\u001b[0m\u001b[0m\n",
      "\u001b[1;32m~\\anaconda3\\lib\\site-packages\\sklearn\\model_selection\\_validation.py\u001b[0m in \u001b[0;36mcross_validate\u001b[1;34m(estimator, X, y, groups, scoring, cv, n_jobs, verbose, fit_params, pre_dispatch, return_train_score, return_estimator, error_score)\u001b[0m\n\u001b[0;32m    254\u001b[0m             \u001b[0mreturn_times\u001b[0m\u001b[1;33m=\u001b[0m\u001b[1;32mTrue\u001b[0m\u001b[1;33m,\u001b[0m \u001b[0mreturn_estimator\u001b[0m\u001b[1;33m=\u001b[0m\u001b[0mreturn_estimator\u001b[0m\u001b[1;33m,\u001b[0m\u001b[1;33m\u001b[0m\u001b[1;33m\u001b[0m\u001b[0m\n\u001b[0;32m    255\u001b[0m             error_score=error_score)\n\u001b[1;32m--> 256\u001b[1;33m         for train, test in cv.split(X, y, groups))\n\u001b[0m\u001b[0;32m    257\u001b[0m \u001b[1;33m\u001b[0m\u001b[0m\n\u001b[0;32m    258\u001b[0m     \u001b[1;31m# For callabe scoring, the return type is only know after calling. If the\u001b[0m\u001b[1;33m\u001b[0m\u001b[1;33m\u001b[0m\u001b[1;33m\u001b[0m\u001b[0m\n",
      "\u001b[1;32m~\\anaconda3\\lib\\site-packages\\joblib\\parallel.py\u001b[0m in \u001b[0;36m__call__\u001b[1;34m(self, iterable)\u001b[0m\n\u001b[0;32m   1005\u001b[0m                 \u001b[0mself\u001b[0m\u001b[1;33m.\u001b[0m\u001b[0m_iterating\u001b[0m \u001b[1;33m=\u001b[0m \u001b[0mself\u001b[0m\u001b[1;33m.\u001b[0m\u001b[0m_original_iterator\u001b[0m \u001b[1;32mis\u001b[0m \u001b[1;32mnot\u001b[0m \u001b[1;32mNone\u001b[0m\u001b[1;33m\u001b[0m\u001b[1;33m\u001b[0m\u001b[0m\n\u001b[0;32m   1006\u001b[0m \u001b[1;33m\u001b[0m\u001b[0m\n\u001b[1;32m-> 1007\u001b[1;33m             \u001b[1;32mwhile\u001b[0m \u001b[0mself\u001b[0m\u001b[1;33m.\u001b[0m\u001b[0mdispatch_one_batch\u001b[0m\u001b[1;33m(\u001b[0m\u001b[0miterator\u001b[0m\u001b[1;33m)\u001b[0m\u001b[1;33m:\u001b[0m\u001b[1;33m\u001b[0m\u001b[1;33m\u001b[0m\u001b[0m\n\u001b[0m\u001b[0;32m   1008\u001b[0m                 \u001b[1;32mpass\u001b[0m\u001b[1;33m\u001b[0m\u001b[1;33m\u001b[0m\u001b[0m\n\u001b[0;32m   1009\u001b[0m \u001b[1;33m\u001b[0m\u001b[0m\n",
      "\u001b[1;32m~\\anaconda3\\lib\\site-packages\\joblib\\parallel.py\u001b[0m in \u001b[0;36mdispatch_one_batch\u001b[1;34m(self, iterator)\u001b[0m\n\u001b[0;32m    833\u001b[0m                 \u001b[1;32mreturn\u001b[0m \u001b[1;32mFalse\u001b[0m\u001b[1;33m\u001b[0m\u001b[1;33m\u001b[0m\u001b[0m\n\u001b[0;32m    834\u001b[0m             \u001b[1;32melse\u001b[0m\u001b[1;33m:\u001b[0m\u001b[1;33m\u001b[0m\u001b[1;33m\u001b[0m\u001b[0m\n\u001b[1;32m--> 835\u001b[1;33m                 \u001b[0mself\u001b[0m\u001b[1;33m.\u001b[0m\u001b[0m_dispatch\u001b[0m\u001b[1;33m(\u001b[0m\u001b[0mtasks\u001b[0m\u001b[1;33m)\u001b[0m\u001b[1;33m\u001b[0m\u001b[1;33m\u001b[0m\u001b[0m\n\u001b[0m\u001b[0;32m    836\u001b[0m                 \u001b[1;32mreturn\u001b[0m \u001b[1;32mTrue\u001b[0m\u001b[1;33m\u001b[0m\u001b[1;33m\u001b[0m\u001b[0m\n\u001b[0;32m    837\u001b[0m \u001b[1;33m\u001b[0m\u001b[0m\n",
      "\u001b[1;32m~\\anaconda3\\lib\\site-packages\\joblib\\parallel.py\u001b[0m in \u001b[0;36m_dispatch\u001b[1;34m(self, batch)\u001b[0m\n\u001b[0;32m    752\u001b[0m         \u001b[1;32mwith\u001b[0m \u001b[0mself\u001b[0m\u001b[1;33m.\u001b[0m\u001b[0m_lock\u001b[0m\u001b[1;33m:\u001b[0m\u001b[1;33m\u001b[0m\u001b[1;33m\u001b[0m\u001b[0m\n\u001b[0;32m    753\u001b[0m             \u001b[0mjob_idx\u001b[0m \u001b[1;33m=\u001b[0m \u001b[0mlen\u001b[0m\u001b[1;33m(\u001b[0m\u001b[0mself\u001b[0m\u001b[1;33m.\u001b[0m\u001b[0m_jobs\u001b[0m\u001b[1;33m)\u001b[0m\u001b[1;33m\u001b[0m\u001b[1;33m\u001b[0m\u001b[0m\n\u001b[1;32m--> 754\u001b[1;33m             \u001b[0mjob\u001b[0m \u001b[1;33m=\u001b[0m \u001b[0mself\u001b[0m\u001b[1;33m.\u001b[0m\u001b[0m_backend\u001b[0m\u001b[1;33m.\u001b[0m\u001b[0mapply_async\u001b[0m\u001b[1;33m(\u001b[0m\u001b[0mbatch\u001b[0m\u001b[1;33m,\u001b[0m \u001b[0mcallback\u001b[0m\u001b[1;33m=\u001b[0m\u001b[0mcb\u001b[0m\u001b[1;33m)\u001b[0m\u001b[1;33m\u001b[0m\u001b[1;33m\u001b[0m\u001b[0m\n\u001b[0m\u001b[0;32m    755\u001b[0m             \u001b[1;31m# A job can complete so quickly than its callback is\u001b[0m\u001b[1;33m\u001b[0m\u001b[1;33m\u001b[0m\u001b[1;33m\u001b[0m\u001b[0m\n\u001b[0;32m    756\u001b[0m             \u001b[1;31m# called before we get here, causing self._jobs to\u001b[0m\u001b[1;33m\u001b[0m\u001b[1;33m\u001b[0m\u001b[1;33m\u001b[0m\u001b[0m\n",
      "\u001b[1;32m~\\anaconda3\\lib\\site-packages\\joblib\\_parallel_backends.py\u001b[0m in \u001b[0;36mapply_async\u001b[1;34m(self, func, callback)\u001b[0m\n\u001b[0;32m    207\u001b[0m     \u001b[1;32mdef\u001b[0m \u001b[0mapply_async\u001b[0m\u001b[1;33m(\u001b[0m\u001b[0mself\u001b[0m\u001b[1;33m,\u001b[0m \u001b[0mfunc\u001b[0m\u001b[1;33m,\u001b[0m \u001b[0mcallback\u001b[0m\u001b[1;33m=\u001b[0m\u001b[1;32mNone\u001b[0m\u001b[1;33m)\u001b[0m\u001b[1;33m:\u001b[0m\u001b[1;33m\u001b[0m\u001b[1;33m\u001b[0m\u001b[0m\n\u001b[0;32m    208\u001b[0m         \u001b[1;34m\"\"\"Schedule a func to be run\"\"\"\u001b[0m\u001b[1;33m\u001b[0m\u001b[1;33m\u001b[0m\u001b[0m\n\u001b[1;32m--> 209\u001b[1;33m         \u001b[0mresult\u001b[0m \u001b[1;33m=\u001b[0m \u001b[0mImmediateResult\u001b[0m\u001b[1;33m(\u001b[0m\u001b[0mfunc\u001b[0m\u001b[1;33m)\u001b[0m\u001b[1;33m\u001b[0m\u001b[1;33m\u001b[0m\u001b[0m\n\u001b[0m\u001b[0;32m    210\u001b[0m         \u001b[1;32mif\u001b[0m \u001b[0mcallback\u001b[0m\u001b[1;33m:\u001b[0m\u001b[1;33m\u001b[0m\u001b[1;33m\u001b[0m\u001b[0m\n\u001b[0;32m    211\u001b[0m             \u001b[0mcallback\u001b[0m\u001b[1;33m(\u001b[0m\u001b[0mresult\u001b[0m\u001b[1;33m)\u001b[0m\u001b[1;33m\u001b[0m\u001b[1;33m\u001b[0m\u001b[0m\n",
      "\u001b[1;32m~\\anaconda3\\lib\\site-packages\\joblib\\_parallel_backends.py\u001b[0m in \u001b[0;36m__init__\u001b[1;34m(self, batch)\u001b[0m\n\u001b[0;32m    588\u001b[0m         \u001b[1;31m# Don't delay the application, to avoid keeping the input\u001b[0m\u001b[1;33m\u001b[0m\u001b[1;33m\u001b[0m\u001b[1;33m\u001b[0m\u001b[0m\n\u001b[0;32m    589\u001b[0m         \u001b[1;31m# arguments in memory\u001b[0m\u001b[1;33m\u001b[0m\u001b[1;33m\u001b[0m\u001b[1;33m\u001b[0m\u001b[0m\n\u001b[1;32m--> 590\u001b[1;33m         \u001b[0mself\u001b[0m\u001b[1;33m.\u001b[0m\u001b[0mresults\u001b[0m \u001b[1;33m=\u001b[0m \u001b[0mbatch\u001b[0m\u001b[1;33m(\u001b[0m\u001b[1;33m)\u001b[0m\u001b[1;33m\u001b[0m\u001b[1;33m\u001b[0m\u001b[0m\n\u001b[0m\u001b[0;32m    591\u001b[0m \u001b[1;33m\u001b[0m\u001b[0m\n\u001b[0;32m    592\u001b[0m     \u001b[1;32mdef\u001b[0m \u001b[0mget\u001b[0m\u001b[1;33m(\u001b[0m\u001b[0mself\u001b[0m\u001b[1;33m)\u001b[0m\u001b[1;33m:\u001b[0m\u001b[1;33m\u001b[0m\u001b[1;33m\u001b[0m\u001b[0m\n",
      "\u001b[1;32m~\\anaconda3\\lib\\site-packages\\joblib\\parallel.py\u001b[0m in \u001b[0;36m__call__\u001b[1;34m(self)\u001b[0m\n\u001b[0;32m    254\u001b[0m         \u001b[1;32mwith\u001b[0m \u001b[0mparallel_backend\u001b[0m\u001b[1;33m(\u001b[0m\u001b[0mself\u001b[0m\u001b[1;33m.\u001b[0m\u001b[0m_backend\u001b[0m\u001b[1;33m,\u001b[0m \u001b[0mn_jobs\u001b[0m\u001b[1;33m=\u001b[0m\u001b[0mself\u001b[0m\u001b[1;33m.\u001b[0m\u001b[0m_n_jobs\u001b[0m\u001b[1;33m)\u001b[0m\u001b[1;33m:\u001b[0m\u001b[1;33m\u001b[0m\u001b[1;33m\u001b[0m\u001b[0m\n\u001b[0;32m    255\u001b[0m             return [func(*args, **kwargs)\n\u001b[1;32m--> 256\u001b[1;33m                     for func, args, kwargs in self.items]\n\u001b[0m\u001b[0;32m    257\u001b[0m \u001b[1;33m\u001b[0m\u001b[0m\n\u001b[0;32m    258\u001b[0m     \u001b[1;32mdef\u001b[0m \u001b[0m__len__\u001b[0m\u001b[1;33m(\u001b[0m\u001b[0mself\u001b[0m\u001b[1;33m)\u001b[0m\u001b[1;33m:\u001b[0m\u001b[1;33m\u001b[0m\u001b[1;33m\u001b[0m\u001b[0m\n",
      "\u001b[1;32m~\\anaconda3\\lib\\site-packages\\joblib\\parallel.py\u001b[0m in \u001b[0;36m<listcomp>\u001b[1;34m(.0)\u001b[0m\n\u001b[0;32m    254\u001b[0m         \u001b[1;32mwith\u001b[0m \u001b[0mparallel_backend\u001b[0m\u001b[1;33m(\u001b[0m\u001b[0mself\u001b[0m\u001b[1;33m.\u001b[0m\u001b[0m_backend\u001b[0m\u001b[1;33m,\u001b[0m \u001b[0mn_jobs\u001b[0m\u001b[1;33m=\u001b[0m\u001b[0mself\u001b[0m\u001b[1;33m.\u001b[0m\u001b[0m_n_jobs\u001b[0m\u001b[1;33m)\u001b[0m\u001b[1;33m:\u001b[0m\u001b[1;33m\u001b[0m\u001b[1;33m\u001b[0m\u001b[0m\n\u001b[0;32m    255\u001b[0m             return [func(*args, **kwargs)\n\u001b[1;32m--> 256\u001b[1;33m                     for func, args, kwargs in self.items]\n\u001b[0m\u001b[0;32m    257\u001b[0m \u001b[1;33m\u001b[0m\u001b[0m\n\u001b[0;32m    258\u001b[0m     \u001b[1;32mdef\u001b[0m \u001b[0m__len__\u001b[0m\u001b[1;33m(\u001b[0m\u001b[0mself\u001b[0m\u001b[1;33m)\u001b[0m\u001b[1;33m:\u001b[0m\u001b[1;33m\u001b[0m\u001b[1;33m\u001b[0m\u001b[0m\n",
      "\u001b[1;32m~\\anaconda3\\lib\\site-packages\\sklearn\\utils\\fixes.py\u001b[0m in \u001b[0;36m__call__\u001b[1;34m(self, *args, **kwargs)\u001b[0m\n\u001b[0;32m    220\u001b[0m     \u001b[1;32mdef\u001b[0m \u001b[0m__call__\u001b[0m\u001b[1;33m(\u001b[0m\u001b[0mself\u001b[0m\u001b[1;33m,\u001b[0m \u001b[1;33m*\u001b[0m\u001b[0margs\u001b[0m\u001b[1;33m,\u001b[0m \u001b[1;33m**\u001b[0m\u001b[0mkwargs\u001b[0m\u001b[1;33m)\u001b[0m\u001b[1;33m:\u001b[0m\u001b[1;33m\u001b[0m\u001b[1;33m\u001b[0m\u001b[0m\n\u001b[0;32m    221\u001b[0m         \u001b[1;32mwith\u001b[0m \u001b[0mconfig_context\u001b[0m\u001b[1;33m(\u001b[0m\u001b[1;33m**\u001b[0m\u001b[0mself\u001b[0m\u001b[1;33m.\u001b[0m\u001b[0mconfig\u001b[0m\u001b[1;33m)\u001b[0m\u001b[1;33m:\u001b[0m\u001b[1;33m\u001b[0m\u001b[1;33m\u001b[0m\u001b[0m\n\u001b[1;32m--> 222\u001b[1;33m             \u001b[1;32mreturn\u001b[0m \u001b[0mself\u001b[0m\u001b[1;33m.\u001b[0m\u001b[0mfunction\u001b[0m\u001b[1;33m(\u001b[0m\u001b[1;33m*\u001b[0m\u001b[0margs\u001b[0m\u001b[1;33m,\u001b[0m \u001b[1;33m**\u001b[0m\u001b[0mkwargs\u001b[0m\u001b[1;33m)\u001b[0m\u001b[1;33m\u001b[0m\u001b[1;33m\u001b[0m\u001b[0m\n\u001b[0m",
      "\u001b[1;32m~\\anaconda3\\lib\\site-packages\\sklearn\\model_selection\\_validation.py\u001b[0m in \u001b[0;36m_fit_and_score\u001b[1;34m(estimator, X, y, scorer, train, test, verbose, parameters, fit_params, return_train_score, return_parameters, return_n_test_samples, return_times, return_estimator, split_progress, candidate_progress, error_score)\u001b[0m\n\u001b[0;32m    623\u001b[0m \u001b[1;33m\u001b[0m\u001b[0m\n\u001b[0;32m    624\u001b[0m         \u001b[0mfit_time\u001b[0m \u001b[1;33m=\u001b[0m \u001b[0mtime\u001b[0m\u001b[1;33m.\u001b[0m\u001b[0mtime\u001b[0m\u001b[1;33m(\u001b[0m\u001b[1;33m)\u001b[0m \u001b[1;33m-\u001b[0m \u001b[0mstart_time\u001b[0m\u001b[1;33m\u001b[0m\u001b[1;33m\u001b[0m\u001b[0m\n\u001b[1;32m--> 625\u001b[1;33m         \u001b[0mtest_scores\u001b[0m \u001b[1;33m=\u001b[0m \u001b[0m_score\u001b[0m\u001b[1;33m(\u001b[0m\u001b[0mestimator\u001b[0m\u001b[1;33m,\u001b[0m \u001b[0mX_test\u001b[0m\u001b[1;33m,\u001b[0m \u001b[0my_test\u001b[0m\u001b[1;33m,\u001b[0m \u001b[0mscorer\u001b[0m\u001b[1;33m,\u001b[0m \u001b[0merror_score\u001b[0m\u001b[1;33m)\u001b[0m\u001b[1;33m\u001b[0m\u001b[1;33m\u001b[0m\u001b[0m\n\u001b[0m\u001b[0;32m    626\u001b[0m         \u001b[0mscore_time\u001b[0m \u001b[1;33m=\u001b[0m \u001b[0mtime\u001b[0m\u001b[1;33m.\u001b[0m\u001b[0mtime\u001b[0m\u001b[1;33m(\u001b[0m\u001b[1;33m)\u001b[0m \u001b[1;33m-\u001b[0m \u001b[0mstart_time\u001b[0m \u001b[1;33m-\u001b[0m \u001b[0mfit_time\u001b[0m\u001b[1;33m\u001b[0m\u001b[1;33m\u001b[0m\u001b[0m\n\u001b[0;32m    627\u001b[0m         \u001b[1;32mif\u001b[0m \u001b[0mreturn_train_score\u001b[0m\u001b[1;33m:\u001b[0m\u001b[1;33m\u001b[0m\u001b[1;33m\u001b[0m\u001b[0m\n",
      "\u001b[1;32m~\\anaconda3\\lib\\site-packages\\sklearn\\model_selection\\_validation.py\u001b[0m in \u001b[0;36m_score\u001b[1;34m(estimator, X_test, y_test, scorer, error_score)\u001b[0m\n\u001b[0;32m    685\u001b[0m             \u001b[0mscores\u001b[0m \u001b[1;33m=\u001b[0m \u001b[0mscorer\u001b[0m\u001b[1;33m(\u001b[0m\u001b[0mestimator\u001b[0m\u001b[1;33m,\u001b[0m \u001b[0mX_test\u001b[0m\u001b[1;33m)\u001b[0m\u001b[1;33m\u001b[0m\u001b[1;33m\u001b[0m\u001b[0m\n\u001b[0;32m    686\u001b[0m         \u001b[1;32melse\u001b[0m\u001b[1;33m:\u001b[0m\u001b[1;33m\u001b[0m\u001b[1;33m\u001b[0m\u001b[0m\n\u001b[1;32m--> 687\u001b[1;33m             \u001b[0mscores\u001b[0m \u001b[1;33m=\u001b[0m \u001b[0mscorer\u001b[0m\u001b[1;33m(\u001b[0m\u001b[0mestimator\u001b[0m\u001b[1;33m,\u001b[0m \u001b[0mX_test\u001b[0m\u001b[1;33m,\u001b[0m \u001b[0my_test\u001b[0m\u001b[1;33m)\u001b[0m\u001b[1;33m\u001b[0m\u001b[1;33m\u001b[0m\u001b[0m\n\u001b[0m\u001b[0;32m    688\u001b[0m     \u001b[1;32mexcept\u001b[0m \u001b[0mException\u001b[0m\u001b[1;33m:\u001b[0m\u001b[1;33m\u001b[0m\u001b[1;33m\u001b[0m\u001b[0m\n\u001b[0;32m    689\u001b[0m         \u001b[1;32mif\u001b[0m \u001b[0merror_score\u001b[0m \u001b[1;33m==\u001b[0m \u001b[1;34m'raise'\u001b[0m\u001b[1;33m:\u001b[0m\u001b[1;33m\u001b[0m\u001b[1;33m\u001b[0m\u001b[0m\n",
      "\u001b[1;32m~\\anaconda3\\lib\\site-packages\\sklearn\\metrics\\_scorer.py\u001b[0m in \u001b[0;36m__call__\u001b[1;34m(self, estimator, *args, **kwargs)\u001b[0m\n\u001b[0;32m     86\u001b[0m             \u001b[1;32mif\u001b[0m \u001b[0misinstance\u001b[0m\u001b[1;33m(\u001b[0m\u001b[0mscorer\u001b[0m\u001b[1;33m,\u001b[0m \u001b[0m_BaseScorer\u001b[0m\u001b[1;33m)\u001b[0m\u001b[1;33m:\u001b[0m\u001b[1;33m\u001b[0m\u001b[1;33m\u001b[0m\u001b[0m\n\u001b[0;32m     87\u001b[0m                 score = scorer._score(cached_call, estimator,\n\u001b[1;32m---> 88\u001b[1;33m                                       *args, **kwargs)\n\u001b[0m\u001b[0;32m     89\u001b[0m             \u001b[1;32melse\u001b[0m\u001b[1;33m:\u001b[0m\u001b[1;33m\u001b[0m\u001b[1;33m\u001b[0m\u001b[0m\n\u001b[0;32m     90\u001b[0m                 \u001b[0mscore\u001b[0m \u001b[1;33m=\u001b[0m \u001b[0mscorer\u001b[0m\u001b[1;33m(\u001b[0m\u001b[0mestimator\u001b[0m\u001b[1;33m,\u001b[0m \u001b[1;33m*\u001b[0m\u001b[0margs\u001b[0m\u001b[1;33m,\u001b[0m \u001b[1;33m**\u001b[0m\u001b[0mkwargs\u001b[0m\u001b[1;33m)\u001b[0m\u001b[1;33m\u001b[0m\u001b[1;33m\u001b[0m\u001b[0m\n",
      "\u001b[1;32m~\\anaconda3\\lib\\site-packages\\sklearn\\metrics\\_scorer.py\u001b[0m in \u001b[0;36m_score\u001b[1;34m(self, method_caller, estimator, X, y_true, sample_weight)\u001b[0m\n\u001b[0;32m    234\u001b[0m         \"\"\"\n\u001b[0;32m    235\u001b[0m \u001b[1;33m\u001b[0m\u001b[0m\n\u001b[1;32m--> 236\u001b[1;33m         \u001b[0my_pred\u001b[0m \u001b[1;33m=\u001b[0m \u001b[0mmethod_caller\u001b[0m\u001b[1;33m(\u001b[0m\u001b[0mestimator\u001b[0m\u001b[1;33m,\u001b[0m \u001b[1;34m\"predict\"\u001b[0m\u001b[1;33m,\u001b[0m \u001b[0mX\u001b[0m\u001b[1;33m)\u001b[0m\u001b[1;33m\u001b[0m\u001b[1;33m\u001b[0m\u001b[0m\n\u001b[0m\u001b[0;32m    237\u001b[0m         \u001b[1;32mif\u001b[0m \u001b[0msample_weight\u001b[0m \u001b[1;32mis\u001b[0m \u001b[1;32mnot\u001b[0m \u001b[1;32mNone\u001b[0m\u001b[1;33m:\u001b[0m\u001b[1;33m\u001b[0m\u001b[1;33m\u001b[0m\u001b[0m\n\u001b[0;32m    238\u001b[0m             return self._sign * self._score_func(y_true, y_pred,\n",
      "\u001b[1;32m~\\anaconda3\\lib\\site-packages\\sklearn\\metrics\\_scorer.py\u001b[0m in \u001b[0;36m_cached_call\u001b[1;34m(cache, estimator, method, *args, **kwargs)\u001b[0m\n\u001b[0;32m     51\u001b[0m     \u001b[1;34m\"\"\"Call estimator with method and args and kwargs.\"\"\"\u001b[0m\u001b[1;33m\u001b[0m\u001b[1;33m\u001b[0m\u001b[0m\n\u001b[0;32m     52\u001b[0m     \u001b[1;32mif\u001b[0m \u001b[0mcache\u001b[0m \u001b[1;32mis\u001b[0m \u001b[1;32mNone\u001b[0m\u001b[1;33m:\u001b[0m\u001b[1;33m\u001b[0m\u001b[1;33m\u001b[0m\u001b[0m\n\u001b[1;32m---> 53\u001b[1;33m         \u001b[1;32mreturn\u001b[0m \u001b[0mgetattr\u001b[0m\u001b[1;33m(\u001b[0m\u001b[0mestimator\u001b[0m\u001b[1;33m,\u001b[0m \u001b[0mmethod\u001b[0m\u001b[1;33m)\u001b[0m\u001b[1;33m(\u001b[0m\u001b[1;33m*\u001b[0m\u001b[0margs\u001b[0m\u001b[1;33m,\u001b[0m \u001b[1;33m**\u001b[0m\u001b[0mkwargs\u001b[0m\u001b[1;33m)\u001b[0m\u001b[1;33m\u001b[0m\u001b[1;33m\u001b[0m\u001b[0m\n\u001b[0m\u001b[0;32m     54\u001b[0m \u001b[1;33m\u001b[0m\u001b[0m\n\u001b[0;32m     55\u001b[0m     \u001b[1;32mtry\u001b[0m\u001b[1;33m:\u001b[0m\u001b[1;33m\u001b[0m\u001b[1;33m\u001b[0m\u001b[0m\n",
      "\u001b[1;32m~\\anaconda3\\lib\\site-packages\\sklearn\\ensemble\\_voting.py\u001b[0m in \u001b[0;36mpredict\u001b[1;34m(self, X)\u001b[0m\n\u001b[0;32m    310\u001b[0m \u001b[1;33m\u001b[0m\u001b[0m\n\u001b[0;32m    311\u001b[0m         \u001b[1;32melse\u001b[0m\u001b[1;33m:\u001b[0m  \u001b[1;31m# 'hard' voting\u001b[0m\u001b[1;33m\u001b[0m\u001b[1;33m\u001b[0m\u001b[0m\n\u001b[1;32m--> 312\u001b[1;33m             \u001b[0mpredictions\u001b[0m \u001b[1;33m=\u001b[0m \u001b[0mself\u001b[0m\u001b[1;33m.\u001b[0m\u001b[0m_predict\u001b[0m\u001b[1;33m(\u001b[0m\u001b[0mX\u001b[0m\u001b[1;33m)\u001b[0m\u001b[1;33m\u001b[0m\u001b[1;33m\u001b[0m\u001b[0m\n\u001b[0m\u001b[0;32m    313\u001b[0m             maj = np.apply_along_axis(\n\u001b[0;32m    314\u001b[0m                 lambda x: np.argmax(\n",
      "\u001b[1;32m~\\anaconda3\\lib\\site-packages\\sklearn\\ensemble\\_voting.py\u001b[0m in \u001b[0;36m_predict\u001b[1;34m(self, X)\u001b[0m\n\u001b[0;32m     59\u001b[0m     \u001b[1;32mdef\u001b[0m \u001b[0m_predict\u001b[0m\u001b[1;33m(\u001b[0m\u001b[0mself\u001b[0m\u001b[1;33m,\u001b[0m \u001b[0mX\u001b[0m\u001b[1;33m)\u001b[0m\u001b[1;33m:\u001b[0m\u001b[1;33m\u001b[0m\u001b[1;33m\u001b[0m\u001b[0m\n\u001b[0;32m     60\u001b[0m         \u001b[1;34m\"\"\"Collect results from clf.predict calls.\"\"\"\u001b[0m\u001b[1;33m\u001b[0m\u001b[1;33m\u001b[0m\u001b[0m\n\u001b[1;32m---> 61\u001b[1;33m         \u001b[1;32mreturn\u001b[0m \u001b[0mnp\u001b[0m\u001b[1;33m.\u001b[0m\u001b[0masarray\u001b[0m\u001b[1;33m(\u001b[0m\u001b[1;33m[\u001b[0m\u001b[0mest\u001b[0m\u001b[1;33m.\u001b[0m\u001b[0mpredict\u001b[0m\u001b[1;33m(\u001b[0m\u001b[0mX\u001b[0m\u001b[1;33m)\u001b[0m \u001b[1;32mfor\u001b[0m \u001b[0mest\u001b[0m \u001b[1;32min\u001b[0m \u001b[0mself\u001b[0m\u001b[1;33m.\u001b[0m\u001b[0mestimators_\u001b[0m\u001b[1;33m]\u001b[0m\u001b[1;33m)\u001b[0m\u001b[1;33m.\u001b[0m\u001b[0mT\u001b[0m\u001b[1;33m\u001b[0m\u001b[1;33m\u001b[0m\u001b[0m\n\u001b[0m\u001b[0;32m     62\u001b[0m \u001b[1;33m\u001b[0m\u001b[0m\n\u001b[0;32m     63\u001b[0m     \u001b[1;33m@\u001b[0m\u001b[0mabstractmethod\u001b[0m\u001b[1;33m\u001b[0m\u001b[1;33m\u001b[0m\u001b[0m\n",
      "\u001b[1;32m~\\anaconda3\\lib\\site-packages\\sklearn\\ensemble\\_voting.py\u001b[0m in \u001b[0;36m<listcomp>\u001b[1;34m(.0)\u001b[0m\n\u001b[0;32m     59\u001b[0m     \u001b[1;32mdef\u001b[0m \u001b[0m_predict\u001b[0m\u001b[1;33m(\u001b[0m\u001b[0mself\u001b[0m\u001b[1;33m,\u001b[0m \u001b[0mX\u001b[0m\u001b[1;33m)\u001b[0m\u001b[1;33m:\u001b[0m\u001b[1;33m\u001b[0m\u001b[1;33m\u001b[0m\u001b[0m\n\u001b[0;32m     60\u001b[0m         \u001b[1;34m\"\"\"Collect results from clf.predict calls.\"\"\"\u001b[0m\u001b[1;33m\u001b[0m\u001b[1;33m\u001b[0m\u001b[0m\n\u001b[1;32m---> 61\u001b[1;33m         \u001b[1;32mreturn\u001b[0m \u001b[0mnp\u001b[0m\u001b[1;33m.\u001b[0m\u001b[0masarray\u001b[0m\u001b[1;33m(\u001b[0m\u001b[1;33m[\u001b[0m\u001b[0mest\u001b[0m\u001b[1;33m.\u001b[0m\u001b[0mpredict\u001b[0m\u001b[1;33m(\u001b[0m\u001b[0mX\u001b[0m\u001b[1;33m)\u001b[0m \u001b[1;32mfor\u001b[0m \u001b[0mest\u001b[0m \u001b[1;32min\u001b[0m \u001b[0mself\u001b[0m\u001b[1;33m.\u001b[0m\u001b[0mestimators_\u001b[0m\u001b[1;33m]\u001b[0m\u001b[1;33m)\u001b[0m\u001b[1;33m.\u001b[0m\u001b[0mT\u001b[0m\u001b[1;33m\u001b[0m\u001b[1;33m\u001b[0m\u001b[0m\n\u001b[0m\u001b[0;32m     62\u001b[0m \u001b[1;33m\u001b[0m\u001b[0m\n\u001b[0;32m     63\u001b[0m     \u001b[1;33m@\u001b[0m\u001b[0mabstractmethod\u001b[0m\u001b[1;33m\u001b[0m\u001b[1;33m\u001b[0m\u001b[0m\n",
      "\u001b[1;32m~\\anaconda3\\lib\\site-packages\\sklearn\\neighbors\\_classification.py\u001b[0m in \u001b[0;36mpredict\u001b[1;34m(self, X)\u001b[0m\n\u001b[0;32m    195\u001b[0m         \u001b[0mX\u001b[0m \u001b[1;33m=\u001b[0m \u001b[0mcheck_array\u001b[0m\u001b[1;33m(\u001b[0m\u001b[0mX\u001b[0m\u001b[1;33m,\u001b[0m \u001b[0maccept_sparse\u001b[0m\u001b[1;33m=\u001b[0m\u001b[1;34m'csr'\u001b[0m\u001b[1;33m)\u001b[0m\u001b[1;33m\u001b[0m\u001b[1;33m\u001b[0m\u001b[0m\n\u001b[0;32m    196\u001b[0m \u001b[1;33m\u001b[0m\u001b[0m\n\u001b[1;32m--> 197\u001b[1;33m         \u001b[0mneigh_dist\u001b[0m\u001b[1;33m,\u001b[0m \u001b[0mneigh_ind\u001b[0m \u001b[1;33m=\u001b[0m \u001b[0mself\u001b[0m\u001b[1;33m.\u001b[0m\u001b[0mkneighbors\u001b[0m\u001b[1;33m(\u001b[0m\u001b[0mX\u001b[0m\u001b[1;33m)\u001b[0m\u001b[1;33m\u001b[0m\u001b[1;33m\u001b[0m\u001b[0m\n\u001b[0m\u001b[0;32m    198\u001b[0m         \u001b[0mclasses_\u001b[0m \u001b[1;33m=\u001b[0m \u001b[0mself\u001b[0m\u001b[1;33m.\u001b[0m\u001b[0mclasses_\u001b[0m\u001b[1;33m\u001b[0m\u001b[1;33m\u001b[0m\u001b[0m\n\u001b[0;32m    199\u001b[0m         \u001b[0m_y\u001b[0m \u001b[1;33m=\u001b[0m \u001b[0mself\u001b[0m\u001b[1;33m.\u001b[0m\u001b[0m_y\u001b[0m\u001b[1;33m\u001b[0m\u001b[1;33m\u001b[0m\u001b[0m\n",
      "\u001b[1;32m~\\anaconda3\\lib\\site-packages\\sklearn\\neighbors\\_base.py\u001b[0m in \u001b[0;36mkneighbors\u001b[1;34m(self, X, n_neighbors, return_distance)\u001b[0m\n\u001b[0;32m    706\u001b[0m                 \u001b[0mX\u001b[0m\u001b[1;33m,\u001b[0m \u001b[0mself\u001b[0m\u001b[1;33m.\u001b[0m\u001b[0m_fit_X\u001b[0m\u001b[1;33m,\u001b[0m \u001b[0mreduce_func\u001b[0m\u001b[1;33m=\u001b[0m\u001b[0mreduce_func\u001b[0m\u001b[1;33m,\u001b[0m\u001b[1;33m\u001b[0m\u001b[1;33m\u001b[0m\u001b[0m\n\u001b[0;32m    707\u001b[0m                 \u001b[0mmetric\u001b[0m\u001b[1;33m=\u001b[0m\u001b[0mself\u001b[0m\u001b[1;33m.\u001b[0m\u001b[0meffective_metric_\u001b[0m\u001b[1;33m,\u001b[0m \u001b[0mn_jobs\u001b[0m\u001b[1;33m=\u001b[0m\u001b[0mn_jobs\u001b[0m\u001b[1;33m,\u001b[0m\u001b[1;33m\u001b[0m\u001b[1;33m\u001b[0m\u001b[0m\n\u001b[1;32m--> 708\u001b[1;33m                 **kwds))\n\u001b[0m\u001b[0;32m    709\u001b[0m \u001b[1;33m\u001b[0m\u001b[0m\n\u001b[0;32m    710\u001b[0m         \u001b[1;32melif\u001b[0m \u001b[0mself\u001b[0m\u001b[1;33m.\u001b[0m\u001b[0m_fit_method\u001b[0m \u001b[1;32min\u001b[0m \u001b[1;33m[\u001b[0m\u001b[1;34m'ball_tree'\u001b[0m\u001b[1;33m,\u001b[0m \u001b[1;34m'kd_tree'\u001b[0m\u001b[1;33m]\u001b[0m\u001b[1;33m:\u001b[0m\u001b[1;33m\u001b[0m\u001b[1;33m\u001b[0m\u001b[0m\n",
      "\u001b[1;32m~\\anaconda3\\lib\\site-packages\\sklearn\\metrics\\pairwise.py\u001b[0m in \u001b[0;36mpairwise_distances_chunked\u001b[1;34m(X, Y, reduce_func, metric, n_jobs, working_memory, **kwds)\u001b[0m\n\u001b[0;32m   1631\u001b[0m         \u001b[1;32mif\u001b[0m \u001b[0mreduce_func\u001b[0m \u001b[1;32mis\u001b[0m \u001b[1;32mnot\u001b[0m \u001b[1;32mNone\u001b[0m\u001b[1;33m:\u001b[0m\u001b[1;33m\u001b[0m\u001b[1;33m\u001b[0m\u001b[0m\n\u001b[0;32m   1632\u001b[0m             \u001b[0mchunk_size\u001b[0m \u001b[1;33m=\u001b[0m \u001b[0mD_chunk\u001b[0m\u001b[1;33m.\u001b[0m\u001b[0mshape\u001b[0m\u001b[1;33m[\u001b[0m\u001b[1;36m0\u001b[0m\u001b[1;33m]\u001b[0m\u001b[1;33m\u001b[0m\u001b[1;33m\u001b[0m\u001b[0m\n\u001b[1;32m-> 1633\u001b[1;33m             \u001b[0mD_chunk\u001b[0m \u001b[1;33m=\u001b[0m \u001b[0mreduce_func\u001b[0m\u001b[1;33m(\u001b[0m\u001b[0mD_chunk\u001b[0m\u001b[1;33m,\u001b[0m \u001b[0msl\u001b[0m\u001b[1;33m.\u001b[0m\u001b[0mstart\u001b[0m\u001b[1;33m)\u001b[0m\u001b[1;33m\u001b[0m\u001b[1;33m\u001b[0m\u001b[0m\n\u001b[0m\u001b[0;32m   1634\u001b[0m             \u001b[0m_check_chunk_size\u001b[0m\u001b[1;33m(\u001b[0m\u001b[0mD_chunk\u001b[0m\u001b[1;33m,\u001b[0m \u001b[0mchunk_size\u001b[0m\u001b[1;33m)\u001b[0m\u001b[1;33m\u001b[0m\u001b[1;33m\u001b[0m\u001b[0m\n\u001b[0;32m   1635\u001b[0m         \u001b[1;32myield\u001b[0m \u001b[0mD_chunk\u001b[0m\u001b[1;33m\u001b[0m\u001b[1;33m\u001b[0m\u001b[0m\n",
      "\u001b[1;32m~\\anaconda3\\lib\\site-packages\\sklearn\\neighbors\\_base.py\u001b[0m in \u001b[0;36m_kneighbors_reduce_func\u001b[1;34m(self, dist, start, n_neighbors, return_distance)\u001b[0m\n\u001b[0;32m    580\u001b[0m         \"\"\"\n\u001b[0;32m    581\u001b[0m         \u001b[0msample_range\u001b[0m \u001b[1;33m=\u001b[0m \u001b[0mnp\u001b[0m\u001b[1;33m.\u001b[0m\u001b[0marange\u001b[0m\u001b[1;33m(\u001b[0m\u001b[0mdist\u001b[0m\u001b[1;33m.\u001b[0m\u001b[0mshape\u001b[0m\u001b[1;33m[\u001b[0m\u001b[1;36m0\u001b[0m\u001b[1;33m]\u001b[0m\u001b[1;33m)\u001b[0m\u001b[1;33m[\u001b[0m\u001b[1;33m:\u001b[0m\u001b[1;33m,\u001b[0m \u001b[1;32mNone\u001b[0m\u001b[1;33m]\u001b[0m\u001b[1;33m\u001b[0m\u001b[1;33m\u001b[0m\u001b[0m\n\u001b[1;32m--> 582\u001b[1;33m         \u001b[0mneigh_ind\u001b[0m \u001b[1;33m=\u001b[0m \u001b[0mnp\u001b[0m\u001b[1;33m.\u001b[0m\u001b[0margpartition\u001b[0m\u001b[1;33m(\u001b[0m\u001b[0mdist\u001b[0m\u001b[1;33m,\u001b[0m \u001b[0mn_neighbors\u001b[0m \u001b[1;33m-\u001b[0m \u001b[1;36m1\u001b[0m\u001b[1;33m,\u001b[0m \u001b[0maxis\u001b[0m\u001b[1;33m=\u001b[0m\u001b[1;36m1\u001b[0m\u001b[1;33m)\u001b[0m\u001b[1;33m\u001b[0m\u001b[1;33m\u001b[0m\u001b[0m\n\u001b[0m\u001b[0;32m    583\u001b[0m         \u001b[0mneigh_ind\u001b[0m \u001b[1;33m=\u001b[0m \u001b[0mneigh_ind\u001b[0m\u001b[1;33m[\u001b[0m\u001b[1;33m:\u001b[0m\u001b[1;33m,\u001b[0m \u001b[1;33m:\u001b[0m\u001b[0mn_neighbors\u001b[0m\u001b[1;33m]\u001b[0m\u001b[1;33m\u001b[0m\u001b[1;33m\u001b[0m\u001b[0m\n\u001b[0;32m    584\u001b[0m         \u001b[1;31m# argpartition doesn't guarantee sorted order, so we sort again\u001b[0m\u001b[1;33m\u001b[0m\u001b[1;33m\u001b[0m\u001b[1;33m\u001b[0m\u001b[0m\n",
      "\u001b[1;32m<__array_function__ internals>\u001b[0m in \u001b[0;36margpartition\u001b[1;34m(*args, **kwargs)\u001b[0m\n",
      "\u001b[1;32m~\\anaconda3\\lib\\site-packages\\numpy\\core\\fromnumeric.py\u001b[0m in \u001b[0;36margpartition\u001b[1;34m(a, kth, axis, kind, order)\u001b[0m\n\u001b[0;32m    830\u001b[0m \u001b[1;33m\u001b[0m\u001b[0m\n\u001b[0;32m    831\u001b[0m     \"\"\"\n\u001b[1;32m--> 832\u001b[1;33m     \u001b[1;32mreturn\u001b[0m \u001b[0m_wrapfunc\u001b[0m\u001b[1;33m(\u001b[0m\u001b[0ma\u001b[0m\u001b[1;33m,\u001b[0m \u001b[1;34m'argpartition'\u001b[0m\u001b[1;33m,\u001b[0m \u001b[0mkth\u001b[0m\u001b[1;33m,\u001b[0m \u001b[0maxis\u001b[0m\u001b[1;33m=\u001b[0m\u001b[0maxis\u001b[0m\u001b[1;33m,\u001b[0m \u001b[0mkind\u001b[0m\u001b[1;33m=\u001b[0m\u001b[0mkind\u001b[0m\u001b[1;33m,\u001b[0m \u001b[0morder\u001b[0m\u001b[1;33m=\u001b[0m\u001b[0morder\u001b[0m\u001b[1;33m)\u001b[0m\u001b[1;33m\u001b[0m\u001b[1;33m\u001b[0m\u001b[0m\n\u001b[0m\u001b[0;32m    833\u001b[0m \u001b[1;33m\u001b[0m\u001b[0m\n\u001b[0;32m    834\u001b[0m \u001b[1;33m\u001b[0m\u001b[0m\n",
      "\u001b[1;32m~\\anaconda3\\lib\\site-packages\\numpy\\core\\fromnumeric.py\u001b[0m in \u001b[0;36m_wrapfunc\u001b[1;34m(obj, method, *args, **kwds)\u001b[0m\n\u001b[0;32m     56\u001b[0m \u001b[1;33m\u001b[0m\u001b[0m\n\u001b[0;32m     57\u001b[0m     \u001b[1;32mtry\u001b[0m\u001b[1;33m:\u001b[0m\u001b[1;33m\u001b[0m\u001b[1;33m\u001b[0m\u001b[0m\n\u001b[1;32m---> 58\u001b[1;33m         \u001b[1;32mreturn\u001b[0m \u001b[0mbound\u001b[0m\u001b[1;33m(\u001b[0m\u001b[1;33m*\u001b[0m\u001b[0margs\u001b[0m\u001b[1;33m,\u001b[0m \u001b[1;33m**\u001b[0m\u001b[0mkwds\u001b[0m\u001b[1;33m)\u001b[0m\u001b[1;33m\u001b[0m\u001b[1;33m\u001b[0m\u001b[0m\n\u001b[0m\u001b[0;32m     59\u001b[0m     \u001b[1;32mexcept\u001b[0m \u001b[0mTypeError\u001b[0m\u001b[1;33m:\u001b[0m\u001b[1;33m\u001b[0m\u001b[1;33m\u001b[0m\u001b[0m\n\u001b[0;32m     60\u001b[0m         \u001b[1;31m# A TypeError occurs if the object does have such a method in its\u001b[0m\u001b[1;33m\u001b[0m\u001b[1;33m\u001b[0m\u001b[1;33m\u001b[0m\u001b[0m\n",
      "\u001b[1;31mKeyboardInterrupt\u001b[0m: "
     ]
    }
   ],
   "source": [
    "from sklearn.model_selection import cross_val_score\n",
    "\n",
    "cross_val_score(loaded_clf,X_train,y_train,cv=7,scoring='accuracy')"
   ]
  },
  {
   "cell_type": "code",
   "execution_count": null,
   "metadata": {},
   "outputs": [],
   "source": [
    "len(X_test)"
   ]
  },
  {
   "cell_type": "markdown",
   "metadata": {},
   "source": [
    "# Wykorzystanie wag klas"
   ]
  },
  {
   "cell_type": "code",
   "execution_count": 38,
   "metadata": {},
   "outputs": [],
   "source": [
    "from sklearn.linear_model import LogisticRegression\n",
    "\n",
    "#lr = LogisticRegression(solver='newton-cg', class_weight='balanced')\n",
    "clf_log2= LogisticRegression(class_weight='balanced')\n",
    "clf_rnd= RandomForestClassifier(class_weight='balanced')\n",
    "clf_gnb2 = GaussianNB()\n",
    "clf_knn2 = KNeighborsClassifier()\n",
    "clf_nt2 = MLPClassifier()\n",
    "\n",
    "voting_clf1=VotingClassifier(\n",
    "    estimators=[('lr',clf_log2),('rf',clf_rnd),('gnb',clf_gnb2),('knn',clf_knn2),('nt',clf_nt2)],\n",
    "    voting='hard')\n",
    "\n"
   ]
  },
  {
   "cell_type": "code",
   "execution_count": 39,
   "metadata": {},
   "outputs": [
    {
     "name": "stderr",
     "output_type": "stream",
     "text": [
      "C:\\Users\\patry\\anaconda3\\lib\\site-packages\\sklearn\\neural_network\\_multilayer_perceptron.py:617: ConvergenceWarning: Stochastic Optimizer: Maximum iterations (200) reached and the optimization hasn't converged yet.\n",
      "  % self.max_iter, ConvergenceWarning)\n"
     ]
    },
    {
     "data": {
      "text/plain": [
       "VotingClassifier(estimators=[('lr',\n",
       "                              LogisticRegression(class_weight='balanced')),\n",
       "                             ('rf',\n",
       "                              RandomForestClassifier(class_weight='balanced')),\n",
       "                             ('gnb', GaussianNB()),\n",
       "                             ('knn', KNeighborsClassifier()),\n",
       "                             ('nt', MLPClassifier())])"
      ]
     },
     "execution_count": 39,
     "metadata": {},
     "output_type": "execute_result"
    }
   ],
   "source": [
    "voting_clf1.fit(X_train, y_train)"
   ]
  },
  {
   "cell_type": "code",
   "execution_count": 40,
   "metadata": {},
   "outputs": [
    {
     "name": "stdout",
     "output_type": "stream",
     "text": [
      "LogisticRegression 0.7642488893112542\n",
      "RandomForestClassifier 0.9937991494618802\n",
      "GaussianNB 0.9211945546553895\n",
      "KNeighborsClassifier 0.993395262645221\n"
     ]
    },
    {
     "name": "stderr",
     "output_type": "stream",
     "text": [
      "C:\\Users\\patry\\anaconda3\\lib\\site-packages\\sklearn\\neural_network\\_multilayer_perceptron.py:617: ConvergenceWarning: Stochastic Optimizer: Maximum iterations (200) reached and the optimization hasn't converged yet.\n",
      "  % self.max_iter, ConvergenceWarning)\n"
     ]
    },
    {
     "name": "stdout",
     "output_type": "stream",
     "text": [
      "MLPClassifier 0.9918985056187783\n"
     ]
    },
    {
     "name": "stderr",
     "output_type": "stream",
     "text": [
      "C:\\Users\\patry\\anaconda3\\lib\\site-packages\\sklearn\\neural_network\\_multilayer_perceptron.py:617: ConvergenceWarning: Stochastic Optimizer: Maximum iterations (200) reached and the optimization hasn't converged yet.\n",
      "  % self.max_iter, ConvergenceWarning)\n"
     ]
    },
    {
     "name": "stdout",
     "output_type": "stream",
     "text": [
      "VotingClassifier 0.9934902948373762\n"
     ]
    }
   ],
   "source": [
    "from sklearn.metrics import accuracy_score\n",
    "for clf in (clf_log2,clf_rnd,clf_gnb2,clf_knn2,clf_nt2,voting_clf):\n",
    "    clf.fit(X_train,y_train)\n",
    "    y_pred = clf.predict(X_test)\n",
    "    print(clf.__class__.__name__,accuracy_score(y_test,y_pred))"
   ]
  },
  {
   "cell_type": "code",
   "execution_count": 41,
   "metadata": {},
   "outputs": [
    {
     "name": "stdout",
     "output_type": "stream",
     "text": [
      "The f1 score for the testing data: [0.99651651 0.18435754]\n"
     ]
    }
   ],
   "source": [
    "f1_test = f1_score(y_test,voting_clf1.predict(X_test), average=None,labels=[1,0])\n",
    "print('The f1 score for the testing data:', f1_test)\n"
   ]
  },
  {
   "cell_type": "code",
   "execution_count": 42,
   "metadata": {},
   "outputs": [
    {
     "data": {
      "text/plain": [
       "<matplotlib.axes._subplots.AxesSubplot at 0x198fdae22c8>"
      ]
     },
     "execution_count": 42,
     "metadata": {},
     "output_type": "execute_result"
    },
    {
     "data": {
      "image/png": "[encoded data removed]",
      "text/plain": [
       "<Figure size 432x288 with 2 Axes>"
      ]
     },
     "metadata": {
      "needs_background": "light"
     },
     "output_type": "display_data"
    }
   ],
   "source": [
    "y_pred3 = voting_clf1.predict(X_test)\n",
    "\n",
    "labels =[1,0]\n",
    "labels2 =[0,1]\n",
    "cm=confusion_matrix (y_test,y_pred3, labels=labels)\n",
    "df_cm = pd.DataFrame(cm,index=labels, columns=labels)\n",
    "\n",
    "sn.heatmap(df_cm,annot=True,fmt='d')"
   ]
  },
  {
   "cell_type": "markdown",
   "metadata": {},
   "source": [
    "zastosowanie dokładnych wag i wprowadzenie do modelu voting"
   ]
  },
  {
   "cell_type": "markdown",
   "metadata": {},
   "source": [
    "# logistyczna regresja z wagami"
   ]
  },
  {
   "cell_type": "code",
   "execution_count": 49,
   "metadata": {},
   "outputs": [
    {
     "name": "stdout",
     "output_type": "stream",
     "text": [
      "The f1 score for the testing data: 0.9968421178068806\n"
     ]
    },
    {
     "data": {
      "image/png": "[encoded data removed]",
      "text/plain": [
       "<Figure size 432x288 with 1 Axes>"
      ]
     },
     "metadata": {},
     "output_type": "display_data"
    }
   ],
   "source": [
    "import seaborn as sns\n",
    "import matplotlib.pyplot as plt\n",
    "#importing and training the model\n",
    "from sklearn.linear_model import LogisticRegression\n",
    "lr = LogisticRegression(solver='newton-cg')\n",
    "lr.fit(X_train, y_train)\n",
    "\n",
    "# Predicting on the test data\n",
    "pred_test = lr.predict(X_test)\n",
    "\n",
    "#Calculating and printing the f1 score \n",
    "f1_test = f1_score(y_test, pred_test)\n",
    "print('The f1 score for the testing data:', f1_test)\n",
    "\n",
    "# Function to create a confusion matrix \n",
    "def conf_matrix(y_test_1, pred_test_1):    \n",
    "    \n",
    "    # Creating a confusion matrix\n",
    "    con_mat = confusion_matrix(y_test_1, pred_test_1)\n",
    "    con_mat = pd.DataFrame(con_mat, range(2), range(2))\n",
    "   \n",
    "    #Ploting the confusion matrix\n",
    "    plt.figure(figsize=(6,6))\n",
    "    sns.set(font_scale=1.5) \n",
    "    sns.heatmap(con_mat, annot=True, annot_kws={\"size\": 16}, fmt='g', cmap='Blues', cbar=False)\n",
    "    \n",
    "#Calling function \n",
    "conf_matrix(y_test, pred_test)"
   ]
  },
  {
   "cell_type": "code",
   "execution_count": 50,
   "metadata": {},
   "outputs": [
    {
     "name": "stdout",
     "output_type": "stream",
     "text": [
      "The f1 score for the testing data: [0.99684212 0.        ]\n"
     ]
    }
   ],
   "source": [
    "f1_test = f1_score(y_test,lr.predict(X_test), average=None,labels=[1,0])\n",
    "print('The f1 score for the testing data:', f1_test)"
   ]
  },
  {
   "cell_type": "code",
   "execution_count": 51,
   "metadata": {},
   "outputs": [
    {
     "name": "stdout",
     "output_type": "stream",
     "text": [
      "The f1 score for the testing data: 0.8656894194718534\n"
     ]
    },
    {
     "data": {
      "image/png": "[encoded data removed]",
      "text/plain": [
       "<Figure size 432x288 with 1 Axes>"
      ]
     },
     "metadata": {},
     "output_type": "display_data"
    }
   ],
   "source": [
    "#importing and training the model\n",
    "from sklearn.linear_model import LogisticRegression\n",
    "lr = LogisticRegression(solver='newton-cg', class_weight='balanced')\n",
    "lr.fit(X_train, y_train)\n",
    "\n",
    "# Predicting on the test data\n",
    "pred_test = lr.predict(X_test)\n",
    "\n",
    "#Calculating and printing the f1 score \n",
    "f1_test = f1_score(y_test, pred_test)\n",
    "print('The f1 score for the testing data:', f1_test)\n",
    "\n",
    "#Ploting the confusion matrix\n",
    "conf_matrix(y_test, pred_test)"
   ]
  },
  {
   "cell_type": "code",
   "execution_count": 52,
   "metadata": {},
   "outputs": [
    {
     "name": "stdout",
     "output_type": "stream",
     "text": [
      "The f1 score for the testing data: [0.86568942 0.03669547]\n"
     ]
    }
   ],
   "source": [
    "f1_test = f1_score(y_test,lr.predict(X_test), average=None,labels=[1,0])\n",
    "print('The f1 score for the testing data:', f1_test)"
   ]
  },
  {
   "cell_type": "code",
   "execution_count": 53,
   "metadata": {},
   "outputs": [
    {
     "name": "stdout",
     "output_type": "stream",
     "text": [
      "Fitting 5 folds for each of 200 candidates, totalling 1000 fits\n"
     ]
    },
    {
     "ename": "TypeError",
     "evalue": "'module' object is not callable",
     "output_type": "error",
     "traceback": [
      "\u001b[1;31m---------------------------------------------------------------------------\u001b[0m",
      "\u001b[1;31mTypeError\u001b[0m                                 Traceback (most recent call last)",
      "\u001b[1;32m<ipython-input-53-0f17407c1626>\u001b[0m in \u001b[0;36m<module>\u001b[1;34m\u001b[0m\n\u001b[0;32m     18\u001b[0m \u001b[1;31m#Ploting the score for different values of weight\u001b[0m\u001b[1;33m\u001b[0m\u001b[1;33m\u001b[0m\u001b[1;33m\u001b[0m\u001b[0m\n\u001b[0;32m     19\u001b[0m \u001b[0msns\u001b[0m\u001b[1;33m.\u001b[0m\u001b[0mset_style\u001b[0m\u001b[1;33m(\u001b[0m\u001b[1;34m'whitegrid'\u001b[0m\u001b[1;33m)\u001b[0m\u001b[1;33m\u001b[0m\u001b[1;33m\u001b[0m\u001b[0m\n\u001b[1;32m---> 20\u001b[1;33m \u001b[0mplt\u001b[0m\u001b[1;33m.\u001b[0m\u001b[0mfigure\u001b[0m\u001b[1;33m(\u001b[0m\u001b[0mfigsize\u001b[0m\u001b[1;33m=\u001b[0m\u001b[1;33m(\u001b[0m\u001b[1;36m12\u001b[0m\u001b[1;33m,\u001b[0m\u001b[1;36m8\u001b[0m\u001b[1;33m)\u001b[0m\u001b[1;33m)\u001b[0m\u001b[1;33m\u001b[0m\u001b[1;33m\u001b[0m\u001b[0m\n\u001b[0m\u001b[0;32m     21\u001b[0m \u001b[0mweigh_data\u001b[0m \u001b[1;33m=\u001b[0m \u001b[0mpd\u001b[0m\u001b[1;33m.\u001b[0m\u001b[0mDataFrame\u001b[0m\u001b[1;33m(\u001b[0m\u001b[1;33m{\u001b[0m \u001b[1;34m'score'\u001b[0m\u001b[1;33m:\u001b[0m \u001b[0mgridsearch\u001b[0m\u001b[1;33m.\u001b[0m\u001b[0mcv_results_\u001b[0m\u001b[1;33m[\u001b[0m\u001b[1;34m'mean_test_score'\u001b[0m\u001b[1;33m]\u001b[0m\u001b[1;33m,\u001b[0m \u001b[1;34m'weight'\u001b[0m\u001b[1;33m:\u001b[0m \u001b[1;33m(\u001b[0m\u001b[1;36m1\u001b[0m\u001b[1;33m-\u001b[0m \u001b[0mweights\u001b[0m\u001b[1;33m)\u001b[0m\u001b[1;33m}\u001b[0m\u001b[1;33m)\u001b[0m\u001b[1;33m\u001b[0m\u001b[1;33m\u001b[0m\u001b[0m\n\u001b[0;32m     22\u001b[0m \u001b[0msns\u001b[0m\u001b[1;33m.\u001b[0m\u001b[0mlineplot\u001b[0m\u001b[1;33m(\u001b[0m\u001b[0mweigh_data\u001b[0m\u001b[1;33m[\u001b[0m\u001b[1;34m'weight'\u001b[0m\u001b[1;33m]\u001b[0m\u001b[1;33m,\u001b[0m \u001b[0mweigh_data\u001b[0m\u001b[1;33m[\u001b[0m\u001b[1;34m'score'\u001b[0m\u001b[1;33m]\u001b[0m\u001b[1;33m)\u001b[0m\u001b[1;33m\u001b[0m\u001b[1;33m\u001b[0m\u001b[0m\n",
      "\u001b[1;31mTypeError\u001b[0m: 'module' object is not callable"
     ]
    }
   ],
   "source": [
    "from sklearn.model_selection import GridSearchCV, StratifiedKFold\n",
    "lr = LogisticRegression(solver='newton-cg')\n",
    "\n",
    "#Setting the range for class weights\n",
    "weights = np.linspace(0.0,0.99,200)\n",
    "\n",
    "#Creating a dictionary grid for grid search\n",
    "param_grid = {'class_weight': [{0:x, 1:1.0-x} for x in weights]}\n",
    "\n",
    "#Fitting grid search to the train data with 5 folds\n",
    "gridsearch = GridSearchCV(estimator= lr, \n",
    "                          param_grid= param_grid,\n",
    "                          cv=StratifiedKFold(), \n",
    "                          n_jobs=-1, \n",
    "                          scoring='f1', \n",
    "                          verbose=2).fit(X_train, y_train)\n",
    "\n"
   ]
  },
  {
   "cell_type": "code",
   "execution_count": 57,
   "metadata": {},
   "outputs": [
    {
     "data": {
      "text/plain": [
       "Text(0.5, 1.0, 'Scoring for different class weights')"
      ]
     },
     "execution_count": 57,
     "metadata": {},
     "output_type": "execute_result"
    },
    {
     "data": {
      "image/png": "[encoded data removed]",
      "text/plain": [
       "<Figure size 864x576 with 1 Axes>"
      ]
     },
     "metadata": {},
     "output_type": "display_data"
    }
   ],
   "source": [
    "import matplotlib.pyplot as plt\n",
    "#Ploting the score for different values of weight\n",
    "sns.set_style('whitegrid')\n",
    "plt.figure(figsize=(12,8))\n",
    "weigh_data = pd.DataFrame({ 'score': gridsearch.cv_results_['mean_test_score'], 'weight': (1- weights)})\n",
    "sns.lineplot(weigh_data['weight'], weigh_data['score'])\n",
    "plt.xlabel('Weight for class 1')\n",
    "plt.ylabel('F1 score')\n",
    "plt.xticks([round(i/10,1) for i in range(0,11,1)])\n",
    "plt.title('Scoring for different class weights', fontsize=24)"
   ]
  },
  {
   "cell_type": "code",
   "execution_count": 70,
   "metadata": {},
   "outputs": [
    {
     "data": {
      "text/html": [
       "<div>\n",
       "<style scoped>\n",
       "    .dataframe tbody tr th:only-of-type {\n",
       "        vertical-align: middle;\n",
       "    }\n",
       "\n",
       "    .dataframe tbody tr th {\n",
       "        vertical-align: top;\n",
       "    }\n",
       "\n",
       "    .dataframe thead th {\n",
       "        text-align: right;\n",
       "    }\n",
       "</style>\n",
       "<table border=\"1\" class=\"dataframe\">\n",
       "  <thead>\n",
       "    <tr style=\"text-align: right;\">\n",
       "      <th></th>\n",
       "      <th>score</th>\n",
       "      <th>weight</th>\n",
       "    </tr>\n",
       "  </thead>\n",
       "  <tbody>\n",
       "    <tr>\n",
       "      <th>170</th>\n",
       "      <td>0.996871</td>\n",
       "      <td>0.154271</td>\n",
       "    </tr>\n",
       "    <tr>\n",
       "      <th>171</th>\n",
       "      <td>0.996865</td>\n",
       "      <td>0.149296</td>\n",
       "    </tr>\n",
       "    <tr>\n",
       "      <th>172</th>\n",
       "      <td>0.996854</td>\n",
       "      <td>0.144322</td>\n",
       "    </tr>\n",
       "    <tr>\n",
       "      <th>173</th>\n",
       "      <td>0.996859</td>\n",
       "      <td>0.139347</td>\n",
       "    </tr>\n",
       "    <tr>\n",
       "      <th>174</th>\n",
       "      <td>0.996842</td>\n",
       "      <td>0.134372</td>\n",
       "    </tr>\n",
       "    <tr>\n",
       "      <th>175</th>\n",
       "      <td>0.996830</td>\n",
       "      <td>0.129397</td>\n",
       "    </tr>\n",
       "    <tr>\n",
       "      <th>176</th>\n",
       "      <td>0.996789</td>\n",
       "      <td>0.124422</td>\n",
       "    </tr>\n",
       "    <tr>\n",
       "      <th>177</th>\n",
       "      <td>0.996777</td>\n",
       "      <td>0.119447</td>\n",
       "    </tr>\n",
       "    <tr>\n",
       "      <th>178</th>\n",
       "      <td>0.996765</td>\n",
       "      <td>0.114472</td>\n",
       "    </tr>\n",
       "    <tr>\n",
       "      <th>179</th>\n",
       "      <td>0.996706</td>\n",
       "      <td>0.109497</td>\n",
       "    </tr>\n",
       "    <tr>\n",
       "      <th>180</th>\n",
       "      <td>0.996659</td>\n",
       "      <td>0.104523</td>\n",
       "    </tr>\n",
       "    <tr>\n",
       "      <th>181</th>\n",
       "      <td>0.996617</td>\n",
       "      <td>0.099548</td>\n",
       "    </tr>\n",
       "    <tr>\n",
       "      <th>182</th>\n",
       "      <td>0.996558</td>\n",
       "      <td>0.094573</td>\n",
       "    </tr>\n",
       "    <tr>\n",
       "      <th>183</th>\n",
       "      <td>0.996476</td>\n",
       "      <td>0.089598</td>\n",
       "    </tr>\n",
       "    <tr>\n",
       "      <th>184</th>\n",
       "      <td>0.996364</td>\n",
       "      <td>0.084623</td>\n",
       "    </tr>\n",
       "    <tr>\n",
       "      <th>185</th>\n",
       "      <td>0.996210</td>\n",
       "      <td>0.079648</td>\n",
       "    </tr>\n",
       "    <tr>\n",
       "      <th>186</th>\n",
       "      <td>0.996039</td>\n",
       "      <td>0.074673</td>\n",
       "    </tr>\n",
       "    <tr>\n",
       "      <th>187</th>\n",
       "      <td>0.995796</td>\n",
       "      <td>0.069698</td>\n",
       "    </tr>\n",
       "    <tr>\n",
       "      <th>188</th>\n",
       "      <td>0.995424</td>\n",
       "      <td>0.064724</td>\n",
       "    </tr>\n",
       "    <tr>\n",
       "      <th>189</th>\n",
       "      <td>0.994891</td>\n",
       "      <td>0.059749</td>\n",
       "    </tr>\n",
       "    <tr>\n",
       "      <th>190</th>\n",
       "      <td>0.994210</td>\n",
       "      <td>0.054774</td>\n",
       "    </tr>\n",
       "    <tr>\n",
       "      <th>191</th>\n",
       "      <td>0.993243</td>\n",
       "      <td>0.049799</td>\n",
       "    </tr>\n",
       "    <tr>\n",
       "      <th>192</th>\n",
       "      <td>0.991893</td>\n",
       "      <td>0.044824</td>\n",
       "    </tr>\n",
       "    <tr>\n",
       "      <th>193</th>\n",
       "      <td>0.989935</td>\n",
       "      <td>0.039849</td>\n",
       "    </tr>\n",
       "    <tr>\n",
       "      <th>194</th>\n",
       "      <td>0.986886</td>\n",
       "      <td>0.034874</td>\n",
       "    </tr>\n",
       "    <tr>\n",
       "      <th>195</th>\n",
       "      <td>0.982464</td>\n",
       "      <td>0.029899</td>\n",
       "    </tr>\n",
       "    <tr>\n",
       "      <th>196</th>\n",
       "      <td>0.975610</td>\n",
       "      <td>0.024925</td>\n",
       "    </tr>\n",
       "    <tr>\n",
       "      <th>197</th>\n",
       "      <td>0.966159</td>\n",
       "      <td>0.019950</td>\n",
       "    </tr>\n",
       "    <tr>\n",
       "      <th>198</th>\n",
       "      <td>0.950796</td>\n",
       "      <td>0.014975</td>\n",
       "    </tr>\n",
       "    <tr>\n",
       "      <th>199</th>\n",
       "      <td>0.922919</td>\n",
       "      <td>0.010000</td>\n",
       "    </tr>\n",
       "  </tbody>\n",
       "</table>\n",
       "</div>"
      ],
      "text/plain": [
       "        score    weight\n",
       "170  0.996871  0.154271\n",
       "171  0.996865  0.149296\n",
       "172  0.996854  0.144322\n",
       "173  0.996859  0.139347\n",
       "174  0.996842  0.134372\n",
       "175  0.996830  0.129397\n",
       "176  0.996789  0.124422\n",
       "177  0.996777  0.119447\n",
       "178  0.996765  0.114472\n",
       "179  0.996706  0.109497\n",
       "180  0.996659  0.104523\n",
       "181  0.996617  0.099548\n",
       "182  0.996558  0.094573\n",
       "183  0.996476  0.089598\n",
       "184  0.996364  0.084623\n",
       "185  0.996210  0.079648\n",
       "186  0.996039  0.074673\n",
       "187  0.995796  0.069698\n",
       "188  0.995424  0.064724\n",
       "189  0.994891  0.059749\n",
       "190  0.994210  0.054774\n",
       "191  0.993243  0.049799\n",
       "192  0.991893  0.044824\n",
       "193  0.989935  0.039849\n",
       "194  0.986886  0.034874\n",
       "195  0.982464  0.029899\n",
       "196  0.975610  0.024925\n",
       "197  0.966159  0.019950\n",
       "198  0.950796  0.014975\n",
       "199  0.922919  0.010000"
      ]
     },
     "execution_count": 70,
     "metadata": {},
     "output_type": "execute_result"
    }
   ],
   "source": [
    "weigh_data.tail(30\n",
    "               )"
   ]
  },
  {
   "cell_type": "code",
   "execution_count": 73,
   "metadata": {},
   "outputs": [
    {
     "name": "stdout",
     "output_type": "stream",
     "text": [
      "The f1 score for the testing data: 0.8351037205939603\n"
     ]
    },
    {
     "data": {
      "image/png": "[encoded data removed]",
      "text/plain": [
       "<Figure size 432x432 with 1 Axes>"
      ]
     },
     "metadata": {},
     "output_type": "display_data"
    }
   ],
   "source": [
    "#importing and training the model\n",
    "from sklearn.linear_model import LogisticRegression\n",
    "lr = LogisticRegression(solver='newton-cg', class_weight={0: 0.995, 1: 0.005})\n",
    "lr.fit(X_train, y_train)\n",
    "\n",
    "# Predicting on the test data\n",
    "pred_test = lr.predict(X_test)\n",
    "\n",
    "#Calculating and printing the f1 score \n",
    "f1_test = f1_score(y_test, pred_test)\n",
    "print('The f1 score for the testing data:', f1_test)\n",
    "\n",
    "#Ploting the confusion matrix\n",
    "conf_matrix(y_test, pred_test)"
   ]
  },
  {
   "cell_type": "markdown",
   "metadata": {},
   "source": [
    "Koniec"
   ]
  },
  {
   "cell_type": "code",
   "execution_count": 74,
   "metadata": {},
   "outputs": [
    {
     "name": "stdout",
     "output_type": "stream",
     "text": [
      "The f1 score for the testing data: [0.83510372 0.03246859]\n"
     ]
    }
   ],
   "source": [
    "f1_test = f1_score(y_test,lr.predict(X_test), average=None,labels=[1,0])\n",
    "print('The f1 score for the testing data:', f1_test)"
   ]
  },
  {
   "cell_type": "code",
   "execution_count": 76,
   "metadata": {},
   "outputs": [
    {
     "data": {
      "text/plain": [
       "<matplotlib.axes._subplots.AxesSubplot at 0x198d2629708>"
      ]
     },
     "execution_count": 76,
     "metadata": {},
     "output_type": "execute_result"
    },
    {
     "data": {
      "image/png": "[encoded data removed]",
      "text/plain": [
       "<Figure size 432x288 with 2 Axes>"
      ]
     },
     "metadata": {},
     "output_type": "display_data"
    }
   ],
   "source": [
    "y_pred3 = lr.predict(X_test)\n",
    "\n",
    "labels =[1,0]\n",
    "labels2 =[0,1]\n",
    "cm=confusion_matrix (y_test,y_pred3, labels=labels)\n",
    "df_cm = pd.DataFrame(cm,index=labels, columns=labels)\n",
    "\n",
    "sn.heatmap(df_cm,annot=True,fmt='d')"
   ]
  },
  {
   "cell_type": "code",
   "execution_count": null,
   "metadata": {},
   "outputs": [],
   "source": []
  },
  {
   "cell_type": "code",
   "execution_count": null,
   "metadata": {},
   "outputs": [],
   "source": []
  },
  {
   "cell_type": "markdown",
   "metadata": {},
   "source": [
    "technika smote"
   ]
  },
  {
   "cell_type": "code",
   "execution_count": 77,
   "metadata": {},
   "outputs": [],
   "source": [
    "from imblearn.over_sampling import SMOTE\n",
    "\n",
    "sm = SMOTE(random_state=42)\n",
    "\n",
    "\n",
    "\n",
    "X_sm, y_sm = sm.fit_resample(X_train,y_train)\n"
   ]
  },
  {
   "cell_type": "code",
   "execution_count": 79,
   "metadata": {},
   "outputs": [
    {
     "data": {
      "text/plain": [
       "VotingClassifier(estimators=[('lr',\n",
       "                              LogisticRegression(class_weight='balanced')),\n",
       "                             ('rf',\n",
       "                              RandomForestClassifier(class_weight='balanced')),\n",
       "                             ('gnb', GaussianNB()),\n",
       "                             ('knn', KNeighborsClassifier()),\n",
       "                             ('nt', MLPClassifier())])"
      ]
     },
     "execution_count": 79,
     "metadata": {},
     "output_type": "execute_result"
    }
   ],
   "source": [
    "X_train,X_test,y_train,y_test = train_test_split(X_sm,y_sm, test_size=0.33,random_state=42)\n",
    "\n",
    "clf_log3= LogisticRegression(class_weight='balanced')\n",
    "clf_rnd1= RandomForestClassifier(class_weight='balanced')\n",
    "clf_gnb3 = GaussianNB()\n",
    "clf_knn3 = KNeighborsClassifier()\n",
    "clf_nt3 = MLPClassifier()\n",
    "\n",
    "voting_sm=VotingClassifier(\n",
    "    estimators=[('lr',clf_log3),('rf',clf_rnd1),('gnb',clf_gnb3),('knn',clf_knn3),('nt',clf_nt3)],\n",
    "    voting='hard')\n",
    "\n",
    "\n",
    "voting_sm.fit(X_train,y_train)\n",
    "\n",
    "\n"
   ]
  },
  {
   "cell_type": "code",
   "execution_count": 130,
   "metadata": {},
   "outputs": [],
   "source": [
    "pred = voting_sm.predict(X_test)"
   ]
  },
  {
   "cell_type": "code",
   "execution_count": 131,
   "metadata": {},
   "outputs": [
    {
     "name": "stdout",
     "output_type": "stream",
     "text": [
      "The f1 score for the testing data: [0.95167451 0.95478636]\n"
     ]
    }
   ],
   "source": [
    "f1_test = f1_score(y_test,pred, average=None,labels=[1,0])\n",
    "print('The f1 score for the testing data:', f1_test)"
   ]
  },
  {
   "cell_type": "code",
   "execution_count": 132,
   "metadata": {},
   "outputs": [
    {
     "data": {
      "text/plain": [
       "<matplotlib.axes._subplots.AxesSubplot at 0x17467efe688>"
      ]
     },
     "execution_count": 132,
     "metadata": {},
     "output_type": "execute_result"
    },
    {
     "data": {
      "image/png": "[encoded data removed]",
      "text/plain": [
       "<Figure size 432x288 with 2 Axes>"
      ]
     },
     "metadata": {
      "needs_background": "light"
     },
     "output_type": "display_data"
    }
   ],
   "source": [
    "# dane testowe\n",
    "y_pred_sm = pred\n",
    "\n",
    "labels =[1,0]\n",
    "labels2 =[0,1]\n",
    "cm=confusion_matrix (y_test,y_pred_sm, labels=labels)\n",
    "df_cm = pd.DataFrame(cm,index=labels, columns=labels)\n",
    "\n",
    "sn.heatmap(df_cm,annot=True,fmt='d')"
   ]
  },
  {
   "cell_type": "markdown",
   "metadata": {},
   "source": [
    "test na całuych danych"
   ]
  },
  {
   "cell_type": "code",
   "execution_count": 80,
   "metadata": {},
   "outputs": [
    {
     "data": {
      "text/plain": [
       "<matplotlib.axes._subplots.AxesSubplot at 0x198fcb54e48>"
      ]
     },
     "execution_count": 80,
     "metadata": {},
     "output_type": "execute_result"
    },
    {
     "data": {
      "image/png": "[encoded data removed]",
      "text/plain": [
       "<Figure size 432x288 with 2 Axes>"
      ]
     },
     "metadata": {},
     "output_type": "display_data"
    }
   ],
   "source": [
    "X_nemak = scaler.transform(nemak)\n",
    "y_pred4 = voting_sm.predict(X_nemak)\n",
    "\n",
    "labels =[1,0]\n",
    "labels2 =[0,1]\n",
    "cm=confusion_matrix (output,y_pred4, labels=labels)\n",
    "df_cm = pd.DataFrame(cm,index=labels, columns=labels)\n",
    "\n",
    "sn.heatmap(df_cm,annot=True,fmt='d')"
   ]
  },
  {
   "cell_type": "code",
   "execution_count": 82,
   "metadata": {},
   "outputs": [
    {
     "name": "stdout",
     "output_type": "stream",
     "text": [
      "The f1 score for the testing data: [0.98515075 0.24384287]\n"
     ]
    }
   ],
   "source": [
    "f1_test = f1_score(output,y_pred4, average=None,labels=[1,0])\n",
    "print('The f1 score for the testing data:', f1_test)"
   ]
  },
  {
   "cell_type": "markdown",
   "metadata": {},
   "source": [
    "# threshold"
   ]
  },
  {
   "cell_type": "code",
   "execution_count": 236,
   "metadata": {},
   "outputs": [
    {
     "data": {
      "text/plain": [
       "SGDClassifier(random_state=42)"
      ]
     },
     "execution_count": 236,
     "metadata": {},
     "output_type": "execute_result"
    }
   ],
   "source": [
    "# threshlodl\n",
    "\n",
    "from sklearn.linear_model import SGDClassifier\n",
    "\n",
    "sgd_clf = SGDClassifier(max_iter=1000, tol=1e-3, random_state=42)\n",
    "sgd_clf.fit(X_train, y_train)"
   ]
  },
  {
   "cell_type": "code",
   "execution_count": 237,
   "metadata": {},
   "outputs": [
    {
     "data": {
      "text/plain": [
       "array([1, 1, 1, ..., 1, 0, 1], dtype=int64)"
      ]
     },
     "execution_count": 237,
     "metadata": {},
     "output_type": "execute_result"
    }
   ],
   "source": [
    "sgd_clf.predict(X_test)"
   ]
  },
  {
   "cell_type": "code",
   "execution_count": 238,
   "metadata": {},
   "outputs": [
    {
     "data": {
      "text/plain": [
       "array([0.75345282, 0.74904452, 0.75297188])"
      ]
     },
     "execution_count": 238,
     "metadata": {},
     "output_type": "execute_result"
    }
   ],
   "source": [
    "from sklearn.model_selection import cross_val_score\n",
    "\n",
    "cross_val_score(sgd_clf, X_train,y_train, cv=3,scoring=\"accuracy\")"
   ]
  },
  {
   "cell_type": "code",
   "execution_count": 239,
   "metadata": {},
   "outputs": [],
   "source": [
    "from sklearn.model_selection import cross_val_predict\n",
    "\n",
    "y_train_pred = cross_val_predict(sgd_clf, X_train,y_train, cv=3)"
   ]
  },
  {
   "cell_type": "code",
   "execution_count": 240,
   "metadata": {},
   "outputs": [
    {
     "data": {
      "text/plain": [
       "array([[40590, 16277],\n",
       "       [11970, 44981]], dtype=int64)"
      ]
     },
     "execution_count": 240,
     "metadata": {},
     "output_type": "execute_result"
    }
   ],
   "source": [
    "from sklearn.metrics import confusion_matrix\n",
    "\n",
    "confusion_matrix(y_train,y_train_pred)"
   ]
  },
  {
   "cell_type": "code",
   "execution_count": 241,
   "metadata": {},
   "outputs": [
    {
     "data": {
      "text/plain": [
       "0.7342877664958046"
      ]
     },
     "execution_count": 241,
     "metadata": {},
     "output_type": "execute_result"
    }
   ],
   "source": [
    "from sklearn.metrics import precision_score, recall_score\n",
    "\n",
    "precision_score(y_train,y_train_pred)"
   ]
  },
  {
   "cell_type": "code",
   "execution_count": 242,
   "metadata": {},
   "outputs": [
    {
     "data": {
      "text/plain": [
       "0.7898193183613984"
      ]
     },
     "execution_count": 242,
     "metadata": {},
     "output_type": "execute_result"
    }
   ],
   "source": [
    "recall_score(y_train, y_train_pred)"
   ]
  },
  {
   "cell_type": "code",
   "execution_count": 243,
   "metadata": {},
   "outputs": [
    {
     "data": {
      "text/plain": [
       "0.7610418834437311"
      ]
     },
     "execution_count": 243,
     "metadata": {},
     "output_type": "execute_result"
    }
   ],
   "source": [
    "from sklearn.metrics import f1_score\n",
    "\n",
    "f1_score(y_train, y_train_pred)"
   ]
  },
  {
   "cell_type": "code",
   "execution_count": 244,
   "metadata": {},
   "outputs": [],
   "source": [
    "some_y = y_test[84334]"
   ]
  },
  {
   "cell_type": "code",
   "execution_count": 245,
   "metadata": {},
   "outputs": [
    {
     "data": {
      "text/plain": [
       "array([0.39881591, 0.38152375, 0.93557194, ..., 1.4933546 , 1.5034752 ,\n",
       "       1.3346745 ])"
      ]
     },
     "execution_count": 245,
     "metadata": {},
     "output_type": "execute_result"
    }
   ],
   "source": [
    "y_scores = sgd_clf.decision_function(nemak)\n",
    "y_scores"
   ]
  },
  {
   "cell_type": "code",
   "execution_count": 246,
   "metadata": {},
   "outputs": [],
   "source": [
    "\n",
    "threshold = 0\n",
    "y_some_digit_pred = (y_scores>threshold)"
   ]
  },
  {
   "cell_type": "code",
   "execution_count": 253,
   "metadata": {},
   "outputs": [
    {
     "data": {
      "text/plain": [
       "array([ True,  True,  True, ...,  True,  True,  True])"
      ]
     },
     "execution_count": 253,
     "metadata": {},
     "output_type": "execute_result"
    }
   ],
   "source": [
    "y_some_digit_pred"
   ]
  },
  {
   "cell_type": "code",
   "execution_count": 248,
   "metadata": {},
   "outputs": [
    {
     "data": {
      "text/plain": [
       "<matplotlib.axes._subplots.AxesSubplot at 0x17462de6e08>"
      ]
     },
     "execution_count": 248,
     "metadata": {},
     "output_type": "execute_result"
    },
    {
     "data": {
      "image/png": "[encoded data removed]",
      "text/plain": [
       "<Figure size 432x288 with 2 Axes>"
      ]
     },
     "metadata": {
      "needs_background": "light"
     },
     "output_type": "display_data"
    }
   ],
   "source": [
    "\n",
    "labels =[1,0]\n",
    "labels2 =[0,1]\n",
    "cm=confusion_matrix (output,y_some_digit_pred , labels=labels)\n",
    "df_cm = pd.DataFrame(cm,index=labels, columns=labels)\n",
    "\n",
    "sn.heatmap(df_cm,annot=True,fmt='d')"
   ]
  },
  {
   "cell_type": "code",
   "execution_count": 272,
   "metadata": {},
   "outputs": [
    {
     "data": {
      "text/plain": [
       "array([ True,  True,  True, ...,  True,  True,  True])"
      ]
     },
     "execution_count": 272,
     "metadata": {},
     "output_type": "execute_result"
    }
   ],
   "source": [
    "threshold = -1.9\n",
    "y_some_digit_pred = (y_scores >threshold)\n",
    "y_some_digit_pred"
   ]
  },
  {
   "cell_type": "code",
   "execution_count": 273,
   "metadata": {},
   "outputs": [
    {
     "data": {
      "text/plain": [
       "<matplotlib.axes._subplots.AxesSubplot at 0x174526f1348>"
      ]
     },
     "execution_count": 273,
     "metadata": {},
     "output_type": "execute_result"
    },
    {
     "data": {
      "image/png": "[encoded data removed]",
      "text/plain": [
       "<Figure size 432x288 with 2 Axes>"
      ]
     },
     "metadata": {
      "needs_background": "light"
     },
     "output_type": "display_data"
    }
   ],
   "source": [
    "\n",
    "labels =[1,0]\n",
    "labels2 =[0,1]\n",
    "cm=confusion_matrix (output,y_some_digit_pred , labels=labels)\n",
    "df_cm = pd.DataFrame(cm,index=labels, columns=labels)\n",
    "\n",
    "sn.heatmap(df_cm,annot=True,fmt='d')"
   ]
  },
  {
   "cell_type": "code",
   "execution_count": 216,
   "metadata": {},
   "outputs": [],
   "source": [
    "y_scores = cross_val_predict(sgd_clf, X_train, y_train, cv=3,\n",
    "                            method='decision_function')"
   ]
  },
  {
   "cell_type": "code",
   "execution_count": 217,
   "metadata": {},
   "outputs": [],
   "source": [
    "from sklearn.metrics import precision_recall_curve\n",
    "\n",
    "precisions, recalls, thresholds = precision_recall_curve(y_train, y_scores)"
   ]
  },
  {
   "cell_type": "code",
   "execution_count": 219,
   "metadata": {},
   "outputs": [
    {
     "name": "stderr",
     "output_type": "stream",
     "text": [
      "C:\\Users\\patry\\anaconda3\\lib\\site-packages\\IPython\\core\\pylabtools.py:132: UserWarning: Creating legend with loc=\"best\" can be slow with large amounts of data.\n",
      "  fig.canvas.print_figure(bytes_io, **kw)\n"
     ]
    },
    {
     "data": {
      "image/png": "[encoded data removed]",
      "text/plain": [
       "<Figure size 432x288 with 1 Axes>"
      ]
     },
     "metadata": {
      "needs_background": "light"
     },
     "output_type": "display_data"
    }
   ],
   "source": [
    "import matplotlib.pyplot as plt \n",
    "def plt_precision_recall_vs_threshold(precisions,recalls,thresholds):\n",
    "    plt.plot(thresholds,precisions[:-1],'b--',label='Precyzja')\n",
    "    plt.plot(thresholds, recalls[:-1],'g-',label='Pełność')\n",
    "    plt.legend()\n",
    "    \n",
    "plt_precision_recall_vs_threshold(precisions,recalls,thresholds)\n",
    "plt.show()"
   ]
  },
  {
   "cell_type": "code",
   "execution_count": 231,
   "metadata": {},
   "outputs": [],
   "source": [
    "threshold_90_precision = thresholds[np.argmax(recalls>=90)]"
   ]
  },
  {
   "cell_type": "code",
   "execution_count": 232,
   "metadata": {},
   "outputs": [],
   "source": [
    "y_train_pred_90 = (y_scores>threshold_90_precision)"
   ]
  },
  {
   "cell_type": "code",
   "execution_count": 233,
   "metadata": {},
   "outputs": [
    {
     "data": {
      "text/plain": [
       "<matplotlib.axes._subplots.AxesSubplot at 0x174645c0bc8>"
      ]
     },
     "execution_count": 233,
     "metadata": {},
     "output_type": "execute_result"
    },
    {
     "data": {
      "image/png": "[encoded data removed]",
      "text/plain": [
       "<Figure size 432x288 with 2 Axes>"
      ]
     },
     "metadata": {
      "needs_background": "light"
     },
     "output_type": "display_data"
    }
   ],
   "source": [
    "labels =[1,0]\n",
    "labels2 =[0,1]\n",
    "cm=confusion_matrix (y_train,y_train_pred_90 , labels=labels)\n",
    "df_cm = pd.DataFrame(cm,index=labels, columns=labels)\n",
    "\n",
    "sn.heatmap(df_cm,annot=True,fmt='d')"
   ]
  },
  {
   "cell_type": "code",
   "execution_count": null,
   "metadata": {},
   "outputs": [],
   "source": []
  },
  {
   "cell_type": "code",
   "execution_count": null,
   "metadata": {},
   "outputs": [],
   "source": []
  },
  {
   "cell_type": "markdown",
   "metadata": {},
   "source": [
    "# Ostatnia szansa"
   ]
  },
  {
   "cell_type": "code",
   "execution_count": 310,
   "metadata": {},
   "outputs": [
    {
     "name": "stdout",
     "output_type": "stream",
     "text": [
      "Fitting 5 folds for each of 200 candidates, totalling 1000 fits\n"
     ]
    },
    {
     "name": "stderr",
     "output_type": "stream",
     "text": [
      "[Parallel(n_jobs=-1)]: Using backend LokyBackend with 8 concurrent workers.\n",
      "[Parallel(n_jobs=-1)]: Done  25 tasks      | elapsed:  2.7min\n",
      "[Parallel(n_jobs=-1)]: Done 146 tasks      | elapsed: 17.0min\n",
      "[Parallel(n_jobs=-1)]: Done 349 tasks      | elapsed: 44.3min\n",
      "[Parallel(n_jobs=-1)]: Done 632 tasks      | elapsed: 77.8min\n",
      "[Parallel(n_jobs=-1)]: Done 1000 out of 1000 | elapsed: 121.4min finished\n"
     ]
    },
    {
     "ename": "ValueError",
     "evalue": "Class label 0 not present.",
     "output_type": "error",
     "traceback": [
      "\u001b[1;31m---------------------------------------------------------------------------\u001b[0m",
      "\u001b[1;31mValueError\u001b[0m                                Traceback (most recent call last)",
      "\u001b[1;32m<ipython-input-310-e75c85976ac1>\u001b[0m in \u001b[0;36m<module>\u001b[1;34m\u001b[0m\n\u001b[0;32m     14\u001b[0m                           \u001b[0mn_jobs\u001b[0m\u001b[1;33m=\u001b[0m\u001b[1;33m-\u001b[0m\u001b[1;36m1\u001b[0m\u001b[1;33m,\u001b[0m\u001b[1;33m\u001b[0m\u001b[1;33m\u001b[0m\u001b[0m\n\u001b[0;32m     15\u001b[0m                           \u001b[0mscoring\u001b[0m\u001b[1;33m=\u001b[0m\u001b[1;34m'f1'\u001b[0m\u001b[1;33m,\u001b[0m\u001b[1;33m\u001b[0m\u001b[1;33m\u001b[0m\u001b[0m\n\u001b[1;32m---> 16\u001b[1;33m                           verbose=2).fit(train_container_wage.inputs, ys_train_wage)\n\u001b[0m\u001b[0;32m     17\u001b[0m \u001b[1;33m\u001b[0m\u001b[0m\n\u001b[0;32m     18\u001b[0m \u001b[1;31m#Ploting the score for different values of weight\u001b[0m\u001b[1;33m\u001b[0m\u001b[1;33m\u001b[0m\u001b[1;33m\u001b[0m\u001b[0m\n",
      "\u001b[1;32m~\\anaconda3\\lib\\site-packages\\sklearn\\model_selection\\_search.py\u001b[0m in \u001b[0;36mfit\u001b[1;34m(self, X, y, groups, **fit_params)\u001b[0m\n\u001b[0;32m    737\u001b[0m             \u001b[0mrefit_start_time\u001b[0m \u001b[1;33m=\u001b[0m \u001b[0mtime\u001b[0m\u001b[1;33m.\u001b[0m\u001b[0mtime\u001b[0m\u001b[1;33m(\u001b[0m\u001b[1;33m)\u001b[0m\u001b[1;33m\u001b[0m\u001b[1;33m\u001b[0m\u001b[0m\n\u001b[0;32m    738\u001b[0m             \u001b[1;32mif\u001b[0m \u001b[0my\u001b[0m \u001b[1;32mis\u001b[0m \u001b[1;32mnot\u001b[0m \u001b[1;32mNone\u001b[0m\u001b[1;33m:\u001b[0m\u001b[1;33m\u001b[0m\u001b[1;33m\u001b[0m\u001b[0m\n\u001b[1;32m--> 739\u001b[1;33m                 \u001b[0mself\u001b[0m\u001b[1;33m.\u001b[0m\u001b[0mbest_estimator_\u001b[0m\u001b[1;33m.\u001b[0m\u001b[0mfit\u001b[0m\u001b[1;33m(\u001b[0m\u001b[0mX\u001b[0m\u001b[1;33m,\u001b[0m \u001b[0my\u001b[0m\u001b[1;33m,\u001b[0m \u001b[1;33m**\u001b[0m\u001b[0mfit_params\u001b[0m\u001b[1;33m)\u001b[0m\u001b[1;33m\u001b[0m\u001b[1;33m\u001b[0m\u001b[0m\n\u001b[0m\u001b[0;32m    740\u001b[0m             \u001b[1;32melse\u001b[0m\u001b[1;33m:\u001b[0m\u001b[1;33m\u001b[0m\u001b[1;33m\u001b[0m\u001b[0m\n\u001b[0;32m    741\u001b[0m                 \u001b[0mself\u001b[0m\u001b[1;33m.\u001b[0m\u001b[0mbest_estimator_\u001b[0m\u001b[1;33m.\u001b[0m\u001b[0mfit\u001b[0m\u001b[1;33m(\u001b[0m\u001b[0mX\u001b[0m\u001b[1;33m,\u001b[0m \u001b[1;33m**\u001b[0m\u001b[0mfit_params\u001b[0m\u001b[1;33m)\u001b[0m\u001b[1;33m\u001b[0m\u001b[1;33m\u001b[0m\u001b[0m\n",
      "\u001b[1;32m~\\anaconda3\\lib\\site-packages\\sklearn\\linear_model\\_logistic.py\u001b[0m in \u001b[0;36mfit\u001b[1;34m(self, X, y, sample_weight)\u001b[0m\n\u001b[0;32m   1599\u001b[0m                       \u001b[0mpenalty\u001b[0m\u001b[1;33m=\u001b[0m\u001b[0mpenalty\u001b[0m\u001b[1;33m,\u001b[0m \u001b[0mmax_squared_sum\u001b[0m\u001b[1;33m=\u001b[0m\u001b[0mmax_squared_sum\u001b[0m\u001b[1;33m,\u001b[0m\u001b[1;33m\u001b[0m\u001b[1;33m\u001b[0m\u001b[0m\n\u001b[0;32m   1600\u001b[0m                       sample_weight=sample_weight)\n\u001b[1;32m-> 1601\u001b[1;33m             for class_, warm_start_coef_ in zip(classes_, warm_start_coef))\n\u001b[0m\u001b[0;32m   1602\u001b[0m \u001b[1;33m\u001b[0m\u001b[0m\n\u001b[0;32m   1603\u001b[0m         \u001b[0mfold_coefs_\u001b[0m\u001b[1;33m,\u001b[0m \u001b[0m_\u001b[0m\u001b[1;33m,\u001b[0m \u001b[0mn_iter_\u001b[0m \u001b[1;33m=\u001b[0m \u001b[0mzip\u001b[0m\u001b[1;33m(\u001b[0m\u001b[1;33m*\u001b[0m\u001b[0mfold_coefs_\u001b[0m\u001b[1;33m)\u001b[0m\u001b[1;33m\u001b[0m\u001b[1;33m\u001b[0m\u001b[0m\n",
      "\u001b[1;32m~\\anaconda3\\lib\\site-packages\\joblib\\parallel.py\u001b[0m in \u001b[0;36m__call__\u001b[1;34m(self, iterable)\u001b[0m\n\u001b[0;32m   1002\u001b[0m             \u001b[1;31m# remaining jobs.\u001b[0m\u001b[1;33m\u001b[0m\u001b[1;33m\u001b[0m\u001b[1;33m\u001b[0m\u001b[0m\n\u001b[0;32m   1003\u001b[0m             \u001b[0mself\u001b[0m\u001b[1;33m.\u001b[0m\u001b[0m_iterating\u001b[0m \u001b[1;33m=\u001b[0m \u001b[1;32mFalse\u001b[0m\u001b[1;33m\u001b[0m\u001b[1;33m\u001b[0m\u001b[0m\n\u001b[1;32m-> 1004\u001b[1;33m             \u001b[1;32mif\u001b[0m \u001b[0mself\u001b[0m\u001b[1;33m.\u001b[0m\u001b[0mdispatch_one_batch\u001b[0m\u001b[1;33m(\u001b[0m\u001b[0miterator\u001b[0m\u001b[1;33m)\u001b[0m\u001b[1;33m:\u001b[0m\u001b[1;33m\u001b[0m\u001b[1;33m\u001b[0m\u001b[0m\n\u001b[0m\u001b[0;32m   1005\u001b[0m                 \u001b[0mself\u001b[0m\u001b[1;33m.\u001b[0m\u001b[0m_iterating\u001b[0m \u001b[1;33m=\u001b[0m \u001b[0mself\u001b[0m\u001b[1;33m.\u001b[0m\u001b[0m_original_iterator\u001b[0m \u001b[1;32mis\u001b[0m \u001b[1;32mnot\u001b[0m \u001b[1;32mNone\u001b[0m\u001b[1;33m\u001b[0m\u001b[1;33m\u001b[0m\u001b[0m\n\u001b[0;32m   1006\u001b[0m \u001b[1;33m\u001b[0m\u001b[0m\n",
      "\u001b[1;32m~\\anaconda3\\lib\\site-packages\\joblib\\parallel.py\u001b[0m in \u001b[0;36mdispatch_one_batch\u001b[1;34m(self, iterator)\u001b[0m\n\u001b[0;32m    833\u001b[0m                 \u001b[1;32mreturn\u001b[0m \u001b[1;32mFalse\u001b[0m\u001b[1;33m\u001b[0m\u001b[1;33m\u001b[0m\u001b[0m\n\u001b[0;32m    834\u001b[0m             \u001b[1;32melse\u001b[0m\u001b[1;33m:\u001b[0m\u001b[1;33m\u001b[0m\u001b[1;33m\u001b[0m\u001b[0m\n\u001b[1;32m--> 835\u001b[1;33m                 \u001b[0mself\u001b[0m\u001b[1;33m.\u001b[0m\u001b[0m_dispatch\u001b[0m\u001b[1;33m(\u001b[0m\u001b[0mtasks\u001b[0m\u001b[1;33m)\u001b[0m\u001b[1;33m\u001b[0m\u001b[1;33m\u001b[0m\u001b[0m\n\u001b[0m\u001b[0;32m    836\u001b[0m                 \u001b[1;32mreturn\u001b[0m \u001b[1;32mTrue\u001b[0m\u001b[1;33m\u001b[0m\u001b[1;33m\u001b[0m\u001b[0m\n\u001b[0;32m    837\u001b[0m \u001b[1;33m\u001b[0m\u001b[0m\n",
      "\u001b[1;32m~\\anaconda3\\lib\\site-packages\\joblib\\parallel.py\u001b[0m in \u001b[0;36m_dispatch\u001b[1;34m(self, batch)\u001b[0m\n\u001b[0;32m    752\u001b[0m         \u001b[1;32mwith\u001b[0m \u001b[0mself\u001b[0m\u001b[1;33m.\u001b[0m\u001b[0m_lock\u001b[0m\u001b[1;33m:\u001b[0m\u001b[1;33m\u001b[0m\u001b[1;33m\u001b[0m\u001b[0m\n\u001b[0;32m    753\u001b[0m             \u001b[0mjob_idx\u001b[0m \u001b[1;33m=\u001b[0m \u001b[0mlen\u001b[0m\u001b[1;33m(\u001b[0m\u001b[0mself\u001b[0m\u001b[1;33m.\u001b[0m\u001b[0m_jobs\u001b[0m\u001b[1;33m)\u001b[0m\u001b[1;33m\u001b[0m\u001b[1;33m\u001b[0m\u001b[0m\n\u001b[1;32m--> 754\u001b[1;33m             \u001b[0mjob\u001b[0m \u001b[1;33m=\u001b[0m \u001b[0mself\u001b[0m\u001b[1;33m.\u001b[0m\u001b[0m_backend\u001b[0m\u001b[1;33m.\u001b[0m\u001b[0mapply_async\u001b[0m\u001b[1;33m(\u001b[0m\u001b[0mbatch\u001b[0m\u001b[1;33m,\u001b[0m \u001b[0mcallback\u001b[0m\u001b[1;33m=\u001b[0m\u001b[0mcb\u001b[0m\u001b[1;33m)\u001b[0m\u001b[1;33m\u001b[0m\u001b[1;33m\u001b[0m\u001b[0m\n\u001b[0m\u001b[0;32m    755\u001b[0m             \u001b[1;31m# A job can complete so quickly than its callback is\u001b[0m\u001b[1;33m\u001b[0m\u001b[1;33m\u001b[0m\u001b[1;33m\u001b[0m\u001b[0m\n\u001b[0;32m    756\u001b[0m             \u001b[1;31m# called before we get here, causing self._jobs to\u001b[0m\u001b[1;33m\u001b[0m\u001b[1;33m\u001b[0m\u001b[1;33m\u001b[0m\u001b[0m\n",
      "\u001b[1;32m~\\anaconda3\\lib\\site-packages\\joblib\\_parallel_backends.py\u001b[0m in \u001b[0;36mapply_async\u001b[1;34m(self, func, callback)\u001b[0m\n\u001b[0;32m    207\u001b[0m     \u001b[1;32mdef\u001b[0m \u001b[0mapply_async\u001b[0m\u001b[1;33m(\u001b[0m\u001b[0mself\u001b[0m\u001b[1;33m,\u001b[0m \u001b[0mfunc\u001b[0m\u001b[1;33m,\u001b[0m \u001b[0mcallback\u001b[0m\u001b[1;33m=\u001b[0m\u001b[1;32mNone\u001b[0m\u001b[1;33m)\u001b[0m\u001b[1;33m:\u001b[0m\u001b[1;33m\u001b[0m\u001b[1;33m\u001b[0m\u001b[0m\n\u001b[0;32m    208\u001b[0m         \u001b[1;34m\"\"\"Schedule a func to be run\"\"\"\u001b[0m\u001b[1;33m\u001b[0m\u001b[1;33m\u001b[0m\u001b[0m\n\u001b[1;32m--> 209\u001b[1;33m         \u001b[0mresult\u001b[0m \u001b[1;33m=\u001b[0m \u001b[0mImmediateResult\u001b[0m\u001b[1;33m(\u001b[0m\u001b[0mfunc\u001b[0m\u001b[1;33m)\u001b[0m\u001b[1;33m\u001b[0m\u001b[1;33m\u001b[0m\u001b[0m\n\u001b[0m\u001b[0;32m    210\u001b[0m         \u001b[1;32mif\u001b[0m \u001b[0mcallback\u001b[0m\u001b[1;33m:\u001b[0m\u001b[1;33m\u001b[0m\u001b[1;33m\u001b[0m\u001b[0m\n\u001b[0;32m    211\u001b[0m             \u001b[0mcallback\u001b[0m\u001b[1;33m(\u001b[0m\u001b[0mresult\u001b[0m\u001b[1;33m)\u001b[0m\u001b[1;33m\u001b[0m\u001b[1;33m\u001b[0m\u001b[0m\n",
      "\u001b[1;32m~\\anaconda3\\lib\\site-packages\\joblib\\_parallel_backends.py\u001b[0m in \u001b[0;36m__init__\u001b[1;34m(self, batch)\u001b[0m\n\u001b[0;32m    588\u001b[0m         \u001b[1;31m# Don't delay the application, to avoid keeping the input\u001b[0m\u001b[1;33m\u001b[0m\u001b[1;33m\u001b[0m\u001b[1;33m\u001b[0m\u001b[0m\n\u001b[0;32m    589\u001b[0m         \u001b[1;31m# arguments in memory\u001b[0m\u001b[1;33m\u001b[0m\u001b[1;33m\u001b[0m\u001b[1;33m\u001b[0m\u001b[0m\n\u001b[1;32m--> 590\u001b[1;33m         \u001b[0mself\u001b[0m\u001b[1;33m.\u001b[0m\u001b[0mresults\u001b[0m \u001b[1;33m=\u001b[0m \u001b[0mbatch\u001b[0m\u001b[1;33m(\u001b[0m\u001b[1;33m)\u001b[0m\u001b[1;33m\u001b[0m\u001b[1;33m\u001b[0m\u001b[0m\n\u001b[0m\u001b[0;32m    591\u001b[0m \u001b[1;33m\u001b[0m\u001b[0m\n\u001b[0;32m    592\u001b[0m     \u001b[1;32mdef\u001b[0m \u001b[0mget\u001b[0m\u001b[1;33m(\u001b[0m\u001b[0mself\u001b[0m\u001b[1;33m)\u001b[0m\u001b[1;33m:\u001b[0m\u001b[1;33m\u001b[0m\u001b[1;33m\u001b[0m\u001b[0m\n",
      "\u001b[1;32m~\\anaconda3\\lib\\site-packages\\joblib\\parallel.py\u001b[0m in \u001b[0;36m__call__\u001b[1;34m(self)\u001b[0m\n\u001b[0;32m    254\u001b[0m         \u001b[1;32mwith\u001b[0m \u001b[0mparallel_backend\u001b[0m\u001b[1;33m(\u001b[0m\u001b[0mself\u001b[0m\u001b[1;33m.\u001b[0m\u001b[0m_backend\u001b[0m\u001b[1;33m,\u001b[0m \u001b[0mn_jobs\u001b[0m\u001b[1;33m=\u001b[0m\u001b[0mself\u001b[0m\u001b[1;33m.\u001b[0m\u001b[0m_n_jobs\u001b[0m\u001b[1;33m)\u001b[0m\u001b[1;33m:\u001b[0m\u001b[1;33m\u001b[0m\u001b[1;33m\u001b[0m\u001b[0m\n\u001b[0;32m    255\u001b[0m             return [func(*args, **kwargs)\n\u001b[1;32m--> 256\u001b[1;33m                     for func, args, kwargs in self.items]\n\u001b[0m\u001b[0;32m    257\u001b[0m \u001b[1;33m\u001b[0m\u001b[0m\n\u001b[0;32m    258\u001b[0m     \u001b[1;32mdef\u001b[0m \u001b[0m__len__\u001b[0m\u001b[1;33m(\u001b[0m\u001b[0mself\u001b[0m\u001b[1;33m)\u001b[0m\u001b[1;33m:\u001b[0m\u001b[1;33m\u001b[0m\u001b[1;33m\u001b[0m\u001b[0m\n",
      "\u001b[1;32m~\\anaconda3\\lib\\site-packages\\joblib\\parallel.py\u001b[0m in \u001b[0;36m<listcomp>\u001b[1;34m(.0)\u001b[0m\n\u001b[0;32m    254\u001b[0m         \u001b[1;32mwith\u001b[0m \u001b[0mparallel_backend\u001b[0m\u001b[1;33m(\u001b[0m\u001b[0mself\u001b[0m\u001b[1;33m.\u001b[0m\u001b[0m_backend\u001b[0m\u001b[1;33m,\u001b[0m \u001b[0mn_jobs\u001b[0m\u001b[1;33m=\u001b[0m\u001b[0mself\u001b[0m\u001b[1;33m.\u001b[0m\u001b[0m_n_jobs\u001b[0m\u001b[1;33m)\u001b[0m\u001b[1;33m:\u001b[0m\u001b[1;33m\u001b[0m\u001b[1;33m\u001b[0m\u001b[0m\n\u001b[0;32m    255\u001b[0m             return [func(*args, **kwargs)\n\u001b[1;32m--> 256\u001b[1;33m                     for func, args, kwargs in self.items]\n\u001b[0m\u001b[0;32m    257\u001b[0m \u001b[1;33m\u001b[0m\u001b[0m\n\u001b[0;32m    258\u001b[0m     \u001b[1;32mdef\u001b[0m \u001b[0m__len__\u001b[0m\u001b[1;33m(\u001b[0m\u001b[0mself\u001b[0m\u001b[1;33m)\u001b[0m\u001b[1;33m:\u001b[0m\u001b[1;33m\u001b[0m\u001b[1;33m\u001b[0m\u001b[0m\n",
      "\u001b[1;32m~\\anaconda3\\lib\\site-packages\\sklearn\\linear_model\\_logistic.py\u001b[0m in \u001b[0;36m_logistic_regression_path\u001b[1;34m(X, y, pos_class, Cs, fit_intercept, max_iter, tol, verbose, solver, coef, class_weight, dual, penalty, intercept_scaling, multi_class, random_state, check_input, max_squared_sum, sample_weight, l1_ratio)\u001b[0m\n\u001b[0;32m    841\u001b[0m     \u001b[0mle\u001b[0m \u001b[1;33m=\u001b[0m \u001b[0mLabelEncoder\u001b[0m\u001b[1;33m(\u001b[0m\u001b[1;33m)\u001b[0m\u001b[1;33m\u001b[0m\u001b[1;33m\u001b[0m\u001b[0m\n\u001b[0;32m    842\u001b[0m     \u001b[1;32mif\u001b[0m \u001b[0misinstance\u001b[0m\u001b[1;33m(\u001b[0m\u001b[0mclass_weight\u001b[0m\u001b[1;33m,\u001b[0m \u001b[0mdict\u001b[0m\u001b[1;33m)\u001b[0m \u001b[1;32mor\u001b[0m \u001b[0mmulti_class\u001b[0m \u001b[1;33m==\u001b[0m \u001b[1;34m'multinomial'\u001b[0m\u001b[1;33m:\u001b[0m\u001b[1;33m\u001b[0m\u001b[1;33m\u001b[0m\u001b[0m\n\u001b[1;32m--> 843\u001b[1;33m         \u001b[0mclass_weight_\u001b[0m \u001b[1;33m=\u001b[0m \u001b[0mcompute_class_weight\u001b[0m\u001b[1;33m(\u001b[0m\u001b[0mclass_weight\u001b[0m\u001b[1;33m,\u001b[0m \u001b[0mclasses\u001b[0m\u001b[1;33m,\u001b[0m \u001b[0my\u001b[0m\u001b[1;33m)\u001b[0m\u001b[1;33m\u001b[0m\u001b[1;33m\u001b[0m\u001b[0m\n\u001b[0m\u001b[0;32m    844\u001b[0m         \u001b[0msample_weight\u001b[0m \u001b[1;33m*=\u001b[0m \u001b[0mclass_weight_\u001b[0m\u001b[1;33m[\u001b[0m\u001b[0mle\u001b[0m\u001b[1;33m.\u001b[0m\u001b[0mfit_transform\u001b[0m\u001b[1;33m(\u001b[0m\u001b[0my\u001b[0m\u001b[1;33m)\u001b[0m\u001b[1;33m]\u001b[0m\u001b[1;33m\u001b[0m\u001b[1;33m\u001b[0m\u001b[0m\n\u001b[0;32m    845\u001b[0m \u001b[1;33m\u001b[0m\u001b[0m\n",
      "\u001b[1;32m~\\anaconda3\\lib\\site-packages\\sklearn\\utils\\class_weight.py\u001b[0m in \u001b[0;36mcompute_class_weight\u001b[1;34m(class_weight, classes, y)\u001b[0m\n\u001b[0;32m     63\u001b[0m             \u001b[0mi\u001b[0m \u001b[1;33m=\u001b[0m \u001b[0mnp\u001b[0m\u001b[1;33m.\u001b[0m\u001b[0msearchsorted\u001b[0m\u001b[1;33m(\u001b[0m\u001b[0mclasses\u001b[0m\u001b[1;33m,\u001b[0m \u001b[0mc\u001b[0m\u001b[1;33m)\u001b[0m\u001b[1;33m\u001b[0m\u001b[1;33m\u001b[0m\u001b[0m\n\u001b[0;32m     64\u001b[0m             \u001b[1;32mif\u001b[0m \u001b[0mi\u001b[0m \u001b[1;33m>=\u001b[0m \u001b[0mlen\u001b[0m\u001b[1;33m(\u001b[0m\u001b[0mclasses\u001b[0m\u001b[1;33m)\u001b[0m \u001b[1;32mor\u001b[0m \u001b[0mclasses\u001b[0m\u001b[1;33m[\u001b[0m\u001b[0mi\u001b[0m\u001b[1;33m]\u001b[0m \u001b[1;33m!=\u001b[0m \u001b[0mc\u001b[0m\u001b[1;33m:\u001b[0m\u001b[1;33m\u001b[0m\u001b[1;33m\u001b[0m\u001b[0m\n\u001b[1;32m---> 65\u001b[1;33m                 \u001b[1;32mraise\u001b[0m \u001b[0mValueError\u001b[0m\u001b[1;33m(\u001b[0m\u001b[1;34m\"Class label {} not present.\"\u001b[0m\u001b[1;33m.\u001b[0m\u001b[0mformat\u001b[0m\u001b[1;33m(\u001b[0m\u001b[0mc\u001b[0m\u001b[1;33m)\u001b[0m\u001b[1;33m)\u001b[0m\u001b[1;33m\u001b[0m\u001b[1;33m\u001b[0m\u001b[0m\n\u001b[0m\u001b[0;32m     66\u001b[0m             \u001b[1;32melse\u001b[0m\u001b[1;33m:\u001b[0m\u001b[1;33m\u001b[0m\u001b[1;33m\u001b[0m\u001b[0m\n\u001b[0;32m     67\u001b[0m                 \u001b[0mweight\u001b[0m\u001b[1;33m[\u001b[0m\u001b[0mi\u001b[0m\u001b[1;33m]\u001b[0m \u001b[1;33m=\u001b[0m \u001b[0mclass_weight\u001b[0m\u001b[1;33m[\u001b[0m\u001b[0mc\u001b[0m\u001b[1;33m]\u001b[0m\u001b[1;33m\u001b[0m\u001b[1;33m\u001b[0m\u001b[0m\n",
      "\u001b[1;31mValueError\u001b[0m: Class label 0 not present."
     ]
    }
   ],
   "source": [
    "from sklearn.model_selection import GridSearchCV, StratifiedKFold\n",
    "lr = LogisticRegression(solver='newton-cg')\n",
    "\n",
    "#Setting the range for class weights\n",
    "weights = np.linspace(0.0,0.99,200)\n",
    "\n",
    "#Creating a dictionary grid for grid search\n",
    "param_grid = {'class_weight': [{0:x, 1:1.0-x} for x in weights]}\n",
    "\n",
    "#Fitting grid search to the train data with 5 folds\n",
    "gridsearch = GridSearchCV(estimator= lr, \n",
    "                          param_grid= param_grid,\n",
    "                          cv=StratifiedKFold(), \n",
    "                          n_jobs=-1, \n",
    "                          scoring='f1', \n",
    "                          verbose=2).fit(train_container_wage.inputs, ys_train_wage)\n",
    "\n"
   ]
  },
  {
   "cell_type": "code",
   "execution_count": null,
   "metadata": {},
   "outputs": [],
   "source": [
    "#Ploting the score for different values of weight\n",
    "sns.set_style('whitegrid')\n",
    "plt.figure(figsize=(12,8))\n",
    "weigh_data = pd.DataFrame({ 'score': gridsearch.cv_results_['mean_test_score'], 'weight': (1- weights)})\n",
    "sns.lineplot(weigh_data['weight'], weigh_data['score'])\n",
    "plt.xlabel('Weight for class 1')\n",
    "plt.ylabel('F1 score')\n",
    "plt.xticks([round(i/10,1) for i in range(0,11,1)])\n",
    "plt.title('Scoring for different class weights', fontsize=24)"
   ]
  },
  {
   "cell_type": "code",
   "execution_count": null,
   "metadata": {},
   "outputs": [],
   "source": [
    "#importing and training the model\n",
    "from sklearn.linear_model import LogisticRegression\n",
    "lr = LogisticRegression(solver='newton-cg', class_weight={0: 0.06467336683417085, 1: 0.9353266331658292})\n",
    "lr.fit(x_train, y_train)\n",
    "\n",
    "# Predicting on the test data\n",
    "pred_test = lr.predict(x_test)\n",
    "\n",
    "#Calculating and printing the f1 score \n",
    "f1_test = f1_score(y_test, pred_test)\n",
    "print('The f1 score for the testing data:', f1_test)"
   ]
  },
  {
   "cell_type": "code",
   "execution_count": 61,
   "metadata": {},
   "outputs": [],
   "source": [
    "def conf_matrix(y_test_1, pred_test_1):    \n",
    "    \n",
    "    # Creating a confusion matrix\n",
    "    con_mat = confusion_matrix(y_test_1, pred_test_1)\n",
    "    con_mat = pd.DataFrame(con_mat, range(2), range(2))\n",
    "   \n",
    "    #Ploting the confusion matrix\n",
    "    plt.figure(figsize=(6,6))\n",
    "    sns.set(font_scale=1.5) \n",
    "    sns.heatmap(con_mat, annot=True, annot_kws={\"size\": 16}, fmt='g', cmap='Blues', cbar=False)"
   ]
  },
  {
   "cell_type": "code",
   "execution_count": null,
   "metadata": {},
   "outputs": [],
   "source": []
  },
  {
   "cell_type": "code",
   "execution_count": null,
   "metadata": {},
   "outputs": [],
   "source": []
  },
  {
   "cell_type": "code",
   "execution_count": null,
   "metadata": {},
   "outputs": [],
   "source": []
  },
  {
   "cell_type": "code",
   "execution_count": 21,
   "metadata": {},
   "outputs": [
    {
     "name": "stdout",
     "output_type": "stream",
     "text": [
      "Wyniki:  [0.01322424 0.01642396 0.02120496 0.01897215 0.02023691 0.01213451\n",
      " 0.01244873 0.06187792 0.03358056 0.01751582]\n",
      "Średnia:  0.02276197484648885\n",
      "Odchylenie standardowe:  0.01431163446169649\n"
     ]
    }
   ],
   "source": [
    "#sprawdzanie modelu\n",
    "\n",
    "from sklearn.model_selection import cross_val_score\n",
    "\n",
    "lin_scores = cross_val_score(lin_reg,nemak,output,\n",
    "                            scoring='neg_mean_squared_error',cv=10)\n",
    "\n",
    "lin_rmse_scores = np.sqrt(-lin_scores)\n",
    "\n",
    "display_scores(lin_rmse_scores)"
   ]
  },
  {
   "cell_type": "code",
   "execution_count": 175,
   "metadata": {},
   "outputs": [],
   "source": [
    "test_set_x=test_container.outputs\n",
    "test_set_y= test_container.inputs\n",
    "\n",
    "w=clf_dec.predict(test_container.inputs)"
   ]
  },
  {
   "cell_type": "code",
   "execution_count": 182,
   "metadata": {},
   "outputs": [
    {
     "name": "stdout",
     "output_type": "stream",
     "text": [
      "2340\n",
      "2340\n"
     ]
    }
   ],
   "source": [
    "x = range(2340)\n",
    "print (len(test_set_y))\n",
    "print(len(w))"
   ]
  },
  {
   "cell_type": "code",
   "execution_count": 179,
   "metadata": {},
   "outputs": [
    {
     "data": {
      "text/plain": [
       "<matplotlib.collections.PathCollection at 0x202f418c108>"
      ]
     },
     "execution_count": 179,
     "metadata": {},
     "output_type": "execute_result"
    },
    {
     "data": {
      "image/png": "[encoded data removed]",
      "text/plain": [
       "<Figure size 432x288 with 1 Axes>"
      ]
     },
     "metadata": {
      "needs_background": "light"
     },
     "output_type": "display_data"
    }
   ],
   "source": [
    "plt.scatter(x,w)\n"
   ]
  },
  {
   "cell_type": "code",
   "execution_count": 180,
   "metadata": {},
   "outputs": [
    {
     "ename": "ValueError",
     "evalue": "x and y must be the same size",
     "output_type": "error",
     "traceback": [
      "\u001b[1;31m---------------------------------------------------------------------------\u001b[0m",
      "\u001b[1;31mValueError\u001b[0m                                Traceback (most recent call last)",
      "\u001b[1;32m<ipython-input-180-4d88c28efe4e>\u001b[0m in \u001b[0;36m<module>\u001b[1;34m\u001b[0m\n\u001b[1;32m----> 1\u001b[1;33m \u001b[0mplt\u001b[0m\u001b[1;33m.\u001b[0m\u001b[0mscatter\u001b[0m\u001b[1;33m(\u001b[0m\u001b[0mx\u001b[0m\u001b[1;33m,\u001b[0m\u001b[0mtest_set_y\u001b[0m\u001b[1;33m)\u001b[0m\u001b[1;33m\u001b[0m\u001b[1;33m\u001b[0m\u001b[0m\n\u001b[0m",
      "\u001b[1;32m~\\anaconda3\\lib\\site-packages\\matplotlib\\pyplot.py\u001b[0m in \u001b[0;36mscatter\u001b[1;34m(x, y, s, c, marker, cmap, norm, vmin, vmax, alpha, linewidths, verts, edgecolors, plotnonfinite, data, **kwargs)\u001b[0m\n\u001b[0;32m   2846\u001b[0m         \u001b[0mverts\u001b[0m\u001b[1;33m=\u001b[0m\u001b[0mverts\u001b[0m\u001b[1;33m,\u001b[0m \u001b[0medgecolors\u001b[0m\u001b[1;33m=\u001b[0m\u001b[0medgecolors\u001b[0m\u001b[1;33m,\u001b[0m\u001b[1;33m\u001b[0m\u001b[1;33m\u001b[0m\u001b[0m\n\u001b[0;32m   2847\u001b[0m         plotnonfinite=plotnonfinite, **({\"data\": data} if data is not\n\u001b[1;32m-> 2848\u001b[1;33m         None else {}), **kwargs)\n\u001b[0m\u001b[0;32m   2849\u001b[0m     \u001b[0msci\u001b[0m\u001b[1;33m(\u001b[0m\u001b[0m__ret\u001b[0m\u001b[1;33m)\u001b[0m\u001b[1;33m\u001b[0m\u001b[1;33m\u001b[0m\u001b[0m\n\u001b[0;32m   2850\u001b[0m     \u001b[1;32mreturn\u001b[0m \u001b[0m__ret\u001b[0m\u001b[1;33m\u001b[0m\u001b[1;33m\u001b[0m\u001b[0m\n",
      "\u001b[1;32m~\\anaconda3\\lib\\site-packages\\matplotlib\\__init__.py\u001b[0m in \u001b[0;36minner\u001b[1;34m(ax, data, *args, **kwargs)\u001b[0m\n\u001b[0;32m   1597\u001b[0m     \u001b[1;32mdef\u001b[0m \u001b[0minner\u001b[0m\u001b[1;33m(\u001b[0m\u001b[0max\u001b[0m\u001b[1;33m,\u001b[0m \u001b[1;33m*\u001b[0m\u001b[0margs\u001b[0m\u001b[1;33m,\u001b[0m \u001b[0mdata\u001b[0m\u001b[1;33m=\u001b[0m\u001b[1;32mNone\u001b[0m\u001b[1;33m,\u001b[0m \u001b[1;33m**\u001b[0m\u001b[0mkwargs\u001b[0m\u001b[1;33m)\u001b[0m\u001b[1;33m:\u001b[0m\u001b[1;33m\u001b[0m\u001b[1;33m\u001b[0m\u001b[0m\n\u001b[0;32m   1598\u001b[0m         \u001b[1;32mif\u001b[0m \u001b[0mdata\u001b[0m \u001b[1;32mis\u001b[0m \u001b[1;32mNone\u001b[0m\u001b[1;33m:\u001b[0m\u001b[1;33m\u001b[0m\u001b[1;33m\u001b[0m\u001b[0m\n\u001b[1;32m-> 1599\u001b[1;33m             \u001b[1;32mreturn\u001b[0m \u001b[0mfunc\u001b[0m\u001b[1;33m(\u001b[0m\u001b[0max\u001b[0m\u001b[1;33m,\u001b[0m \u001b[1;33m*\u001b[0m\u001b[0mmap\u001b[0m\u001b[1;33m(\u001b[0m\u001b[0msanitize_sequence\u001b[0m\u001b[1;33m,\u001b[0m \u001b[0margs\u001b[0m\u001b[1;33m)\u001b[0m\u001b[1;33m,\u001b[0m \u001b[1;33m**\u001b[0m\u001b[0mkwargs\u001b[0m\u001b[1;33m)\u001b[0m\u001b[1;33m\u001b[0m\u001b[1;33m\u001b[0m\u001b[0m\n\u001b[0m\u001b[0;32m   1600\u001b[0m \u001b[1;33m\u001b[0m\u001b[0m\n\u001b[0;32m   1601\u001b[0m         \u001b[0mbound\u001b[0m \u001b[1;33m=\u001b[0m \u001b[0mnew_sig\u001b[0m\u001b[1;33m.\u001b[0m\u001b[0mbind\u001b[0m\u001b[1;33m(\u001b[0m\u001b[0max\u001b[0m\u001b[1;33m,\u001b[0m \u001b[1;33m*\u001b[0m\u001b[0margs\u001b[0m\u001b[1;33m,\u001b[0m \u001b[1;33m**\u001b[0m\u001b[0mkwargs\u001b[0m\u001b[1;33m)\u001b[0m\u001b[1;33m\u001b[0m\u001b[1;33m\u001b[0m\u001b[0m\n",
      "\u001b[1;32m~\\anaconda3\\lib\\site-packages\\matplotlib\\axes\\_axes.py\u001b[0m in \u001b[0;36mscatter\u001b[1;34m(self, x, y, s, c, marker, cmap, norm, vmin, vmax, alpha, linewidths, verts, edgecolors, plotnonfinite, **kwargs)\u001b[0m\n\u001b[0;32m   4441\u001b[0m         \u001b[0my\u001b[0m \u001b[1;33m=\u001b[0m \u001b[0mnp\u001b[0m\u001b[1;33m.\u001b[0m\u001b[0mma\u001b[0m\u001b[1;33m.\u001b[0m\u001b[0mravel\u001b[0m\u001b[1;33m(\u001b[0m\u001b[0my\u001b[0m\u001b[1;33m)\u001b[0m\u001b[1;33m\u001b[0m\u001b[1;33m\u001b[0m\u001b[0m\n\u001b[0;32m   4442\u001b[0m         \u001b[1;32mif\u001b[0m \u001b[0mx\u001b[0m\u001b[1;33m.\u001b[0m\u001b[0msize\u001b[0m \u001b[1;33m!=\u001b[0m \u001b[0my\u001b[0m\u001b[1;33m.\u001b[0m\u001b[0msize\u001b[0m\u001b[1;33m:\u001b[0m\u001b[1;33m\u001b[0m\u001b[1;33m\u001b[0m\u001b[0m\n\u001b[1;32m-> 4443\u001b[1;33m             \u001b[1;32mraise\u001b[0m \u001b[0mValueError\u001b[0m\u001b[1;33m(\u001b[0m\u001b[1;34m\"x and y must be the same size\"\u001b[0m\u001b[1;33m)\u001b[0m\u001b[1;33m\u001b[0m\u001b[1;33m\u001b[0m\u001b[0m\n\u001b[0m\u001b[0;32m   4444\u001b[0m \u001b[1;33m\u001b[0m\u001b[0m\n\u001b[0;32m   4445\u001b[0m         \u001b[1;32mif\u001b[0m \u001b[0ms\u001b[0m \u001b[1;32mis\u001b[0m \u001b[1;32mNone\u001b[0m\u001b[1;33m:\u001b[0m\u001b[1;33m\u001b[0m\u001b[1;33m\u001b[0m\u001b[0m\n",
      "\u001b[1;31mValueError\u001b[0m: x and y must be the same size"
     ]
    },
    {
     "data": {
      "image/png": "[encoded data removed]",
      "text/plain": [
       "<Figure size 432x288 with 1 Axes>"
      ]
     },
     "metadata": {
      "needs_background": "light"
     },
     "output_type": "display_data"
    }
   ],
   "source": [
    "plt.scatter(x,test_set_y)"
   ]
  },
  {
   "cell_type": "code",
   "execution_count": 183,
   "metadata": {},
   "outputs": [
    {
     "ename": "ValueError",
     "evalue": "x and y must be the same size",
     "output_type": "error",
     "traceback": [
      "\u001b[1;31m---------------------------------------------------------------------------\u001b[0m",
      "\u001b[1;31mValueError\u001b[0m                                Traceback (most recent call last)",
      "\u001b[1;32m<ipython-input-183-0a7a293d4f15>\u001b[0m in \u001b[0;36m<module>\u001b[1;34m\u001b[0m\n\u001b[1;32m----> 1\u001b[1;33m \u001b[0mplt\u001b[0m\u001b[1;33m.\u001b[0m\u001b[0mscatter\u001b[0m\u001b[1;33m(\u001b[0m\u001b[0mtest_set_y\u001b[0m\u001b[1;33m,\u001b[0m\u001b[0mw\u001b[0m\u001b[1;33m)\u001b[0m\u001b[1;33m\u001b[0m\u001b[1;33m\u001b[0m\u001b[0m\n\u001b[0m",
      "\u001b[1;32m~\\anaconda3\\lib\\site-packages\\matplotlib\\pyplot.py\u001b[0m in \u001b[0;36mscatter\u001b[1;34m(x, y, s, c, marker, cmap, norm, vmin, vmax, alpha, linewidths, verts, edgecolors, plotnonfinite, data, **kwargs)\u001b[0m\n\u001b[0;32m   2846\u001b[0m         \u001b[0mverts\u001b[0m\u001b[1;33m=\u001b[0m\u001b[0mverts\u001b[0m\u001b[1;33m,\u001b[0m \u001b[0medgecolors\u001b[0m\u001b[1;33m=\u001b[0m\u001b[0medgecolors\u001b[0m\u001b[1;33m,\u001b[0m\u001b[1;33m\u001b[0m\u001b[1;33m\u001b[0m\u001b[0m\n\u001b[0;32m   2847\u001b[0m         plotnonfinite=plotnonfinite, **({\"data\": data} if data is not\n\u001b[1;32m-> 2848\u001b[1;33m         None else {}), **kwargs)\n\u001b[0m\u001b[0;32m   2849\u001b[0m     \u001b[0msci\u001b[0m\u001b[1;33m(\u001b[0m\u001b[0m__ret\u001b[0m\u001b[1;33m)\u001b[0m\u001b[1;33m\u001b[0m\u001b[1;33m\u001b[0m\u001b[0m\n\u001b[0;32m   2850\u001b[0m     \u001b[1;32mreturn\u001b[0m \u001b[0m__ret\u001b[0m\u001b[1;33m\u001b[0m\u001b[1;33m\u001b[0m\u001b[0m\n",
      "\u001b[1;32m~\\anaconda3\\lib\\site-packages\\matplotlib\\__init__.py\u001b[0m in \u001b[0;36minner\u001b[1;34m(ax, data, *args, **kwargs)\u001b[0m\n\u001b[0;32m   1597\u001b[0m     \u001b[1;32mdef\u001b[0m \u001b[0minner\u001b[0m\u001b[1;33m(\u001b[0m\u001b[0max\u001b[0m\u001b[1;33m,\u001b[0m \u001b[1;33m*\u001b[0m\u001b[0margs\u001b[0m\u001b[1;33m,\u001b[0m \u001b[0mdata\u001b[0m\u001b[1;33m=\u001b[0m\u001b[1;32mNone\u001b[0m\u001b[1;33m,\u001b[0m \u001b[1;33m**\u001b[0m\u001b[0mkwargs\u001b[0m\u001b[1;33m)\u001b[0m\u001b[1;33m:\u001b[0m\u001b[1;33m\u001b[0m\u001b[1;33m\u001b[0m\u001b[0m\n\u001b[0;32m   1598\u001b[0m         \u001b[1;32mif\u001b[0m \u001b[0mdata\u001b[0m \u001b[1;32mis\u001b[0m \u001b[1;32mNone\u001b[0m\u001b[1;33m:\u001b[0m\u001b[1;33m\u001b[0m\u001b[1;33m\u001b[0m\u001b[0m\n\u001b[1;32m-> 1599\u001b[1;33m             \u001b[1;32mreturn\u001b[0m \u001b[0mfunc\u001b[0m\u001b[1;33m(\u001b[0m\u001b[0max\u001b[0m\u001b[1;33m,\u001b[0m \u001b[1;33m*\u001b[0m\u001b[0mmap\u001b[0m\u001b[1;33m(\u001b[0m\u001b[0msanitize_sequence\u001b[0m\u001b[1;33m,\u001b[0m \u001b[0margs\u001b[0m\u001b[1;33m)\u001b[0m\u001b[1;33m,\u001b[0m \u001b[1;33m**\u001b[0m\u001b[0mkwargs\u001b[0m\u001b[1;33m)\u001b[0m\u001b[1;33m\u001b[0m\u001b[1;33m\u001b[0m\u001b[0m\n\u001b[0m\u001b[0;32m   1600\u001b[0m \u001b[1;33m\u001b[0m\u001b[0m\n\u001b[0;32m   1601\u001b[0m         \u001b[0mbound\u001b[0m \u001b[1;33m=\u001b[0m \u001b[0mnew_sig\u001b[0m\u001b[1;33m.\u001b[0m\u001b[0mbind\u001b[0m\u001b[1;33m(\u001b[0m\u001b[0max\u001b[0m\u001b[1;33m,\u001b[0m \u001b[1;33m*\u001b[0m\u001b[0margs\u001b[0m\u001b[1;33m,\u001b[0m \u001b[1;33m**\u001b[0m\u001b[0mkwargs\u001b[0m\u001b[1;33m)\u001b[0m\u001b[1;33m\u001b[0m\u001b[1;33m\u001b[0m\u001b[0m\n",
      "\u001b[1;32m~\\anaconda3\\lib\\site-packages\\matplotlib\\axes\\_axes.py\u001b[0m in \u001b[0;36mscatter\u001b[1;34m(self, x, y, s, c, marker, cmap, norm, vmin, vmax, alpha, linewidths, verts, edgecolors, plotnonfinite, **kwargs)\u001b[0m\n\u001b[0;32m   4441\u001b[0m         \u001b[0my\u001b[0m \u001b[1;33m=\u001b[0m \u001b[0mnp\u001b[0m\u001b[1;33m.\u001b[0m\u001b[0mma\u001b[0m\u001b[1;33m.\u001b[0m\u001b[0mravel\u001b[0m\u001b[1;33m(\u001b[0m\u001b[0my\u001b[0m\u001b[1;33m)\u001b[0m\u001b[1;33m\u001b[0m\u001b[1;33m\u001b[0m\u001b[0m\n\u001b[0;32m   4442\u001b[0m         \u001b[1;32mif\u001b[0m \u001b[0mx\u001b[0m\u001b[1;33m.\u001b[0m\u001b[0msize\u001b[0m \u001b[1;33m!=\u001b[0m \u001b[0my\u001b[0m\u001b[1;33m.\u001b[0m\u001b[0msize\u001b[0m\u001b[1;33m:\u001b[0m\u001b[1;33m\u001b[0m\u001b[1;33m\u001b[0m\u001b[0m\n\u001b[1;32m-> 4443\u001b[1;33m             \u001b[1;32mraise\u001b[0m \u001b[0mValueError\u001b[0m\u001b[1;33m(\u001b[0m\u001b[1;34m\"x and y must be the same size\"\u001b[0m\u001b[1;33m)\u001b[0m\u001b[1;33m\u001b[0m\u001b[1;33m\u001b[0m\u001b[0m\n\u001b[0m\u001b[0;32m   4444\u001b[0m \u001b[1;33m\u001b[0m\u001b[0m\n\u001b[0;32m   4445\u001b[0m         \u001b[1;32mif\u001b[0m \u001b[0ms\u001b[0m \u001b[1;32mis\u001b[0m \u001b[1;32mNone\u001b[0m\u001b[1;33m:\u001b[0m\u001b[1;33m\u001b[0m\u001b[1;33m\u001b[0m\u001b[0m\n",
      "\u001b[1;31mValueError\u001b[0m: x and y must be the same size"
     ]
    },
    {
     "data": {
      "image/png": "[encoded data removed]",
      "text/plain": [
       "<Figure size 432x288 with 1 Axes>"
      ]
     },
     "metadata": {
      "needs_background": "light"
     },
     "output_type": "display_data"
    }
   ],
   "source": [
    "plt.scatter(test_set_y,w)"
   ]
  },
  {
   "cell_type": "markdown",
   "metadata": {},
   "source": [
    "# Ocena modelu "
   ]
  },
  {
   "cell_type": "code",
   "execution_count": 27,
   "metadata": {},
   "outputs": [
    {
     "data": {
      "text/plain": [
       "0.0248600760970223"
      ]
     },
     "execution_count": 27,
     "metadata": {},
     "output_type": "execute_result"
    }
   ],
   "source": [
    "\n",
    "X_test = test_set.drop(['Leakage_High','LeakageHighStatus'],axis=1)\n",
    "y_test = test_set['Leakage_High']\n",
    "\n",
    "final_predictions = lin_reg.predict(X_test)\n",
    "\n",
    "final_mse = mean_squared_error(y_test,final_predictions)\n",
    "final_rmse = np.sqrt(final_mse)\n",
    "\n",
    "final_rmse"
   ]
  },
  {
   "cell_type": "markdown",
   "metadata": {},
   "source": [
    "# ---------------------------------------------------------------------------------\n"
   ]
  },
  {
   "cell_type": "code",
   "execution_count": null,
   "metadata": {},
   "outputs": [],
   "source": []
  },
  {
   "cell_type": "code",
   "execution_count": null,
   "metadata": {},
   "outputs": [],
   "source": []
  },
  {
   "cell_type": "code",
   "execution_count": null,
   "metadata": {},
   "outputs": [],
   "source": [
    "\n"
   ]
  },
  {
   "cell_type": "code",
   "execution_count": null,
   "metadata": {},
   "outputs": [],
   "source": []
  },
  {
   "cell_type": "code",
   "execution_count": null,
   "metadata": {},
   "outputs": [],
   "source": []
  },
  {
   "cell_type": "code",
   "execution_count": null,
   "metadata": {},
   "outputs": [],
   "source": []
  },
  {
   "cell_type": "code",
   "execution_count": null,
   "metadata": {},
   "outputs": [],
   "source": []
  },
  {
   "cell_type": "code",
   "execution_count": null,
   "metadata": {},
   "outputs": [],
   "source": []
  },
  {
   "cell_type": "code",
   "execution_count": null,
   "metadata": {},
   "outputs": [],
   "source": []
  },
  {
   "cell_type": "code",
   "execution_count": null,
   "metadata": {},
   "outputs": [],
   "source": []
  },
  {
   "cell_type": "code",
   "execution_count": null,
   "metadata": {},
   "outputs": [],
   "source": []
  }
 ],
 "metadata": {
  "kernelspec": {
   "display_name": "Python 3",
   "language": "python",
   "name": "python3"
  },
  "language_info": {
   "codemirror_mode": {
    "name": "ipython",
    "version": 3
   },
   "file_extension": ".py",
   "mimetype": "text/x-python",
   "name": "python",
   "nbconvert_exporter": "python",
   "pygments_lexer": "ipython3",
   "version": "3.7.6"
  },
  "widgets": {
   "application/vnd.jupyter.widget-state+json": {
    "state": {},
    "version_major": 2,
    "version_minor": 0
   }
  }
 },
 "nbformat": 4,
 "nbformat_minor": 4
}
