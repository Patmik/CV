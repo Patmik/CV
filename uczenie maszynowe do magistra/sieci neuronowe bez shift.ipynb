{
 "cells": [
  {
   "cell_type": "code",
   "execution_count": 1,
   "metadata": {},
   "outputs": [],
   "source": [
    "import pandas as pd\n",
    "import numpy as np\n",
    "import matplotlib.pyplot as plt"
   ]
  },
  {
   "cell_type": "code",
   "execution_count": 2,
   "metadata": {},
   "outputs": [],
   "source": [
    "nemak_raw = pd.read_excel('NEMAK_wybrane.xlsx')"
   ]
  },
  {
   "cell_type": "code",
   "execution_count": 3,
   "metadata": {},
   "outputs": [],
   "source": [
    "clean_nemak_raw = nemak_raw.dropna(how='any')"
   ]
  },
  {
   "cell_type": "code",
   "execution_count": 4,
   "metadata": {},
   "outputs": [
    {
     "name": "stderr",
     "output_type": "stream",
     "text": [
      "C:\\Users\\patry\\anaconda3\\lib\\site-packages\\ipykernel_launcher.py:1: SettingWithCopyWarning: \n",
      "A value is trying to be set on a copy of a slice from a DataFrame.\n",
      "Try using .loc[row_indexer,col_indexer] = value instead\n",
      "\n",
      "See the caveats in the documentation: https://pandas.pydata.org/pandas-docs/stable/user_guide/indexing.html#returning-a-view-versus-a-copy\n",
      "  \"\"\"Entry point for launching an IPython kernel.\n"
     ]
    }
   ],
   "source": [
    "clean_nemak_raw['status_value'] = clean_nemak_raw['Leakage_High'].apply(lambda x: 1 if x <=0.125 else 0)"
   ]
  },
  {
   "cell_type": "code",
   "execution_count": 5,
   "metadata": {},
   "outputs": [],
   "source": [
    "import random\n",
    "\n",
    "class Status:\n",
    "    GOOD = \"GOOD\"\n",
    "    NO_GOOD = \"NO GOOD\"\n",
    "    \n",
    "    \n",
    "class Leakage:\n",
    "    def __init__(self,value ):\n",
    "        self.value = value\n",
    "        self.leakage_status = self.get_leakage_status()\n",
    "        \n",
    "    def get_leakage_status(self):\n",
    "        if self.value<=0.125:\n",
    "            return Status.GOOD\n",
    "        else:\n",
    "            return Status.NO_GOOD\n",
    "\n",
    "\n",
    "class LeakageContainer:\n",
    "    def __init__(self,inputs, outputs):\n",
    "        self.inputs = inputs\n",
    "        self.outputs = outputs\n",
    "        self.conected = self.connect()\n",
    "        \n",
    "        \n",
    "    def connect(self):\n",
    "        #return list(zip(self.inputs,self.outputs))\n",
    "        #return inputs+outputs\n",
    "        \n",
    "        con_list = []\n",
    "        for index in range (len(self.inputs)):\n",
    "            con_list.append(self.inputs[index] + [self.outputs[index]] )\n",
    "        return con_list\n",
    "        \n",
    "    def get_status(self):\n",
    "        return [x.leakage_status for x in self.outputs]\n",
    "    \n",
    "    #def temp(self,x):\n",
    "        #print(x)\n",
    "        #return x[-1].leakage_status== Status.NO_GOOD\n",
    "        \n",
    "    \n",
    "    def evenly_distribute(self):\n",
    "        \n",
    "        no_good = list(filter(lambda x: x[-1].leakage_status == Status.NO_GOOD ,self.conected))\n",
    "        good= list(filter(lambda x: x[-1].leakage_status == Status.GOOD,self.conected))\n",
    "        good_shrunk = good[:len(no_good)]\n",
    "        self.conected = no_good+good_shrunk\n",
    "        random.shuffle(self.conected)\n",
    "        \n",
    "        \n",
    "        \n",
    "        inputs=[]\n",
    "        \n",
    "        for x in self.conected:\n",
    "            inputs.append(x[0:-1])\n",
    "        \n",
    "        \n",
    "        outputs=[]\n",
    "        \n",
    "        for x in self.conected:\n",
    "            outputs.append(x[-1])\n",
    "        \n",
    "        \n",
    "        self.inputs = inputs\n",
    "        self.outputs = outputs\n",
    "        print(len(self.inputs))\n",
    "\n",
    "\n"
   ]
  },
  {
   "cell_type": "code",
   "execution_count": 6,
   "metadata": {},
   "outputs": [],
   "source": [
    "nemak = clean_nemak_raw.drop(['Shift','Leakage_High','LeakageHighStatus','status_value'],axis=1).reset_index(drop=True)\n",
    "output = clean_nemak_raw['status_value'].reset_index(drop=True)"
   ]
  },
  {
   "cell_type": "markdown",
   "metadata": {},
   "source": [
    "# sieć neuronowa"
   ]
  },
  {
   "cell_type": "code",
   "execution_count": 7,
   "metadata": {},
   "outputs": [],
   "source": [
    "nemak = nemak.to_numpy()"
   ]
  },
  {
   "cell_type": "code",
   "execution_count": 8,
   "metadata": {},
   "outputs": [
    {
     "name": "stdout",
     "output_type": "stream",
     "text": [
      "<class 'numpy.ndarray'>\n",
      "<class 'numpy.ndarray'>\n"
     ]
    }
   ],
   "source": [
    "output=output.to_numpy()\n",
    "print(type(output))\n",
    "print(type(nemak))"
   ]
  },
  {
   "cell_type": "code",
   "execution_count": 9,
   "metadata": {},
   "outputs": [],
   "source": [
    "#dzielenie modelu\n",
    "from sklearn.model_selection import train_test_split\n",
    "\n",
    "\n",
    "X_train, X_test, y_train, y_test = train_test_split(nemak, output, test_size=0.33,random_state=42) #random_state=42"
   ]
  },
  {
   "cell_type": "code",
   "execution_count": 13,
   "metadata": {},
   "outputs": [],
   "source": [
    "import tensorflow as tf\n",
    "from tensorflow import keras\n",
    "\n",
    "\n",
    "\n",
    "model = keras.Sequential([\n",
    "    keras.layers.Dense(48,input_shape=[47,],activation='relu'),\n",
    "    keras.layers.Dense(4,activation='relu'),\n",
    "    keras.layers.Dropout(0.2),\n",
    "    keras.layers.Dense(1,activation = 'sigmoid')\n",
    "])\n",
    "\n",
    "model.compile(optimizer='adam',\n",
    "             loss='binary_crossentropy',\n",
    "             metrics=['accuracy'])"
   ]
  },
  {
   "cell_type": "code",
   "execution_count": 14,
   "metadata": {},
   "outputs": [
    {
     "name": "stdout",
     "output_type": "stream",
     "text": [
      "Epoch 1/5\n",
      "5341/5341 [==============================] - 4s 607us/step - loss: 0.3657 - accuracy: 0.9851\n",
      "Epoch 2/5\n",
      "5341/5341 [==============================] - 3s 641us/step - loss: 0.0473 - accuracy: 0.9941\n",
      "Epoch 3/5\n",
      "5341/5341 [==============================] - 4s 661us/step - loss: 0.0382 - accuracy: 0.9937\n",
      "Epoch 4/5\n",
      "5341/5341 [==============================] - 4s 803us/step - loss: 0.0398 - accuracy: 0.9934\n",
      "Epoch 5/5\n",
      "5341/5341 [==============================] - 5s 845us/step - loss: 0.0377 - accuracy: 0.9938\n"
     ]
    }
   ],
   "source": [
    "history=model.fit(X_train,y_train,batch_size=16,epochs=5)"
   ]
  },
  {
   "cell_type": "code",
   "execution_count": 15,
   "metadata": {},
   "outputs": [],
   "source": [
    "#x = np.column_stack((train_X.nazwa_kolumny.valuse, train_X.nazwa_kolumny2.values))\n",
    "\n",
    "# pomieszaj dane do nauki"
   ]
  },
  {
   "cell_type": "code",
   "execution_count": 16,
   "metadata": {},
   "outputs": [
    {
     "name": "stdout",
     "output_type": "stream",
     "text": [
      "1316/1316 [==============================] - 1s 756us/step - loss: 0.0380 - accuracy: 0.9938\n"
     ]
    },
    {
     "data": {
      "text/plain": [
       "[0.03795216977596283, 0.9937516450881958]"
      ]
     },
     "execution_count": 16,
     "metadata": {},
     "output_type": "execute_result"
    }
   ],
   "source": [
    "#ewaluacja na test data\n",
    "\n",
    "model.evaluate(X_test,y_test)"
   ]
  },
  {
   "cell_type": "code",
   "execution_count": 17,
   "metadata": {},
   "outputs": [
    {
     "name": "stdout",
     "output_type": "stream",
     "text": [
      "Model: \"sequential_2\"\n",
      "_________________________________________________________________\n",
      "Layer (type)                 Output Shape              Param #   \n",
      "=================================================================\n",
      "dense_6 (Dense)              (None, 48)                2304      \n",
      "_________________________________________________________________\n",
      "dense_7 (Dense)              (None, 4)                 196       \n",
      "_________________________________________________________________\n",
      "dropout_2 (Dropout)          (None, 4)                 0         \n",
      "_________________________________________________________________\n",
      "dense_8 (Dense)              (None, 1)                 5         \n",
      "=================================================================\n",
      "Total params: 2,505\n",
      "Trainable params: 2,505\n",
      "Non-trainable params: 0\n",
      "_________________________________________________________________\n"
     ]
    }
   ],
   "source": [
    "model.summary()"
   ]
  },
  {
   "cell_type": "code",
   "execution_count": 18,
   "metadata": {},
   "outputs": [
    {
     "data": {
      "image/png": "[encoded data removed]",
      "text/plain": [
       "<Figure size 576x360 with 1 Axes>"
      ]
     },
     "metadata": {
      "needs_background": "light"
     },
     "output_type": "display_data"
    }
   ],
   "source": [
    "pd.DataFrame(history.history).plot(figsize=(8,5))\n",
    "plt.grid(True)\n",
    "plt.gca().set_ylim(0,1)\n",
    "plt.show()"
   ]
  },
  {
   "cell_type": "code",
   "execution_count": 24,
   "metadata": {},
   "outputs": [],
   "source": [
    "#normalizacja wsadowa\n",
    "import tensorflow as tf\n",
    "from tensorflow import keras\n",
    "\n",
    "\n",
    "\n",
    "model = keras.Sequential([\n",
    "    keras.layers.Dense(47,input_shape=[47,],activation='relu'),\n",
    "    keras.layers.BatchNormalization(),\n",
    "    keras.layers.Dropout(rate=0.2),\n",
    "    keras.layers.Dense(4,activation='relu'),\n",
    "    keras.layers.BatchNormalization(),\n",
    "    keras.layers.Dense(1,activation = 'sigmoid')\n",
    "])\n",
    "\n",
    "model.compile(optimizer='adam',\n",
    "             loss='binary_crossentropy',\n",
    "             metrics=['accuracy'])"
   ]
  },
  {
   "cell_type": "code",
   "execution_count": 25,
   "metadata": {},
   "outputs": [
    {
     "name": "stdout",
     "output_type": "stream",
     "text": [
      "Epoch 1/5\n",
      "5341/5341 [==============================] - 5s 845us/step - loss: 0.1822 - accuracy: 0.9374\n",
      "Epoch 2/5\n",
      "5341/5341 [==============================] - 6s 1ms/step - loss: 0.0348 - accuracy: 0.9938\n",
      "Epoch 3/5\n",
      "5341/5341 [==============================] - 10s 2ms/step - loss: 0.0330 - accuracy: 0.9939\n",
      "Epoch 4/5\n",
      "5341/5341 [==============================] - 9s 2ms/step - loss: 0.0341 - accuracy: 0.9937\n",
      "Epoch 5/5\n",
      "5341/5341 [==============================] - 7s 1ms/step - loss: 0.0331 - accuracy: 0.9940\n"
     ]
    }
   ],
   "source": [
    "history=model.fit(X_train,y_train,batch_size=16,epochs=5)"
   ]
  },
  {
   "cell_type": "code",
   "execution_count": 26,
   "metadata": {},
   "outputs": [
    {
     "name": "stdout",
     "output_type": "stream",
     "text": [
      "Model: \"sequential_6\"\n",
      "_________________________________________________________________\n",
      "Layer (type)                 Output Shape              Param #   \n",
      "=================================================================\n",
      "dense_18 (Dense)             (None, 47)                2256      \n",
      "_________________________________________________________________\n",
      "batch_normalization_6 (Batch (None, 47)                188       \n",
      "_________________________________________________________________\n",
      "dropout_6 (Dropout)          (None, 47)                0         \n",
      "_________________________________________________________________\n",
      "dense_19 (Dense)             (None, 4)                 192       \n",
      "_________________________________________________________________\n",
      "batch_normalization_7 (Batch (None, 4)                 16        \n",
      "_________________________________________________________________\n",
      "dense_20 (Dense)             (None, 1)                 5         \n",
      "=================================================================\n",
      "Total params: 2,657\n",
      "Trainable params: 2,555\n",
      "Non-trainable params: 102\n",
      "_________________________________________________________________\n"
     ]
    }
   ],
   "source": [
    "model.summary()"
   ]
  },
  {
   "cell_type": "markdown",
   "metadata": {},
   "source": [
    "# Zwiększenie ilości neuronów ukrytych"
   ]
  },
  {
   "cell_type": "code",
   "execution_count": 27,
   "metadata": {},
   "outputs": [],
   "source": [
    "model = keras.Sequential([\n",
    "    keras.layers.Dense(256,input_shape=[47,],activation='relu'),\n",
    "    keras.layers.Dense(256,activation='relu'),\n",
    "    keras.layers.Dropout(0.2),\n",
    "    keras.layers.BatchNormalization(),\n",
    "    keras.layers.Dense(256,activation='relu'),\n",
    "    keras.layers.Dropout(0.2),\n",
    "    keras.layers.BatchNormalization(),\n",
    "    keras.layers.Dense(256,activation='relu'),\n",
    "    keras.layers.Dense(1,activation = 'sigmoid')\n",
    "])\n",
    "\n",
    "model.compile(optimizer='adam',\n",
    "             loss='binary_crossentropy',\n",
    "             metrics=['accuracy'])"
   ]
  },
  {
   "cell_type": "code",
   "execution_count": 28,
   "metadata": {},
   "outputs": [
    {
     "name": "stdout",
     "output_type": "stream",
     "text": [
      "Epoch 1/10\n",
      "5341/5341 [==============================] - 12s 2ms/step - loss: 0.0482 - accuracy: 0.9921\n",
      "Epoch 2/10\n",
      "5341/5341 [==============================] - 12s 2ms/step - loss: 0.0385 - accuracy: 0.9941\n",
      "Epoch 3/10\n",
      "5341/5341 [==============================] - 13s 2ms/step - loss: 0.0378 - accuracy: 0.9939\n",
      "Epoch 4/10\n",
      "5341/5341 [==============================] - 12s 2ms/step - loss: 0.0388 - accuracy: 0.9935\n",
      "Epoch 5/10\n",
      "5341/5341 [==============================] - 16s 3ms/step - loss: 0.0373 - accuracy: 0.9939\n",
      "Epoch 6/10\n",
      "5341/5341 [==============================] - 16s 3ms/step - loss: 0.0386 - accuracy: 0.9937\n",
      "Epoch 7/10\n",
      "5341/5341 [==============================] - 13s 2ms/step - loss: 0.0363 - accuracy: 0.9941\n",
      "Epoch 8/10\n",
      "5341/5341 [==============================] - 13s 2ms/step - loss: 0.0353 - accuracy: 0.9942\n",
      "Epoch 9/10\n",
      "5341/5341 [==============================] - 13s 2ms/step - loss: 0.0370 - accuracy: 0.9936\n",
      "Epoch 10/10\n",
      "5341/5341 [==============================] - 13s 2ms/step - loss: 0.0355 - accuracy: 0.9938\n"
     ]
    }
   ],
   "source": [
    "history=model.fit(X_train,y_train,batch_size=16,epochs=10)"
   ]
  },
  {
   "cell_type": "code",
   "execution_count": 29,
   "metadata": {},
   "outputs": [
    {
     "name": "stdout",
     "output_type": "stream",
     "text": [
      "0.003124183317098667\n",
      "0.5\n"
     ]
    },
    {
     "name": "stderr",
     "output_type": "stream",
     "text": [
      "C:\\Users\\patry\\anaconda3\\lib\\site-packages\\sklearn\\metrics\\_classification.py:1248: UndefinedMetricWarning: Precision is ill-defined and being set to 0.0 in labels with no predicted samples. Use `zero_division` parameter to control this behavior.\n",
      "  _warn_prf(average, modifier, msg_start, len(result))\n"
     ]
    },
    {
     "data": {
      "text/plain": [
       "array([0.        , 0.01241913])"
      ]
     },
     "execution_count": 29,
     "metadata": {},
     "output_type": "execute_result"
    }
   ],
   "source": [
    "from sklearn.metrics import f1_score, precision_score, recall_score, confusion_matrix\n",
    "y_pred1 = model.predict(X_test)\n",
    "y_pred = np.argmax(y_pred1, axis=1)\n",
    "y_pred\n",
    "#y_test\n",
    "print(precision_score(y_test, y_pred , average=\"macro\"))\n",
    "print(recall_score(y_test, y_pred , average=\"macro\"))\n",
    "f1_score(y_test,y_pred, average=None,labels=[1,0])"
   ]
  },
  {
   "cell_type": "code",
   "execution_count": 30,
   "metadata": {},
   "outputs": [],
   "source": [
    "model = keras.Sequential([\n",
    "    keras.layers.Dense(512,input_shape=[47,],activation='relu'),\n",
    "    keras.layers.Dense(256,activation='relu'),\n",
    "    keras.layers.Dropout(0.4),\n",
    "    keras.layers.BatchNormalization(),\n",
    "    keras.layers.Dense(256,activation='relu'),\n",
    "    keras.layers.Dropout(0.2),\n",
    "    keras.layers.BatchNormalization(),\n",
    "    keras.layers.Dense(256,activation='relu'),\n",
    "    keras.layers.Dense(1,activation = 'sigmoid')\n",
    "])\n",
    "\n",
    "model.compile(optimizer='adam',\n",
    "             loss='binary_crossentropy',\n",
    "             metrics=['accuracy'])"
   ]
  },
  {
   "cell_type": "code",
   "execution_count": 31,
   "metadata": {},
   "outputs": [
    {
     "name": "stdout",
     "output_type": "stream",
     "text": [
      "Epoch 1/20\n",
      "2671/2671 [==============================] - 10s 3ms/step - loss: 0.0530 - accuracy: 0.9903\n",
      "Epoch 2/20\n",
      "2671/2671 [==============================] - 10s 4ms/step - loss: 0.0399 - accuracy: 0.9939\n",
      "Epoch 3/20\n",
      "2671/2671 [==============================] - 11s 4ms/step - loss: 0.0367 - accuracy: 0.9942\n",
      "Epoch 4/20\n",
      "2671/2671 [==============================] - 10s 4ms/step - loss: 0.0354 - accuracy: 0.9943\n",
      "Epoch 5/20\n",
      "2671/2671 [==============================] - 10s 4ms/step - loss: 0.0344 - accuracy: 0.9944\n",
      "Epoch 6/20\n",
      "2671/2671 [==============================] - 10s 4ms/step - loss: 0.0377 - accuracy: 0.9938\n",
      "Epoch 7/20\n",
      "2671/2671 [==============================] - 10s 4ms/step - loss: 0.0349 - accuracy: 0.9943\n",
      "Epoch 8/20\n",
      "2671/2671 [==============================] - 10s 4ms/step - loss: 0.0371 - accuracy: 0.9938\n",
      "Epoch 9/20\n",
      "2671/2671 [==============================] - 12s 4ms/step - loss: 0.0371 - accuracy: 0.9938\n",
      "Epoch 10/20\n",
      "2671/2671 [==============================] - 13s 5ms/step - loss: 0.0365 - accuracy: 0.9937\n",
      "Epoch 11/20\n",
      "2671/2671 [==============================] - 12s 4ms/step - loss: 0.0358 - accuracy: 0.9940\n",
      "Epoch 12/20\n",
      "2671/2671 [==============================] - 10s 4ms/step - loss: 0.0365 - accuracy: 0.9937\n",
      "Epoch 13/20\n",
      "2671/2671 [==============================] - 11s 4ms/step - loss: 0.0360 - accuracy: 0.9936\n",
      "Epoch 14/20\n",
      "2671/2671 [==============================] - 14s 5ms/step - loss: 0.0374 - accuracy: 0.9937\n",
      "Epoch 15/20\n",
      "2671/2671 [==============================] - 10s 4ms/step - loss: 0.0384 - accuracy: 0.9933\n",
      "Epoch 16/20\n",
      "2671/2671 [==============================] - 10s 4ms/step - loss: 0.0337 - accuracy: 0.9940\n",
      "Epoch 17/20\n",
      "2671/2671 [==============================] - 10s 4ms/step - loss: 0.0330 - accuracy: 0.9944\n",
      "Epoch 18/20\n",
      "2671/2671 [==============================] - 10s 4ms/step - loss: 0.0354 - accuracy: 0.9939\n",
      "Epoch 19/20\n",
      "2671/2671 [==============================] - 11s 4ms/step - loss: 0.0356 - accuracy: 0.9938\n",
      "Epoch 20/20\n",
      "2671/2671 [==============================] - 10s 4ms/step - loss: 0.0343 - accuracy: 0.9939\n"
     ]
    }
   ],
   "source": [
    "history=model.fit(X_train,y_train,batch_size=32,epochs=20)"
   ]
  },
  {
   "cell_type": "code",
   "execution_count": 32,
   "metadata": {},
   "outputs": [
    {
     "name": "stdout",
     "output_type": "stream",
     "text": [
      "0.003124183317098667\n",
      "0.5\n"
     ]
    },
    {
     "name": "stderr",
     "output_type": "stream",
     "text": [
      "C:\\Users\\patry\\anaconda3\\lib\\site-packages\\sklearn\\metrics\\_classification.py:1248: UndefinedMetricWarning: Precision is ill-defined and being set to 0.0 in labels with no predicted samples. Use `zero_division` parameter to control this behavior.\n",
      "  _warn_prf(average, modifier, msg_start, len(result))\n"
     ]
    },
    {
     "data": {
      "text/plain": [
       "array([0.        , 0.01241913])"
      ]
     },
     "execution_count": 32,
     "metadata": {},
     "output_type": "execute_result"
    }
   ],
   "source": [
    "from sklearn.metrics import f1_score, precision_score, recall_score, confusion_matrix\n",
    "y_pred1 = model.predict(X_test)\n",
    "y_pred = np.argmax(y_pred1, axis=1)\n",
    "y_pred\n",
    "#y_test\n",
    "print(precision_score(y_test, y_pred , average=\"macro\"))\n",
    "print(recall_score(y_test, y_pred , average=\"macro\"))\n",
    "f1_score(y_test,y_pred, average=None,labels=[1,0])\n"
   ]
  },
  {
   "cell_type": "code",
   "execution_count": 33,
   "metadata": {},
   "outputs": [
    {
     "name": "stdout",
     "output_type": "stream",
     "text": [
      "0.4969423036214101\n",
      "0.5\n"
     ]
    },
    {
     "name": "stderr",
     "output_type": "stream",
     "text": [
      "C:\\Users\\patry\\anaconda3\\lib\\site-packages\\sklearn\\metrics\\_classification.py:1248: UndefinedMetricWarning: Precision is ill-defined and being set to 0.0 in labels with no predicted samples. Use `zero_division` parameter to control this behavior.\n",
      "  _warn_prf(average, modifier, msg_start, len(result))\n"
     ]
    },
    {
     "data": {
      "text/plain": [
       "array([0.99693293, 0.        ])"
      ]
     },
     "execution_count": 33,
     "metadata": {},
     "output_type": "execute_result"
    }
   ],
   "source": [
    "# na całych danych\n",
    "from sklearn.metrics import f1_score, precision_score, recall_score, confusion_matrix\n",
    "y_pred1 = model.predict(nemak)\n",
    "flat_list1 = []\n",
    "flat_list = []\n",
    "for sublist in y_pred1:\n",
    "    for item in sublist:\n",
    "        flat_list1.append(item)\n",
    "        flat_list.append(round(item))\n",
    "#y_test\n",
    "print(precision_score(output, flat_list , average=\"macro\"))\n",
    "print(recall_score(output, flat_list , average=\"macro\"))\n",
    "f1_score(output,flat_list, average=None,labels=[1,0])"
   ]
  },
  {
   "cell_type": "code",
   "execution_count": 34,
   "metadata": {},
   "outputs": [
    {
     "data": {
      "text/plain": [
       "<matplotlib.axes._subplots.AxesSubplot at 0x29fc4e616c8>"
      ]
     },
     "execution_count": 34,
     "metadata": {},
     "output_type": "execute_result"
    },
    {
     "data": {
      "image/png": "[encoded data removed]",
      "text/plain": [
       "<Figure size 432x288 with 2 Axes>"
      ]
     },
     "metadata": {
      "needs_background": "light"
     },
     "output_type": "display_data"
    }
   ],
   "source": [
    "from sklearn.metrics import confusion_matrix\n",
    "import seaborn as sn\n",
    "import pandas as pd\n",
    "import matplotlib as plt\n",
    "\n",
    "labels =[1,0]\n",
    "labels2 =[0,1]\n",
    "cm=confusion_matrix (output,flat_list , labels=labels)\n",
    "df_cm = pd.DataFrame(cm,index=labels, columns=labels)\n",
    "\n",
    "sn.heatmap(df_cm,annot=True,fmt='d')"
   ]
  },
  {
   "cell_type": "code",
   "execution_count": 35,
   "metadata": {},
   "outputs": [],
   "source": [
    "data  = {'rzeczywisty':output,'predykcja':flat_list, 'wynik_przewidziany':flat_list1}\n",
    "sprawdzenie = pd.DataFrame(data=data)\n",
    "\n"
   ]
  },
  {
   "cell_type": "code",
   "execution_count": 36,
   "metadata": {},
   "outputs": [
    {
     "data": {
      "text/html": [
       "<div>\n",
       "<style scoped>\n",
       "    .dataframe tbody tr th:only-of-type {\n",
       "        vertical-align: middle;\n",
       "    }\n",
       "\n",
       "    .dataframe tbody tr th {\n",
       "        vertical-align: top;\n",
       "    }\n",
       "\n",
       "    .dataframe thead th {\n",
       "        text-align: right;\n",
       "    }\n",
       "</style>\n",
       "<table border=\"1\" class=\"dataframe\">\n",
       "  <thead>\n",
       "    <tr style=\"text-align: right;\">\n",
       "      <th></th>\n",
       "      <th>rzeczywisty</th>\n",
       "      <th>predykcja</th>\n",
       "      <th>wynik_przewidziany</th>\n",
       "    </tr>\n",
       "  </thead>\n",
       "  <tbody>\n",
       "    <tr>\n",
       "      <th>0</th>\n",
       "      <td>1</td>\n",
       "      <td>1</td>\n",
       "      <td>0.989561</td>\n",
       "    </tr>\n",
       "    <tr>\n",
       "      <th>1</th>\n",
       "      <td>1</td>\n",
       "      <td>1</td>\n",
       "      <td>0.988994</td>\n",
       "    </tr>\n",
       "    <tr>\n",
       "      <th>2</th>\n",
       "      <td>1</td>\n",
       "      <td>1</td>\n",
       "      <td>0.996269</td>\n",
       "    </tr>\n",
       "    <tr>\n",
       "      <th>3</th>\n",
       "      <td>1</td>\n",
       "      <td>1</td>\n",
       "      <td>0.995583</td>\n",
       "    </tr>\n",
       "    <tr>\n",
       "      <th>4</th>\n",
       "      <td>1</td>\n",
       "      <td>1</td>\n",
       "      <td>0.992273</td>\n",
       "    </tr>\n",
       "    <tr>\n",
       "      <th>...</th>\n",
       "      <td>...</td>\n",
       "      <td>...</td>\n",
       "      <td>...</td>\n",
       "    </tr>\n",
       "    <tr>\n",
       "      <th>127542</th>\n",
       "      <td>1</td>\n",
       "      <td>1</td>\n",
       "      <td>0.998106</td>\n",
       "    </tr>\n",
       "    <tr>\n",
       "      <th>127543</th>\n",
       "      <td>1</td>\n",
       "      <td>1</td>\n",
       "      <td>0.998160</td>\n",
       "    </tr>\n",
       "    <tr>\n",
       "      <th>127544</th>\n",
       "      <td>1</td>\n",
       "      <td>1</td>\n",
       "      <td>0.998095</td>\n",
       "    </tr>\n",
       "    <tr>\n",
       "      <th>127545</th>\n",
       "      <td>1</td>\n",
       "      <td>1</td>\n",
       "      <td>0.998110</td>\n",
       "    </tr>\n",
       "    <tr>\n",
       "      <th>127546</th>\n",
       "      <td>1</td>\n",
       "      <td>1</td>\n",
       "      <td>0.997911</td>\n",
       "    </tr>\n",
       "  </tbody>\n",
       "</table>\n",
       "<p>127547 rows × 3 columns</p>\n",
       "</div>"
      ],
      "text/plain": [
       "        rzeczywisty  predykcja  wynik_przewidziany\n",
       "0                 1          1            0.989561\n",
       "1                 1          1            0.988994\n",
       "2                 1          1            0.996269\n",
       "3                 1          1            0.995583\n",
       "4                 1          1            0.992273\n",
       "...             ...        ...                 ...\n",
       "127542            1          1            0.998106\n",
       "127543            1          1            0.998160\n",
       "127544            1          1            0.998095\n",
       "127545            1          1            0.998110\n",
       "127546            1          1            0.997911\n",
       "\n",
       "[127547 rows x 3 columns]"
      ]
     },
     "execution_count": 36,
     "metadata": {},
     "output_type": "execute_result"
    }
   ],
   "source": [
    "sprawdzenie\n"
   ]
  },
  {
   "cell_type": "code",
   "execution_count": 37,
   "metadata": {},
   "outputs": [],
   "source": [
    "sprawdzenie.to_excel(\"outputshift.xlsx\")"
   ]
  },
  {
   "cell_type": "code",
   "execution_count": 38,
   "metadata": {},
   "outputs": [],
   "source": [
    "#zbalansowanie danych"
   ]
  },
  {
   "cell_type": "code",
   "execution_count": 39,
   "metadata": {},
   "outputs": [
    {
     "name": "stdout",
     "output_type": "stream",
     "text": [
      "Epoch 1/10\n",
      "2671/2671 [==============================] - 12s 4ms/step - loss: 0.2189 - accuracy: 0.9939\n",
      "Epoch 2/10\n",
      "2671/2671 [==============================] - 14s 5ms/step - loss: 0.2138 - accuracy: 0.9937\n",
      "Epoch 3/10\n",
      "2671/2671 [==============================] - 17s 6ms/step - loss: 0.2175 - accuracy: 0.9928\n",
      "Epoch 4/10\n",
      "2671/2671 [==============================] - 17s 6ms/step - loss: 0.2139 - accuracy: 0.9936\n",
      "Epoch 5/10\n",
      "2671/2671 [==============================] - 19s 7ms/step - loss: 0.2062 - accuracy: 0.9937\n",
      "Epoch 6/10\n",
      "2671/2671 [==============================] - 15s 5ms/step - loss: 0.2069 - accuracy: 0.9934\n",
      "Epoch 7/10\n",
      "2671/2671 [==============================] - 13s 5ms/step - loss: 0.2110 - accuracy: 0.9938\n",
      "Epoch 8/10\n",
      "2671/2671 [==============================] - 18s 7ms/step - loss: 0.2109 - accuracy: 0.9935\n",
      "Epoch 9/10\n",
      "2671/2671 [==============================] - 24s 9ms/step - loss: 0.2064 - accuracy: 0.9938\n",
      "Epoch 10/10\n",
      "2671/2671 [==============================] - 21s 8ms/step - loss: 0.2063 - accuracy: 0.9938\n"
     ]
    }
   ],
   "source": [
    "class_weight = {\n",
    "    0: 10.0,\n",
    "    1: 1.0,\n",
    "}\n",
    "class_weight=class_weight\n",
    "\n",
    "history = model.fit(X_train,y_train, class_weight=class_weight, batch_size=32, epochs=10)"
   ]
  },
  {
   "cell_type": "markdown",
   "metadata": {},
   "source": [
    "# SMOTE\n",
    "\n"
   ]
  },
  {
   "cell_type": "code",
   "execution_count": 40,
   "metadata": {},
   "outputs": [],
   "source": [
    "from imblearn.over_sampling import SMOTE\n",
    "\n",
    "sm = SMOTE(random_state=42)\n",
    "\n",
    "\n",
    "\n",
    "X_sm, y_sm = sm.fit_resample(X_train,y_train)"
   ]
  },
  {
   "cell_type": "code",
   "execution_count": 41,
   "metadata": {},
   "outputs": [],
   "source": [
    "X_train,X_test,y_train,y_test = train_test_split(X_sm,y_sm, test_size=0.33,random_state=42)"
   ]
  },
  {
   "cell_type": "code",
   "execution_count": 42,
   "metadata": {},
   "outputs": [],
   "source": [
    "model = keras.Sequential([\n",
    "    keras.layers.Dense(512,input_shape=[47,],activation='relu'),\n",
    "    keras.layers.Dense(256,activation='relu'),\n",
    "    keras.layers.Dropout(0.4),\n",
    "    keras.layers.BatchNormalization(),\n",
    "    keras.layers.Dense(256,activation='relu'),\n",
    "    keras.layers.Dropout(0.2),\n",
    "    keras.layers.BatchNormalization(),\n",
    "    keras.layers.Dense(256,activation='relu'),\n",
    "    keras.layers.Dense(1,activation = 'sigmoid')\n",
    "])\n",
    "\n",
    "model.compile(optimizer='adam',\n",
    "             loss='binary_crossentropy',\n",
    "             metrics=['accuracy'])"
   ]
  },
  {
   "cell_type": "code",
   "execution_count": 43,
   "metadata": {},
   "outputs": [
    {
     "name": "stdout",
     "output_type": "stream",
     "text": [
      "Epoch 1/40\n",
      "7114/7114 [==============================] - 24s 3ms/step - loss: 0.6167 - accuracy: 0.6786\n",
      "Epoch 2/40\n",
      "7114/7114 [==============================] - 26s 4ms/step - loss: 0.5306 - accuracy: 0.7415\n",
      "Epoch 3/40\n",
      "7114/7114 [==============================] - 23s 3ms/step - loss: 0.4935 - accuracy: 0.7545\n",
      "Epoch 4/40\n",
      "7114/7114 [==============================] - 22s 3ms/step - loss: 0.4828 - accuracy: 0.7576\n",
      "Epoch 5/40\n",
      "7114/7114 [==============================] - 25s 3ms/step - loss: 0.4774 - accuracy: 0.7588\n",
      "Epoch 6/40\n",
      "7114/7114 [==============================] - 24s 3ms/step - loss: 0.4644 - accuracy: 0.7637\n",
      "Epoch 7/40\n",
      "7114/7114 [==============================] - 23s 3ms/step - loss: 0.4545 - accuracy: 0.7704\n",
      "Epoch 8/40\n",
      "7114/7114 [==============================] - 24s 3ms/step - loss: 0.4530 - accuracy: 0.7714\n",
      "Epoch 9/40\n",
      "7114/7114 [==============================] - 22s 3ms/step - loss: 0.4480 - accuracy: 0.7746\n",
      "Epoch 10/40\n",
      "7114/7114 [==============================] - 22s 3ms/step - loss: 0.4481 - accuracy: 0.7750\n",
      "Epoch 11/40\n",
      "7114/7114 [==============================] - 27s 4ms/step - loss: 0.4382 - accuracy: 0.7813\n",
      "Epoch 12/40\n",
      "7114/7114 [==============================] - 22s 3ms/step - loss: 0.4368 - accuracy: 0.7839\n",
      "Epoch 13/40\n",
      "7114/7114 [==============================] - 24s 3ms/step - loss: 0.4324 - accuracy: 0.7839\n",
      "Epoch 14/40\n",
      "7114/7114 [==============================] - 23s 3ms/step - loss: 0.4295 - accuracy: 0.7882\n",
      "Epoch 15/40\n",
      "7114/7114 [==============================] - 20s 3ms/step - loss: 0.4256 - accuracy: 0.7905\n",
      "Epoch 16/40\n",
      "7114/7114 [==============================] - 20s 3ms/step - loss: 0.4253 - accuracy: 0.7892\n",
      "Epoch 17/40\n",
      "7114/7114 [==============================] - 20s 3ms/step - loss: 0.4203 - accuracy: 0.7939\n",
      "Epoch 18/40\n",
      "7114/7114 [==============================] - 20s 3ms/step - loss: 0.4198 - accuracy: 0.7933\n",
      "Epoch 19/40\n",
      "7114/7114 [==============================] - 20s 3ms/step - loss: 0.4168 - accuracy: 0.7970\n",
      "Epoch 20/40\n",
      "7114/7114 [==============================] - 22s 3ms/step - loss: 0.4141 - accuracy: 0.7960\n",
      "Epoch 21/40\n",
      "7114/7114 [==============================] - 21s 3ms/step - loss: 0.4158 - accuracy: 0.7961\n",
      "Epoch 22/40\n",
      "7114/7114 [==============================] - 20s 3ms/step - loss: 0.4080 - accuracy: 0.7994\n",
      "Epoch 23/40\n",
      "7114/7114 [==============================] - 27s 4ms/step - loss: 0.4109 - accuracy: 0.7976\n",
      "Epoch 24/40\n",
      "7114/7114 [==============================] - 20s 3ms/step - loss: 0.4128 - accuracy: 0.7984\n",
      "Epoch 25/40\n",
      "7114/7114 [==============================] - 20s 3ms/step - loss: 0.4095 - accuracy: 0.7999\n",
      "Epoch 26/40\n",
      "7114/7114 [==============================] - 22s 3ms/step - loss: 0.4019 - accuracy: 0.8064\n",
      "Epoch 27/40\n",
      "7114/7114 [==============================] - 22s 3ms/step - loss: 0.4019 - accuracy: 0.8043\n",
      "Epoch 28/40\n",
      "7114/7114 [==============================] - 22s 3ms/step - loss: 0.3977 - accuracy: 0.8077\n",
      "Epoch 29/40\n",
      "7114/7114 [==============================] - 22s 3ms/step - loss: 0.4003 - accuracy: 0.8056\n",
      "Epoch 30/40\n",
      "7114/7114 [==============================] - 22s 3ms/step - loss: 0.3988 - accuracy: 0.8046\n",
      "Epoch 31/40\n",
      "7114/7114 [==============================] - 22s 3ms/step - loss: 0.3947 - accuracy: 0.8099\n",
      "Epoch 32/40\n",
      "7114/7114 [==============================] - 22s 3ms/step - loss: 0.4011 - accuracy: 0.8036\n",
      "Epoch 33/40\n",
      "7114/7114 [==============================] - 22s 3ms/step - loss: 0.3927 - accuracy: 0.8095\n",
      "Epoch 34/40\n",
      "7114/7114 [==============================] - 22s 3ms/step - loss: 0.4033 - accuracy: 0.8043\n",
      "Epoch 35/40\n",
      "7114/7114 [==============================] - 22s 3ms/step - loss: 0.3923 - accuracy: 0.8115\n",
      "Epoch 36/40\n",
      "7114/7114 [==============================] - 22s 3ms/step - loss: 0.3868 - accuracy: 0.8141\n",
      "Epoch 37/40\n",
      "7114/7114 [==============================] - 22s 3ms/step - loss: 0.3908 - accuracy: 0.8132\n",
      "Epoch 38/40\n",
      "7114/7114 [==============================] - 22s 3ms/step - loss: 0.3871 - accuracy: 0.8133\n",
      "Epoch 39/40\n",
      "7114/7114 [==============================] - 22s 3ms/step - loss: 0.3959 - accuracy: 0.8097\n",
      "Epoch 40/40\n",
      "7114/7114 [==============================] - 22s 3ms/step - loss: 0.3857 - accuracy: 0.8154\n"
     ]
    }
   ],
   "source": [
    "history=model.fit(X_train,y_train,batch_size=16,epochs=40)"
   ]
  },
  {
   "cell_type": "code",
   "execution_count": 44,
   "metadata": {},
   "outputs": [
    {
     "ename": "ValueError",
     "evalue": "Found input variables with inconsistent numbers of samples: [56060, 127547]",
     "output_type": "error",
     "traceback": [
      "\u001b[1;31m---------------------------------------------------------------------------\u001b[0m",
      "\u001b[1;31mValueError\u001b[0m                                Traceback (most recent call last)",
      "\u001b[1;32m<ipython-input-44-6f54fef4b8d5>\u001b[0m in \u001b[0;36m<module>\u001b[1;34m\u001b[0m\n\u001b[0;32m      4\u001b[0m \u001b[0my_pred\u001b[0m\u001b[1;33m\u001b[0m\u001b[1;33m\u001b[0m\u001b[0m\n\u001b[0;32m      5\u001b[0m \u001b[1;31m#y_test\u001b[0m\u001b[1;33m\u001b[0m\u001b[1;33m\u001b[0m\u001b[1;33m\u001b[0m\u001b[0m\n\u001b[1;32m----> 6\u001b[1;33m \u001b[0mprint\u001b[0m\u001b[1;33m(\u001b[0m\u001b[0mprecision_score\u001b[0m\u001b[1;33m(\u001b[0m\u001b[0my_test\u001b[0m\u001b[1;33m,\u001b[0m \u001b[0my_pred\u001b[0m \u001b[1;33m,\u001b[0m \u001b[0maverage\u001b[0m\u001b[1;33m=\u001b[0m\u001b[1;34m\"macro\"\u001b[0m\u001b[1;33m)\u001b[0m\u001b[1;33m)\u001b[0m\u001b[1;33m\u001b[0m\u001b[1;33m\u001b[0m\u001b[0m\n\u001b[0m\u001b[0;32m      7\u001b[0m \u001b[0mprint\u001b[0m\u001b[1;33m(\u001b[0m\u001b[0mrecall_score\u001b[0m\u001b[1;33m(\u001b[0m\u001b[0my_test\u001b[0m\u001b[1;33m,\u001b[0m \u001b[0my_pred\u001b[0m \u001b[1;33m,\u001b[0m \u001b[0maverage\u001b[0m\u001b[1;33m=\u001b[0m\u001b[1;34m\"macro\"\u001b[0m\u001b[1;33m)\u001b[0m\u001b[1;33m)\u001b[0m\u001b[1;33m\u001b[0m\u001b[1;33m\u001b[0m\u001b[0m\n\u001b[0;32m      8\u001b[0m \u001b[0mf1_score\u001b[0m\u001b[1;33m(\u001b[0m\u001b[0my_test\u001b[0m\u001b[1;33m,\u001b[0m\u001b[0my_pred\u001b[0m\u001b[1;33m,\u001b[0m \u001b[0maverage\u001b[0m\u001b[1;33m=\u001b[0m\u001b[1;32mNone\u001b[0m\u001b[1;33m,\u001b[0m\u001b[0mlabels\u001b[0m\u001b[1;33m=\u001b[0m\u001b[1;33m[\u001b[0m\u001b[1;36m1\u001b[0m\u001b[1;33m,\u001b[0m\u001b[1;36m0\u001b[0m\u001b[1;33m]\u001b[0m\u001b[1;33m)\u001b[0m\u001b[1;33m\u001b[0m\u001b[1;33m\u001b[0m\u001b[0m\n",
      "\u001b[1;32m~\\anaconda3\\lib\\site-packages\\sklearn\\utils\\validation.py\u001b[0m in \u001b[0;36minner_f\u001b[1;34m(*args, **kwargs)\u001b[0m\n\u001b[0;32m     61\u001b[0m             \u001b[0mextra_args\u001b[0m \u001b[1;33m=\u001b[0m \u001b[0mlen\u001b[0m\u001b[1;33m(\u001b[0m\u001b[0margs\u001b[0m\u001b[1;33m)\u001b[0m \u001b[1;33m-\u001b[0m \u001b[0mlen\u001b[0m\u001b[1;33m(\u001b[0m\u001b[0mall_args\u001b[0m\u001b[1;33m)\u001b[0m\u001b[1;33m\u001b[0m\u001b[1;33m\u001b[0m\u001b[0m\n\u001b[0;32m     62\u001b[0m             \u001b[1;32mif\u001b[0m \u001b[0mextra_args\u001b[0m \u001b[1;33m<=\u001b[0m \u001b[1;36m0\u001b[0m\u001b[1;33m:\u001b[0m\u001b[1;33m\u001b[0m\u001b[1;33m\u001b[0m\u001b[0m\n\u001b[1;32m---> 63\u001b[1;33m                 \u001b[1;32mreturn\u001b[0m \u001b[0mf\u001b[0m\u001b[1;33m(\u001b[0m\u001b[1;33m*\u001b[0m\u001b[0margs\u001b[0m\u001b[1;33m,\u001b[0m \u001b[1;33m**\u001b[0m\u001b[0mkwargs\u001b[0m\u001b[1;33m)\u001b[0m\u001b[1;33m\u001b[0m\u001b[1;33m\u001b[0m\u001b[0m\n\u001b[0m\u001b[0;32m     64\u001b[0m \u001b[1;33m\u001b[0m\u001b[0m\n\u001b[0;32m     65\u001b[0m             \u001b[1;31m# extra_args > 0\u001b[0m\u001b[1;33m\u001b[0m\u001b[1;33m\u001b[0m\u001b[1;33m\u001b[0m\u001b[0m\n",
      "\u001b[1;32m~\\anaconda3\\lib\\site-packages\\sklearn\\metrics\\_classification.py\u001b[0m in \u001b[0;36mprecision_score\u001b[1;34m(y_true, y_pred, labels, pos_label, average, sample_weight, zero_division)\u001b[0m\n\u001b[0;32m   1660\u001b[0m                                                  \u001b[0mwarn_for\u001b[0m\u001b[1;33m=\u001b[0m\u001b[1;33m(\u001b[0m\u001b[1;34m'precision'\u001b[0m\u001b[1;33m,\u001b[0m\u001b[1;33m)\u001b[0m\u001b[1;33m,\u001b[0m\u001b[1;33m\u001b[0m\u001b[1;33m\u001b[0m\u001b[0m\n\u001b[0;32m   1661\u001b[0m                                                  \u001b[0msample_weight\u001b[0m\u001b[1;33m=\u001b[0m\u001b[0msample_weight\u001b[0m\u001b[1;33m,\u001b[0m\u001b[1;33m\u001b[0m\u001b[1;33m\u001b[0m\u001b[0m\n\u001b[1;32m-> 1662\u001b[1;33m                                                  zero_division=zero_division)\n\u001b[0m\u001b[0;32m   1663\u001b[0m     \u001b[1;32mreturn\u001b[0m \u001b[0mp\u001b[0m\u001b[1;33m\u001b[0m\u001b[1;33m\u001b[0m\u001b[0m\n\u001b[0;32m   1664\u001b[0m \u001b[1;33m\u001b[0m\u001b[0m\n",
      "\u001b[1;32m~\\anaconda3\\lib\\site-packages\\sklearn\\utils\\validation.py\u001b[0m in \u001b[0;36minner_f\u001b[1;34m(*args, **kwargs)\u001b[0m\n\u001b[0;32m     61\u001b[0m             \u001b[0mextra_args\u001b[0m \u001b[1;33m=\u001b[0m \u001b[0mlen\u001b[0m\u001b[1;33m(\u001b[0m\u001b[0margs\u001b[0m\u001b[1;33m)\u001b[0m \u001b[1;33m-\u001b[0m \u001b[0mlen\u001b[0m\u001b[1;33m(\u001b[0m\u001b[0mall_args\u001b[0m\u001b[1;33m)\u001b[0m\u001b[1;33m\u001b[0m\u001b[1;33m\u001b[0m\u001b[0m\n\u001b[0;32m     62\u001b[0m             \u001b[1;32mif\u001b[0m \u001b[0mextra_args\u001b[0m \u001b[1;33m<=\u001b[0m \u001b[1;36m0\u001b[0m\u001b[1;33m:\u001b[0m\u001b[1;33m\u001b[0m\u001b[1;33m\u001b[0m\u001b[0m\n\u001b[1;32m---> 63\u001b[1;33m                 \u001b[1;32mreturn\u001b[0m \u001b[0mf\u001b[0m\u001b[1;33m(\u001b[0m\u001b[1;33m*\u001b[0m\u001b[0margs\u001b[0m\u001b[1;33m,\u001b[0m \u001b[1;33m**\u001b[0m\u001b[0mkwargs\u001b[0m\u001b[1;33m)\u001b[0m\u001b[1;33m\u001b[0m\u001b[1;33m\u001b[0m\u001b[0m\n\u001b[0m\u001b[0;32m     64\u001b[0m \u001b[1;33m\u001b[0m\u001b[0m\n\u001b[0;32m     65\u001b[0m             \u001b[1;31m# extra_args > 0\u001b[0m\u001b[1;33m\u001b[0m\u001b[1;33m\u001b[0m\u001b[1;33m\u001b[0m\u001b[0m\n",
      "\u001b[1;32m~\\anaconda3\\lib\\site-packages\\sklearn\\metrics\\_classification.py\u001b[0m in \u001b[0;36mprecision_recall_fscore_support\u001b[1;34m(y_true, y_pred, beta, labels, pos_label, average, warn_for, sample_weight, zero_division)\u001b[0m\n\u001b[0;32m   1463\u001b[0m         \u001b[1;32mraise\u001b[0m \u001b[0mValueError\u001b[0m\u001b[1;33m(\u001b[0m\u001b[1;34m\"beta should be >=0 in the F-beta score\"\u001b[0m\u001b[1;33m)\u001b[0m\u001b[1;33m\u001b[0m\u001b[1;33m\u001b[0m\u001b[0m\n\u001b[0;32m   1464\u001b[0m     labels = _check_set_wise_labels(y_true, y_pred, average, labels,\n\u001b[1;32m-> 1465\u001b[1;33m                                     pos_label)\n\u001b[0m\u001b[0;32m   1466\u001b[0m \u001b[1;33m\u001b[0m\u001b[0m\n\u001b[0;32m   1467\u001b[0m     \u001b[1;31m# Calculate tp_sum, pred_sum, true_sum ###\u001b[0m\u001b[1;33m\u001b[0m\u001b[1;33m\u001b[0m\u001b[1;33m\u001b[0m\u001b[0m\n",
      "\u001b[1;32m~\\anaconda3\\lib\\site-packages\\sklearn\\metrics\\_classification.py\u001b[0m in \u001b[0;36m_check_set_wise_labels\u001b[1;34m(y_true, y_pred, average, labels, pos_label)\u001b[0m\n\u001b[0;32m   1275\u001b[0m                          str(average_options))\n\u001b[0;32m   1276\u001b[0m \u001b[1;33m\u001b[0m\u001b[0m\n\u001b[1;32m-> 1277\u001b[1;33m     \u001b[0my_type\u001b[0m\u001b[1;33m,\u001b[0m \u001b[0my_true\u001b[0m\u001b[1;33m,\u001b[0m \u001b[0my_pred\u001b[0m \u001b[1;33m=\u001b[0m \u001b[0m_check_targets\u001b[0m\u001b[1;33m(\u001b[0m\u001b[0my_true\u001b[0m\u001b[1;33m,\u001b[0m \u001b[0my_pred\u001b[0m\u001b[1;33m)\u001b[0m\u001b[1;33m\u001b[0m\u001b[1;33m\u001b[0m\u001b[0m\n\u001b[0m\u001b[0;32m   1278\u001b[0m     \u001b[1;31m# Convert to Python primitive type to avoid NumPy type / Python str\u001b[0m\u001b[1;33m\u001b[0m\u001b[1;33m\u001b[0m\u001b[1;33m\u001b[0m\u001b[0m\n\u001b[0;32m   1279\u001b[0m     \u001b[1;31m# comparison. See https://github.com/numpy/numpy/issues/6784\u001b[0m\u001b[1;33m\u001b[0m\u001b[1;33m\u001b[0m\u001b[1;33m\u001b[0m\u001b[0m\n",
      "\u001b[1;32m~\\anaconda3\\lib\\site-packages\\sklearn\\metrics\\_classification.py\u001b[0m in \u001b[0;36m_check_targets\u001b[1;34m(y_true, y_pred)\u001b[0m\n\u001b[0;32m     81\u001b[0m     \u001b[0my_pred\u001b[0m \u001b[1;33m:\u001b[0m \u001b[0marray\u001b[0m \u001b[1;32mor\u001b[0m \u001b[0mindicator\u001b[0m \u001b[0mmatrix\u001b[0m\u001b[1;33m\u001b[0m\u001b[1;33m\u001b[0m\u001b[0m\n\u001b[0;32m     82\u001b[0m     \"\"\"\n\u001b[1;32m---> 83\u001b[1;33m     \u001b[0mcheck_consistent_length\u001b[0m\u001b[1;33m(\u001b[0m\u001b[0my_true\u001b[0m\u001b[1;33m,\u001b[0m \u001b[0my_pred\u001b[0m\u001b[1;33m)\u001b[0m\u001b[1;33m\u001b[0m\u001b[1;33m\u001b[0m\u001b[0m\n\u001b[0m\u001b[0;32m     84\u001b[0m     \u001b[0mtype_true\u001b[0m \u001b[1;33m=\u001b[0m \u001b[0mtype_of_target\u001b[0m\u001b[1;33m(\u001b[0m\u001b[0my_true\u001b[0m\u001b[1;33m)\u001b[0m\u001b[1;33m\u001b[0m\u001b[1;33m\u001b[0m\u001b[0m\n\u001b[0;32m     85\u001b[0m     \u001b[0mtype_pred\u001b[0m \u001b[1;33m=\u001b[0m \u001b[0mtype_of_target\u001b[0m\u001b[1;33m(\u001b[0m\u001b[0my_pred\u001b[0m\u001b[1;33m)\u001b[0m\u001b[1;33m\u001b[0m\u001b[1;33m\u001b[0m\u001b[0m\n",
      "\u001b[1;32m~\\anaconda3\\lib\\site-packages\\sklearn\\utils\\validation.py\u001b[0m in \u001b[0;36mcheck_consistent_length\u001b[1;34m(*arrays)\u001b[0m\n\u001b[0;32m    318\u001b[0m     \u001b[1;32mif\u001b[0m \u001b[0mlen\u001b[0m\u001b[1;33m(\u001b[0m\u001b[0muniques\u001b[0m\u001b[1;33m)\u001b[0m \u001b[1;33m>\u001b[0m \u001b[1;36m1\u001b[0m\u001b[1;33m:\u001b[0m\u001b[1;33m\u001b[0m\u001b[1;33m\u001b[0m\u001b[0m\n\u001b[0;32m    319\u001b[0m         raise ValueError(\"Found input variables with inconsistent numbers of\"\n\u001b[1;32m--> 320\u001b[1;33m                          \" samples: %r\" % [int(l) for l in lengths])\n\u001b[0m\u001b[0;32m    321\u001b[0m \u001b[1;33m\u001b[0m\u001b[0m\n\u001b[0;32m    322\u001b[0m \u001b[1;33m\u001b[0m\u001b[0m\n",
      "\u001b[1;31mValueError\u001b[0m: Found input variables with inconsistent numbers of samples: [56060, 127547]"
     ]
    }
   ],
   "source": [
    "from sklearn.metrics import f1_score, precision_score, recall_score, confusion_matrix\n",
    "y_pred1 = model.predict(nemak)\n",
    "y_pred = np.argmax(y_pred1, axis=1)\n",
    "y_pred\n",
    "#y_test\n",
    "print(precision_score(y_test, y_pred , average=\"macro\"))\n",
    "print(recall_score(y_test, y_pred , average=\"macro\"))\n",
    "f1_score(y_test,y_pred, average=None,labels=[1,0])"
   ]
  },
  {
   "cell_type": "code",
   "execution_count": 45,
   "metadata": {},
   "outputs": [
    {
     "name": "stdout",
     "output_type": "stream",
     "text": [
      "0.5103545858072452\n",
      "0.7847615289751255\n"
     ]
    },
    {
     "data": {
      "text/plain": [
       "array([0.88283103, 0.04360476])"
      ]
     },
     "execution_count": 45,
     "metadata": {},
     "output_type": "execute_result"
    }
   ],
   "source": [
    "# na całych danych\n",
    "from sklearn.metrics import f1_score, precision_score, recall_score, confusion_matrix\n",
    "y_pred1 = model.predict(nemak)\n",
    "flat_list1 = []\n",
    "flat_list = []\n",
    "for sublist in y_pred1:\n",
    "    for item in sublist:\n",
    "        flat_list1.append(item)\n",
    "        flat_list.append(round(item))\n",
    "#y_test\n",
    "print(precision_score(output, flat_list , average=\"macro\"))\n",
    "print(recall_score(output, flat_list , average=\"macro\"))\n",
    "f1_score(output,flat_list, average=None,labels=[1,0])"
   ]
  },
  {
   "cell_type": "code",
   "execution_count": 46,
   "metadata": {},
   "outputs": [],
   "source": [
    "data  = {'rzeczywisty':output,'predykcja':flat_list, 'wynik_przewidziany':flat_list1}\n",
    "sprawdzenies = pd.DataFrame(data=data)"
   ]
  },
  {
   "cell_type": "code",
   "execution_count": 47,
   "metadata": {},
   "outputs": [
    {
     "data": {
      "text/html": [
       "<div>\n",
       "<style scoped>\n",
       "    .dataframe tbody tr th:only-of-type {\n",
       "        vertical-align: middle;\n",
       "    }\n",
       "\n",
       "    .dataframe tbody tr th {\n",
       "        vertical-align: top;\n",
       "    }\n",
       "\n",
       "    .dataframe thead th {\n",
       "        text-align: right;\n",
       "    }\n",
       "</style>\n",
       "<table border=\"1\" class=\"dataframe\">\n",
       "  <thead>\n",
       "    <tr style=\"text-align: right;\">\n",
       "      <th></th>\n",
       "      <th>rzeczywisty</th>\n",
       "      <th>predykcja</th>\n",
       "      <th>wynik_przewidziany</th>\n",
       "    </tr>\n",
       "  </thead>\n",
       "  <tbody>\n",
       "    <tr>\n",
       "      <th>0</th>\n",
       "      <td>1</td>\n",
       "      <td>1</td>\n",
       "      <td>0.573077</td>\n",
       "    </tr>\n",
       "    <tr>\n",
       "      <th>1</th>\n",
       "      <td>1</td>\n",
       "      <td>1</td>\n",
       "      <td>0.997188</td>\n",
       "    </tr>\n",
       "    <tr>\n",
       "      <th>2</th>\n",
       "      <td>1</td>\n",
       "      <td>1</td>\n",
       "      <td>0.992180</td>\n",
       "    </tr>\n",
       "    <tr>\n",
       "      <th>3</th>\n",
       "      <td>1</td>\n",
       "      <td>1</td>\n",
       "      <td>0.986438</td>\n",
       "    </tr>\n",
       "    <tr>\n",
       "      <th>4</th>\n",
       "      <td>1</td>\n",
       "      <td>1</td>\n",
       "      <td>0.977647</td>\n",
       "    </tr>\n",
       "    <tr>\n",
       "      <th>...</th>\n",
       "      <td>...</td>\n",
       "      <td>...</td>\n",
       "      <td>...</td>\n",
       "    </tr>\n",
       "    <tr>\n",
       "      <th>127542</th>\n",
       "      <td>1</td>\n",
       "      <td>1</td>\n",
       "      <td>0.999632</td>\n",
       "    </tr>\n",
       "    <tr>\n",
       "      <th>127543</th>\n",
       "      <td>1</td>\n",
       "      <td>1</td>\n",
       "      <td>0.999408</td>\n",
       "    </tr>\n",
       "    <tr>\n",
       "      <th>127544</th>\n",
       "      <td>1</td>\n",
       "      <td>1</td>\n",
       "      <td>0.999484</td>\n",
       "    </tr>\n",
       "    <tr>\n",
       "      <th>127545</th>\n",
       "      <td>1</td>\n",
       "      <td>1</td>\n",
       "      <td>0.999467</td>\n",
       "    </tr>\n",
       "    <tr>\n",
       "      <th>127546</th>\n",
       "      <td>1</td>\n",
       "      <td>1</td>\n",
       "      <td>0.996980</td>\n",
       "    </tr>\n",
       "  </tbody>\n",
       "</table>\n",
       "<p>127547 rows × 3 columns</p>\n",
       "</div>"
      ],
      "text/plain": [
       "        rzeczywisty  predykcja  wynik_przewidziany\n",
       "0                 1          1            0.573077\n",
       "1                 1          1            0.997188\n",
       "2                 1          1            0.992180\n",
       "3                 1          1            0.986438\n",
       "4                 1          1            0.977647\n",
       "...             ...        ...                 ...\n",
       "127542            1          1            0.999632\n",
       "127543            1          1            0.999408\n",
       "127544            1          1            0.999484\n",
       "127545            1          1            0.999467\n",
       "127546            1          1            0.996980\n",
       "\n",
       "[127547 rows x 3 columns]"
      ]
     },
     "execution_count": 47,
     "metadata": {},
     "output_type": "execute_result"
    }
   ],
   "source": [
    "sprawdzenies"
   ]
  },
  {
   "cell_type": "code",
   "execution_count": 48,
   "metadata": {},
   "outputs": [],
   "source": [
    "sprawdzenies.to_excel(\"outputsshift.xlsx\")"
   ]
  },
  {
   "cell_type": "code",
   "execution_count": 49,
   "metadata": {},
   "outputs": [
    {
     "data": {
      "text/plain": [
       "<matplotlib.axes._subplots.AxesSubplot at 0x29fc0108208>"
      ]
     },
     "execution_count": 49,
     "metadata": {},
     "output_type": "execute_result"
    },
    {
     "data": {
      "image/png": "[encoded data removed]",
      "text/plain": [
       "<Figure size 432x288 with 2 Axes>"
      ]
     },
     "metadata": {
      "needs_background": "light"
     },
     "output_type": "display_data"
    }
   ],
   "source": [
    "from sklearn.metrics import confusion_matrix\n",
    "import seaborn as sn\n",
    "import pandas as pd\n",
    "import matplotlib as plt\n",
    "\n",
    "labels =[1,0]\n",
    "labels2 =[0,1]\n",
    "cm=confusion_matrix (output,flat_list , labels=labels)\n",
    "df_cm = pd.DataFrame(cm,index=labels, columns=labels)\n",
    "\n",
    "sn.heatmap(df_cm,annot=True,fmt='d')"
   ]
  },
  {
   "cell_type": "markdown",
   "metadata": {},
   "source": [
    "# Zwiększenie ilości ukrytych neuronów"
   ]
  },
  {
   "cell_type": "code",
   "execution_count": 63,
   "metadata": {},
   "outputs": [],
   "source": [
    "model = keras.Sequential([\n",
    "    keras.layers.Dense(47,input_shape=[47,],activation='relu'),\n",
    "    keras.layers.Dense(256,activation='relu'),\n",
    "    keras.layers.Dropout(0.4),\n",
    "    keras.layers.BatchNormalization(),\n",
    "    keras.layers.Dense(256,activation='relu'),\n",
    "    keras.layers.Dropout(0.2),\n",
    "    keras.layers.BatchNormalization(),\n",
    "    keras.layers.Dense(256,activation='relu'),\n",
    "    keras.layers.BatchNormalization(),\n",
    "    keras.layers.Dense(256,activation='relu'),\n",
    "    keras.layers.BatchNormalization(),\n",
    "    keras.layers.Dense(256,activation='relu'),\n",
    "    keras.layers.BatchNormalization(),\n",
    "    keras.layers.Dense(256,activation='relu'),\n",
    "    keras.layers.Dense(1,activation = 'sigmoid')\n",
    "])\n",
    "\n",
    "model.compile(optimizer='adam',\n",
    "             loss='binary_crossentropy',\n",
    "             metrics=['accuracy'])"
   ]
  },
  {
   "cell_type": "code",
   "execution_count": 64,
   "metadata": {},
   "outputs": [
    {
     "name": "stdout",
     "output_type": "stream",
     "text": [
      "Epoch 1/40\n",
      "3557/3557 [==============================] - 22s 6ms/step - loss: 0.6016 - accuracy: 0.6821\n",
      "Epoch 2/40\n",
      "3557/3557 [==============================] - 20s 6ms/step - loss: 0.4949 - accuracy: 0.7495\n",
      "Epoch 3/40\n",
      "3557/3557 [==============================] - 20s 6ms/step - loss: 0.4703 - accuracy: 0.7594\n",
      "Epoch 4/40\n",
      "3557/3557 [==============================] - 21s 6ms/step - loss: 0.4516 - accuracy: 0.7694\n",
      "Epoch 5/40\n",
      "3557/3557 [==============================] - 26s 7ms/step - loss: 0.4428 - accuracy: 0.7758\n",
      "Epoch 6/40\n",
      "3557/3557 [==============================] - 31s 9ms/step - loss: 0.4322 - accuracy: 0.7814\n",
      "Epoch 7/40\n",
      "3557/3557 [==============================] - 39s 11ms/step - loss: 0.4197 - accuracy: 0.7929\n",
      "Epoch 8/40\n",
      "3557/3557 [==============================] - 27s 8ms/step - loss: 0.4093 - accuracy: 0.7987\n",
      "Epoch 9/40\n",
      "3557/3557 [==============================] - 20s 6ms/step - loss: 0.3942 - accuracy: 0.8090\n",
      "Epoch 10/40\n",
      "3557/3557 [==============================] - 24s 7ms/step - loss: 0.3848 - accuracy: 0.8158\n",
      "Epoch 11/40\n",
      "3557/3557 [==============================] - 30s 8ms/step - loss: 0.3826 - accuracy: 0.8196\n",
      "Epoch 12/40\n",
      "3557/3557 [==============================] - 25s 7ms/step - loss: 0.3716 - accuracy: 0.8251\n",
      "Epoch 13/40\n",
      "3557/3557 [==============================] - 23s 7ms/step - loss: 0.3613 - accuracy: 0.8312\n",
      "Epoch 14/40\n",
      "3557/3557 [==============================] - 19s 5ms/step - loss: 0.3563 - accuracy: 0.8348\n",
      "Epoch 15/40\n",
      "3557/3557 [==============================] - 19s 5ms/step - loss: 0.3560 - accuracy: 0.8358\n",
      "Epoch 16/40\n",
      "3557/3557 [==============================] - 22s 6ms/step - loss: 0.3493 - accuracy: 0.8400\n",
      "Epoch 17/40\n",
      "3557/3557 [==============================] - 25s 7ms/step - loss: 0.3417 - accuracy: 0.8448\n",
      "Epoch 18/40\n",
      "3557/3557 [==============================] - 27s 8ms/step - loss: 0.3380 - accuracy: 0.8466\n",
      "Epoch 19/40\n",
      "3557/3557 [==============================] - 21s 6ms/step - loss: 0.3311 - accuracy: 0.8492\n",
      "Epoch 20/40\n",
      "3557/3557 [==============================] - 22s 6ms/step - loss: 0.3287 - accuracy: 0.8527\n",
      "Epoch 21/40\n",
      "3557/3557 [==============================] - 22s 6ms/step - loss: 0.3228 - accuracy: 0.8552\n",
      "Epoch 22/40\n",
      "3557/3557 [==============================] - 22s 6ms/step - loss: 0.3223 - accuracy: 0.8566\n",
      "Epoch 23/40\n",
      "3557/3557 [==============================] - 20s 6ms/step - loss: 0.3144 - accuracy: 0.8600\n",
      "Epoch 24/40\n",
      "3557/3557 [==============================] - 26s 7ms/step - loss: 0.3145 - accuracy: 0.8607\n",
      "Epoch 25/40\n",
      "3557/3557 [==============================] - 22s 6ms/step - loss: 0.3086 - accuracy: 0.8634\n",
      "Epoch 26/40\n",
      "3557/3557 [==============================] - 19s 5ms/step - loss: 0.3045 - accuracy: 0.8661\n",
      "Epoch 27/40\n",
      "3557/3557 [==============================] - 22s 6ms/step - loss: 0.3041 - accuracy: 0.8681\n",
      "Epoch 28/40\n",
      "3557/3557 [==============================] - 23s 7ms/step - loss: 0.3004 - accuracy: 0.8699\n",
      "Epoch 29/40\n",
      "3557/3557 [==============================] - 25s 7ms/step - loss: 0.2978 - accuracy: 0.8713\n",
      "Epoch 30/40\n",
      "3557/3557 [==============================] - 25s 7ms/step - loss: 0.2940 - accuracy: 0.8722\n",
      "Epoch 31/40\n",
      "3557/3557 [==============================] - 23s 6ms/step - loss: 0.2927 - accuracy: 0.8744\n",
      "Epoch 32/40\n",
      "3557/3557 [==============================] - 23s 6ms/step - loss: 0.2887 - accuracy: 0.8766\n",
      "Epoch 33/40\n",
      "3557/3557 [==============================] - 32s 9ms/step - loss: 0.2885 - accuracy: 0.8760 0s - loss: 0 - ETA: 0s - loss: 0.2885 - accuracy: \n",
      "Epoch 34/40\n",
      "3557/3557 [==============================] - 29s 8ms/step - loss: 0.2810 - accuracy: 0.8803\n",
      "Epoch 35/40\n",
      "3557/3557 [==============================] - 28s 8ms/step - loss: 0.2804 - accuracy: 0.8798\n",
      "Epoch 36/40\n",
      "3557/3557 [==============================] - 22s 6ms/step - loss: 0.2824 - accuracy: 0.8794\n",
      "Epoch 37/40\n",
      "3557/3557 [==============================] - 22s 6ms/step - loss: 0.2787 - accuracy: 0.8827\n",
      "Epoch 38/40\n",
      "3557/3557 [==============================] - 22s 6ms/step - loss: 0.2716 - accuracy: 0.8846\n",
      "Epoch 39/40\n",
      "3557/3557 [==============================] - 19s 5ms/step - loss: 0.2763 - accuracy: 0.8811\n",
      "Epoch 40/40\n",
      "3557/3557 [==============================] - 22s 6ms/step - loss: 0.2710 - accuracy: 0.8868\n"
     ]
    }
   ],
   "source": [
    "history=model.fit(X_train,y_train,batch_size=32,epochs=40)"
   ]
  },
  {
   "cell_type": "code",
   "execution_count": 65,
   "metadata": {},
   "outputs": [
    {
     "name": "stdout",
     "output_type": "stream",
     "text": [
      "0.5125347969242157\n",
      "0.8237169525434611\n"
     ]
    },
    {
     "data": {
      "text/plain": [
       "array([0.89390875, 0.05099415])"
      ]
     },
     "execution_count": 65,
     "metadata": {},
     "output_type": "execute_result"
    }
   ],
   "source": [
    "# na całych danych\n",
    "from sklearn.metrics import f1_score, precision_score, recall_score, confusion_matrix\n",
    "y_pred1 = model.predict(nemak)\n",
    "flat_list1 = []\n",
    "flat_list = []\n",
    "for sublist in y_pred1:\n",
    "    for item in sublist:\n",
    "        flat_list1.append(item)\n",
    "        flat_list.append(round(item))\n",
    "#y_test\n",
    "print(precision_score(output, flat_list , average=\"macro\"))\n",
    "print(recall_score(output, flat_list , average=\"macro\"))\n",
    "f1_score(output,flat_list, average=None,labels=[1,0])"
   ]
  },
  {
   "cell_type": "code",
   "execution_count": 66,
   "metadata": {},
   "outputs": [],
   "source": [
    "data  = {'rzeczywisty':output,'predykcja':flat_list, 'wynik_przewidziany':flat_list1}\n",
    "sprawdzeniess = pd.DataFrame(data=data)"
   ]
  },
  {
   "cell_type": "code",
   "execution_count": 67,
   "metadata": {},
   "outputs": [
    {
     "data": {
      "text/html": [
       "<div>\n",
       "<style scoped>\n",
       "    .dataframe tbody tr th:only-of-type {\n",
       "        vertical-align: middle;\n",
       "    }\n",
       "\n",
       "    .dataframe tbody tr th {\n",
       "        vertical-align: top;\n",
       "    }\n",
       "\n",
       "    .dataframe thead th {\n",
       "        text-align: right;\n",
       "    }\n",
       "</style>\n",
       "<table border=\"1\" class=\"dataframe\">\n",
       "  <thead>\n",
       "    <tr style=\"text-align: right;\">\n",
       "      <th></th>\n",
       "      <th>rzeczywisty</th>\n",
       "      <th>predykcja</th>\n",
       "      <th>wynik_przewidziany</th>\n",
       "    </tr>\n",
       "  </thead>\n",
       "  <tbody>\n",
       "    <tr>\n",
       "      <th>0</th>\n",
       "      <td>1</td>\n",
       "      <td>1</td>\n",
       "      <td>0.999958</td>\n",
       "    </tr>\n",
       "    <tr>\n",
       "      <th>1</th>\n",
       "      <td>1</td>\n",
       "      <td>1</td>\n",
       "      <td>0.999859</td>\n",
       "    </tr>\n",
       "    <tr>\n",
       "      <th>2</th>\n",
       "      <td>1</td>\n",
       "      <td>1</td>\n",
       "      <td>0.999987</td>\n",
       "    </tr>\n",
       "    <tr>\n",
       "      <th>3</th>\n",
       "      <td>1</td>\n",
       "      <td>1</td>\n",
       "      <td>0.999971</td>\n",
       "    </tr>\n",
       "    <tr>\n",
       "      <th>4</th>\n",
       "      <td>1</td>\n",
       "      <td>1</td>\n",
       "      <td>0.999897</td>\n",
       "    </tr>\n",
       "    <tr>\n",
       "      <th>...</th>\n",
       "      <td>...</td>\n",
       "      <td>...</td>\n",
       "      <td>...</td>\n",
       "    </tr>\n",
       "    <tr>\n",
       "      <th>127542</th>\n",
       "      <td>1</td>\n",
       "      <td>1</td>\n",
       "      <td>0.999971</td>\n",
       "    </tr>\n",
       "    <tr>\n",
       "      <th>127543</th>\n",
       "      <td>1</td>\n",
       "      <td>1</td>\n",
       "      <td>0.999967</td>\n",
       "    </tr>\n",
       "    <tr>\n",
       "      <th>127544</th>\n",
       "      <td>1</td>\n",
       "      <td>1</td>\n",
       "      <td>0.999973</td>\n",
       "    </tr>\n",
       "    <tr>\n",
       "      <th>127545</th>\n",
       "      <td>1</td>\n",
       "      <td>1</td>\n",
       "      <td>0.999975</td>\n",
       "    </tr>\n",
       "    <tr>\n",
       "      <th>127546</th>\n",
       "      <td>1</td>\n",
       "      <td>1</td>\n",
       "      <td>0.999967</td>\n",
       "    </tr>\n",
       "  </tbody>\n",
       "</table>\n",
       "<p>127547 rows × 3 columns</p>\n",
       "</div>"
      ],
      "text/plain": [
       "        rzeczywisty  predykcja  wynik_przewidziany\n",
       "0                 1          1            0.999958\n",
       "1                 1          1            0.999859\n",
       "2                 1          1            0.999987\n",
       "3                 1          1            0.999971\n",
       "4                 1          1            0.999897\n",
       "...             ...        ...                 ...\n",
       "127542            1          1            0.999971\n",
       "127543            1          1            0.999967\n",
       "127544            1          1            0.999973\n",
       "127545            1          1            0.999975\n",
       "127546            1          1            0.999967\n",
       "\n",
       "[127547 rows x 3 columns]"
      ]
     },
     "execution_count": 67,
     "metadata": {},
     "output_type": "execute_result"
    }
   ],
   "source": [
    "sprawdzeniess"
   ]
  },
  {
   "cell_type": "code",
   "execution_count": 68,
   "metadata": {},
   "outputs": [
    {
     "data": {
      "text/plain": [
       "<matplotlib.axes._subplots.AxesSubplot at 0x29fcce9e088>"
      ]
     },
     "execution_count": 68,
     "metadata": {},
     "output_type": "execute_result"
    },
    {
     "data": {
      "image/png": "[encoded data removed]",
      "text/plain": [
       "<Figure size 432x288 with 2 Axes>"
      ]
     },
     "metadata": {
      "needs_background": "light"
     },
     "output_type": "display_data"
    }
   ],
   "source": [
    "from sklearn.metrics import confusion_matrix\n",
    "import seaborn as sn\n",
    "import pandas as pd\n",
    "import matplotlib as plt\n",
    "\n",
    "labels =[1,0]\n",
    "labels2 =[0,1]\n",
    "cm=confusion_matrix (output,flat_list , labels=labels)\n",
    "df_cm = pd.DataFrame(cm,index=labels, columns=labels)\n",
    "\n",
    "sn.heatmap(df_cm,annot=True,fmt='d')"
   ]
  },
  {
   "cell_type": "code",
   "execution_count": null,
   "metadata": {},
   "outputs": [],
   "source": []
  }
 ],
 "metadata": {
  "kernelspec": {
   "display_name": "Python 3",
   "language": "python",
   "name": "python3"
  },
  "language_info": {
   "codemirror_mode": {
    "name": "ipython",
    "version": 3
   },
   "file_extension": ".py",
   "mimetype": "text/x-python",
   "name": "python",
   "nbconvert_exporter": "python",
   "pygments_lexer": "ipython3",
   "version": "3.7.6"
  }
 },
 "nbformat": 4,
 "nbformat_minor": 4
}
