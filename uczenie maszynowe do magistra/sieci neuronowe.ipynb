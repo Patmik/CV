{
 "cells": [
  {
   "cell_type": "code",
   "execution_count": 1,
   "metadata": {},
   "outputs": [],
   "source": [
    "import pandas as pd\n",
    "import numpy as np\n",
    "import matplotlib.pyplot as plt"
   ]
  },
  {
   "cell_type": "code",
   "execution_count": 2,
   "metadata": {},
   "outputs": [],
   "source": [
    "nemak_raw = pd.read_excel('NEMAK_wybrane.xlsx')"
   ]
  },
  {
   "cell_type": "code",
   "execution_count": 3,
   "metadata": {},
   "outputs": [],
   "source": [
    "clean_nemak_raw = nemak_raw.dropna(how='any')"
   ]
  },
  {
   "cell_type": "code",
   "execution_count": 4,
   "metadata": {},
   "outputs": [
    {
     "name": "stderr",
     "output_type": "stream",
     "text": [
      "C:\\Users\\patry\\anaconda3\\lib\\site-packages\\ipykernel_launcher.py:1: SettingWithCopyWarning: \n",
      "A value is trying to be set on a copy of a slice from a DataFrame.\n",
      "Try using .loc[row_indexer,col_indexer] = value instead\n",
      "\n",
      "See the caveats in the documentation: https://pandas.pydata.org/pandas-docs/stable/user_guide/indexing.html#returning-a-view-versus-a-copy\n",
      "  \"\"\"Entry point for launching an IPython kernel.\n"
     ]
    }
   ],
   "source": [
    "clean_nemak_raw['status_value'] = clean_nemak_raw['Leakage_High'].apply(lambda x: 1 if x <=0.125 else 0)"
   ]
  },
  {
   "cell_type": "code",
   "execution_count": 5,
   "metadata": {},
   "outputs": [],
   "source": [
    "import random\n",
    "\n",
    "class Status:\n",
    "    GOOD = \"GOOD\"\n",
    "    NO_GOOD = \"NO GOOD\"\n",
    "    \n",
    "    \n",
    "class Leakage:\n",
    "    def __init__(self,value ):\n",
    "        self.value = value\n",
    "        self.leakage_status = self.get_leakage_status()\n",
    "        \n",
    "    def get_leakage_status(self):\n",
    "        if self.value<=0.125:\n",
    "            return Status.GOOD\n",
    "        else:\n",
    "            return Status.NO_GOOD\n",
    "\n",
    "\n",
    "class LeakageContainer:\n",
    "    def __init__(self,inputs, outputs):\n",
    "        self.inputs = inputs\n",
    "        self.outputs = outputs\n",
    "        self.conected = self.connect()\n",
    "        \n",
    "        \n",
    "    def connect(self):\n",
    "        #return list(zip(self.inputs,self.outputs))\n",
    "        #return inputs+outputs\n",
    "        \n",
    "        con_list = []\n",
    "        for index in range (len(self.inputs)):\n",
    "            con_list.append(self.inputs[index] + [self.outputs[index]] )\n",
    "        return con_list\n",
    "        \n",
    "    def get_status(self):\n",
    "        return [x.leakage_status for x in self.outputs]\n",
    "    \n",
    "    #def temp(self,x):\n",
    "        #print(x)\n",
    "        #return x[-1].leakage_status== Status.NO_GOOD\n",
    "        \n",
    "    \n",
    "    def evenly_distribute(self):\n",
    "        \n",
    "        no_good = list(filter(lambda x: x[-1].leakage_status == Status.NO_GOOD ,self.conected))\n",
    "        good= list(filter(lambda x: x[-1].leakage_status == Status.GOOD,self.conected))\n",
    "        good_shrunk = good[:len(no_good)]\n",
    "        self.conected = no_good+good_shrunk\n",
    "        random.shuffle(self.conected)\n",
    "        \n",
    "        \n",
    "        \n",
    "        inputs=[]\n",
    "        \n",
    "        for x in self.conected:\n",
    "            inputs.append(x[0:-1])\n",
    "        \n",
    "        \n",
    "        outputs=[]\n",
    "        \n",
    "        for x in self.conected:\n",
    "            outputs.append(x[-1])\n",
    "        \n",
    "        \n",
    "        self.inputs = inputs\n",
    "        self.outputs = outputs\n",
    "        print(len(self.inputs))\n",
    "\n",
    "\n"
   ]
  },
  {
   "cell_type": "code",
   "execution_count": 6,
   "metadata": {},
   "outputs": [],
   "source": [
    "nemak = clean_nemak_raw.drop(['Leakage_High','LeakageHighStatus','status_value'],axis=1).reset_index(drop=True)\n",
    "output = clean_nemak_raw['status_value'].reset_index(drop=True)"
   ]
  },
  {
   "cell_type": "markdown",
   "metadata": {},
   "source": [
    "# sieć neuronowa"
   ]
  },
  {
   "cell_type": "code",
   "execution_count": 7,
   "metadata": {},
   "outputs": [],
   "source": [
    "nemak = nemak.to_numpy()"
   ]
  },
  {
   "cell_type": "code",
   "execution_count": 8,
   "metadata": {},
   "outputs": [
    {
     "name": "stdout",
     "output_type": "stream",
     "text": [
      "<class 'numpy.ndarray'>\n",
      "<class 'numpy.ndarray'>\n"
     ]
    }
   ],
   "source": [
    "output=output.to_numpy()\n",
    "print(type(output))\n",
    "print(type(nemak))"
   ]
  },
  {
   "cell_type": "code",
   "execution_count": 9,
   "metadata": {},
   "outputs": [],
   "source": [
    "#dzielenie modelu\n",
    "from sklearn.model_selection import train_test_split\n",
    "\n",
    "\n",
    "X_train, X_test, y_train, y_test = train_test_split(nemak, output, test_size=0.33,random_state=42) #random_state=42"
   ]
  },
  {
   "cell_type": "code",
   "execution_count": 10,
   "metadata": {},
   "outputs": [],
   "source": [
    "import tensorflow as tf\n",
    "from tensorflow import keras\n",
    "\n",
    "\n",
    "\n",
    "model = keras.Sequential([\n",
    "    keras.layers.Dense(48,input_shape=[48,],activation='relu'),\n",
    "    keras.layers.Dense(4,activation='relu'),\n",
    "    keras.layers.Dropout(0.2),\n",
    "    keras.layers.Dense(1,activation = 'sigmoid')\n",
    "])\n",
    "\n",
    "model.compile(optimizer='adam',\n",
    "             loss='binary_crossentropy',\n",
    "             metrics=['accuracy'])"
   ]
  },
  {
   "cell_type": "code",
   "execution_count": 11,
   "metadata": {},
   "outputs": [
    {
     "name": "stdout",
     "output_type": "stream",
     "text": [
      "Epoch 1/5\n",
      "5341/5341 [==============================] - 3s 565us/step - loss: 0.1192 - accuracy: 0.9920\n",
      "Epoch 2/5\n",
      "5341/5341 [==============================] - 3s 549us/step - loss: 0.0394 - accuracy: 0.9943\n",
      "Epoch 3/5\n",
      "5341/5341 [==============================] - 3s 551us/step - loss: 0.0365 - accuracy: 0.9940\n",
      "Epoch 4/5\n",
      "5341/5341 [==============================] - ETA: 0s - loss: 0.0388 - accuracy: 0.99 - 3s 559us/step - loss: 0.0387 - accuracy: 0.9934\n",
      "Epoch 5/5\n",
      "5341/5341 [==============================] - 3s 592us/step - loss: 0.0361 - accuracy: 0.9939\n"
     ]
    }
   ],
   "source": [
    "history=model.fit(X_train,y_train,batch_size=16,epochs=5)"
   ]
  },
  {
   "cell_type": "code",
   "execution_count": 12,
   "metadata": {},
   "outputs": [],
   "source": [
    "#x = np.column_stack((train_X.nazwa_kolumny.valuse, train_X.nazwa_kolumny2.values))\n",
    "\n",
    "# pomieszaj dane do nauki"
   ]
  },
  {
   "cell_type": "code",
   "execution_count": 13,
   "metadata": {},
   "outputs": [
    {
     "name": "stdout",
     "output_type": "stream",
     "text": [
      "1316/1316 [==============================] - 1s 488us/step - loss: 0.0362 - accuracy: 0.9938\n"
     ]
    },
    {
     "data": {
      "text/plain": [
       "[0.03618727996945381, 0.9937516450881958]"
      ]
     },
     "execution_count": 13,
     "metadata": {},
     "output_type": "execute_result"
    }
   ],
   "source": [
    "#ewaluacja na test data\n",
    "\n",
    "model.evaluate(X_test,y_test)"
   ]
  },
  {
   "cell_type": "code",
   "execution_count": 14,
   "metadata": {},
   "outputs": [
    {
     "name": "stdout",
     "output_type": "stream",
     "text": [
      "Model: \"sequential\"\n",
      "_________________________________________________________________\n",
      "Layer (type)                 Output Shape              Param #   \n",
      "=================================================================\n",
      "dense (Dense)                (None, 48)                2352      \n",
      "_________________________________________________________________\n",
      "dense_1 (Dense)              (None, 4)                 196       \n",
      "_________________________________________________________________\n",
      "dropout (Dropout)            (None, 4)                 0         \n",
      "_________________________________________________________________\n",
      "dense_2 (Dense)              (None, 1)                 5         \n",
      "=================================================================\n",
      "Total params: 2,553\n",
      "Trainable params: 2,553\n",
      "Non-trainable params: 0\n",
      "_________________________________________________________________\n"
     ]
    }
   ],
   "source": [
    "model.summary()"
   ]
  },
  {
   "cell_type": "code",
   "execution_count": 15,
   "metadata": {},
   "outputs": [
    {
     "data": {
      "image/png": "[encoded data removed]",
      "text/plain": [
       "<Figure size 576x360 with 1 Axes>"
      ]
     },
     "metadata": {
      "needs_background": "light"
     },
     "output_type": "display_data"
    }
   ],
   "source": [
    "pd.DataFrame(history.history).plot(figsize=(8,5))\n",
    "plt.grid(True)\n",
    "plt.gca().set_ylim(0,1)\n",
    "plt.show()"
   ]
  },
  {
   "cell_type": "code",
   "execution_count": 16,
   "metadata": {},
   "outputs": [
    {
     "name": "stderr",
     "output_type": "stream",
     "text": [
      "C:\\Users\\patry\\anaconda3\\lib\\site-packages\\sklearn\\metrics\\_classification.py:1248: UndefinedMetricWarning: Precision is ill-defined and being set to 0.0 in labels with no predicted samples. Use `zero_division` parameter to control this behavior.\n",
      "  _warn_prf(average, modifier, msg_start, len(result))\n"
     ]
    },
    {
     "name": "stdout",
     "output_type": "stream",
     "text": [
      "0.4969423036214101\n",
      "0.5\n"
     ]
    },
    {
     "data": {
      "text/plain": [
       "<matplotlib.axes._subplots.AxesSubplot at 0x25e40ec23c8>"
      ]
     },
     "execution_count": 16,
     "metadata": {},
     "output_type": "execute_result"
    },
    {
     "data": {
      "image/png": "[encoded data removed]",
      "text/plain": [
       "<Figure size 432x288 with 2 Axes>"
      ]
     },
     "metadata": {
      "needs_background": "light"
     },
     "output_type": "display_data"
    }
   ],
   "source": [
    "# na całych danych\n",
    "from sklearn.metrics import f1_score, precision_score, recall_score, confusion_matrix\n",
    "y_pred1 = model.predict(nemak)\n",
    "flat_list1 = []\n",
    "flat_list = []\n",
    "for sublist in y_pred1:\n",
    "    for item in sublist:\n",
    "        flat_list1.append(item)\n",
    "        flat_list.append(round(item))\n",
    "#y_test\n",
    "print(precision_score(output, flat_list , average=\"macro\"))\n",
    "print(recall_score(output, flat_list , average=\"macro\"))\n",
    "f1_score(output,flat_list, average=None,labels=[1,0])\n",
    "\n",
    "from sklearn.metrics import confusion_matrix\n",
    "import seaborn as sn\n",
    "import pandas as pd\n",
    "import matplotlib as plt\n",
    "\n",
    "labels =[1,0]\n",
    "labels2 =[0,1]\n",
    "cm=confusion_matrix (output,flat_list , labels=labels)\n",
    "df_cm = pd.DataFrame(cm,index=labels, columns=labels)\n",
    "\n",
    "sn.heatmap(df_cm,annot=True,fmt='d')"
   ]
  },
  {
   "cell_type": "code",
   "execution_count": 17,
   "metadata": {},
   "outputs": [],
   "source": [
    "#normalizacja wsadowa\n",
    "import tensorflow as tf\n",
    "from tensorflow import keras\n",
    "\n",
    "\n",
    "\n",
    "model = keras.Sequential([\n",
    "    keras.layers.Dense(48,input_shape=[48,],activation='relu'),\n",
    "    keras.layers.BatchNormalization(),\n",
    "    keras.layers.Dropout(rate=0.2),\n",
    "    keras.layers.Dense(4,activation='relu'),\n",
    "    keras.layers.BatchNormalization(),\n",
    "    keras.layers.Dense(1,activation = 'sigmoid')\n",
    "])\n",
    "\n",
    "model.compile(optimizer='adam',\n",
    "             loss='binary_crossentropy',\n",
    "             metrics=['accuracy'])"
   ]
  },
  {
   "cell_type": "code",
   "execution_count": 18,
   "metadata": {},
   "outputs": [
    {
     "name": "stdout",
     "output_type": "stream",
     "text": [
      "Epoch 1/5\n",
      "5341/5341 [==============================] - 5s 766us/step - loss: 0.1920 - accuracy: 0.9427\n",
      "Epoch 2/5\n",
      "5341/5341 [==============================] - 5s 871us/step - loss: 0.0332 - accuracy: 0.9941\n",
      "Epoch 3/5\n",
      "5341/5341 [==============================] - 5s 861us/step - loss: 0.0351 - accuracy: 0.9936\n",
      "Epoch 4/5\n",
      "5341/5341 [==============================] - 5s 857us/step - loss: 0.0328 - accuracy: 0.9942\n",
      "Epoch 5/5\n",
      "5341/5341 [==============================] - 5s 864us/step - loss: 0.0331 - accuracy: 0.9939\n"
     ]
    }
   ],
   "source": [
    "history=model.fit(X_train,y_train,batch_size=16,epochs=5)"
   ]
  },
  {
   "cell_type": "code",
   "execution_count": 19,
   "metadata": {},
   "outputs": [
    {
     "name": "stdout",
     "output_type": "stream",
     "text": [
      "Model: \"sequential_1\"\n",
      "_________________________________________________________________\n",
      "Layer (type)                 Output Shape              Param #   \n",
      "=================================================================\n",
      "dense_3 (Dense)              (None, 48)                2352      \n",
      "_________________________________________________________________\n",
      "batch_normalization (BatchNo (None, 48)                192       \n",
      "_________________________________________________________________\n",
      "dropout_1 (Dropout)          (None, 48)                0         \n",
      "_________________________________________________________________\n",
      "dense_4 (Dense)              (None, 4)                 196       \n",
      "_________________________________________________________________\n",
      "batch_normalization_1 (Batch (None, 4)                 16        \n",
      "_________________________________________________________________\n",
      "dense_5 (Dense)              (None, 1)                 5         \n",
      "=================================================================\n",
      "Total params: 2,761\n",
      "Trainable params: 2,657\n",
      "Non-trainable params: 104\n",
      "_________________________________________________________________\n"
     ]
    }
   ],
   "source": [
    "model.summary()"
   ]
  },
  {
   "cell_type": "code",
   "execution_count": 20,
   "metadata": {},
   "outputs": [
    {
     "name": "stdout",
     "output_type": "stream",
     "text": [
      "0.6016277282317819\n",
      "0.5056351264676381\n"
     ]
    },
    {
     "data": {
      "text/plain": [
       "<matplotlib.axes._subplots.AxesSubplot at 0x25e41d67788>"
      ]
     },
     "execution_count": 20,
     "metadata": {},
     "output_type": "execute_result"
    },
    {
     "data": {
      "image/png": "[encoded data removed]",
      "text/plain": [
       "<Figure size 432x288 with 2 Axes>"
      ]
     },
     "metadata": {
      "needs_background": "light"
     },
     "output_type": "display_data"
    }
   ],
   "source": [
    "# na całych danych\n",
    "from sklearn.metrics import f1_score, precision_score, recall_score, confusion_matrix\n",
    "y_pred1 = model.predict(nemak)\n",
    "flat_list1 = []\n",
    "flat_list = []\n",
    "for sublist in y_pred1:\n",
    "    for item in sublist:\n",
    "        flat_list1.append(item)\n",
    "        flat_list.append(round(item))\n",
    "#y_test\n",
    "print(precision_score(output, flat_list , average=\"macro\"))\n",
    "print(recall_score(output, flat_list , average=\"macro\"))\n",
    "f1_score(output,flat_list, average=None,labels=[1,0])\n",
    "\n",
    "from sklearn.metrics import confusion_matrix\n",
    "import seaborn as sn\n",
    "import pandas as pd\n",
    "import matplotlib as plt\n",
    "\n",
    "labels =[1,0]\n",
    "labels2 =[0,1]\n",
    "cm=confusion_matrix (output,flat_list , labels=labels)\n",
    "df_cm = pd.DataFrame(cm,index=labels, columns=labels)\n",
    "\n",
    "sn.heatmap(df_cm,annot=True,fmt='d')"
   ]
  },
  {
   "cell_type": "markdown",
   "metadata": {},
   "source": [
    "# Zwiększenie ilości neuronów ukrytych"
   ]
  },
  {
   "cell_type": "code",
   "execution_count": 21,
   "metadata": {},
   "outputs": [],
   "source": [
    "model = keras.Sequential([\n",
    "    keras.layers.Dense(256,input_shape=[48,],activation='relu'),\n",
    "    keras.layers.Dense(256,activation='relu'),\n",
    "    keras.layers.Dropout(0.2),\n",
    "    keras.layers.BatchNormalization(),\n",
    "    keras.layers.Dense(256,activation='relu'),\n",
    "    keras.layers.Dropout(0.2),\n",
    "    keras.layers.BatchNormalization(),\n",
    "    keras.layers.Dense(256,activation='relu'),\n",
    "    keras.layers.Dense(1,activation = 'sigmoid')\n",
    "])\n",
    "\n",
    "model.compile(optimizer='adam',\n",
    "             loss='binary_crossentropy',\n",
    "             metrics=['accuracy'])"
   ]
  },
  {
   "cell_type": "code",
   "execution_count": 22,
   "metadata": {},
   "outputs": [
    {
     "name": "stdout",
     "output_type": "stream",
     "text": [
      "Epoch 1/10\n",
      "5341/5341 [==============================] - 11s 2ms/step - loss: 0.0512 - accuracy: 0.9901\n",
      "Epoch 2/10\n",
      "5341/5341 [==============================] - 15s 3ms/step - loss: 0.0389 - accuracy: 0.9941\n",
      "Epoch 3/10\n",
      "5341/5341 [==============================] - 13s 2ms/step - loss: 0.0368 - accuracy: 0.9941\n",
      "Epoch 4/10\n",
      "5341/5341 [==============================] - 12s 2ms/step - loss: 0.0345 - accuracy: 0.9944\n",
      "Epoch 5/10\n",
      "5341/5341 [==============================] - 11s 2ms/step - loss: 0.0359 - accuracy: 0.9939\n",
      "Epoch 6/10\n",
      "5341/5341 [==============================] - 18s 3ms/step - loss: 0.0365 - accuracy: 0.9941\n",
      "Epoch 7/10\n",
      "5341/5341 [==============================] - 16s 3ms/step - loss: 0.0357 - accuracy: 0.9943\n",
      "Epoch 8/10\n",
      "5341/5341 [==============================] - 22s 4ms/step - loss: 0.0372 - accuracy: 0.9936\n",
      "Epoch 9/10\n",
      "5341/5341 [==============================] - 21s 4ms/step - loss: 0.0348 - accuracy: 0.9943\n",
      "Epoch 10/10\n",
      "5341/5341 [==============================] - 19s 3ms/step - loss: 0.0338 - accuracy: 0.9943\n"
     ]
    }
   ],
   "source": [
    "history=model.fit(X_train,y_train,batch_size=16,epochs=10)"
   ]
  },
  {
   "cell_type": "code",
   "execution_count": 23,
   "metadata": {},
   "outputs": [
    {
     "name": "stdout",
     "output_type": "stream",
     "text": [
      "0.003124183317098667\n",
      "0.5\n"
     ]
    },
    {
     "name": "stderr",
     "output_type": "stream",
     "text": [
      "C:\\Users\\patry\\anaconda3\\lib\\site-packages\\sklearn\\metrics\\_classification.py:1248: UndefinedMetricWarning: Precision is ill-defined and being set to 0.0 in labels with no predicted samples. Use `zero_division` parameter to control this behavior.\n",
      "  _warn_prf(average, modifier, msg_start, len(result))\n"
     ]
    },
    {
     "data": {
      "text/plain": [
       "array([0.        , 0.01241913])"
      ]
     },
     "execution_count": 23,
     "metadata": {},
     "output_type": "execute_result"
    }
   ],
   "source": [
    "from sklearn.metrics import f1_score, precision_score, recall_score, confusion_matrix\n",
    "y_pred1 = model.predict(X_test)\n",
    "y_pred = np.argmax(y_pred1, axis=1)\n",
    "y_pred\n",
    "#y_test\n",
    "print(precision_score(y_test, y_pred , average=\"macro\"))\n",
    "print(recall_score(y_test, y_pred , average=\"macro\"))\n",
    "f1_score(y_test,y_pred, average=None,labels=[1,0])"
   ]
  },
  {
   "cell_type": "code",
   "execution_count": 24,
   "metadata": {},
   "outputs": [
    {
     "name": "stdout",
     "output_type": "stream",
     "text": [
      "Model: \"sequential_2\"\n",
      "_________________________________________________________________\n",
      "Layer (type)                 Output Shape              Param #   \n",
      "=================================================================\n",
      "dense_6 (Dense)              (None, 256)               12544     \n",
      "_________________________________________________________________\n",
      "dense_7 (Dense)              (None, 256)               65792     \n",
      "_________________________________________________________________\n",
      "dropout_2 (Dropout)          (None, 256)               0         \n",
      "_________________________________________________________________\n",
      "batch_normalization_2 (Batch (None, 256)               1024      \n",
      "_________________________________________________________________\n",
      "dense_8 (Dense)              (None, 256)               65792     \n",
      "_________________________________________________________________\n",
      "dropout_3 (Dropout)          (None, 256)               0         \n",
      "_________________________________________________________________\n",
      "batch_normalization_3 (Batch (None, 256)               1024      \n",
      "_________________________________________________________________\n",
      "dense_9 (Dense)              (None, 256)               65792     \n",
      "_________________________________________________________________\n",
      "dense_10 (Dense)             (None, 1)                 257       \n",
      "=================================================================\n",
      "Total params: 212,225\n",
      "Trainable params: 211,201\n",
      "Non-trainable params: 1,024\n",
      "_________________________________________________________________\n"
     ]
    }
   ],
   "source": [
    "model.summary()"
   ]
  },
  {
   "cell_type": "code",
   "execution_count": 26,
   "metadata": {},
   "outputs": [
    {
     "ename": "AttributeError",
     "evalue": "module 'matplotlib' has no attribute 'grid'",
     "output_type": "error",
     "traceback": [
      "\u001b[1;31m---------------------------------------------------------------------------\u001b[0m",
      "\u001b[1;31mAttributeError\u001b[0m                            Traceback (most recent call last)",
      "\u001b[1;32m<ipython-input-26-0cf6cb81746e>\u001b[0m in \u001b[0;36m<module>\u001b[1;34m\u001b[0m\n\u001b[0;32m      1\u001b[0m \u001b[0mpd\u001b[0m\u001b[1;33m.\u001b[0m\u001b[0mDataFrame\u001b[0m\u001b[1;33m(\u001b[0m\u001b[0mhistory\u001b[0m\u001b[1;33m.\u001b[0m\u001b[0mhistory\u001b[0m\u001b[1;33m)\u001b[0m\u001b[1;33m.\u001b[0m\u001b[0mplot\u001b[0m\u001b[1;33m(\u001b[0m\u001b[0mfigsize\u001b[0m\u001b[1;33m=\u001b[0m\u001b[1;33m(\u001b[0m\u001b[1;36m8\u001b[0m\u001b[1;33m,\u001b[0m\u001b[1;36m5\u001b[0m\u001b[1;33m)\u001b[0m\u001b[1;33m)\u001b[0m\u001b[1;33m\u001b[0m\u001b[1;33m\u001b[0m\u001b[0m\n\u001b[1;32m----> 2\u001b[1;33m \u001b[0mplt\u001b[0m\u001b[1;33m.\u001b[0m\u001b[0mgrid\u001b[0m\u001b[1;33m(\u001b[0m\u001b[1;32mTrue\u001b[0m\u001b[1;33m)\u001b[0m\u001b[1;33m\u001b[0m\u001b[1;33m\u001b[0m\u001b[0m\n\u001b[0m\u001b[0;32m      3\u001b[0m \u001b[0mplt\u001b[0m\u001b[1;33m.\u001b[0m\u001b[0mgca\u001b[0m\u001b[1;33m(\u001b[0m\u001b[1;33m)\u001b[0m\u001b[1;33m.\u001b[0m\u001b[0mset_ylim\u001b[0m\u001b[1;33m(\u001b[0m\u001b[1;36m0\u001b[0m\u001b[1;33m,\u001b[0m\u001b[1;36m1\u001b[0m\u001b[1;33m)\u001b[0m\u001b[1;33m\u001b[0m\u001b[1;33m\u001b[0m\u001b[0m\n\u001b[0;32m      4\u001b[0m \u001b[0mplt\u001b[0m\u001b[1;33m.\u001b[0m\u001b[0mshow\u001b[0m\u001b[1;33m(\u001b[0m\u001b[1;33m)\u001b[0m\u001b[1;33m\u001b[0m\u001b[1;33m\u001b[0m\u001b[0m\n",
      "\u001b[1;31mAttributeError\u001b[0m: module 'matplotlib' has no attribute 'grid'"
     ]
    },
    {
     "data": {
      "image/png": "[encoded data removed]",
      "text/plain": [
       "<Figure size 576x360 with 1 Axes>"
      ]
     },
     "metadata": {
      "needs_background": "light"
     },
     "output_type": "display_data"
    }
   ],
   "source": [
    "pd.DataFrame(history.history).plot(figsize=(8,5))\n",
    "plt.grid(True)\n",
    "plt.gca().set_ylim(0,1)\n",
    "plt.show()"
   ]
  },
  {
   "cell_type": "code",
   "execution_count": 27,
   "metadata": {},
   "outputs": [
    {
     "name": "stderr",
     "output_type": "stream",
     "text": [
      "C:\\Users\\patry\\anaconda3\\lib\\site-packages\\sklearn\\metrics\\_classification.py:1248: UndefinedMetricWarning: Precision is ill-defined and being set to 0.0 in labels with no predicted samples. Use `zero_division` parameter to control this behavior.\n",
      "  _warn_prf(average, modifier, msg_start, len(result))\n"
     ]
    },
    {
     "name": "stdout",
     "output_type": "stream",
     "text": [
      "0.4969423036214101\n",
      "0.5\n"
     ]
    },
    {
     "data": {
      "text/plain": [
       "<matplotlib.axes._subplots.AxesSubplot at 0x25e4387f788>"
      ]
     },
     "execution_count": 27,
     "metadata": {},
     "output_type": "execute_result"
    },
    {
     "data": {
      "image/png": "[encoded data removed]",
      "text/plain": [
       "<Figure size 432x288 with 2 Axes>"
      ]
     },
     "metadata": {
      "needs_background": "light"
     },
     "output_type": "display_data"
    }
   ],
   "source": [
    "# na całych danych\n",
    "from sklearn.metrics import f1_score, precision_score, recall_score, confusion_matrix\n",
    "y_pred1 = model.predict(nemak)\n",
    "flat_list1 = []\n",
    "flat_list = []\n",
    "for sublist in y_pred1:\n",
    "    for item in sublist:\n",
    "        flat_list1.append(item)\n",
    "        flat_list.append(round(item))\n",
    "#y_test\n",
    "print(precision_score(output, flat_list , average=\"macro\"))\n",
    "print(recall_score(output, flat_list , average=\"macro\"))\n",
    "f1_score(output,flat_list, average=None,labels=[1,0])\n",
    "\n",
    "from sklearn.metrics import confusion_matrix\n",
    "import seaborn as sn\n",
    "import pandas as pd\n",
    "import matplotlib as plt\n",
    "\n",
    "labels =[1,0]\n",
    "labels2 =[0,1]\n",
    "cm=confusion_matrix (output,flat_list , labels=labels)\n",
    "df_cm = pd.DataFrame(cm,index=labels, columns=labels)\n",
    "\n",
    "sn.heatmap(df_cm,annot=True,fmt='d')"
   ]
  },
  {
   "cell_type": "code",
   "execution_count": 28,
   "metadata": {},
   "outputs": [],
   "source": [
    "model = keras.Sequential([\n",
    "    keras.layers.Dense(512,input_shape=[48,],activation='relu'),\n",
    "    keras.layers.Dense(256,activation='relu'),\n",
    "    keras.layers.Dropout(0.4),\n",
    "    keras.layers.BatchNormalization(),\n",
    "    keras.layers.Dense(256,activation='relu'),\n",
    "    keras.layers.Dropout(0.2),\n",
    "    keras.layers.BatchNormalization(),\n",
    "    keras.layers.Dense(256,activation='relu'),\n",
    "    keras.layers.Dense(1,activation = 'sigmoid')\n",
    "])\n",
    "\n",
    "model.compile(optimizer='adam',\n",
    "             loss='binary_crossentropy',\n",
    "             metrics=['accuracy'])"
   ]
  },
  {
   "cell_type": "code",
   "execution_count": 29,
   "metadata": {},
   "outputs": [
    {
     "name": "stdout",
     "output_type": "stream",
     "text": [
      "Epoch 1/20\n",
      "2671/2671 [==============================] - 8s 3ms/step - loss: 0.0690 - accuracy: 0.9792\n",
      "Epoch 2/20\n",
      "2671/2671 [==============================] - 11s 4ms/step - loss: 0.0382 - accuracy: 0.9941\n",
      "Epoch 3/20\n",
      "2671/2671 [==============================] - 13s 5ms/step - loss: 0.0385 - accuracy: 0.9938\n",
      "Epoch 4/20\n",
      "2671/2671 [==============================] - ETA: 0s - loss: 0.0376 - accuracy: 0.99 - 14s 5ms/step - loss: 0.0376 - accuracy: 0.9939\n",
      "Epoch 5/20\n",
      "2671/2671 [==============================] - 13s 5ms/step - loss: 0.0353 - accuracy: 0.9942\n",
      "Epoch 6/20\n",
      "2671/2671 [==============================] - 13s 5ms/step - loss: 0.0370 - accuracy: 0.9937\n",
      "Epoch 7/20\n",
      "2671/2671 [==============================] - 13s 5ms/step - loss: 0.0359 - accuracy: 0.9939\n",
      "Epoch 8/20\n",
      "2671/2671 [==============================] - 13s 5ms/step - loss: 0.0342 - accuracy: 0.9942\n",
      "Epoch 9/20\n",
      "2671/2671 [==============================] - 13s 5ms/step - loss: 0.0351 - accuracy: 0.9939\n",
      "Epoch 10/20\n",
      "2671/2671 [==============================] - 13s 5ms/step - loss: 0.0385 - accuracy: 0.9933\n",
      "Epoch 11/20\n",
      "2671/2671 [==============================] - 12s 5ms/step - loss: 0.0338 - accuracy: 0.9942\n",
      "Epoch 12/20\n",
      "2671/2671 [==============================] - 15s 6ms/step - loss: 0.0348 - accuracy: 0.9942\n",
      "Epoch 13/20\n",
      "2671/2671 [==============================] - 14s 5ms/step - loss: 0.0395 - accuracy: 0.9933\n",
      "Epoch 14/20\n",
      "2671/2671 [==============================] - 16s 6ms/step - loss: 0.0384 - accuracy: 0.9938\n",
      "Epoch 15/20\n",
      "2671/2671 [==============================] - 15s 6ms/step - loss: 0.0348 - accuracy: 0.9943\n",
      "Epoch 16/20\n",
      "2671/2671 [==============================] - 15s 6ms/step - loss: 0.0348 - accuracy: 0.9941\n",
      "Epoch 17/20\n",
      "2671/2671 [==============================] - 15s 6ms/step - loss: 0.0351 - accuracy: 0.9941\n",
      "Epoch 18/20\n",
      "2671/2671 [==============================] - 14s 5ms/step - loss: 0.0353 - accuracy: 0.9942\n",
      "Epoch 19/20\n",
      "2671/2671 [==============================] - 14s 5ms/step - loss: 0.0355 - accuracy: 0.9942\n",
      "Epoch 20/20\n",
      "2671/2671 [==============================] - 15s 6ms/step - loss: 0.0363 - accuracy: 0.9939\n"
     ]
    }
   ],
   "source": [
    "history=model.fit(X_train,y_train,batch_size=32,epochs=20)"
   ]
  },
  {
   "cell_type": "code",
   "execution_count": 30,
   "metadata": {},
   "outputs": [
    {
     "name": "stdout",
     "output_type": "stream",
     "text": [
      "0.003124183317098667\n",
      "0.5\n"
     ]
    },
    {
     "name": "stderr",
     "output_type": "stream",
     "text": [
      "C:\\Users\\patry\\anaconda3\\lib\\site-packages\\sklearn\\metrics\\_classification.py:1248: UndefinedMetricWarning: Precision is ill-defined and being set to 0.0 in labels with no predicted samples. Use `zero_division` parameter to control this behavior.\n",
      "  _warn_prf(average, modifier, msg_start, len(result))\n"
     ]
    },
    {
     "data": {
      "text/plain": [
       "array([0.        , 0.01241913])"
      ]
     },
     "execution_count": 30,
     "metadata": {},
     "output_type": "execute_result"
    }
   ],
   "source": [
    "from sklearn.metrics import f1_score, precision_score, recall_score, confusion_matrix\n",
    "y_pred1 = model.predict(X_test)\n",
    "y_pred = np.argmax(y_pred1, axis=1)\n",
    "y_pred\n",
    "#y_test\n",
    "print(precision_score(y_test, y_pred , average=\"macro\"))\n",
    "print(recall_score(y_test, y_pred , average=\"macro\"))\n",
    "f1_score(y_test,y_pred, average=None,labels=[1,0])\n"
   ]
  },
  {
   "cell_type": "code",
   "execution_count": 31,
   "metadata": {},
   "outputs": [
    {
     "name": "stdout",
     "output_type": "stream",
     "text": [
      "0.49694227964812693\n",
      "0.4999960557558355\n"
     ]
    },
    {
     "data": {
      "text/plain": [
       "array([0.99692898, 0.        ])"
      ]
     },
     "execution_count": 31,
     "metadata": {},
     "output_type": "execute_result"
    }
   ],
   "source": [
    "# na całych danych\n",
    "from sklearn.metrics import f1_score, precision_score, recall_score, confusion_matrix\n",
    "y_pred1 = model.predict(nemak)\n",
    "flat_list1 = []\n",
    "flat_list = []\n",
    "for sublist in y_pred1:\n",
    "    for item in sublist:\n",
    "        flat_list1.append(item)\n",
    "        flat_list.append(round(item))\n",
    "#y_test\n",
    "print(precision_score(output, flat_list , average=\"macro\"))\n",
    "print(recall_score(output, flat_list , average=\"macro\"))\n",
    "f1_score(output,flat_list, average=None,labels=[1,0])"
   ]
  },
  {
   "cell_type": "code",
   "execution_count": 32,
   "metadata": {},
   "outputs": [
    {
     "name": "stdout",
     "output_type": "stream",
     "text": [
      "Model: \"sequential_3\"\n",
      "_________________________________________________________________\n",
      "Layer (type)                 Output Shape              Param #   \n",
      "=================================================================\n",
      "dense_11 (Dense)             (None, 512)               25088     \n",
      "_________________________________________________________________\n",
      "dense_12 (Dense)             (None, 256)               131328    \n",
      "_________________________________________________________________\n",
      "dropout_4 (Dropout)          (None, 256)               0         \n",
      "_________________________________________________________________\n",
      "batch_normalization_4 (Batch (None, 256)               1024      \n",
      "_________________________________________________________________\n",
      "dense_13 (Dense)             (None, 256)               65792     \n",
      "_________________________________________________________________\n",
      "dropout_5 (Dropout)          (None, 256)               0         \n",
      "_________________________________________________________________\n",
      "batch_normalization_5 (Batch (None, 256)               1024      \n",
      "_________________________________________________________________\n",
      "dense_14 (Dense)             (None, 256)               65792     \n",
      "_________________________________________________________________\n",
      "dense_15 (Dense)             (None, 1)                 257       \n",
      "=================================================================\n",
      "Total params: 290,305\n",
      "Trainable params: 289,281\n",
      "Non-trainable params: 1,024\n",
      "_________________________________________________________________\n"
     ]
    }
   ],
   "source": [
    "model.summary()"
   ]
  },
  {
   "cell_type": "code",
   "execution_count": 33,
   "metadata": {},
   "outputs": [
    {
     "ename": "AttributeError",
     "evalue": "module 'matplotlib' has no attribute 'grid'",
     "output_type": "error",
     "traceback": [
      "\u001b[1;31m---------------------------------------------------------------------------\u001b[0m",
      "\u001b[1;31mAttributeError\u001b[0m                            Traceback (most recent call last)",
      "\u001b[1;32m<ipython-input-33-0cf6cb81746e>\u001b[0m in \u001b[0;36m<module>\u001b[1;34m\u001b[0m\n\u001b[0;32m      1\u001b[0m \u001b[0mpd\u001b[0m\u001b[1;33m.\u001b[0m\u001b[0mDataFrame\u001b[0m\u001b[1;33m(\u001b[0m\u001b[0mhistory\u001b[0m\u001b[1;33m.\u001b[0m\u001b[0mhistory\u001b[0m\u001b[1;33m)\u001b[0m\u001b[1;33m.\u001b[0m\u001b[0mplot\u001b[0m\u001b[1;33m(\u001b[0m\u001b[0mfigsize\u001b[0m\u001b[1;33m=\u001b[0m\u001b[1;33m(\u001b[0m\u001b[1;36m8\u001b[0m\u001b[1;33m,\u001b[0m\u001b[1;36m5\u001b[0m\u001b[1;33m)\u001b[0m\u001b[1;33m)\u001b[0m\u001b[1;33m\u001b[0m\u001b[1;33m\u001b[0m\u001b[0m\n\u001b[1;32m----> 2\u001b[1;33m \u001b[0mplt\u001b[0m\u001b[1;33m.\u001b[0m\u001b[0mgrid\u001b[0m\u001b[1;33m(\u001b[0m\u001b[1;32mTrue\u001b[0m\u001b[1;33m)\u001b[0m\u001b[1;33m\u001b[0m\u001b[1;33m\u001b[0m\u001b[0m\n\u001b[0m\u001b[0;32m      3\u001b[0m \u001b[0mplt\u001b[0m\u001b[1;33m.\u001b[0m\u001b[0mgca\u001b[0m\u001b[1;33m(\u001b[0m\u001b[1;33m)\u001b[0m\u001b[1;33m.\u001b[0m\u001b[0mset_ylim\u001b[0m\u001b[1;33m(\u001b[0m\u001b[1;36m0\u001b[0m\u001b[1;33m,\u001b[0m\u001b[1;36m1\u001b[0m\u001b[1;33m)\u001b[0m\u001b[1;33m\u001b[0m\u001b[1;33m\u001b[0m\u001b[0m\n\u001b[0;32m      4\u001b[0m \u001b[0mplt\u001b[0m\u001b[1;33m.\u001b[0m\u001b[0mshow\u001b[0m\u001b[1;33m(\u001b[0m\u001b[1;33m)\u001b[0m\u001b[1;33m\u001b[0m\u001b[1;33m\u001b[0m\u001b[0m\n",
      "\u001b[1;31mAttributeError\u001b[0m: module 'matplotlib' has no attribute 'grid'"
     ]
    },
    {
     "data": {
      "image/png": "[encoded data removed]",
      "text/plain": [
       "<Figure size 576x360 with 1 Axes>"
      ]
     },
     "metadata": {
      "needs_background": "light"
     },
     "output_type": "display_data"
    }
   ],
   "source": [
    "pd.DataFrame(history.history).plot(figsize=(8,5))\n",
    "plt.grid(True)\n",
    "plt.gca().set_ylim(0,1)\n",
    "plt.show()"
   ]
  },
  {
   "cell_type": "code",
   "execution_count": 34,
   "metadata": {},
   "outputs": [
    {
     "name": "stdout",
     "output_type": "stream",
     "text": [
      "0.49694227964812693\n",
      "0.4999960557558355\n"
     ]
    },
    {
     "data": {
      "text/plain": [
       "<matplotlib.axes._subplots.AxesSubplot at 0x25e405ba1c8>"
      ]
     },
     "execution_count": 34,
     "metadata": {},
     "output_type": "execute_result"
    },
    {
     "data": {
      "image/png": "[encoded data removed]",
      "text/plain": [
       "<Figure size 432x288 with 2 Axes>"
      ]
     },
     "metadata": {
      "needs_background": "light"
     },
     "output_type": "display_data"
    }
   ],
   "source": [
    "# na całych danych\n",
    "from sklearn.metrics import f1_score, precision_score, recall_score, confusion_matrix\n",
    "y_pred1 = model.predict(nemak)\n",
    "flat_list1 = []\n",
    "flat_list = []\n",
    "for sublist in y_pred1:\n",
    "    for item in sublist:\n",
    "        flat_list1.append(item)\n",
    "        flat_list.append(round(item))\n",
    "#y_test\n",
    "print(precision_score(output, flat_list , average=\"macro\"))\n",
    "print(recall_score(output, flat_list , average=\"macro\"))\n",
    "f1_score(output,flat_list, average=None,labels=[1,0])\n",
    "\n",
    "from sklearn.metrics import confusion_matrix\n",
    "import seaborn as sn\n",
    "import pandas as pd\n",
    "import matplotlib as plt\n",
    "\n",
    "labels =[1,0]\n",
    "labels2 =[0,1]\n",
    "cm=confusion_matrix (output,flat_list , labels=labels)\n",
    "df_cm = pd.DataFrame(cm,index=labels, columns=labels)\n",
    "\n",
    "sn.heatmap(df_cm,annot=True,fmt='d')"
   ]
  },
  {
   "cell_type": "code",
   "execution_count": 35,
   "metadata": {},
   "outputs": [
    {
     "data": {
      "text/plain": [
       "<matplotlib.axes._subplots.AxesSubplot at 0x25e46a4ac48>"
      ]
     },
     "execution_count": 35,
     "metadata": {},
     "output_type": "execute_result"
    },
    {
     "data": {
      "image/png": "[encoded data removed]",
      "text/plain": [
       "<Figure size 432x288 with 2 Axes>"
      ]
     },
     "metadata": {
      "needs_background": "light"
     },
     "output_type": "display_data"
    }
   ],
   "source": [
    "from sklearn.metrics import confusion_matrix\n",
    "import seaborn as sn\n",
    "import pandas as pd\n",
    "import matplotlib as plt\n",
    "\n",
    "labels =[1,0]\n",
    "labels2 =[0,1]\n",
    "cm=confusion_matrix (output,flat_list , labels=labels)\n",
    "df_cm = pd.DataFrame(cm,index=labels, columns=labels)\n",
    "\n",
    "sn.heatmap(df_cm,annot=True,fmt='d')"
   ]
  },
  {
   "cell_type": "code",
   "execution_count": 36,
   "metadata": {},
   "outputs": [],
   "source": [
    "data  = {'rzeczywisty':output,'predykcja':flat_list, 'wynik_przewidziany':flat_list1}\n",
    "sprawdzenie = pd.DataFrame(data=data)\n",
    "\n"
   ]
  },
  {
   "cell_type": "code",
   "execution_count": 37,
   "metadata": {},
   "outputs": [
    {
     "data": {
      "text/html": [
       "<div>\n",
       "<style scoped>\n",
       "    .dataframe tbody tr th:only-of-type {\n",
       "        vertical-align: middle;\n",
       "    }\n",
       "\n",
       "    .dataframe tbody tr th {\n",
       "        vertical-align: top;\n",
       "    }\n",
       "\n",
       "    .dataframe thead th {\n",
       "        text-align: right;\n",
       "    }\n",
       "</style>\n",
       "<table border=\"1\" class=\"dataframe\">\n",
       "  <thead>\n",
       "    <tr style=\"text-align: right;\">\n",
       "      <th></th>\n",
       "      <th>rzeczywisty</th>\n",
       "      <th>predykcja</th>\n",
       "      <th>wynik_przewidziany</th>\n",
       "    </tr>\n",
       "  </thead>\n",
       "  <tbody>\n",
       "    <tr>\n",
       "      <th>0</th>\n",
       "      <td>1</td>\n",
       "      <td>1</td>\n",
       "      <td>0.985231</td>\n",
       "    </tr>\n",
       "    <tr>\n",
       "      <th>1</th>\n",
       "      <td>1</td>\n",
       "      <td>1</td>\n",
       "      <td>0.988159</td>\n",
       "    </tr>\n",
       "    <tr>\n",
       "      <th>2</th>\n",
       "      <td>1</td>\n",
       "      <td>1</td>\n",
       "      <td>0.990722</td>\n",
       "    </tr>\n",
       "    <tr>\n",
       "      <th>3</th>\n",
       "      <td>1</td>\n",
       "      <td>1</td>\n",
       "      <td>0.989813</td>\n",
       "    </tr>\n",
       "    <tr>\n",
       "      <th>4</th>\n",
       "      <td>1</td>\n",
       "      <td>1</td>\n",
       "      <td>0.988530</td>\n",
       "    </tr>\n",
       "    <tr>\n",
       "      <th>...</th>\n",
       "      <td>...</td>\n",
       "      <td>...</td>\n",
       "      <td>...</td>\n",
       "    </tr>\n",
       "    <tr>\n",
       "      <th>127542</th>\n",
       "      <td>1</td>\n",
       "      <td>1</td>\n",
       "      <td>0.994322</td>\n",
       "    </tr>\n",
       "    <tr>\n",
       "      <th>127543</th>\n",
       "      <td>1</td>\n",
       "      <td>1</td>\n",
       "      <td>0.994336</td>\n",
       "    </tr>\n",
       "    <tr>\n",
       "      <th>127544</th>\n",
       "      <td>1</td>\n",
       "      <td>1</td>\n",
       "      <td>0.994225</td>\n",
       "    </tr>\n",
       "    <tr>\n",
       "      <th>127545</th>\n",
       "      <td>1</td>\n",
       "      <td>1</td>\n",
       "      <td>0.994482</td>\n",
       "    </tr>\n",
       "    <tr>\n",
       "      <th>127546</th>\n",
       "      <td>1</td>\n",
       "      <td>1</td>\n",
       "      <td>0.993765</td>\n",
       "    </tr>\n",
       "  </tbody>\n",
       "</table>\n",
       "<p>127547 rows × 3 columns</p>\n",
       "</div>"
      ],
      "text/plain": [
       "        rzeczywisty  predykcja  wynik_przewidziany\n",
       "0                 1          1            0.985231\n",
       "1                 1          1            0.988159\n",
       "2                 1          1            0.990722\n",
       "3                 1          1            0.989813\n",
       "4                 1          1            0.988530\n",
       "...             ...        ...                 ...\n",
       "127542            1          1            0.994322\n",
       "127543            1          1            0.994336\n",
       "127544            1          1            0.994225\n",
       "127545            1          1            0.994482\n",
       "127546            1          1            0.993765\n",
       "\n",
       "[127547 rows x 3 columns]"
      ]
     },
     "execution_count": 37,
     "metadata": {},
     "output_type": "execute_result"
    }
   ],
   "source": [
    "sprawdzenie\n"
   ]
  },
  {
   "cell_type": "code",
   "execution_count": 38,
   "metadata": {},
   "outputs": [],
   "source": [
    "sprawdzenie.to_excel(\"output.xlsx\")"
   ]
  },
  {
   "cell_type": "code",
   "execution_count": 39,
   "metadata": {},
   "outputs": [],
   "source": [
    "#zbalansowanie danych"
   ]
  },
  {
   "cell_type": "code",
   "execution_count": 40,
   "metadata": {},
   "outputs": [
    {
     "name": "stdout",
     "output_type": "stream",
     "text": [
      "Epoch 1/10\n",
      "2671/2671 [==============================] - 11s 4ms/step - loss: 0.2263 - accuracy: 0.9940\n",
      "Epoch 2/10\n",
      "2671/2671 [==============================] - 12s 4ms/step - loss: 0.2177 - accuracy: 0.9940\n",
      "Epoch 3/10\n",
      "2671/2671 [==============================] - 11s 4ms/step - loss: 0.2211 - accuracy: 0.9938\n",
      "Epoch 4/10\n",
      "2671/2671 [==============================] - 15s 6ms/step - loss: 0.2132 - accuracy: 0.9939\n",
      "Epoch 5/10\n",
      "2671/2671 [==============================] - 15s 6ms/step - loss: 0.2178 - accuracy: 0.9940\n",
      "Epoch 6/10\n",
      "2671/2671 [==============================] - 21s 8ms/step - loss: 0.2154 - accuracy: 0.9940\n",
      "Epoch 7/10\n",
      "2671/2671 [==============================] - 19s 7ms/step - loss: 0.2146 - accuracy: 0.9940\n",
      "Epoch 8/10\n",
      "2671/2671 [==============================] - 16s 6ms/step - loss: 0.2212 - accuracy: 0.9940\n",
      "Epoch 9/10\n",
      "2671/2671 [==============================] - 15s 6ms/step - loss: 0.2262 - accuracy: 0.9940\n",
      "Epoch 10/10\n",
      "2671/2671 [==============================] - 13s 5ms/step - loss: 0.2197 - accuracy: 0.9938\n"
     ]
    }
   ],
   "source": [
    "class_weight = {\n",
    "    0: 10.0,\n",
    "    1: 1.0,\n",
    "}\n",
    "class_weight=class_weight\n",
    "\n",
    "history = model.fit(X_train,y_train, class_weight=class_weight, batch_size=32, epochs=10)"
   ]
  },
  {
   "cell_type": "code",
   "execution_count": 41,
   "metadata": {},
   "outputs": [
    {
     "ename": "AttributeError",
     "evalue": "module 'matplotlib' has no attribute 'grid'",
     "output_type": "error",
     "traceback": [
      "\u001b[1;31m---------------------------------------------------------------------------\u001b[0m",
      "\u001b[1;31mAttributeError\u001b[0m                            Traceback (most recent call last)",
      "\u001b[1;32m<ipython-input-41-0cf6cb81746e>\u001b[0m in \u001b[0;36m<module>\u001b[1;34m\u001b[0m\n\u001b[0;32m      1\u001b[0m \u001b[0mpd\u001b[0m\u001b[1;33m.\u001b[0m\u001b[0mDataFrame\u001b[0m\u001b[1;33m(\u001b[0m\u001b[0mhistory\u001b[0m\u001b[1;33m.\u001b[0m\u001b[0mhistory\u001b[0m\u001b[1;33m)\u001b[0m\u001b[1;33m.\u001b[0m\u001b[0mplot\u001b[0m\u001b[1;33m(\u001b[0m\u001b[0mfigsize\u001b[0m\u001b[1;33m=\u001b[0m\u001b[1;33m(\u001b[0m\u001b[1;36m8\u001b[0m\u001b[1;33m,\u001b[0m\u001b[1;36m5\u001b[0m\u001b[1;33m)\u001b[0m\u001b[1;33m)\u001b[0m\u001b[1;33m\u001b[0m\u001b[1;33m\u001b[0m\u001b[0m\n\u001b[1;32m----> 2\u001b[1;33m \u001b[0mplt\u001b[0m\u001b[1;33m.\u001b[0m\u001b[0mgrid\u001b[0m\u001b[1;33m(\u001b[0m\u001b[1;32mTrue\u001b[0m\u001b[1;33m)\u001b[0m\u001b[1;33m\u001b[0m\u001b[1;33m\u001b[0m\u001b[0m\n\u001b[0m\u001b[0;32m      3\u001b[0m \u001b[0mplt\u001b[0m\u001b[1;33m.\u001b[0m\u001b[0mgca\u001b[0m\u001b[1;33m(\u001b[0m\u001b[1;33m)\u001b[0m\u001b[1;33m.\u001b[0m\u001b[0mset_ylim\u001b[0m\u001b[1;33m(\u001b[0m\u001b[1;36m0\u001b[0m\u001b[1;33m,\u001b[0m\u001b[1;36m1\u001b[0m\u001b[1;33m)\u001b[0m\u001b[1;33m\u001b[0m\u001b[1;33m\u001b[0m\u001b[0m\n\u001b[0;32m      4\u001b[0m \u001b[0mplt\u001b[0m\u001b[1;33m.\u001b[0m\u001b[0mshow\u001b[0m\u001b[1;33m(\u001b[0m\u001b[1;33m)\u001b[0m\u001b[1;33m\u001b[0m\u001b[1;33m\u001b[0m\u001b[0m\n",
      "\u001b[1;31mAttributeError\u001b[0m: module 'matplotlib' has no attribute 'grid'"
     ]
    },
    {
     "data": {
      "image/png": "[encoded data removed]",
      "text/plain": [
       "<Figure size 576x360 with 1 Axes>"
      ]
     },
     "metadata": {
      "needs_background": "light"
     },
     "output_type": "display_data"
    }
   ],
   "source": [
    "pd.DataFrame(history.history).plot(figsize=(8,5))\n",
    "plt.grid(True)\n",
    "plt.gca().set_ylim(0,1)\n",
    "plt.show()"
   ]
  },
  {
   "cell_type": "code",
   "execution_count": 42,
   "metadata": {},
   "outputs": [
    {
     "name": "stderr",
     "output_type": "stream",
     "text": [
      "C:\\Users\\patry\\anaconda3\\lib\\site-packages\\sklearn\\metrics\\_classification.py:1248: UndefinedMetricWarning: Precision is ill-defined and being set to 0.0 in labels with no predicted samples. Use `zero_division` parameter to control this behavior.\n",
      "  _warn_prf(average, modifier, msg_start, len(result))\n"
     ]
    },
    {
     "name": "stdout",
     "output_type": "stream",
     "text": [
      "0.4969423036214101\n",
      "0.5\n"
     ]
    },
    {
     "data": {
      "text/plain": [
       "<matplotlib.axes._subplots.AxesSubplot at 0x25e46f5e088>"
      ]
     },
     "execution_count": 42,
     "metadata": {},
     "output_type": "execute_result"
    },
    {
     "data": {
      "image/png": "[encoded data removed]",
      "text/plain": [
       "<Figure size 432x288 with 2 Axes>"
      ]
     },
     "metadata": {
      "needs_background": "light"
     },
     "output_type": "display_data"
    }
   ],
   "source": [
    "# na całych danych\n",
    "from sklearn.metrics import f1_score, precision_score, recall_score, confusion_matrix\n",
    "y_pred1 = model.predict(nemak)\n",
    "flat_list1 = []\n",
    "flat_list = []\n",
    "for sublist in y_pred1:\n",
    "    for item in sublist:\n",
    "        flat_list1.append(item)\n",
    "        flat_list.append(round(item))\n",
    "#y_test\n",
    "print(precision_score(output, flat_list , average=\"macro\"))\n",
    "print(recall_score(output, flat_list , average=\"macro\"))\n",
    "f1_score(output,flat_list, average=None,labels=[1,0])\n",
    "\n",
    "from sklearn.metrics import confusion_matrix\n",
    "import seaborn as sn\n",
    "import pandas as pd\n",
    "import matplotlib as plt\n",
    "\n",
    "labels =[1,0]\n",
    "labels2 =[0,1]\n",
    "cm=confusion_matrix (output,flat_list , labels=labels)\n",
    "df_cm = pd.DataFrame(cm,index=labels, columns=labels)\n",
    "\n",
    "sn.heatmap(df_cm,annot=True,fmt='d')"
   ]
  },
  {
   "cell_type": "markdown",
   "metadata": {},
   "source": [
    "# SMOTE\n",
    "\n"
   ]
  },
  {
   "cell_type": "code",
   "execution_count": 43,
   "metadata": {},
   "outputs": [],
   "source": [
    "from imblearn.over_sampling import SMOTE\n",
    "\n",
    "sm = SMOTE(random_state=42)\n",
    "\n",
    "\n",
    "\n",
    "X_sm, y_sm = sm.fit_resample(X_train,y_train)"
   ]
  },
  {
   "cell_type": "code",
   "execution_count": 44,
   "metadata": {},
   "outputs": [],
   "source": [
    "X_train,X_test,y_train,y_test = train_test_split(X_sm,y_sm, test_size=0.33,random_state=42)"
   ]
  },
  {
   "cell_type": "code",
   "execution_count": 45,
   "metadata": {},
   "outputs": [],
   "source": [
    "model = keras.Sequential([\n",
    "    keras.layers.Dense(512,input_shape=[48,],activation='relu'),\n",
    "    keras.layers.Dense(256,activation='relu'),\n",
    "    keras.layers.Dropout(0.4),\n",
    "    keras.layers.BatchNormalization(),\n",
    "    keras.layers.Dense(256,activation='relu'),\n",
    "    keras.layers.Dropout(0.2),\n",
    "    keras.layers.BatchNormalization(),\n",
    "    keras.layers.Dense(256,activation='relu'),\n",
    "    keras.layers.Dense(1,activation = 'sigmoid')\n",
    "])\n",
    "\n",
    "model.compile(optimizer='adam',\n",
    "             loss='binary_crossentropy',\n",
    "             metrics=['accuracy'])"
   ]
  },
  {
   "cell_type": "code",
   "execution_count": 46,
   "metadata": {},
   "outputs": [
    {
     "name": "stdout",
     "output_type": "stream",
     "text": [
      "Epoch 1/40\n",
      "7114/7114 [==============================] - 21s 3ms/step - loss: 0.6016 - accuracy: 0.6924\n",
      "Epoch 2/40\n",
      "7114/7114 [==============================] - 27s 4ms/step - loss: 0.5023 - accuracy: 0.7482\n",
      "Epoch 3/40\n",
      "7114/7114 [==============================] - 23s 3ms/step - loss: 0.4768 - accuracy: 0.7596\n",
      "Epoch 4/40\n",
      "7114/7114 [==============================] - 22s 3ms/step - loss: 0.4696 - accuracy: 0.7631\n",
      "Epoch 5/40\n",
      "7114/7114 [==============================] - 20s 3ms/step - loss: 0.4595 - accuracy: 0.7696\n",
      "Epoch 6/40\n",
      "7114/7114 [==============================] - 20s 3ms/step - loss: 0.4475 - accuracy: 0.7791\n",
      "Epoch 7/40\n",
      "7114/7114 [==============================] - 27s 4ms/step - loss: 0.4404 - accuracy: 0.7847\n",
      "Epoch 8/40\n",
      "7114/7114 [==============================] - 27s 4ms/step - loss: 0.4332 - accuracy: 0.7871\n",
      "Epoch 9/40\n",
      "7114/7114 [==============================] - 46s 6ms/step - loss: 0.4269 - accuracy: 0.7919\n",
      "Epoch 10/40\n",
      "7114/7114 [==============================] - 40s 6ms/step - loss: 0.4253 - accuracy: 0.7948\n",
      "Epoch 11/40\n",
      "7114/7114 [==============================] - 45s 6ms/step - loss: 0.4175 - accuracy: 0.7959\n",
      "Epoch 12/40\n",
      "7114/7114 [==============================] - 24s 3ms/step - loss: 0.4156 - accuracy: 0.7992\n",
      "Epoch 13/40\n",
      "7114/7114 [==============================] - 27s 4ms/step - loss: 0.4131 - accuracy: 0.8024\n",
      "Epoch 14/40\n",
      "7114/7114 [==============================] - 27s 4ms/step - loss: 0.4102 - accuracy: 0.8018\n",
      "Epoch 15/40\n",
      "7114/7114 [==============================] - 26s 4ms/step - loss: 0.4048 - accuracy: 0.8068\n",
      "Epoch 16/40\n",
      "7114/7114 [==============================] - 25s 4ms/step - loss: 0.4159 - accuracy: 0.7995\n",
      "Epoch 17/40\n",
      "7114/7114 [==============================] - 25s 4ms/step - loss: 0.3989 - accuracy: 0.8109\n",
      "Epoch 18/40\n",
      "7114/7114 [==============================] - 28s 4ms/step - loss: 0.4006 - accuracy: 0.8090\n",
      "Epoch 19/40\n",
      "7114/7114 [==============================] - 23s 3ms/step - loss: 0.3980 - accuracy: 0.8114\n",
      "Epoch 20/40\n",
      "7114/7114 [==============================] - 21s 3ms/step - loss: 0.3937 - accuracy: 0.8137\n",
      "Epoch 21/40\n",
      "7114/7114 [==============================] - 26s 4ms/step - loss: 0.3974 - accuracy: 0.8113\n",
      "Epoch 22/40\n",
      "7114/7114 [==============================] - 23s 3ms/step - loss: 0.3946 - accuracy: 0.8136\n",
      "Epoch 23/40\n",
      "7114/7114 [==============================] - 21s 3ms/step - loss: 0.3914 - accuracy: 0.8144\n",
      "Epoch 24/40\n",
      "7114/7114 [==============================] - 22s 3ms/step - loss: 0.3899 - accuracy: 0.8142\n",
      "Epoch 25/40\n",
      "7114/7114 [==============================] - 23s 3ms/step - loss: 0.3910 - accuracy: 0.8146\n",
      "Epoch 26/40\n",
      "7114/7114 [==============================] - 24s 3ms/step - loss: 0.3912 - accuracy: 0.8164\n",
      "Epoch 27/40\n",
      "7114/7114 [==============================] - 21s 3ms/step - loss: 0.3866 - accuracy: 0.8189\n",
      "Epoch 28/40\n",
      "7114/7114 [==============================] - 25s 3ms/step - loss: 0.3892 - accuracy: 0.8178\n",
      "Epoch 29/40\n",
      "7114/7114 [==============================] - 35s 5ms/step - loss: 0.3824 - accuracy: 0.8216\n",
      "Epoch 30/40\n",
      "7114/7114 [==============================] - 29s 4ms/step - loss: 0.3830 - accuracy: 0.8223\n",
      "Epoch 31/40\n",
      "7114/7114 [==============================] - 34s 5ms/step - loss: 0.3850 - accuracy: 0.8192\n",
      "Epoch 32/40\n",
      "7114/7114 [==============================] - 30s 4ms/step - loss: 0.3804 - accuracy: 0.8221\n",
      "Epoch 33/40\n",
      "7114/7114 [==============================] - 23s 3ms/step - loss: 0.3790 - accuracy: 0.8227\n",
      "Epoch 34/40\n",
      "7114/7114 [==============================] - 23s 3ms/step - loss: 0.3794 - accuracy: 0.8219\n",
      "Epoch 35/40\n",
      "7114/7114 [==============================] - 26s 4ms/step - loss: 0.3781 - accuracy: 0.8229\n",
      "Epoch 36/40\n",
      "7114/7114 [==============================] - 26s 4ms/step - loss: 0.3823 - accuracy: 0.8214\n",
      "Epoch 37/40\n",
      "7114/7114 [==============================] - 24s 3ms/step - loss: 0.3790 - accuracy: 0.8216\n",
      "Epoch 38/40\n",
      "7114/7114 [==============================] - 23s 3ms/step - loss: 0.3798 - accuracy: 0.8207\n",
      "Epoch 39/40\n",
      "7114/7114 [==============================] - 23s 3ms/step - loss: 0.3763 - accuracy: 0.8247\n",
      "Epoch 40/40\n",
      "7114/7114 [==============================] - 19s 3ms/step - loss: 0.3796 - accuracy: 0.8231\n"
     ]
    }
   ],
   "source": [
    "history=model.fit(X_train,y_train,batch_size=16,epochs=40)"
   ]
  },
  {
   "cell_type": "code",
   "execution_count": 57,
   "metadata": {},
   "outputs": [
    {
     "name": "stdout",
     "output_type": "stream",
     "text": [
      "0.25037459864430966\n",
      "0.5\n"
     ]
    },
    {
     "name": "stderr",
     "output_type": "stream",
     "text": [
      "C:\\Users\\patry\\anaconda3\\lib\\site-packages\\sklearn\\metrics\\_classification.py:1248: UndefinedMetricWarning: Precision is ill-defined and being set to 0.0 in labels with no predicted samples. Use `zero_division` parameter to control this behavior.\n",
      "  _warn_prf(average, modifier, msg_start, len(result))\n"
     ]
    },
    {
     "data": {
      "text/plain": [
       "array([0.        , 0.66733229])"
      ]
     },
     "execution_count": 57,
     "metadata": {},
     "output_type": "execute_result"
    }
   ],
   "source": [
    "from sklearn.metrics import f1_score, precision_score, recall_score, confusion_matrix\n",
    "y_pred1 = model.predict(X_test)\n",
    "y_pred = np.argmax(y_pred1, axis=1)\n",
    "y_pred\n",
    "#y_test\n",
    "print(precision_score(y_test, y_pred , average=\"macro\"))\n",
    "print(recall_score(y_test, y_pred , average=\"macro\"))\n",
    "f1_score(y_test,y_pred, average=None,labels=[1,0])"
   ]
  },
  {
   "cell_type": "code",
   "execution_count": 58,
   "metadata": {},
   "outputs": [
    {
     "name": "stdout",
     "output_type": "stream",
     "text": [
      "0.8465775691526987\n",
      "0.8442670978601626\n"
     ]
    },
    {
     "data": {
      "text/plain": [
       "<matplotlib.axes._subplots.AxesSubplot at 0x25e413fabc8>"
      ]
     },
     "execution_count": 58,
     "metadata": {},
     "output_type": "execute_result"
    },
    {
     "data": {
      "image/png": "[encoded data removed]",
      "text/plain": [
       "<Figure size 432x288 with 2 Axes>"
      ]
     },
     "metadata": {
      "needs_background": "light"
     },
     "output_type": "display_data"
    }
   ],
   "source": [
    "# na danych SOMA\n",
    "from sklearn.metrics import f1_score, precision_score, recall_score, confusion_matrix\n",
    "y_pred1 = model.predict(X_test)\n",
    "flat_list1 = []\n",
    "flat_list = []\n",
    "for sublist in y_pred1:\n",
    "    for item in sublist:\n",
    "        flat_list1.append(item)\n",
    "        flat_list.append(round(item))\n",
    "#y_test\n",
    "print(precision_score(y_test, flat_list , average=\"macro\"))\n",
    "print(recall_score(y_test, flat_list , average=\"macro\"))\n",
    "f1_score(y_test,flat_list, average=None,labels=[1,0])\n",
    "\n",
    "from sklearn.metrics import confusion_matrix\n",
    "import seaborn as sn\n",
    "import pandas as pd\n",
    "import matplotlib as plt\n",
    "\n",
    "labels =[1,0]\n",
    "labels2 =[0,1]\n",
    "cm=confusion_matrix (y_test,flat_list , labels=labels)\n",
    "df_cm = pd.DataFrame(cm,index=labels, columns=labels)\n",
    "\n",
    "sn.heatmap(df_cm,annot=True,fmt='d')"
   ]
  },
  {
   "cell_type": "code",
   "execution_count": 48,
   "metadata": {},
   "outputs": [
    {
     "name": "stdout",
     "output_type": "stream",
     "text": [
      "0.5109595272925693\n",
      "0.7892459626615598\n"
     ]
    },
    {
     "data": {
      "text/plain": [
       "array([0.88996445, 0.0458733 ])"
      ]
     },
     "execution_count": 48,
     "metadata": {},
     "output_type": "execute_result"
    }
   ],
   "source": [
    "# na całych danych\n",
    "from sklearn.metrics import f1_score, precision_score, recall_score, confusion_matrix\n",
    "y_pred1 = model.predict(nemak)\n",
    "flat_list1 = []\n",
    "flat_list = []\n",
    "for sublist in y_pred1:\n",
    "    for item in sublist:\n",
    "        flat_list1.append(item)\n",
    "        flat_list.append(round(item))\n",
    "#y_test\n",
    "print(precision_score(output, flat_list , average=\"macro\"))\n",
    "print(recall_score(output, flat_list , average=\"macro\"))\n",
    "f1_score(output,flat_list, average=None,labels=[1,0])"
   ]
  },
  {
   "cell_type": "code",
   "execution_count": 49,
   "metadata": {},
   "outputs": [
    {
     "name": "stdout",
     "output_type": "stream",
     "text": [
      "Model: \"sequential_4\"\n",
      "_________________________________________________________________\n",
      "Layer (type)                 Output Shape              Param #   \n",
      "=================================================================\n",
      "dense_16 (Dense)             (None, 512)               25088     \n",
      "_________________________________________________________________\n",
      "dense_17 (Dense)             (None, 256)               131328    \n",
      "_________________________________________________________________\n",
      "dropout_6 (Dropout)          (None, 256)               0         \n",
      "_________________________________________________________________\n",
      "batch_normalization_6 (Batch (None, 256)               1024      \n",
      "_________________________________________________________________\n",
      "dense_18 (Dense)             (None, 256)               65792     \n",
      "_________________________________________________________________\n",
      "dropout_7 (Dropout)          (None, 256)               0         \n",
      "_________________________________________________________________\n",
      "batch_normalization_7 (Batch (None, 256)               1024      \n",
      "_________________________________________________________________\n",
      "dense_19 (Dense)             (None, 256)               65792     \n",
      "_________________________________________________________________\n",
      "dense_20 (Dense)             (None, 1)                 257       \n",
      "=================================================================\n",
      "Total params: 290,305\n",
      "Trainable params: 289,281\n",
      "Non-trainable params: 1,024\n",
      "_________________________________________________________________\n"
     ]
    }
   ],
   "source": [
    "model.summary()"
   ]
  },
  {
   "cell_type": "code",
   "execution_count": 50,
   "metadata": {},
   "outputs": [
    {
     "ename": "AttributeError",
     "evalue": "module 'matplotlib' has no attribute 'grid'",
     "output_type": "error",
     "traceback": [
      "\u001b[1;31m---------------------------------------------------------------------------\u001b[0m",
      "\u001b[1;31mAttributeError\u001b[0m                            Traceback (most recent call last)",
      "\u001b[1;32m<ipython-input-50-0cf6cb81746e>\u001b[0m in \u001b[0;36m<module>\u001b[1;34m\u001b[0m\n\u001b[0;32m      1\u001b[0m \u001b[0mpd\u001b[0m\u001b[1;33m.\u001b[0m\u001b[0mDataFrame\u001b[0m\u001b[1;33m(\u001b[0m\u001b[0mhistory\u001b[0m\u001b[1;33m.\u001b[0m\u001b[0mhistory\u001b[0m\u001b[1;33m)\u001b[0m\u001b[1;33m.\u001b[0m\u001b[0mplot\u001b[0m\u001b[1;33m(\u001b[0m\u001b[0mfigsize\u001b[0m\u001b[1;33m=\u001b[0m\u001b[1;33m(\u001b[0m\u001b[1;36m8\u001b[0m\u001b[1;33m,\u001b[0m\u001b[1;36m5\u001b[0m\u001b[1;33m)\u001b[0m\u001b[1;33m)\u001b[0m\u001b[1;33m\u001b[0m\u001b[1;33m\u001b[0m\u001b[0m\n\u001b[1;32m----> 2\u001b[1;33m \u001b[0mplt\u001b[0m\u001b[1;33m.\u001b[0m\u001b[0mgrid\u001b[0m\u001b[1;33m(\u001b[0m\u001b[1;32mTrue\u001b[0m\u001b[1;33m)\u001b[0m\u001b[1;33m\u001b[0m\u001b[1;33m\u001b[0m\u001b[0m\n\u001b[0m\u001b[0;32m      3\u001b[0m \u001b[0mplt\u001b[0m\u001b[1;33m.\u001b[0m\u001b[0mgca\u001b[0m\u001b[1;33m(\u001b[0m\u001b[1;33m)\u001b[0m\u001b[1;33m.\u001b[0m\u001b[0mset_ylim\u001b[0m\u001b[1;33m(\u001b[0m\u001b[1;36m0\u001b[0m\u001b[1;33m,\u001b[0m\u001b[1;36m1\u001b[0m\u001b[1;33m)\u001b[0m\u001b[1;33m\u001b[0m\u001b[1;33m\u001b[0m\u001b[0m\n\u001b[0;32m      4\u001b[0m \u001b[0mplt\u001b[0m\u001b[1;33m.\u001b[0m\u001b[0mshow\u001b[0m\u001b[1;33m(\u001b[0m\u001b[1;33m)\u001b[0m\u001b[1;33m\u001b[0m\u001b[1;33m\u001b[0m\u001b[0m\n",
      "\u001b[1;31mAttributeError\u001b[0m: module 'matplotlib' has no attribute 'grid'"
     ]
    },
    {
     "data": {
      "image/png": "[encoded data removed]",
      "text/plain": [
       "<Figure size 576x360 with 1 Axes>"
      ]
     },
     "metadata": {
      "needs_background": "light"
     },
     "output_type": "display_data"
    }
   ],
   "source": [
    "pd.DataFrame(history.history).plot(figsize=(8,5))\n",
    "plt.grid(True)\n",
    "plt.gca().set_ylim(0,1)\n",
    "plt.show()"
   ]
  },
  {
   "cell_type": "code",
   "execution_count": 51,
   "metadata": {},
   "outputs": [],
   "source": [
    "data  = {'rzeczywisty':output,'predykcja':flat_list, 'wynik_przewidziany':flat_list1}\n",
    "sprawdzenies = pd.DataFrame(data=data)"
   ]
  },
  {
   "cell_type": "code",
   "execution_count": 52,
   "metadata": {},
   "outputs": [
    {
     "data": {
      "text/html": [
       "<div>\n",
       "<style scoped>\n",
       "    .dataframe tbody tr th:only-of-type {\n",
       "        vertical-align: middle;\n",
       "    }\n",
       "\n",
       "    .dataframe tbody tr th {\n",
       "        vertical-align: top;\n",
       "    }\n",
       "\n",
       "    .dataframe thead th {\n",
       "        text-align: right;\n",
       "    }\n",
       "</style>\n",
       "<table border=\"1\" class=\"dataframe\">\n",
       "  <thead>\n",
       "    <tr style=\"text-align: right;\">\n",
       "      <th></th>\n",
       "      <th>rzeczywisty</th>\n",
       "      <th>predykcja</th>\n",
       "      <th>wynik_przewidziany</th>\n",
       "    </tr>\n",
       "  </thead>\n",
       "  <tbody>\n",
       "    <tr>\n",
       "      <th>0</th>\n",
       "      <td>1</td>\n",
       "      <td>1</td>\n",
       "      <td>0.999962</td>\n",
       "    </tr>\n",
       "    <tr>\n",
       "      <th>1</th>\n",
       "      <td>1</td>\n",
       "      <td>1</td>\n",
       "      <td>0.998773</td>\n",
       "    </tr>\n",
       "    <tr>\n",
       "      <th>2</th>\n",
       "      <td>1</td>\n",
       "      <td>1</td>\n",
       "      <td>0.999887</td>\n",
       "    </tr>\n",
       "    <tr>\n",
       "      <th>3</th>\n",
       "      <td>1</td>\n",
       "      <td>1</td>\n",
       "      <td>0.999968</td>\n",
       "    </tr>\n",
       "    <tr>\n",
       "      <th>4</th>\n",
       "      <td>1</td>\n",
       "      <td>1</td>\n",
       "      <td>0.999971</td>\n",
       "    </tr>\n",
       "    <tr>\n",
       "      <th>...</th>\n",
       "      <td>...</td>\n",
       "      <td>...</td>\n",
       "      <td>...</td>\n",
       "    </tr>\n",
       "    <tr>\n",
       "      <th>127542</th>\n",
       "      <td>1</td>\n",
       "      <td>1</td>\n",
       "      <td>0.999983</td>\n",
       "    </tr>\n",
       "    <tr>\n",
       "      <th>127543</th>\n",
       "      <td>1</td>\n",
       "      <td>1</td>\n",
       "      <td>0.999992</td>\n",
       "    </tr>\n",
       "    <tr>\n",
       "      <th>127544</th>\n",
       "      <td>1</td>\n",
       "      <td>1</td>\n",
       "      <td>0.999979</td>\n",
       "    </tr>\n",
       "    <tr>\n",
       "      <th>127545</th>\n",
       "      <td>1</td>\n",
       "      <td>1</td>\n",
       "      <td>0.999971</td>\n",
       "    </tr>\n",
       "    <tr>\n",
       "      <th>127546</th>\n",
       "      <td>1</td>\n",
       "      <td>1</td>\n",
       "      <td>0.999885</td>\n",
       "    </tr>\n",
       "  </tbody>\n",
       "</table>\n",
       "<p>127547 rows × 3 columns</p>\n",
       "</div>"
      ],
      "text/plain": [
       "        rzeczywisty  predykcja  wynik_przewidziany\n",
       "0                 1          1            0.999962\n",
       "1                 1          1            0.998773\n",
       "2                 1          1            0.999887\n",
       "3                 1          1            0.999968\n",
       "4                 1          1            0.999971\n",
       "...             ...        ...                 ...\n",
       "127542            1          1            0.999983\n",
       "127543            1          1            0.999992\n",
       "127544            1          1            0.999979\n",
       "127545            1          1            0.999971\n",
       "127546            1          1            0.999885\n",
       "\n",
       "[127547 rows x 3 columns]"
      ]
     },
     "execution_count": 52,
     "metadata": {},
     "output_type": "execute_result"
    }
   ],
   "source": [
    "sprawdzenies"
   ]
  },
  {
   "cell_type": "code",
   "execution_count": 53,
   "metadata": {},
   "outputs": [],
   "source": [
    "sprawdzenies.to_excel(\"outputs.xlsx\")"
   ]
  },
  {
   "cell_type": "code",
   "execution_count": 54,
   "metadata": {},
   "outputs": [
    {
     "data": {
      "text/plain": [
       "<matplotlib.axes._subplots.AxesSubplot at 0x25e42c45dc8>"
      ]
     },
     "execution_count": 54,
     "metadata": {},
     "output_type": "execute_result"
    },
    {
     "data": {
      "image/png": "[encoded data removed]",
      "text/plain": [
       "<Figure size 432x288 with 2 Axes>"
      ]
     },
     "metadata": {
      "needs_background": "light"
     },
     "output_type": "display_data"
    }
   ],
   "source": [
    "\n",
    "\n",
    "from sklearn.metrics import confusion_matrix\n",
    "import seaborn as sn\n",
    "import pandas as pd\n",
    "import matplotlib as plt\n",
    "\n",
    "labels =[1,0]\n",
    "labels2 =[0,1]\n",
    "cm=confusion_matrix (output,flat_list , labels=labels)\n",
    "df_cm = pd.DataFrame(cm,index=labels, columns=labels)\n",
    "\n",
    "sn.heatmap(df_cm,annot=True,fmt='d')"
   ]
  },
  {
   "cell_type": "markdown",
   "metadata": {},
   "source": [
    "# dodanie classweight"
   ]
  },
  {
   "cell_type": "code",
   "execution_count": 73,
   "metadata": {},
   "outputs": [],
   "source": [
    "model = keras.Sequential([\n",
    "    keras.layers.Dense(512,input_shape=[48,],activation='relu'),\n",
    "    keras.layers.Dense(256,activation='relu'),\n",
    "    keras.layers.Dropout(0.4),\n",
    "    keras.layers.BatchNormalization(),\n",
    "    keras.layers.Dense(256,activation='relu'),\n",
    "    keras.layers.Dropout(0.2),\n",
    "    keras.layers.BatchNormalization(),\n",
    "    keras.layers.Dense(256,activation='relu'),\n",
    "    keras.layers.Dense(1,activation = 'sigmoid')\n",
    "])\n",
    "\n",
    "model.compile(optimizer='adam',\n",
    "             loss='binary_crossentropy',\n",
    "             metrics=['accuracy'])\n",
    "class_weight = {\n",
    "    0: 10.0,\n",
    "    1: 1.0,\n",
    "}\n",
    "class_weight=class_weight"
   ]
  },
  {
   "cell_type": "code",
   "execution_count": 74,
   "metadata": {},
   "outputs": [
    {
     "name": "stdout",
     "output_type": "stream",
     "text": [
      "Epoch 1/120\n",
      "7114/7114 [==============================] - 23s 3ms/step - loss: 1.5571 - accuracy: 0.5088\n",
      "Epoch 2/120\n",
      "7114/7114 [==============================] - 24s 3ms/step - loss: 1.2764 - accuracy: 0.6102\n",
      "Epoch 3/120\n",
      "7114/7114 [==============================] - 26s 4ms/step - loss: 1.2114 - accuracy: 0.6267\n",
      "Epoch 4/120\n",
      "7114/7114 [==============================] - 26s 4ms/step - loss: 1.1808 - accuracy: 0.6434\n",
      "Epoch 5/120\n",
      "7114/7114 [==============================] - 22s 3ms/step - loss: 1.1516 - accuracy: 0.6538\n",
      "Epoch 6/120\n",
      "7114/7114 [==============================] - 20s 3ms/step - loss: 1.1197 - accuracy: 0.6655\n",
      "Epoch 7/120\n",
      "7114/7114 [==============================] - 21s 3ms/step - loss: 1.1207 - accuracy: 0.6629\n",
      "Epoch 8/120\n",
      "7114/7114 [==============================] - 21s 3ms/step - loss: 1.1169 - accuracy: 0.6680\n",
      "Epoch 9/120\n",
      "7114/7114 [==============================] - 21s 3ms/step - loss: 1.0944 - accuracy: 0.6754\n",
      "Epoch 10/120\n",
      "7114/7114 [==============================] - 25s 4ms/step - loss: 1.0796 - accuracy: 0.6793\n",
      "Epoch 11/120\n",
      "7114/7114 [==============================] - 26s 4ms/step - loss: 1.1560 - accuracy: 0.6515\n",
      "Epoch 12/120\n",
      "7114/7114 [==============================] - 27s 4ms/step - loss: 1.0638 - accuracy: 0.6851\n",
      "Epoch 13/120\n",
      "7114/7114 [==============================] - 24s 3ms/step - loss: 1.0618 - accuracy: 0.6873\n",
      "Epoch 14/120\n",
      "7114/7114 [==============================] - 27s 4ms/step - loss: 1.0649 - accuracy: 0.6859\n",
      "Epoch 15/120\n",
      "7114/7114 [==============================] - 25s 3ms/step - loss: 1.0616 - accuracy: 0.6865\n",
      "Epoch 16/120\n",
      "7114/7114 [==============================] - 33s 5ms/step - loss: 1.0580 - accuracy: 0.6888\n",
      "Epoch 17/120\n",
      "7114/7114 [==============================] - 23s 3ms/step - loss: 1.0473 - accuracy: 0.6936\n",
      "Epoch 18/120\n",
      "7114/7114 [==============================] - 23s 3ms/step - loss: 1.0308 - accuracy: 0.6994\n",
      "Epoch 19/120\n",
      "7114/7114 [==============================] - 23s 3ms/step - loss: 1.0348 - accuracy: 0.6991\n",
      "Epoch 20/120\n",
      "7114/7114 [==============================] - 20s 3ms/step - loss: 1.0325 - accuracy: 0.7023\n",
      "Epoch 21/120\n",
      "7114/7114 [==============================] - 20s 3ms/step - loss: 1.0382 - accuracy: 0.6982\n",
      "Epoch 22/120\n",
      "7114/7114 [==============================] - 21s 3ms/step - loss: 1.0443 - accuracy: 0.6962 0s - loss: 1.0445 - ac\n",
      "Epoch 23/120\n",
      "7114/7114 [==============================] - 20s 3ms/step - loss: 1.0289 - accuracy: 0.7011\n",
      "Epoch 24/120\n",
      "7114/7114 [==============================] - 23s 3ms/step - loss: 1.0271 - accuracy: 0.7007\n",
      "Epoch 25/120\n",
      "7114/7114 [==============================] - 24s 3ms/step - loss: 1.0320 - accuracy: 0.7002\n",
      "Epoch 26/120\n",
      "7114/7114 [==============================] - 23s 3ms/step - loss: 1.0242 - accuracy: 0.7047\n",
      "Epoch 27/120\n",
      "7114/7114 [==============================] - 21s 3ms/step - loss: 1.0135 - accuracy: 0.7058\n",
      "Epoch 28/120\n",
      "7114/7114 [==============================] - 24s 3ms/step - loss: 1.0124 - accuracy: 0.7085\n",
      "Epoch 29/120\n",
      "7114/7114 [==============================] - 22s 3ms/step - loss: 1.0034 - accuracy: 0.7138\n",
      "Epoch 30/120\n",
      "7114/7114 [==============================] - 21s 3ms/step - loss: 0.9986 - accuracy: 0.7141\n",
      "Epoch 31/120\n",
      "7114/7114 [==============================] - 24s 3ms/step - loss: 0.9961 - accuracy: 0.7161\n",
      "Epoch 32/120\n",
      "7114/7114 [==============================] - 21s 3ms/step - loss: 0.9803 - accuracy: 0.7224\n",
      "Epoch 33/120\n",
      "7114/7114 [==============================] - 21s 3ms/step - loss: 0.9930 - accuracy: 0.7185\n",
      "Epoch 34/120\n",
      "7114/7114 [==============================] - 21s 3ms/step - loss: 0.9887 - accuracy: 0.7214\n",
      "Epoch 35/120\n",
      "7114/7114 [==============================] - 20s 3ms/step - loss: 0.9868 - accuracy: 0.7178\n",
      "Epoch 36/120\n",
      "7114/7114 [==============================] - 20s 3ms/step - loss: 0.9833 - accuracy: 0.7211\n",
      "Epoch 37/120\n",
      "7114/7114 [==============================] - 21s 3ms/step - loss: 0.9835 - accuracy: 0.7196\n",
      "Epoch 38/120\n",
      "7114/7114 [==============================] - 25s 4ms/step - loss: 0.9731 - accuracy: 0.7249\n",
      "Epoch 39/120\n",
      "7114/7114 [==============================] - 20s 3ms/step - loss: 0.9906 - accuracy: 0.7200\n",
      "Epoch 40/120\n",
      "7114/7114 [==============================] - 22s 3ms/step - loss: 0.9807 - accuracy: 0.7221\n",
      "Epoch 41/120\n",
      "7114/7114 [==============================] - 21s 3ms/step - loss: 0.9768 - accuracy: 0.7258\n",
      "Epoch 42/120\n",
      "7114/7114 [==============================] - 26s 4ms/step - loss: 0.9855 - accuracy: 0.7197\n",
      "Epoch 43/120\n",
      "7114/7114 [==============================] - 34s 5ms/step - loss: 0.9628 - accuracy: 0.7295\n",
      "Epoch 44/120\n",
      "7114/7114 [==============================] - 26s 4ms/step - loss: 0.9876 - accuracy: 0.7220\n",
      "Epoch 45/120\n",
      "7114/7114 [==============================] - 26s 4ms/step - loss: 0.9783 - accuracy: 0.7251\n",
      "Epoch 46/120\n",
      "7114/7114 [==============================] - 21s 3ms/step - loss: 0.9791 - accuracy: 0.7259\n",
      "Epoch 47/120\n",
      "7114/7114 [==============================] - 23s 3ms/step - loss: 0.9729 - accuracy: 0.7265\n",
      "Epoch 48/120\n",
      "7114/7114 [==============================] - 21s 3ms/step - loss: 0.9646 - accuracy: 0.7298\n",
      "Epoch 49/120\n",
      "7114/7114 [==============================] - 21s 3ms/step - loss: 0.9597 - accuracy: 0.7341\n",
      "Epoch 50/120\n",
      "7114/7114 [==============================] - 25s 3ms/step - loss: 0.9554 - accuracy: 0.7347\n",
      "Epoch 51/120\n",
      "7114/7114 [==============================] - 24s 3ms/step - loss: 0.9511 - accuracy: 0.7346\n",
      "Epoch 52/120\n",
      "7114/7114 [==============================] - 22s 3ms/step - loss: 0.9686 - accuracy: 0.7285\n",
      "Epoch 53/120\n",
      "7114/7114 [==============================] - 21s 3ms/step - loss: 0.9663 - accuracy: 0.7315\n",
      "Epoch 54/120\n",
      "7114/7114 [==============================] - 24s 3ms/step - loss: 0.9538 - accuracy: 0.7355\n",
      "Epoch 55/120\n",
      "7114/7114 [==============================] - 24s 3ms/step - loss: 0.9498 - accuracy: 0.7354\n",
      "Epoch 56/120\n",
      "7114/7114 [==============================] - 22s 3ms/step - loss: 0.9987 - accuracy: 0.7152\n",
      "Epoch 57/120\n",
      "7114/7114 [==============================] - 23s 3ms/step - loss: 0.9552 - accuracy: 0.7342\n",
      "Epoch 58/120\n",
      "7114/7114 [==============================] - 24s 3ms/step - loss: 0.9894 - accuracy: 0.7219\n",
      "Epoch 59/120\n",
      "7114/7114 [==============================] - 24s 3ms/step - loss: 0.9493 - accuracy: 0.7373\n",
      "Epoch 60/120\n",
      "7114/7114 [==============================] - 24s 3ms/step - loss: 0.9544 - accuracy: 0.7374\n",
      "Epoch 61/120\n",
      "7114/7114 [==============================] - 21s 3ms/step - loss: 0.9510 - accuracy: 0.7367\n",
      "Epoch 62/120\n",
      "7114/7114 [==============================] - 20s 3ms/step - loss: 0.9369 - accuracy: 0.7390\n",
      "Epoch 63/120\n",
      "7114/7114 [==============================] - 20s 3ms/step - loss: 0.9780 - accuracy: 0.7261\n",
      "Epoch 64/120\n",
      "7114/7114 [==============================] - 20s 3ms/step - loss: 0.9382 - accuracy: 0.7417\n",
      "Epoch 65/120\n",
      "7114/7114 [==============================] - 21s 3ms/step - loss: 0.9376 - accuracy: 0.7402\n",
      "Epoch 66/120\n",
      "7114/7114 [==============================] - 22s 3ms/step - loss: 0.9499 - accuracy: 0.7366\n",
      "Epoch 67/120\n",
      "7114/7114 [==============================] - 20s 3ms/step - loss: 0.9366 - accuracy: 0.7427\n",
      "Epoch 68/120\n",
      "7114/7114 [==============================] - 20s 3ms/step - loss: 0.9617 - accuracy: 0.7307\n",
      "Epoch 69/120\n",
      "7114/7114 [==============================] - 27s 4ms/step - loss: 0.9566 - accuracy: 0.7347\n",
      "Epoch 70/120\n",
      "7114/7114 [==============================] - 27s 4ms/step - loss: 0.9549 - accuracy: 0.7359\n",
      "Epoch 71/120\n",
      "7114/7114 [==============================] - 26s 4ms/step - loss: 0.9447 - accuracy: 0.7411\n",
      "Epoch 72/120\n",
      "7114/7114 [==============================] - 27s 4ms/step - loss: 0.9536 - accuracy: 0.7355\n",
      "Epoch 73/120\n",
      "7114/7114 [==============================] - 23s 3ms/step - loss: 0.9434 - accuracy: 0.7374\n",
      "Epoch 74/120\n",
      "7114/7114 [==============================] - 23s 3ms/step - loss: 0.9523 - accuracy: 0.7346\n",
      "Epoch 75/120\n",
      "7114/7114 [==============================] - 23s 3ms/step - loss: 0.9505 - accuracy: 0.7370\n",
      "Epoch 76/120\n",
      "7114/7114 [==============================] - 23s 3ms/step - loss: 0.9384 - accuracy: 0.7411\n",
      "Epoch 77/120\n",
      "7114/7114 [==============================] - 24s 3ms/step - loss: 0.9621 - accuracy: 0.7316\n",
      "Epoch 78/120\n",
      "7114/7114 [==============================] - 24s 3ms/step - loss: 0.9380 - accuracy: 0.7437\n",
      "Epoch 79/120\n",
      "7114/7114 [==============================] - 23s 3ms/step - loss: 0.9390 - accuracy: 0.7398\n",
      "Epoch 80/120\n",
      "7114/7114 [==============================] - 23s 3ms/step - loss: 0.9358 - accuracy: 0.7428\n",
      "Epoch 81/120\n",
      "7114/7114 [==============================] - 26s 4ms/step - loss: 0.9300 - accuracy: 0.7457\n",
      "Epoch 82/120\n",
      "7114/7114 [==============================] - 25s 3ms/step - loss: 0.9523 - accuracy: 0.7351\n",
      "Epoch 83/120\n",
      "7114/7114 [==============================] - 23s 3ms/step - loss: 0.9492 - accuracy: 0.7381\n",
      "Epoch 84/120\n",
      "7114/7114 [==============================] - 23s 3ms/step - loss: 0.9572 - accuracy: 0.7385\n",
      "Epoch 85/120\n",
      "7114/7114 [==============================] - 25s 4ms/step - loss: 0.9318 - accuracy: 0.7422\n",
      "Epoch 86/120\n",
      "7114/7114 [==============================] - 20s 3ms/step - loss: 0.9623 - accuracy: 0.7332\n",
      "Epoch 87/120\n",
      "7114/7114 [==============================] - 20s 3ms/step - loss: 0.9525 - accuracy: 0.7368\n",
      "Epoch 88/120\n",
      "7114/7114 [==============================] - 26s 4ms/step - loss: 0.9573 - accuracy: 0.7354\n",
      "Epoch 89/120\n",
      "7114/7114 [==============================] - 27s 4ms/step - loss: 0.9656 - accuracy: 0.7333\n",
      "Epoch 90/120\n",
      "7114/7114 [==============================] - 21s 3ms/step - loss: 0.9334 - accuracy: 0.7414\n",
      "Epoch 91/120\n",
      "7114/7114 [==============================] - 20s 3ms/step - loss: 0.9516 - accuracy: 0.7376\n",
      "Epoch 92/120\n",
      "7114/7114 [==============================] - 23s 3ms/step - loss: 0.9723 - accuracy: 0.7303\n",
      "Epoch 93/120\n",
      "7114/7114 [==============================] - 26s 4ms/step - loss: 0.9562 - accuracy: 0.7359\n",
      "Epoch 94/120\n",
      "7114/7114 [==============================] - 37s 5ms/step - loss: 0.9572 - accuracy: 0.7346\n",
      "Epoch 95/120\n",
      "7114/7114 [==============================] - 30s 4ms/step - loss: 0.9558 - accuracy: 0.7342\n",
      "Epoch 96/120\n",
      "7114/7114 [==============================] - 27s 4ms/step - loss: 0.9506 - accuracy: 0.7380\n",
      "Epoch 97/120\n",
      "7114/7114 [==============================] - 26s 4ms/step - loss: 0.9419 - accuracy: 0.7425\n",
      "Epoch 98/120\n",
      "7114/7114 [==============================] - 27s 4ms/step - loss: 0.9467 - accuracy: 0.7396\n",
      "Epoch 99/120\n",
      "7114/7114 [==============================] - 26s 4ms/step - loss: 1.0165 - accuracy: 0.7115\n",
      "Epoch 100/120\n",
      "7114/7114 [==============================] - 27s 4ms/step - loss: 0.9543 - accuracy: 0.7376\n",
      "Epoch 101/120\n",
      "7114/7114 [==============================] - 27s 4ms/step - loss: 0.9558 - accuracy: 0.7369\n",
      "Epoch 102/120\n",
      "7114/7114 [==============================] - 27s 4ms/step - loss: 0.9579 - accuracy: 0.7362\n",
      "Epoch 103/120\n",
      "7114/7114 [==============================] - 27s 4ms/step - loss: 0.9700 - accuracy: 0.7348\n",
      "Epoch 104/120\n",
      "7114/7114 [==============================] - 26s 4ms/step - loss: 0.9384 - accuracy: 0.7415\n",
      "Epoch 105/120\n",
      "7114/7114 [==============================] - 26s 4ms/step - loss: 0.9413 - accuracy: 0.7419\n",
      "Epoch 106/120\n",
      "7114/7114 [==============================] - 26s 4ms/step - loss: 0.9287 - accuracy: 0.7466\n",
      "Epoch 107/120\n",
      "7114/7114 [==============================] - 26s 4ms/step - loss: 0.9206 - accuracy: 0.7491\n",
      "Epoch 108/120\n",
      "7114/7114 [==============================] - 27s 4ms/step - loss: 0.9800 - accuracy: 0.7302\n",
      "Epoch 109/120\n",
      "7114/7114 [==============================] - 26s 4ms/step - loss: 0.9550 - accuracy: 0.7363\n",
      "Epoch 110/120\n",
      "7114/7114 [==============================] - 26s 4ms/step - loss: 0.9382 - accuracy: 0.7441\n",
      "Epoch 111/120\n",
      "7114/7114 [==============================] - 26s 4ms/step - loss: 1.0166 - accuracy: 0.7138\n",
      "Epoch 112/120\n",
      "7114/7114 [==============================] - 27s 4ms/step - loss: 0.9667 - accuracy: 0.7331\n",
      "Epoch 113/120\n",
      "7114/7114 [==============================] - 28s 4ms/step - loss: 0.9592 - accuracy: 0.7373\n",
      "Epoch 114/120\n",
      "7114/7114 [==============================] - 35s 5ms/step - loss: 0.9275 - accuracy: 0.7461\n",
      "Epoch 115/120\n",
      "7114/7114 [==============================] - 28s 4ms/step - loss: 0.9780 - accuracy: 0.7303\n",
      "Epoch 116/120\n",
      "7114/7114 [==============================] - 37s 5ms/step - loss: 0.9304 - accuracy: 0.7443\n",
      "Epoch 117/120\n",
      "7114/7114 [==============================] - 29s 4ms/step - loss: 0.9713 - accuracy: 0.7287\n",
      "Epoch 118/120\n",
      "7114/7114 [==============================] - 26s 4ms/step - loss: 0.9529 - accuracy: 0.7364\n",
      "Epoch 119/120\n",
      "7114/7114 [==============================] - 26s 4ms/step - loss: 0.9408 - accuracy: 0.7433\n",
      "Epoch 120/120\n",
      "7114/7114 [==============================] - 26s 4ms/step - loss: 0.9515 - accuracy: 0.7370\n"
     ]
    }
   ],
   "source": [
    "\n",
    "\n",
    "history = model.fit(X_train,y_train, class_weight=class_weight, batch_size=16, epochs=120)"
   ]
  },
  {
   "cell_type": "code",
   "execution_count": 75,
   "metadata": {},
   "outputs": [
    {
     "ename": "AttributeError",
     "evalue": "module 'matplotlib' has no attribute 'grid'",
     "output_type": "error",
     "traceback": [
      "\u001b[1;31m---------------------------------------------------------------------------\u001b[0m",
      "\u001b[1;31mAttributeError\u001b[0m                            Traceback (most recent call last)",
      "\u001b[1;32m<ipython-input-75-0cf6cb81746e>\u001b[0m in \u001b[0;36m<module>\u001b[1;34m\u001b[0m\n\u001b[0;32m      1\u001b[0m \u001b[0mpd\u001b[0m\u001b[1;33m.\u001b[0m\u001b[0mDataFrame\u001b[0m\u001b[1;33m(\u001b[0m\u001b[0mhistory\u001b[0m\u001b[1;33m.\u001b[0m\u001b[0mhistory\u001b[0m\u001b[1;33m)\u001b[0m\u001b[1;33m.\u001b[0m\u001b[0mplot\u001b[0m\u001b[1;33m(\u001b[0m\u001b[0mfigsize\u001b[0m\u001b[1;33m=\u001b[0m\u001b[1;33m(\u001b[0m\u001b[1;36m8\u001b[0m\u001b[1;33m,\u001b[0m\u001b[1;36m5\u001b[0m\u001b[1;33m)\u001b[0m\u001b[1;33m)\u001b[0m\u001b[1;33m\u001b[0m\u001b[1;33m\u001b[0m\u001b[0m\n\u001b[1;32m----> 2\u001b[1;33m \u001b[0mplt\u001b[0m\u001b[1;33m.\u001b[0m\u001b[0mgrid\u001b[0m\u001b[1;33m(\u001b[0m\u001b[1;32mTrue\u001b[0m\u001b[1;33m)\u001b[0m\u001b[1;33m\u001b[0m\u001b[1;33m\u001b[0m\u001b[0m\n\u001b[0m\u001b[0;32m      3\u001b[0m \u001b[0mplt\u001b[0m\u001b[1;33m.\u001b[0m\u001b[0mgca\u001b[0m\u001b[1;33m(\u001b[0m\u001b[1;33m)\u001b[0m\u001b[1;33m.\u001b[0m\u001b[0mset_ylim\u001b[0m\u001b[1;33m(\u001b[0m\u001b[1;36m0\u001b[0m\u001b[1;33m,\u001b[0m\u001b[1;36m1\u001b[0m\u001b[1;33m)\u001b[0m\u001b[1;33m\u001b[0m\u001b[1;33m\u001b[0m\u001b[0m\n\u001b[0;32m      4\u001b[0m \u001b[0mplt\u001b[0m\u001b[1;33m.\u001b[0m\u001b[0mshow\u001b[0m\u001b[1;33m(\u001b[0m\u001b[1;33m)\u001b[0m\u001b[1;33m\u001b[0m\u001b[1;33m\u001b[0m\u001b[0m\n",
      "\u001b[1;31mAttributeError\u001b[0m: module 'matplotlib' has no attribute 'grid'"
     ]
    },
    {
     "data": {
      "image/png": "[encoded data removed]",
      "text/plain": [
       "<Figure size 576x360 with 1 Axes>"
      ]
     },
     "metadata": {
      "needs_background": "light"
     },
     "output_type": "display_data"
    }
   ],
   "source": [
    "pd.DataFrame(history.history).plot(figsize=(8,5))\n",
    "plt.grid(True)\n",
    "plt.gca().set_ylim(0,1)\n",
    "plt.show()"
   ]
  },
  {
   "cell_type": "code",
   "execution_count": 76,
   "metadata": {},
   "outputs": [
    {
     "name": "stdout",
     "output_type": "stream",
     "text": [
      "0.5054965975706485\n",
      "0.7260765207640183\n"
     ]
    },
    {
     "data": {
      "text/plain": [
       "<matplotlib.axes._subplots.AxesSubplot at 0x25e3a1e1308>"
      ]
     },
     "execution_count": 76,
     "metadata": {},
     "output_type": "execute_result"
    },
    {
     "data": {
      "image/png": "[encoded data removed]",
      "text/plain": [
       "<Figure size 432x288 with 2 Axes>"
      ]
     },
     "metadata": {
      "needs_background": "light"
     },
     "output_type": "display_data"
    }
   ],
   "source": [
    "# na całych danych\n",
    "from sklearn.metrics import f1_score, precision_score, recall_score, confusion_matrix\n",
    "y_pred1 = model.predict(nemak)\n",
    "flat_list1 = []\n",
    "flat_list = []\n",
    "for sublist in y_pred1:\n",
    "    for item in sublist:\n",
    "        flat_list1.append(item)\n",
    "        flat_list.append(round(item))\n",
    "#y_test\n",
    "print(precision_score(output, flat_list , average=\"macro\"))\n",
    "print(recall_score(output, flat_list , average=\"macro\"))\n",
    "f1_score(output,flat_list, average=None,labels=[1,0])\n",
    "\n",
    "from sklearn.metrics import confusion_matrix\n",
    "import seaborn as sn\n",
    "import pandas as pd\n",
    "import matplotlib as plt\n",
    "\n",
    "labels =[1,0]\n",
    "labels2 =[0,1]\n",
    "cm=confusion_matrix (output,flat_list , labels=labels)\n",
    "df_cm = pd.DataFrame(cm,index=labels, columns=labels)\n",
    "\n",
    "sn.heatmap(df_cm,annot=True,fmt='d')"
   ]
  },
  {
   "cell_type": "code",
   "execution_count": null,
   "metadata": {},
   "outputs": [],
   "source": []
  }
 ],
 "metadata": {
  "kernelspec": {
   "display_name": "Python 3",
   "language": "python",
   "name": "python3"
  },
  "language_info": {
   "codemirror_mode": {
    "name": "ipython",
    "version": 3
   },
   "file_extension": ".py",
   "mimetype": "text/x-python",
   "name": "python",
   "nbconvert_exporter": "python",
   "pygments_lexer": "ipython3",
   "version": "3.7.6"
  }
 },
 "nbformat": 4,
 "nbformat_minor": 4
}
